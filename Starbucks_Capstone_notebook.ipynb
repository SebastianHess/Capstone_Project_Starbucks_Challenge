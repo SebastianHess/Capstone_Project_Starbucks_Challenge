{
 "cells": [
  {
   "cell_type": "markdown",
   "metadata": {},
   "source": [
    "<div style=\"text-align: right\"><b>31th, October 2022</b></div>\n",
    "\n",
    "# Data Scientist Udacity Nanodegree - Capstone Project: Starbucks Capstone Challenge\n",
    "\n",
    "\n",
    "#### Author: Sebastian Heß\n"
   ]
  },
  {
   "cell_type": "markdown",
   "metadata": {},
   "source": [
    "<img src=\"pics/pic_sb.jpg\"/>"
   ]
  },
  {
   "cell_type": "markdown",
   "metadata": {},
   "source": [
    "<a id='top'></a>\n",
    "## Table of Contents\n",
    "<ol class=\"level_1\">\n",
    "    <li><a href=\"#int\">Introduction</a></li>\n",
    "        <ol class=\"level_2\">\n",
    "            <li><a href=\"#int_1\">Project Information by Udacity</a></li>\n",
    "        </ol>\n",
    "     <li><a href=\"#sec1\">Section 1: Project Definition</a></li>\n",
    "        <ol class=\"level_2\">\n",
    "            <li><a href=\"#sec1_1\">Project Overview</a></li>\n",
    "            <li><a href=\"#sec1_2\">Project Statement</a></li>\n",
    "            <li><a href=\"#sec1_3\">Metrics</a></li>\n",
    "        </ol>   \n",
    "    <li><a href=\"#sec2\">Section 2: Exploratory Data Analysis</a></li>\n",
    "        <ol class=\"level_2\">\n",
    "            <li><a href=\"#sec2_1\">Data Exploration</a></li>\n",
    "            <ol class=\"level_3\">\n",
    "                <li><a href=\"#sec2_11\">Data Wrangling</a></li> \n",
    "                <ol class=\"level_4\">\n",
    "                <li><a href=\"#sec2_111\">Portfolio (offer)</a></li>\n",
    "                <li><a href=\"#sec2_112\">Profile (demographic)</a></li>\n",
    "                <li><a href=\"#sec2_113\">Transcript (transaction records)</a></li>\n",
    "                <li><a href=\"#sec2_114\">Merge of the Data Frames</a></li>\n",
    "            </ol>\n",
    "            </ol>\n",
    "            <li><a href=\"#sec2_2\">Data Visualization</a></li>\n",
    "        </ol>\n",
    "    <li><a href=\"#sec3\">Section 3: Methodology</a></li>\n",
    "        <ol class=\"level_2\">\n",
    "            <li><a href=\"#sec3_1\">Data Preprocessing</a></li>\n",
    "            <li><a href=\"#sec3_2\">Implementation</a></li>\n",
    "            <li><a href=\"#sec3_2\">Refinement</a></li>\n",
    "        </ol>\n",
    "    <li><a href=\"#sec4\">Section 4: Results</a></li>\n",
    "        <ol class=\"level_2\">\n",
    "            <li><a href=\"#sec4_1\">Model Evaluation and Validation</a></li>\n",
    "            <li><a href=\"#sec4_2\">Justification</a></li>\n",
    "        </ol>\n",
    "    <li><a href=\"#sec5\">Section 5: Conclusion</a></li>\n",
    "        <ol class=\"level_2\">\n",
    "            <li><a href=\"#sec5_1\">Reflection</a></li>\n",
    "            <li><a href=\"#sec5_2\">Improvement</a></li>\n",
    "        </ol>\n",
    "    <li><a href=\"#sec6\">References</a></li>\n",
    "</ol>"
   ]
  },
  {
   "cell_type": "markdown",
   "metadata": {},
   "source": [
    "<a id='int'></a>\n",
    "## 1. Introduction\n",
    "<div style=\"text-align: right\"><right><a href=\"#top\">Table of Content</a></div>"
   ]
  },
  {
   "cell_type": "markdown",
   "metadata": {},
   "source": [
    "<a id='int_1'></a>\n",
    "### 1. A. Project Information provided by Udacity\n",
    "<div style=\"text-align: right\"><right><a href=\"#top\">Table of Content</a></div>"
   ]
  },
  {
   "cell_type": "markdown",
   "metadata": {},
   "source": [
    "### Introduction\n",
    "\n",
    "This data set contains simulated data that mimics customer behavior on the Starbucks rewards mobile app. Once every few days, Starbucks sends out an offer to users of the mobile app. An offer can be merely an advertisement for a drink or an actual offer such as a discount or BOGO (buy one get one free). Some users might not receive any offer during certain weeks. \n",
    "\n",
    "Not all users receive the same offer, and that is the challenge to solve with this data set.\n",
    "\n",
    "Your task is to combine transaction, demographic and offer data to determine which demographic groups respond best to which offer type. This data set is a simplified version of the real Starbucks app because the underlying simulator only has one product whereas Starbucks actually sells dozens of products.\n",
    "\n",
    "Every offer has a validity period before the offer expires. As an example, a BOGO offer might be valid for only 5 days. You'll see in the data set that informational offers have a validity period even though these ads are merely providing information about a product; for example, if an informational offer has 7 days of validity, you can assume the customer is feeling the influence of the offer for 7 days after receiving the advertisement.\n",
    "\n",
    "You'll be given transactional data showing user purchases made on the app including the timestamp of purchase and the amount of money spent on a purchase. This transactional data also has a record for each offer that a user receives as well as a record for when a user actually views the offer. There are also records for when a user completes an offer. \n",
    "\n",
    "Keep in mind as well that someone using the app might make a purchase through the app without having received an offer or seen an offer.\n",
    "\n",
    "### Example\n",
    "\n",
    "To give an example, a user could receive a discount offer buy 10 dollars get 2 off on Monday. The offer is valid for 10 days from receipt. If the customer accumulates at least 10 dollars in purchases during the validity period, the customer completes the offer.\n",
    "\n",
    "However, there are a few things to watch out for in this data set. Customers do not opt into the offers that they receive; in other words, a user can receive an offer, never actually view the offer, and still complete the offer. For example, a user might receive the \"buy 10 dollars get 2 dollars off offer\", but the user never opens the offer during the 10 day validity period. The customer spends 15 dollars during those ten days. There will be an offer completion record in the data set; however, the customer was not influenced by the offer because the customer never viewed the offer.\n",
    "\n",
    "### Cleaning\n",
    "\n",
    "This makes data cleaning especially important and tricky.\n",
    "\n",
    "You'll also want to take into account that some demographic groups will make purchases even if they don't receive an offer. From a business perspective, if a customer is going to make a 10 dollar purchase without an offer anyway, you wouldn't want to send a buy 10 dollars get 2 dollars off offer. You'll want to try to assess what a certain demographic group will buy when not receiving any offers.\n",
    "\n",
    "### Final Advice\n",
    "\n",
    "Because this is a capstone project, you are free to analyze the data any way you see fit. For example, you could build a machine learning model that predicts how much someone will spend based on demographics and offer type. Or you could build a model that predicts whether or not someone will respond to an offer. Or, you don't need to build a machine learning model at all. You could develop a set of heuristics that determine what offer you should send to each customer (i.e., 75 percent of women customers who were 35 years old responded to offer A vs 40 percent from the same demographic to offer B, so send offer A)."
   ]
  },
  {
   "cell_type": "markdown",
   "metadata": {},
   "source": [
    "# Data Sets\n",
    "\n",
    "The data is contained in three files:\n",
    "\n",
    "* **portfolio.json** - containing offer ids and meta data about each offer (duration, type, etc.)\n",
    "* **profile.json** - demographic data for each customer\n",
    "* **transcript.json** - records for transactions, offers received, offers viewed, and offers completed\n",
    "\n",
    "Here is the schema and explanation of each variable in the files:\n",
    "\n",
    "**portfolio.json**\n",
    "* id (string) - offer id\n",
    "* offer_type (string) - type of offer ie BOGO, discount, informational\n",
    "* difficulty (int) - minimum required spend to complete an offer\n",
    "* reward (int) - reward given for completing an offer\n",
    "* duration (int) - time for offer to be open, in days\n",
    "* channels (list of strings)\n",
    "\n",
    "**profile.json**\n",
    "* age (int) - age of the customer \n",
    "* became_member_on (int) - date when customer created an app account\n",
    "* gender (str) - gender of the customer (note some entries contain 'O' for other rather than M or F)\n",
    "* id (str) - customer id\n",
    "* income (float) - customer's income\n",
    "\n",
    "**transcript.json**\n",
    "* event (str) - record description (ie transaction, offer received, offer viewed, etc.)\n",
    "* person (str) - customer id\n",
    "* time (int) - time in hours since start of test. The data begins at time t=0\n",
    "* value - (dict of strings) - either an offer id or transaction amount depending on the record\n",
    "\n",
    "**Note:** If you are using the workspace, you will need to go to the terminal and run the command `conda update pandas` before reading in the files. This is because the version of pandas in the workspace cannot read in the transcript.json file correctly, but the newest version of pandas can. You can access the termnal from the orange icon in the top left of this notebook.  \n",
    "\n",
    "You can see how to access the terminal and how the install works using the two images below.  First you need to access the terminal:\n",
    "\n",
    "<img src=\"pics/pic1.png\"/>\n",
    "\n",
    "Then you will want to run the above command:\n",
    "\n",
    "<img src=\"pics/pic2.png\"/>\n",
    "\n",
    "Finally, when you enter back into the notebook (use the jupyter icon again), you should be able to run the below cell without any errors."
   ]
  },
  {
   "cell_type": "markdown",
   "metadata": {},
   "source": [
    "<a id='sec1'></a>\n",
    "## 2. Section 1: Project Definition\n",
    "<div style=\"text-align: right\"><right><a href=\"#top\">Table of Content</a></div>"
   ]
  },
  {
   "cell_type": "markdown",
   "metadata": {},
   "source": [
    "<a id='sec1_1'></a>\n",
    "### 2. A. Project Overview\n",
    "<div style=\"text-align: right\"><right><a href=\"#top\">Table of Content</a></div>\n",
    "\n",
    "<span style=\"color:red\">state the high-level overview of the project, including the background information such as problem domain, project origin, and related data sets or input data.</span>\n"
   ]
  },
  {
   "cell_type": "markdown",
   "metadata": {},
   "source": [
    "This is the final project of my Udacity Data Scientist Nanodegree. I chose the Starbuck's Capstone Challenge project because I'm interested in the experience of studying user demographic purchasing behavior across different offer types to determine which demographics respond best to which offer type.\n",
    "\n",
    "The data consists of simulated data that mimics customer behavior in the Starbucks Rewards mobile app. Starbuck regularly sends customers offers through the mobile app. The offers contain either advertising or various discount options.\n",
    "\n",
    "Identifying the top responding demographics by offer type requires combining transactional, demographic, and offer data."
   ]
  },
  {
   "cell_type": "markdown",
   "metadata": {},
   "source": [
    "<a id='sec1_2'></a>\n",
    "### 2. B. Problem Statement\n",
    "<div style=\"text-align: right\"><right><a href=\"#top\">Table of Content</a></div>\n",
    "\n",
    "<span style=\"color:red\">define the problem to be solved.</span>\n"
   ]
  },
  {
   "cell_type": "markdown",
   "metadata": {},
   "source": [
    "For this project Starbucks and Udacity are providing 3 data sets:\n",
    "\n",
    "1. **Protfolio (offer)** - Containing offer ids and meta data about each offer sent during a 30-day test period (duration, type, etc.)\n",
    "2. **Profile (demographic)** - Containing demographic data of the rewards program for each customer.\n",
    "3. **Transcript (transaction records)** - Containing event logs like records for transactions, offers received, offers viewed, and offers completed.\n",
    "\n",
    "\n",
    "##### **Facts:**\n",
    "* The users might not receive any offer in a specific time range.\n",
    "* The users are receiving different kinds of offers.\n",
    "\n",
    "\n",
    "##### **Tasks:**\n",
    "\n",
    "1. Exploring the data by wrangling.\n",
    "2. Data Analyse by Visualization of the data.\n",
    "3. Preprocessing the data.\n",
    "4. Implementation of the maschine learning model.\n",
    "5. Refinement of the maschine learning model.\n",
    "6. Evaluation of the maschine learning model and justification of the results.\n",
    "7. Reflection about the solution and protential improvements.\n",
    "\n",
    "##### **Challenges:**\n",
    "\n",
    "1. C1: My main objective is to implement a logic that makes it possible to predict the demographic of customers who will buy without being influenced by an offer.\n",
    "\n",
    "<span style=\"color:red\">2. C2: My main objective is to implement a logic that predicts the amount of money a customer spends based on demographics and offer type</span>\n",
    "\n",
    "<span style=\"color:red\">3. C3: My main objective is to implement a logic that predicts if a customer will respond to an offer.</span>\n",
    "\n",
    "<span style=\"color:red\">4. C4: My main objective is to implement set of heuristics to determine to offer which should be send to each customer (i.e., 75 percent of women customers who were 35 years old responded to offer A vs 40 percent from the same demographic to offer B, so send offer A).\n",
    "</span>"
   ]
  },
  {
   "cell_type": "markdown",
   "metadata": {},
   "source": [
    "<a id='sec1_3'></a>\n",
    "### 2. C. Metrics\n",
    "<div style=\"text-align: right\"><right><a href=\"#top\">Table of Content</a></div>\n",
    "\n",
    "<span style=\"color:red\">define the metrics to measure the results and justifications to use the metrics. For example, if you use time-series data sets, what metrics will be appropriate to measure the results.</span>\n"
   ]
  },
  {
   "cell_type": "markdown",
   "metadata": {},
   "source": [
    "<a id='sec2'></a>\n",
    "## 3. Section 2: Exploratory Data Analysis\n",
    "<div style=\"text-align: right\"><right><a href=\"#top\">Table of Content</a></div>"
   ]
  },
  {
   "cell_type": "markdown",
   "metadata": {},
   "source": [
    "<a id='sec2_1'></a>\n",
    "### 3. A. Data Exploration\n",
    "<div style=\"text-align: right\"><right><a href=\"#top\">Table of Content</a></div>\n",
    "\n",
    "#### Description of the data sets, including the features, data distributions, and descriptive statistics. Identification of any abnormalities or specific characteristics inherent in the data sets.<br>"
   ]
  },
  {
   "cell_type": "markdown",
   "metadata": {},
   "source": [
    "### Imported Libraries and Modules\n",
    "\n",
    "> **OS** a python module which priveds functions for interacting with the operating system OS.\n",
    "\n",
    "> **Numpy** a Python library for working with arrays.\n",
    "\n",
    "> **Pandas** a Python library for data manipulating and analysis.\n",
    "    \n",
    "> **import math** math module has a set of methods and constants.\n",
    "\n",
    "> **import json** to work with JSON data.\n",
    "\n",
    "> **Matplotlib** a Python library for data visualizations.\n",
    "\n",
    "> **%matplotlib inline** a magic function for inline plotting of graphs.\n",
    "\n",
    "> **Seaborn** a Python library for data visuallization based on matplotlib.\n",
    "\n",
    "> **sns.set_style** to define the seaborn figure aesthetic as \"darkgrid\".\n",
    "    \n"
   ]
  },
  {
   "cell_type": "code",
   "execution_count": 312,
   "metadata": {},
   "outputs": [],
   "source": [
    "# Importing Libraries\n",
    "import os as os\n",
    "import numpy as np\n",
    "import pandas as pd\n",
    "import math\n",
    "import json\n",
    "import matplotlib.pyplot as plt\n",
    "%matplotlib inline\n",
    "import seaborn as sns\n",
    "sns.set_style('darkgrid')\n",
    "\n",
    "import itertools\n"
   ]
  },
  {
   "cell_type": "markdown",
   "metadata": {},
   "source": [
    "<a id='sec2_11'></a>\n",
    "### 3. A. a. Data Wrangling\n",
    "<div style=\"text-align: right\"><right><a href=\"#top\">Table of Content</a></div>\n"
   ]
  },
  {
   "cell_type": "code",
   "execution_count": 313,
   "metadata": {},
   "outputs": [],
   "source": [
    "# Reading in the json files\n",
    "portfolio = pd.read_json('data/portfolio.json', orient='records', lines=True)\n",
    "profile = pd.read_json('data/profile.json', orient='records', lines=True)\n",
    "transcript = pd.read_json('data/transcript.json', orient='records', lines=True)\n"
   ]
  },
  {
   "cell_type": "markdown",
   "metadata": {},
   "source": [
    "<a id='sec2_111'></a>\n",
    "### Portfolio (offer) - General Properties of Fata Frame\n",
    "<div style=\"text-align: right\"><right><a href=\"#top\">Table of Content</a></div>"
   ]
  },
  {
   "cell_type": "markdown",
   "metadata": {},
   "source": [
    "#### Information: Offers sent during 30-day test period (10 offers x 6 fields)\n",
    "\n",
    ">* reward: (numeric) money awarded for the amount spent\n",
    ">* channels: (list) web, email, mobile, social\n",
    ">* difficulty: (numeric) money required to be spent to receive reward\n",
    ">* duration: (numeric) time for offer to be open, in days\n",
    ">* offer_type: (string) bogo, discount, informational\n",
    ">* id: (string/hash)<br>\n"
   ]
  },
  {
   "cell_type": "code",
   "execution_count": 314,
   "metadata": {},
   "outputs": [
    {
     "data": {
      "text/plain": [
       "(10, 6)"
      ]
     },
     "execution_count": 314,
     "metadata": {},
     "output_type": "execute_result"
    }
   ],
   "source": [
    "# Checking the shape of the data frame\n",
    "portfolio.shape\n"
   ]
  },
  {
   "cell_type": "markdown",
   "metadata": {},
   "source": [
    "**Conclusion:** The data frame consits of *6* columns and *10* rows."
   ]
  },
  {
   "cell_type": "code",
   "execution_count": 315,
   "metadata": {},
   "outputs": [
    {
     "data": {
      "text/html": [
       "<div>\n",
       "<style scoped>\n",
       "    .dataframe tbody tr th:only-of-type {\n",
       "        vertical-align: middle;\n",
       "    }\n",
       "\n",
       "    .dataframe tbody tr th {\n",
       "        vertical-align: top;\n",
       "    }\n",
       "\n",
       "    .dataframe thead th {\n",
       "        text-align: right;\n",
       "    }\n",
       "</style>\n",
       "<table border=\"1\" class=\"dataframe\">\n",
       "  <thead>\n",
       "    <tr style=\"text-align: right;\">\n",
       "      <th></th>\n",
       "      <th>channels</th>\n",
       "      <th>difficulty</th>\n",
       "      <th>duration</th>\n",
       "      <th>id</th>\n",
       "      <th>offer_type</th>\n",
       "      <th>reward</th>\n",
       "    </tr>\n",
       "  </thead>\n",
       "  <tbody>\n",
       "    <tr>\n",
       "      <th>0</th>\n",
       "      <td>[email, mobile, social]</td>\n",
       "      <td>10</td>\n",
       "      <td>7</td>\n",
       "      <td>ae264e3637204a6fb9bb56bc8210ddfd</td>\n",
       "      <td>bogo</td>\n",
       "      <td>10</td>\n",
       "    </tr>\n",
       "    <tr>\n",
       "      <th>1</th>\n",
       "      <td>[web, email, mobile, social]</td>\n",
       "      <td>10</td>\n",
       "      <td>5</td>\n",
       "      <td>4d5c57ea9a6940dd891ad53e9dbe8da0</td>\n",
       "      <td>bogo</td>\n",
       "      <td>10</td>\n",
       "    </tr>\n",
       "    <tr>\n",
       "      <th>2</th>\n",
       "      <td>[web, email, mobile]</td>\n",
       "      <td>0</td>\n",
       "      <td>4</td>\n",
       "      <td>3f207df678b143eea3cee63160fa8bed</td>\n",
       "      <td>informational</td>\n",
       "      <td>0</td>\n",
       "    </tr>\n",
       "    <tr>\n",
       "      <th>3</th>\n",
       "      <td>[web, email, mobile]</td>\n",
       "      <td>5</td>\n",
       "      <td>7</td>\n",
       "      <td>9b98b8c7a33c4b65b9aebfe6a799e6d9</td>\n",
       "      <td>bogo</td>\n",
       "      <td>5</td>\n",
       "    </tr>\n",
       "    <tr>\n",
       "      <th>4</th>\n",
       "      <td>[web, email]</td>\n",
       "      <td>20</td>\n",
       "      <td>10</td>\n",
       "      <td>0b1e1539f2cc45b7b9fa7c272da2e1d7</td>\n",
       "      <td>discount</td>\n",
       "      <td>5</td>\n",
       "    </tr>\n",
       "  </tbody>\n",
       "</table>\n",
       "</div>"
      ],
      "text/plain": [
       "                       channels  difficulty  duration  \\\n",
       "0       [email, mobile, social]          10         7   \n",
       "1  [web, email, mobile, social]          10         5   \n",
       "2          [web, email, mobile]           0         4   \n",
       "3          [web, email, mobile]           5         7   \n",
       "4                  [web, email]          20        10   \n",
       "\n",
       "                                 id     offer_type  reward  \n",
       "0  ae264e3637204a6fb9bb56bc8210ddfd           bogo      10  \n",
       "1  4d5c57ea9a6940dd891ad53e9dbe8da0           bogo      10  \n",
       "2  3f207df678b143eea3cee63160fa8bed  informational       0  \n",
       "3  9b98b8c7a33c4b65b9aebfe6a799e6d9           bogo       5  \n",
       "4  0b1e1539f2cc45b7b9fa7c272da2e1d7       discount       5  "
      ]
     },
     "execution_count": 315,
     "metadata": {},
     "output_type": "execute_result"
    }
   ],
   "source": [
    "# Displaying data frame to get an idea of the data\n",
    "portfolio.head()\n"
   ]
  },
  {
   "cell_type": "markdown",
   "metadata": {},
   "source": [
    "**Conclusion:** \n",
    "1. Since the variable \"offer_type\" is relevant for this analysis its values will be investigated more detailed. \n",
    "2. The variable \"id\" represents the **offer id**. \n",
    "3. The variable \"channels\" will be split in categorical variables based on its values."
   ]
  },
  {
   "cell_type": "code",
   "execution_count": 316,
   "metadata": {
    "scrolled": true
   },
   "outputs": [
    {
     "name": "stdout",
     "output_type": "stream",
     "text": [
      "<class 'pandas.core.frame.DataFrame'>\n",
      "Int64Index: 10 entries, 0 to 9\n",
      "Data columns (total 6 columns):\n",
      "channels      10 non-null object\n",
      "difficulty    10 non-null int64\n",
      "duration      10 non-null int64\n",
      "id            10 non-null object\n",
      "offer_type    10 non-null object\n",
      "reward        10 non-null int64\n",
      "dtypes: int64(3), object(3)\n",
      "memory usage: 560.0+ bytes\n"
     ]
    }
   ],
   "source": [
    "# Checking a concise summary of the dataframe\n",
    "portfolio.info()\n"
   ]
  },
  {
   "cell_type": "code",
   "execution_count": 317,
   "metadata": {},
   "outputs": [
    {
     "data": {
      "text/plain": [
       "channels      object\n",
       "difficulty     int64\n",
       "duration       int64\n",
       "id            object\n",
       "offer_type    object\n",
       "reward         int64\n",
       "dtype: object"
      ]
     },
     "execution_count": 317,
     "metadata": {},
     "output_type": "execute_result"
    }
   ],
   "source": [
    "# Checking the dtype of the dataframe\n",
    "portfolio.dtypes\n"
   ]
  },
  {
   "cell_type": "markdown",
   "metadata": {},
   "source": [
    "**Conclusion:** The data frame contains two different data types `object` and `int64`. "
   ]
  },
  {
   "cell_type": "code",
   "execution_count": 318,
   "metadata": {
    "scrolled": true
   },
   "outputs": [
    {
     "data": {
      "text/plain": [
       "channels      0\n",
       "difficulty    0\n",
       "duration      0\n",
       "id            0\n",
       "offer_type    0\n",
       "reward        0\n",
       "dtype: int64"
      ]
     },
     "execution_count": 318,
     "metadata": {},
     "output_type": "execute_result"
    }
   ],
   "source": [
    "# Checking the number of missing values\n",
    "portfolio.isnull().sum()\n"
   ]
  },
  {
   "cell_type": "markdown",
   "metadata": {},
   "source": [
    "**Conclusion:** The data frame does not contain any NaN values."
   ]
  },
  {
   "cell_type": "code",
   "execution_count": 319,
   "metadata": {},
   "outputs": [
    {
     "data": {
      "text/plain": [
       "0"
      ]
     },
     "execution_count": 319,
     "metadata": {},
     "output_type": "execute_result"
    }
   ],
   "source": [
    "# Checking for duplicate values\n",
    "portfolio.columns.duplicated().sum()\n"
   ]
  },
  {
   "cell_type": "markdown",
   "metadata": {},
   "source": [
    "**Conclusion:** The data frame does not contain any duplicated values."
   ]
  },
  {
   "cell_type": "code",
   "execution_count": 320,
   "metadata": {
    "scrolled": false
   },
   "outputs": [
    {
     "data": {
      "text/plain": [
       "channels      10\n",
       "difficulty    10\n",
       "duration      10\n",
       "id            10\n",
       "offer_type    10\n",
       "reward        10\n",
       "dtype: int64"
      ]
     },
     "execution_count": 320,
     "metadata": {},
     "output_type": "execute_result"
    }
   ],
   "source": [
    "# Checking the unique values of the data frame based in 'id'\n",
    "portfolio.groupby('id').nunique().count()\n"
   ]
  },
  {
   "cell_type": "markdown",
   "metadata": {},
   "source": [
    "**Conclusion:** The data frame, grouped by the variable 'id' contains only unique values."
   ]
  },
  {
   "cell_type": "code",
   "execution_count": 321,
   "metadata": {},
   "outputs": [
    {
     "data": {
      "text/plain": [
       "offer_type\n",
       "bogo             4\n",
       "discount         4\n",
       "informational    2\n",
       "Name: id, dtype: int64"
      ]
     },
     "execution_count": 321,
     "metadata": {},
     "output_type": "execute_result"
    }
   ],
   "source": [
    "# Checking and counting the \"offer_type\" values \n",
    "portfolio.groupby('offer_type')['id'].count()\n"
   ]
  },
  {
   "cell_type": "markdown",
   "metadata": {},
   "source": [
    "**Conclusion:** The variable \"offer_type\" contains 3 values: \n",
    "* `bogo` with a count of *4*,\n",
    "> Meaning: Buy one get one free.\n",
    "* `discount` also with a count of *4* and\n",
    "> Meaning: Regular discount for an order. \n",
    "* `informational` with a count of *2*.\n",
    "> Meaning: Special offers."
   ]
  },
  {
   "cell_type": "markdown",
   "metadata": {},
   "source": [
    "### Portfolio (offer) - Cleaning"
   ]
  },
  {
   "cell_type": "markdown",
   "metadata": {},
   "source": [
    "**Tasks:**\n",
    "1. Renaming the variable \"id\"in \"offer_id\".\n",
    "2. Splitting the variable \"channels\" in categorical variables based on its values.\n"
   ]
  },
  {
   "cell_type": "code",
   "execution_count": 322,
   "metadata": {},
   "outputs": [],
   "source": [
    "# Copying the data frame\n",
    "portfolio_clean = portfolio.copy()\n"
   ]
  },
  {
   "cell_type": "markdown",
   "metadata": {},
   "source": [
    "**Result:** The data frame is copied."
   ]
  },
  {
   "cell_type": "markdown",
   "metadata": {},
   "source": [
    "### Renaming the variable \"id\"in \"offer_id\"."
   ]
  },
  {
   "cell_type": "markdown",
   "metadata": {},
   "source": [
    "#### Code"
   ]
  },
  {
   "cell_type": "code",
   "execution_count": 323,
   "metadata": {},
   "outputs": [],
   "source": [
    "# Renaming the column \"id\"\n",
    "portfolio_clean.rename(columns={'id':'offer_id'},inplace=True)\n"
   ]
  },
  {
   "cell_type": "markdown",
   "metadata": {},
   "source": [
    "#### Test"
   ]
  },
  {
   "cell_type": "code",
   "execution_count": 324,
   "metadata": {
    "scrolled": true
   },
   "outputs": [
    {
     "data": {
      "text/html": [
       "<div>\n",
       "<style scoped>\n",
       "    .dataframe tbody tr th:only-of-type {\n",
       "        vertical-align: middle;\n",
       "    }\n",
       "\n",
       "    .dataframe tbody tr th {\n",
       "        vertical-align: top;\n",
       "    }\n",
       "\n",
       "    .dataframe thead th {\n",
       "        text-align: right;\n",
       "    }\n",
       "</style>\n",
       "<table border=\"1\" class=\"dataframe\">\n",
       "  <thead>\n",
       "    <tr style=\"text-align: right;\">\n",
       "      <th></th>\n",
       "      <th>channels</th>\n",
       "      <th>difficulty</th>\n",
       "      <th>duration</th>\n",
       "      <th>offer_id</th>\n",
       "      <th>offer_type</th>\n",
       "      <th>reward</th>\n",
       "    </tr>\n",
       "  </thead>\n",
       "  <tbody>\n",
       "    <tr>\n",
       "      <th>0</th>\n",
       "      <td>[email, mobile, social]</td>\n",
       "      <td>10</td>\n",
       "      <td>7</td>\n",
       "      <td>ae264e3637204a6fb9bb56bc8210ddfd</td>\n",
       "      <td>bogo</td>\n",
       "      <td>10</td>\n",
       "    </tr>\n",
       "    <tr>\n",
       "      <th>1</th>\n",
       "      <td>[web, email, mobile, social]</td>\n",
       "      <td>10</td>\n",
       "      <td>5</td>\n",
       "      <td>4d5c57ea9a6940dd891ad53e9dbe8da0</td>\n",
       "      <td>bogo</td>\n",
       "      <td>10</td>\n",
       "    </tr>\n",
       "    <tr>\n",
       "      <th>2</th>\n",
       "      <td>[web, email, mobile]</td>\n",
       "      <td>0</td>\n",
       "      <td>4</td>\n",
       "      <td>3f207df678b143eea3cee63160fa8bed</td>\n",
       "      <td>informational</td>\n",
       "      <td>0</td>\n",
       "    </tr>\n",
       "    <tr>\n",
       "      <th>3</th>\n",
       "      <td>[web, email, mobile]</td>\n",
       "      <td>5</td>\n",
       "      <td>7</td>\n",
       "      <td>9b98b8c7a33c4b65b9aebfe6a799e6d9</td>\n",
       "      <td>bogo</td>\n",
       "      <td>5</td>\n",
       "    </tr>\n",
       "    <tr>\n",
       "      <th>4</th>\n",
       "      <td>[web, email]</td>\n",
       "      <td>20</td>\n",
       "      <td>10</td>\n",
       "      <td>0b1e1539f2cc45b7b9fa7c272da2e1d7</td>\n",
       "      <td>discount</td>\n",
       "      <td>5</td>\n",
       "    </tr>\n",
       "  </tbody>\n",
       "</table>\n",
       "</div>"
      ],
      "text/plain": [
       "                       channels  difficulty  duration  \\\n",
       "0       [email, mobile, social]          10         7   \n",
       "1  [web, email, mobile, social]          10         5   \n",
       "2          [web, email, mobile]           0         4   \n",
       "3          [web, email, mobile]           5         7   \n",
       "4                  [web, email]          20        10   \n",
       "\n",
       "                           offer_id     offer_type  reward  \n",
       "0  ae264e3637204a6fb9bb56bc8210ddfd           bogo      10  \n",
       "1  4d5c57ea9a6940dd891ad53e9dbe8da0           bogo      10  \n",
       "2  3f207df678b143eea3cee63160fa8bed  informational       0  \n",
       "3  9b98b8c7a33c4b65b9aebfe6a799e6d9           bogo       5  \n",
       "4  0b1e1539f2cc45b7b9fa7c272da2e1d7       discount       5  "
      ]
     },
     "execution_count": 324,
     "metadata": {},
     "output_type": "execute_result"
    }
   ],
   "source": [
    "# # Displaying the new data frame to check the changes\n",
    "portfolio_clean.head()\n"
   ]
  },
  {
   "cell_type": "markdown",
   "metadata": {},
   "source": [
    "**Result:** The column \"id\" is renamed in \"offer_id\"."
   ]
  },
  {
   "cell_type": "markdown",
   "metadata": {},
   "source": [
    "### Splitting the variable \"channels\" in categorical variables based on its values."
   ]
  },
  {
   "cell_type": "markdown",
   "metadata": {},
   "source": [
    "#### Code"
   ]
  },
  {
   "cell_type": "code",
   "execution_count": 325,
   "metadata": {},
   "outputs": [],
   "source": [
    "# Function: Defining function to create a list of the column names of the categorical variables.\n",
    "# (Source of code parts: Udacity - Data Scientist Nanodegree Program)\n",
    "def f_create_dummy_df(df, cat_cols, dummy_na):\n",
    "    '''\n",
    "    INPUT:\n",
    "    df - Pandas data frame with categorical variables to create dummies.\n",
    "    cat_cols - List of names (strings) of the categorical columns.\n",
    "    dummy_na - Bool holding whether you want to dummy NA vals of categorical columns or not\n",
    "    \n",
    "    OUTPUT:\n",
    "    df - New dataframe of the following characteristics:\n",
    "            1. Contains all not categorical columns.\n",
    "            2. Removes the original columns in cat_cols (all).\n",
    "            3. Dummy each categorical columns in cat_cols.\n",
    "            4. dummy_na == TRUE - It does contain dummy columns for NaN values.\n",
    "            5. Prefix of the column name: Underscore (_) for separating. \n",
    "            \n",
    "    Description:\n",
    "    Splits values of an variable into categorical variables.\n",
    "    '''\n",
    "    for col in  cat_cols:\n",
    "        try:\n",
    "            #for each cat add dummy var, drop original column\n",
    "            df = pd.concat([df.drop(cat_cols, axis=1), \n",
    "                            pd.get_dummies(df[cat_cols].apply(pd.Series).stack(), prefix=cat_cols, \n",
    "                            prefix_sep='_', drop_first=False, dummy_na=dummy_na).sum(level=0).astype('int')], \n",
    "                           axis=1)\n",
    "        except:   \n",
    "            continue\n",
    "            \n",
    "    df.columns = df.columns.str.replace(' ','_')\n",
    "     \n",
    "    return df\n"
   ]
  },
  {
   "cell_type": "markdown",
   "metadata": {},
   "source": [
    "**Result:** A function is created to split values of an variable into categorical variables."
   ]
  },
  {
   "cell_type": "code",
   "execution_count": 326,
   "metadata": {},
   "outputs": [],
   "source": [
    "# Using the function: f_create_dummy_df\n",
    "portfolio_clean = f_create_dummy_df(portfolio_clean, 'channels', dummy_na=False)\n"
   ]
  },
  {
   "cell_type": "markdown",
   "metadata": {},
   "source": [
    "#### Test"
   ]
  },
  {
   "cell_type": "code",
   "execution_count": 327,
   "metadata": {
    "scrolled": true
   },
   "outputs": [
    {
     "name": "stdout",
     "output_type": "stream",
     "text": [
      "<class 'pandas.core.frame.DataFrame'>\n",
      "Int64Index: 10 entries, 0 to 9\n",
      "Data columns (total 9 columns):\n",
      "difficulty         10 non-null int64\n",
      "duration           10 non-null int64\n",
      "offer_id           10 non-null object\n",
      "offer_type         10 non-null object\n",
      "reward             10 non-null int64\n",
      "channels_email     10 non-null int64\n",
      "channels_mobile    10 non-null int64\n",
      "channels_social    10 non-null int64\n",
      "channels_web       10 non-null int64\n",
      "dtypes: int64(7), object(2)\n",
      "memory usage: 1.1+ KB\n"
     ]
    }
   ],
   "source": [
    "# Checking a concise summary of the dataframe\n",
    "portfolio_clean.info()\n"
   ]
  },
  {
   "cell_type": "code",
   "execution_count": 328,
   "metadata": {
    "scrolled": false
   },
   "outputs": [
    {
     "data": {
      "text/html": [
       "<div>\n",
       "<style scoped>\n",
       "    .dataframe tbody tr th:only-of-type {\n",
       "        vertical-align: middle;\n",
       "    }\n",
       "\n",
       "    .dataframe tbody tr th {\n",
       "        vertical-align: top;\n",
       "    }\n",
       "\n",
       "    .dataframe thead th {\n",
       "        text-align: right;\n",
       "    }\n",
       "</style>\n",
       "<table border=\"1\" class=\"dataframe\">\n",
       "  <thead>\n",
       "    <tr style=\"text-align: right;\">\n",
       "      <th></th>\n",
       "      <th>difficulty</th>\n",
       "      <th>duration</th>\n",
       "      <th>offer_id</th>\n",
       "      <th>offer_type</th>\n",
       "      <th>reward</th>\n",
       "      <th>channels_email</th>\n",
       "      <th>channels_mobile</th>\n",
       "      <th>channels_social</th>\n",
       "      <th>channels_web</th>\n",
       "    </tr>\n",
       "  </thead>\n",
       "  <tbody>\n",
       "    <tr>\n",
       "      <th>0</th>\n",
       "      <td>10</td>\n",
       "      <td>7</td>\n",
       "      <td>ae264e3637204a6fb9bb56bc8210ddfd</td>\n",
       "      <td>bogo</td>\n",
       "      <td>10</td>\n",
       "      <td>1</td>\n",
       "      <td>1</td>\n",
       "      <td>1</td>\n",
       "      <td>0</td>\n",
       "    </tr>\n",
       "    <tr>\n",
       "      <th>1</th>\n",
       "      <td>10</td>\n",
       "      <td>5</td>\n",
       "      <td>4d5c57ea9a6940dd891ad53e9dbe8da0</td>\n",
       "      <td>bogo</td>\n",
       "      <td>10</td>\n",
       "      <td>1</td>\n",
       "      <td>1</td>\n",
       "      <td>1</td>\n",
       "      <td>1</td>\n",
       "    </tr>\n",
       "    <tr>\n",
       "      <th>2</th>\n",
       "      <td>0</td>\n",
       "      <td>4</td>\n",
       "      <td>3f207df678b143eea3cee63160fa8bed</td>\n",
       "      <td>informational</td>\n",
       "      <td>0</td>\n",
       "      <td>1</td>\n",
       "      <td>1</td>\n",
       "      <td>0</td>\n",
       "      <td>1</td>\n",
       "    </tr>\n",
       "    <tr>\n",
       "      <th>3</th>\n",
       "      <td>5</td>\n",
       "      <td>7</td>\n",
       "      <td>9b98b8c7a33c4b65b9aebfe6a799e6d9</td>\n",
       "      <td>bogo</td>\n",
       "      <td>5</td>\n",
       "      <td>1</td>\n",
       "      <td>1</td>\n",
       "      <td>0</td>\n",
       "      <td>1</td>\n",
       "    </tr>\n",
       "    <tr>\n",
       "      <th>4</th>\n",
       "      <td>20</td>\n",
       "      <td>10</td>\n",
       "      <td>0b1e1539f2cc45b7b9fa7c272da2e1d7</td>\n",
       "      <td>discount</td>\n",
       "      <td>5</td>\n",
       "      <td>1</td>\n",
       "      <td>0</td>\n",
       "      <td>0</td>\n",
       "      <td>1</td>\n",
       "    </tr>\n",
       "  </tbody>\n",
       "</table>\n",
       "</div>"
      ],
      "text/plain": [
       "   difficulty  duration                          offer_id     offer_type  \\\n",
       "0          10         7  ae264e3637204a6fb9bb56bc8210ddfd           bogo   \n",
       "1          10         5  4d5c57ea9a6940dd891ad53e9dbe8da0           bogo   \n",
       "2           0         4  3f207df678b143eea3cee63160fa8bed  informational   \n",
       "3           5         7  9b98b8c7a33c4b65b9aebfe6a799e6d9           bogo   \n",
       "4          20        10  0b1e1539f2cc45b7b9fa7c272da2e1d7       discount   \n",
       "\n",
       "   reward  channels_email  channels_mobile  channels_social  channels_web  \n",
       "0      10               1                1                1             0  \n",
       "1      10               1                1                1             1  \n",
       "2       0               1                1                0             1  \n",
       "3       5               1                1                0             1  \n",
       "4       5               1                0                0             1  "
      ]
     },
     "execution_count": 328,
     "metadata": {},
     "output_type": "execute_result"
    }
   ],
   "source": [
    "# Displaying the new data frame to check the changes\n",
    "portfolio_clean.head()\n"
   ]
  },
  {
   "cell_type": "markdown",
   "metadata": {},
   "source": [
    "**Result:** The variable \"channels\" is split in categorical variables based on its values."
   ]
  },
  {
   "cell_type": "code",
   "execution_count": 329,
   "metadata": {},
   "outputs": [
    {
     "data": {
      "text/plain": [
       "(10, 9)"
      ]
     },
     "execution_count": 329,
     "metadata": {},
     "output_type": "execute_result"
    }
   ],
   "source": [
    "# Checking the shape of the data frame\n",
    "portfolio_clean.shape\n"
   ]
  },
  {
   "cell_type": "markdown",
   "metadata": {},
   "source": [
    "**Conclusion:** The data frame consits of *9* columns and *10* rows."
   ]
  },
  {
   "cell_type": "markdown",
   "metadata": {},
   "source": [
    "<a id='sec2_112'></a>\n",
    "### Profile (demographic) - General Properties of Fata Frame\n",
    "<div style=\"text-align: right\"><right><a href=\"#top\">Table of Content</a></div>"
   ]
  },
  {
   "cell_type": "markdown",
   "metadata": {},
   "source": [
    "#### Information: Rewards program users (17000 users x 5 fields)\n",
    "\n",
    ">* gender: (categorical) M, F, O, or null\n",
    ">* age: (numeric) missing value encoded as 118\n",
    ">* id: (string/hash)\n",
    ">* became_member_on: (date) format YYYYMMDD\n",
    ">* income: (numeric)\n"
   ]
  },
  {
   "cell_type": "code",
   "execution_count": 330,
   "metadata": {},
   "outputs": [
    {
     "data": {
      "text/plain": [
       "(17000, 5)"
      ]
     },
     "execution_count": 330,
     "metadata": {},
     "output_type": "execute_result"
    }
   ],
   "source": [
    "# Checking the shape of the data frame\n",
    "profile.shape\n"
   ]
  },
  {
   "cell_type": "markdown",
   "metadata": {},
   "source": [
    "**Conclusion:** The data frame consits of *5* columns and *17,000* rows."
   ]
  },
  {
   "cell_type": "code",
   "execution_count": 331,
   "metadata": {
    "scrolled": false
   },
   "outputs": [
    {
     "data": {
      "text/html": [
       "<div>\n",
       "<style scoped>\n",
       "    .dataframe tbody tr th:only-of-type {\n",
       "        vertical-align: middle;\n",
       "    }\n",
       "\n",
       "    .dataframe tbody tr th {\n",
       "        vertical-align: top;\n",
       "    }\n",
       "\n",
       "    .dataframe thead th {\n",
       "        text-align: right;\n",
       "    }\n",
       "</style>\n",
       "<table border=\"1\" class=\"dataframe\">\n",
       "  <thead>\n",
       "    <tr style=\"text-align: right;\">\n",
       "      <th></th>\n",
       "      <th>age</th>\n",
       "      <th>became_member_on</th>\n",
       "      <th>gender</th>\n",
       "      <th>id</th>\n",
       "      <th>income</th>\n",
       "    </tr>\n",
       "  </thead>\n",
       "  <tbody>\n",
       "    <tr>\n",
       "      <th>0</th>\n",
       "      <td>118</td>\n",
       "      <td>20170212</td>\n",
       "      <td>None</td>\n",
       "      <td>68be06ca386d4c31939f3a4f0e3dd783</td>\n",
       "      <td>NaN</td>\n",
       "    </tr>\n",
       "    <tr>\n",
       "      <th>1</th>\n",
       "      <td>55</td>\n",
       "      <td>20170715</td>\n",
       "      <td>F</td>\n",
       "      <td>0610b486422d4921ae7d2bf64640c50b</td>\n",
       "      <td>112000.0</td>\n",
       "    </tr>\n",
       "    <tr>\n",
       "      <th>2</th>\n",
       "      <td>118</td>\n",
       "      <td>20180712</td>\n",
       "      <td>None</td>\n",
       "      <td>38fe809add3b4fcf9315a9694bb96ff5</td>\n",
       "      <td>NaN</td>\n",
       "    </tr>\n",
       "    <tr>\n",
       "      <th>3</th>\n",
       "      <td>75</td>\n",
       "      <td>20170509</td>\n",
       "      <td>F</td>\n",
       "      <td>78afa995795e4d85b5d9ceeca43f5fef</td>\n",
       "      <td>100000.0</td>\n",
       "    </tr>\n",
       "    <tr>\n",
       "      <th>4</th>\n",
       "      <td>118</td>\n",
       "      <td>20170804</td>\n",
       "      <td>None</td>\n",
       "      <td>a03223e636434f42ac4c3df47e8bac43</td>\n",
       "      <td>NaN</td>\n",
       "    </tr>\n",
       "  </tbody>\n",
       "</table>\n",
       "</div>"
      ],
      "text/plain": [
       "   age  became_member_on gender                                id    income\n",
       "0  118          20170212   None  68be06ca386d4c31939f3a4f0e3dd783       NaN\n",
       "1   55          20170715      F  0610b486422d4921ae7d2bf64640c50b  112000.0\n",
       "2  118          20180712   None  38fe809add3b4fcf9315a9694bb96ff5       NaN\n",
       "3   75          20170509      F  78afa995795e4d85b5d9ceeca43f5fef  100000.0\n",
       "4  118          20170804   None  a03223e636434f42ac4c3df47e8bac43       NaN"
      ]
     },
     "execution_count": 331,
     "metadata": {},
     "output_type": "execute_result"
    }
   ],
   "source": [
    "# Displaying data frame to get an idea of the data\n",
    "profile.head()\n"
   ]
  },
  {
   "cell_type": "markdown",
   "metadata": {},
   "source": [
    "**Conclusion:**\n",
    "1. The following variables values will be investigated more detailed since they are relevant for this analysis:\n",
    " * \"gender\"\n",
    "    * \"None\" values \n",
    " * \"income\"\n",
    "    * \"NaN\" values   \n",
    "2. The variable \"age\" contains values which are unrealistically high.\n",
    " *  `profile['age'][0]` &rarr; value = *118*\n",
    "3. There is also a correlation between the three variables:\n",
    "\n",
    "index  | gender | income | age\n",
    ":----: | :----: | :----: | :----:\n",
    "0      | None   | NaN    | 118\n",
    "2      | None   | NaN    | 118\n",
    "4      | None   | NaN    | 118\n",
    "...    | ...    | ...    | ... \n",
    "\n",
    "4. The variable \"id\" represents the **customer id**.\n"
   ]
  },
  {
   "cell_type": "code",
   "execution_count": 332,
   "metadata": {
    "scrolled": true
   },
   "outputs": [
    {
     "name": "stdout",
     "output_type": "stream",
     "text": [
      "<class 'pandas.core.frame.DataFrame'>\n",
      "Int64Index: 17000 entries, 0 to 16999\n",
      "Data columns (total 5 columns):\n",
      "age                 17000 non-null int64\n",
      "became_member_on    17000 non-null int64\n",
      "gender              14825 non-null object\n",
      "id                  17000 non-null object\n",
      "income              14825 non-null float64\n",
      "dtypes: float64(1), int64(2), object(2)\n",
      "memory usage: 796.9+ KB\n"
     ]
    }
   ],
   "source": [
    "# Checking a concise summary of the dataframe\n",
    "profile.info()\n"
   ]
  },
  {
   "cell_type": "code",
   "execution_count": 333,
   "metadata": {
    "scrolled": false
   },
   "outputs": [
    {
     "data": {
      "text/plain": [
       "age                   int64\n",
       "became_member_on      int64\n",
       "gender               object\n",
       "id                   object\n",
       "income              float64\n",
       "dtype: object"
      ]
     },
     "execution_count": 333,
     "metadata": {},
     "output_type": "execute_result"
    }
   ],
   "source": [
    "# Checking the dtype of the dataframe\n",
    "profile.dtypes\n"
   ]
  },
  {
   "cell_type": "markdown",
   "metadata": {},
   "source": [
    "**Conclusion:** \n",
    "1. The data frame contains three different data types:\n",
    " * `object`\n",
    " * `int64`\n",
    " * `float64`\n",
    "2. The variable \"became_member_on\" should be converted into a date format. <br>\n",
    "It is also possible that there is a correlation with the offers, which can be investigated."
   ]
  },
  {
   "cell_type": "code",
   "execution_count": 334,
   "metadata": {},
   "outputs": [
    {
     "data": {
      "text/plain": [
       "age                    0\n",
       "became_member_on       0\n",
       "gender              2175\n",
       "id                     0\n",
       "income              2175\n",
       "dtype: int64"
      ]
     },
     "execution_count": 334,
     "metadata": {},
     "output_type": "execute_result"
    }
   ],
   "source": [
    "# Checking the number of missing values\n",
    "profile.isnull().sum()\n"
   ]
  },
  {
   "cell_type": "markdown",
   "metadata": {},
   "source": [
    "**Conclusion:** \n",
    "1. The following variables of the data frame are containing NaN values:\n",
    " * \"gender\"\n",
    " * \"income\" \n",
    "2. The amount of NaN values of both variables is equal. The sum is *2175*."
   ]
  },
  {
   "cell_type": "code",
   "execution_count": 335,
   "metadata": {},
   "outputs": [
    {
     "data": {
      "text/plain": [
       "0"
      ]
     },
     "execution_count": 335,
     "metadata": {},
     "output_type": "execute_result"
    }
   ],
   "source": [
    "# Checking for duplicate values\n",
    "profile.columns.duplicated().sum()\n"
   ]
  },
  {
   "cell_type": "markdown",
   "metadata": {},
   "source": [
    "**Conclusion:** The data frame does not contain any duplicated values."
   ]
  },
  {
   "cell_type": "code",
   "execution_count": 336,
   "metadata": {},
   "outputs": [
    {
     "data": {
      "text/plain": [
       "age                 17000\n",
       "became_member_on    17000\n",
       "gender              17000\n",
       "id                  17000\n",
       "income              17000\n",
       "dtype: int64"
      ]
     },
     "execution_count": 336,
     "metadata": {},
     "output_type": "execute_result"
    }
   ],
   "source": [
    "# Showing the unique values of the data frame\n",
    "profile.groupby('id').nunique().count()\n"
   ]
  },
  {
   "cell_type": "markdown",
   "metadata": {},
   "source": [
    "**Conclusion:** The data frame, grouped by the variable 'id' contains only unique values."
   ]
  },
  {
   "cell_type": "code",
   "execution_count": 337,
   "metadata": {
    "scrolled": true
   },
   "outputs": [
    {
     "data": {
      "text/html": [
       "<div>\n",
       "<style scoped>\n",
       "    .dataframe tbody tr th:only-of-type {\n",
       "        vertical-align: middle;\n",
       "    }\n",
       "\n",
       "    .dataframe tbody tr th {\n",
       "        vertical-align: top;\n",
       "    }\n",
       "\n",
       "    .dataframe thead th {\n",
       "        text-align: right;\n",
       "    }\n",
       "</style>\n",
       "<table border=\"1\" class=\"dataframe\">\n",
       "  <thead>\n",
       "    <tr style=\"text-align: right;\">\n",
       "      <th></th>\n",
       "      <th>age</th>\n",
       "      <th>became_member_on</th>\n",
       "      <th>gender</th>\n",
       "      <th>id</th>\n",
       "      <th>income</th>\n",
       "    </tr>\n",
       "  </thead>\n",
       "  <tbody>\n",
       "    <tr>\n",
       "      <th>0</th>\n",
       "      <td>118</td>\n",
       "      <td>20170212</td>\n",
       "      <td>None</td>\n",
       "      <td>68be06ca386d4c31939f3a4f0e3dd783</td>\n",
       "      <td>NaN</td>\n",
       "    </tr>\n",
       "    <tr>\n",
       "      <th>2</th>\n",
       "      <td>118</td>\n",
       "      <td>20180712</td>\n",
       "      <td>None</td>\n",
       "      <td>38fe809add3b4fcf9315a9694bb96ff5</td>\n",
       "      <td>NaN</td>\n",
       "    </tr>\n",
       "    <tr>\n",
       "      <th>4</th>\n",
       "      <td>118</td>\n",
       "      <td>20170804</td>\n",
       "      <td>None</td>\n",
       "      <td>a03223e636434f42ac4c3df47e8bac43</td>\n",
       "      <td>NaN</td>\n",
       "    </tr>\n",
       "    <tr>\n",
       "      <th>6</th>\n",
       "      <td>118</td>\n",
       "      <td>20170925</td>\n",
       "      <td>None</td>\n",
       "      <td>8ec6ce2a7e7949b1bf142def7d0e0586</td>\n",
       "      <td>NaN</td>\n",
       "    </tr>\n",
       "    <tr>\n",
       "      <th>7</th>\n",
       "      <td>118</td>\n",
       "      <td>20171002</td>\n",
       "      <td>None</td>\n",
       "      <td>68617ca6246f4fbc85e91a2a49552598</td>\n",
       "      <td>NaN</td>\n",
       "    </tr>\n",
       "  </tbody>\n",
       "</table>\n",
       "</div>"
      ],
      "text/plain": [
       "   age  became_member_on gender                                id  income\n",
       "0  118          20170212   None  68be06ca386d4c31939f3a4f0e3dd783     NaN\n",
       "2  118          20180712   None  38fe809add3b4fcf9315a9694bb96ff5     NaN\n",
       "4  118          20170804   None  a03223e636434f42ac4c3df47e8bac43     NaN\n",
       "6  118          20170925   None  8ec6ce2a7e7949b1bf142def7d0e0586     NaN\n",
       "7  118          20171002   None  68617ca6246f4fbc85e91a2a49552598     NaN"
      ]
     },
     "execution_count": 337,
     "metadata": {},
     "output_type": "execute_result"
    }
   ],
   "source": [
    "# Checking and counting the \"age\" values \n",
    "df_118 = profile[profile['age'] == 118]\n",
    "df_118.head()\n"
   ]
  },
  {
   "cell_type": "code",
   "execution_count": 338,
   "metadata": {},
   "outputs": [
    {
     "name": "stdout",
     "output_type": "stream",
     "text": [
      "Count of value \"F\" = 0\n",
      "Count of value \"M\" = 0\n",
      "Count of value \"O\" = 0\n",
      "Count of value \"NaN\" = 2175\n"
     ]
    }
   ],
   "source": [
    "# Checking if there are any \"F\", \"M\" or \"O\" values in the variable \"gender\" \n",
    "# while filtering varibale \"age\" equal to the value 118\n",
    "df_118_F = df_118[df_118['gender'] == 'F']['gender'].count()\n",
    "df_118_M = df_118[df_118['gender'] == 'M']['gender'].count()\n",
    "df_118_O = df_118[df_118['gender'] == 'O']['gender'].count()\n",
    "df_118_NaN = pd.isna(df_118[\"gender\"]).count()\n",
    "\n",
    "print('Count of value \"F\" = {}'.format(df_118_F))\n",
    "print('Count of value \"M\" = {}'.format(df_118_M))\n",
    "print('Count of value \"O\" = {}'.format(df_118_O))\n",
    "print('Count of value \"NaN\" = {}'.format(df_118_NaN))\n"
   ]
  },
  {
   "cell_type": "markdown",
   "metadata": {},
   "source": [
    "**Conclusion:** \n",
    "\n",
    "1. The variable \"age\" filtered by the value of *118* shows that the variable \"gender\" does not include other values except of the \"NaN\" values.\n",
    "2. The amount of \"NaN\" values *2175* is equal to the amount of \"NaN\" values of the variable \"gender\" and \"income\" within the \"profile\" data frame.\n"
   ]
  },
  {
   "cell_type": "code",
   "execution_count": 339,
   "metadata": {
    "scrolled": false
   },
   "outputs": [
    {
     "data": {
      "text/html": [
       "<div>\n",
       "<style scoped>\n",
       "    .dataframe tbody tr th:only-of-type {\n",
       "        vertical-align: middle;\n",
       "    }\n",
       "\n",
       "    .dataframe tbody tr th {\n",
       "        vertical-align: top;\n",
       "    }\n",
       "\n",
       "    .dataframe thead th {\n",
       "        text-align: right;\n",
       "    }\n",
       "</style>\n",
       "<table border=\"1\" class=\"dataframe\">\n",
       "  <thead>\n",
       "    <tr style=\"text-align: right;\">\n",
       "      <th></th>\n",
       "      <th>count</th>\n",
       "      <th>mean</th>\n",
       "      <th>std</th>\n",
       "      <th>min</th>\n",
       "      <th>25%</th>\n",
       "      <th>50%</th>\n",
       "      <th>75%</th>\n",
       "      <th>max</th>\n",
       "    </tr>\n",
       "    <tr>\n",
       "      <th>gender</th>\n",
       "      <th></th>\n",
       "      <th></th>\n",
       "      <th></th>\n",
       "      <th></th>\n",
       "      <th></th>\n",
       "      <th></th>\n",
       "      <th></th>\n",
       "      <th></th>\n",
       "    </tr>\n",
       "  </thead>\n",
       "  <tbody>\n",
       "    <tr>\n",
       "      <th>F</th>\n",
       "      <td>6129.0</td>\n",
       "      <td>57.544950</td>\n",
       "      <td>16.883315</td>\n",
       "      <td>18.0</td>\n",
       "      <td>48.0</td>\n",
       "      <td>58.0</td>\n",
       "      <td>69.0</td>\n",
       "      <td>101.0</td>\n",
       "    </tr>\n",
       "    <tr>\n",
       "      <th>M</th>\n",
       "      <td>8484.0</td>\n",
       "      <td>52.116690</td>\n",
       "      <td>17.413894</td>\n",
       "      <td>18.0</td>\n",
       "      <td>39.0</td>\n",
       "      <td>53.0</td>\n",
       "      <td>65.0</td>\n",
       "      <td>100.0</td>\n",
       "    </tr>\n",
       "    <tr>\n",
       "      <th>O</th>\n",
       "      <td>212.0</td>\n",
       "      <td>54.400943</td>\n",
       "      <td>16.244710</td>\n",
       "      <td>20.0</td>\n",
       "      <td>43.0</td>\n",
       "      <td>55.0</td>\n",
       "      <td>66.0</td>\n",
       "      <td>100.0</td>\n",
       "    </tr>\n",
       "  </tbody>\n",
       "</table>\n",
       "</div>"
      ],
      "text/plain": [
       "         count       mean        std   min   25%   50%   75%    max\n",
       "gender                                                             \n",
       "F       6129.0  57.544950  16.883315  18.0  48.0  58.0  69.0  101.0\n",
       "M       8484.0  52.116690  17.413894  18.0  39.0  53.0  65.0  100.0\n",
       "O        212.0  54.400943  16.244710  20.0  43.0  55.0  66.0  100.0"
      ]
     },
     "execution_count": 339,
     "metadata": {},
     "output_type": "execute_result"
    }
   ],
   "source": [
    "# Calculating the descriptive statistics of the \"age\" values grouped by the variable \"gender\"\n",
    "# (50 % is equal to the median)\n",
    "profile.groupby('gender')['age'].describe()\n"
   ]
  },
  {
   "cell_type": "code",
   "execution_count": 340,
   "metadata": {},
   "outputs": [
    {
     "data": {
      "text/plain": [
       "2175"
      ]
     },
     "execution_count": 340,
     "metadata": {},
     "output_type": "execute_result"
    }
   ],
   "source": [
    "# Checking and counting the missing values of varibale \"gender\" \n",
    "profile['gender'].isnull().sum()\n"
   ]
  },
  {
   "cell_type": "markdown",
   "metadata": {},
   "source": [
    "**Conclusion:** \n",
    "\n",
    "1. The variable \"gender\" contains the following values and counts of values:\n",
    " * \"F\" &rarr; count = *6129*\n",
    " * \"M\" &rarr; count = *8484*\n",
    " * \"O\" &rarr; count = *212*\n",
    " * \"None\" &rarr; count = *2175*\n",
    "\n",
    "\n",
    "2. The max value of the descriptive statistics displays that the highest age value of the \"gender\" values \"F\", \"M\" and \"O\" is below *118*.\n",
    " * \"F\" &rarr; value = *101.0*\n",
    " * \"M\" &rarr; value = *100.0*\n",
    " * \"O\" &rarr; value = *100.0*"
   ]
  },
  {
   "cell_type": "markdown",
   "metadata": {},
   "source": [
    "### Profile (demographic) - Cleaning"
   ]
  },
  {
   "cell_type": "markdown",
   "metadata": {},
   "source": [
    "**Tasks:**\n",
    "1. Renaming the variable \"id\"in \"customer_id\".\n",
    "2. Converting the variable \"became_member_on\" into a date format."
   ]
  },
  {
   "cell_type": "code",
   "execution_count": 341,
   "metadata": {},
   "outputs": [],
   "source": [
    "# Copying the data frame\n",
    "profile_clean = profile.copy()\n"
   ]
  },
  {
   "cell_type": "markdown",
   "metadata": {},
   "source": [
    "**Result:** The data frame is copied."
   ]
  },
  {
   "cell_type": "markdown",
   "metadata": {},
   "source": [
    "### Renaming the variable \"id\"in \"customer_id\"."
   ]
  },
  {
   "cell_type": "markdown",
   "metadata": {},
   "source": [
    "#### Code"
   ]
  },
  {
   "cell_type": "code",
   "execution_count": 342,
   "metadata": {},
   "outputs": [],
   "source": [
    "# Renaming the column \"id\"\n",
    "profile_clean.rename(columns={'id':'customer_id'},inplace=True)\n"
   ]
  },
  {
   "cell_type": "markdown",
   "metadata": {},
   "source": [
    "#### Test"
   ]
  },
  {
   "cell_type": "code",
   "execution_count": 343,
   "metadata": {
    "scrolled": true
   },
   "outputs": [
    {
     "data": {
      "text/html": [
       "<div>\n",
       "<style scoped>\n",
       "    .dataframe tbody tr th:only-of-type {\n",
       "        vertical-align: middle;\n",
       "    }\n",
       "\n",
       "    .dataframe tbody tr th {\n",
       "        vertical-align: top;\n",
       "    }\n",
       "\n",
       "    .dataframe thead th {\n",
       "        text-align: right;\n",
       "    }\n",
       "</style>\n",
       "<table border=\"1\" class=\"dataframe\">\n",
       "  <thead>\n",
       "    <tr style=\"text-align: right;\">\n",
       "      <th></th>\n",
       "      <th>age</th>\n",
       "      <th>became_member_on</th>\n",
       "      <th>gender</th>\n",
       "      <th>customer_id</th>\n",
       "      <th>income</th>\n",
       "    </tr>\n",
       "  </thead>\n",
       "  <tbody>\n",
       "    <tr>\n",
       "      <th>0</th>\n",
       "      <td>118</td>\n",
       "      <td>20170212</td>\n",
       "      <td>None</td>\n",
       "      <td>68be06ca386d4c31939f3a4f0e3dd783</td>\n",
       "      <td>NaN</td>\n",
       "    </tr>\n",
       "    <tr>\n",
       "      <th>1</th>\n",
       "      <td>55</td>\n",
       "      <td>20170715</td>\n",
       "      <td>F</td>\n",
       "      <td>0610b486422d4921ae7d2bf64640c50b</td>\n",
       "      <td>112000.0</td>\n",
       "    </tr>\n",
       "    <tr>\n",
       "      <th>2</th>\n",
       "      <td>118</td>\n",
       "      <td>20180712</td>\n",
       "      <td>None</td>\n",
       "      <td>38fe809add3b4fcf9315a9694bb96ff5</td>\n",
       "      <td>NaN</td>\n",
       "    </tr>\n",
       "    <tr>\n",
       "      <th>3</th>\n",
       "      <td>75</td>\n",
       "      <td>20170509</td>\n",
       "      <td>F</td>\n",
       "      <td>78afa995795e4d85b5d9ceeca43f5fef</td>\n",
       "      <td>100000.0</td>\n",
       "    </tr>\n",
       "    <tr>\n",
       "      <th>4</th>\n",
       "      <td>118</td>\n",
       "      <td>20170804</td>\n",
       "      <td>None</td>\n",
       "      <td>a03223e636434f42ac4c3df47e8bac43</td>\n",
       "      <td>NaN</td>\n",
       "    </tr>\n",
       "  </tbody>\n",
       "</table>\n",
       "</div>"
      ],
      "text/plain": [
       "   age  became_member_on gender                       customer_id    income\n",
       "0  118          20170212   None  68be06ca386d4c31939f3a4f0e3dd783       NaN\n",
       "1   55          20170715      F  0610b486422d4921ae7d2bf64640c50b  112000.0\n",
       "2  118          20180712   None  38fe809add3b4fcf9315a9694bb96ff5       NaN\n",
       "3   75          20170509      F  78afa995795e4d85b5d9ceeca43f5fef  100000.0\n",
       "4  118          20170804   None  a03223e636434f42ac4c3df47e8bac43       NaN"
      ]
     },
     "execution_count": 343,
     "metadata": {},
     "output_type": "execute_result"
    }
   ],
   "source": [
    "# Displaying the new data frame to check the changes\n",
    "profile_clean.head()\n"
   ]
  },
  {
   "cell_type": "markdown",
   "metadata": {},
   "source": [
    "**Result:** The column \"id\" is renamed in \"customer_id\"."
   ]
  },
  {
   "cell_type": "markdown",
   "metadata": {},
   "source": [
    "### Converting the variable \"became_member_on\" into a date format."
   ]
  },
  {
   "cell_type": "markdown",
   "metadata": {},
   "source": [
    "#### Code"
   ]
  },
  {
   "cell_type": "code",
   "execution_count": 344,
   "metadata": {},
   "outputs": [],
   "source": [
    "# Converting the dtype of the column.\n",
    "profile_clean['became_member_on'] = pd.to_datetime(profile_clean['became_member_on'], format='%Y%m%d')\n"
   ]
  },
  {
   "cell_type": "markdown",
   "metadata": {},
   "source": [
    "**Result:** The data frame is copied."
   ]
  },
  {
   "cell_type": "markdown",
   "metadata": {},
   "source": [
    "#### Test"
   ]
  },
  {
   "cell_type": "code",
   "execution_count": 345,
   "metadata": {
    "scrolled": true
   },
   "outputs": [
    {
     "data": {
      "text/html": [
       "<div>\n",
       "<style scoped>\n",
       "    .dataframe tbody tr th:only-of-type {\n",
       "        vertical-align: middle;\n",
       "    }\n",
       "\n",
       "    .dataframe tbody tr th {\n",
       "        vertical-align: top;\n",
       "    }\n",
       "\n",
       "    .dataframe thead th {\n",
       "        text-align: right;\n",
       "    }\n",
       "</style>\n",
       "<table border=\"1\" class=\"dataframe\">\n",
       "  <thead>\n",
       "    <tr style=\"text-align: right;\">\n",
       "      <th></th>\n",
       "      <th>age</th>\n",
       "      <th>became_member_on</th>\n",
       "      <th>gender</th>\n",
       "      <th>customer_id</th>\n",
       "      <th>income</th>\n",
       "    </tr>\n",
       "  </thead>\n",
       "  <tbody>\n",
       "    <tr>\n",
       "      <th>0</th>\n",
       "      <td>118</td>\n",
       "      <td>2017-02-12</td>\n",
       "      <td>None</td>\n",
       "      <td>68be06ca386d4c31939f3a4f0e3dd783</td>\n",
       "      <td>NaN</td>\n",
       "    </tr>\n",
       "    <tr>\n",
       "      <th>1</th>\n",
       "      <td>55</td>\n",
       "      <td>2017-07-15</td>\n",
       "      <td>F</td>\n",
       "      <td>0610b486422d4921ae7d2bf64640c50b</td>\n",
       "      <td>112000.0</td>\n",
       "    </tr>\n",
       "    <tr>\n",
       "      <th>2</th>\n",
       "      <td>118</td>\n",
       "      <td>2018-07-12</td>\n",
       "      <td>None</td>\n",
       "      <td>38fe809add3b4fcf9315a9694bb96ff5</td>\n",
       "      <td>NaN</td>\n",
       "    </tr>\n",
       "    <tr>\n",
       "      <th>3</th>\n",
       "      <td>75</td>\n",
       "      <td>2017-05-09</td>\n",
       "      <td>F</td>\n",
       "      <td>78afa995795e4d85b5d9ceeca43f5fef</td>\n",
       "      <td>100000.0</td>\n",
       "    </tr>\n",
       "    <tr>\n",
       "      <th>4</th>\n",
       "      <td>118</td>\n",
       "      <td>2017-08-04</td>\n",
       "      <td>None</td>\n",
       "      <td>a03223e636434f42ac4c3df47e8bac43</td>\n",
       "      <td>NaN</td>\n",
       "    </tr>\n",
       "  </tbody>\n",
       "</table>\n",
       "</div>"
      ],
      "text/plain": [
       "   age became_member_on gender                       customer_id    income\n",
       "0  118       2017-02-12   None  68be06ca386d4c31939f3a4f0e3dd783       NaN\n",
       "1   55       2017-07-15      F  0610b486422d4921ae7d2bf64640c50b  112000.0\n",
       "2  118       2018-07-12   None  38fe809add3b4fcf9315a9694bb96ff5       NaN\n",
       "3   75       2017-05-09      F  78afa995795e4d85b5d9ceeca43f5fef  100000.0\n",
       "4  118       2017-08-04   None  a03223e636434f42ac4c3df47e8bac43       NaN"
      ]
     },
     "execution_count": 345,
     "metadata": {},
     "output_type": "execute_result"
    }
   ],
   "source": [
    "# Displaying the new data frame to check the changes\n",
    "profile_clean.head()\n"
   ]
  },
  {
   "cell_type": "markdown",
   "metadata": {},
   "source": [
    "**Result:** The variable \"became_member_on\" is converted into a date format."
   ]
  },
  {
   "cell_type": "code",
   "execution_count": 346,
   "metadata": {},
   "outputs": [
    {
     "data": {
      "text/plain": [
       "(17000, 5)"
      ]
     },
     "execution_count": 346,
     "metadata": {},
     "output_type": "execute_result"
    }
   ],
   "source": [
    "# Checking the shape of the data frame\n",
    "profile_clean.shape\n"
   ]
  },
  {
   "cell_type": "markdown",
   "metadata": {},
   "source": [
    "**Result:** The data frame consits of *5* columns and *17,000* rows."
   ]
  },
  {
   "cell_type": "markdown",
   "metadata": {},
   "source": [
    "<a id='sec2_113'></a>\n",
    "### Transcript (transaction records) - General Properties of Fata Frame\n",
    "<div style=\"text-align: right\"><right><a href=\"#top\">Table of Content</a></div>"
   ]
  },
  {
   "cell_type": "markdown",
   "metadata": {},
   "source": [
    "#### Information: Event log (306648 events x 4 fields)\n",
    "\n",
    ">* person: (string/hash)\n",
    ">* event: (string) offer received, offer viewed, transaction, offer completed\n",
    ">* value: (dictionary) different values depending on event type\n",
    ">* offer id: (string/hash) not associated with any \"transaction\"\n",
    ">* amount: (numeric) money spent in \"transaction\"\n",
    ">* reward: (numeric) money gained from \"offer completed\"\n",
    ">* time: (numeric) hours after start of test\n"
   ]
  },
  {
   "cell_type": "code",
   "execution_count": 347,
   "metadata": {},
   "outputs": [
    {
     "data": {
      "text/plain": [
       "(306534, 4)"
      ]
     },
     "execution_count": 347,
     "metadata": {},
     "output_type": "execute_result"
    }
   ],
   "source": [
    "# Checking the shape of the data frame\n",
    "transcript.shape\n"
   ]
  },
  {
   "cell_type": "markdown",
   "metadata": {},
   "source": [
    "**Conclusion:** The data frame consits of *4* columns and *306,534* rows."
   ]
  },
  {
   "cell_type": "code",
   "execution_count": 348,
   "metadata": {
    "scrolled": false
   },
   "outputs": [
    {
     "data": {
      "text/html": [
       "<div>\n",
       "<style scoped>\n",
       "    .dataframe tbody tr th:only-of-type {\n",
       "        vertical-align: middle;\n",
       "    }\n",
       "\n",
       "    .dataframe tbody tr th {\n",
       "        vertical-align: top;\n",
       "    }\n",
       "\n",
       "    .dataframe thead th {\n",
       "        text-align: right;\n",
       "    }\n",
       "</style>\n",
       "<table border=\"1\" class=\"dataframe\">\n",
       "  <thead>\n",
       "    <tr style=\"text-align: right;\">\n",
       "      <th></th>\n",
       "      <th>event</th>\n",
       "      <th>person</th>\n",
       "      <th>time</th>\n",
       "      <th>value</th>\n",
       "    </tr>\n",
       "  </thead>\n",
       "  <tbody>\n",
       "    <tr>\n",
       "      <th>0</th>\n",
       "      <td>offer received</td>\n",
       "      <td>78afa995795e4d85b5d9ceeca43f5fef</td>\n",
       "      <td>0</td>\n",
       "      <td>{'offer id': '9b98b8c7a33c4b65b9aebfe6a799e6d9'}</td>\n",
       "    </tr>\n",
       "    <tr>\n",
       "      <th>1</th>\n",
       "      <td>offer received</td>\n",
       "      <td>a03223e636434f42ac4c3df47e8bac43</td>\n",
       "      <td>0</td>\n",
       "      <td>{'offer id': '0b1e1539f2cc45b7b9fa7c272da2e1d7'}</td>\n",
       "    </tr>\n",
       "    <tr>\n",
       "      <th>2</th>\n",
       "      <td>offer received</td>\n",
       "      <td>e2127556f4f64592b11af22de27a7932</td>\n",
       "      <td>0</td>\n",
       "      <td>{'offer id': '2906b810c7d4411798c6938adc9daaa5'}</td>\n",
       "    </tr>\n",
       "    <tr>\n",
       "      <th>3</th>\n",
       "      <td>offer received</td>\n",
       "      <td>8ec6ce2a7e7949b1bf142def7d0e0586</td>\n",
       "      <td>0</td>\n",
       "      <td>{'offer id': 'fafdcd668e3743c1bb461111dcafc2a4'}</td>\n",
       "    </tr>\n",
       "    <tr>\n",
       "      <th>4</th>\n",
       "      <td>offer received</td>\n",
       "      <td>68617ca6246f4fbc85e91a2a49552598</td>\n",
       "      <td>0</td>\n",
       "      <td>{'offer id': '4d5c57ea9a6940dd891ad53e9dbe8da0'}</td>\n",
       "    </tr>\n",
       "  </tbody>\n",
       "</table>\n",
       "</div>"
      ],
      "text/plain": [
       "            event                            person  time  \\\n",
       "0  offer received  78afa995795e4d85b5d9ceeca43f5fef     0   \n",
       "1  offer received  a03223e636434f42ac4c3df47e8bac43     0   \n",
       "2  offer received  e2127556f4f64592b11af22de27a7932     0   \n",
       "3  offer received  8ec6ce2a7e7949b1bf142def7d0e0586     0   \n",
       "4  offer received  68617ca6246f4fbc85e91a2a49552598     0   \n",
       "\n",
       "                                              value  \n",
       "0  {'offer id': '9b98b8c7a33c4b65b9aebfe6a799e6d9'}  \n",
       "1  {'offer id': '0b1e1539f2cc45b7b9fa7c272da2e1d7'}  \n",
       "2  {'offer id': '2906b810c7d4411798c6938adc9daaa5'}  \n",
       "3  {'offer id': 'fafdcd668e3743c1bb461111dcafc2a4'}  \n",
       "4  {'offer id': '4d5c57ea9a6940dd891ad53e9dbe8da0'}  "
      ]
     },
     "execution_count": 348,
     "metadata": {},
     "output_type": "execute_result"
    }
   ],
   "source": [
    "# Displaying data frame to get an idea of the data\n",
    "transcript.head()\n"
   ]
  },
  {
   "cell_type": "markdown",
   "metadata": {},
   "source": [
    "**Conclusion:**\n",
    "1. The following variables values will be investigated more detailed since they are relevant for this analysis:\n",
    " * \"time\"\n",
    "    * \"0\" values \n",
    " * \"event\"\n",
    "    * `string` values \n",
    "2. The variable \"person\" represents the **customer id**. \n",
    "3. The variable \"value\" includes a dictionary with the \n",
    " * key &rarr; **offer id**\n",
    " * value &rarr; **value of offer id**<br>\n",
    " \n",
    "Because it is possible that there are more keys existing, this variable will be checked in detail.\n",
    "\n",
    "4. Based on the included **offer id** and **value of offer id** this data frame can be used to merge the previous two data frames.\n",
    "5. The variable \"value\" should be converted into a column which only contains the **offer id**.\n"
   ]
  },
  {
   "cell_type": "code",
   "execution_count": 349,
   "metadata": {
    "scrolled": true
   },
   "outputs": [
    {
     "name": "stdout",
     "output_type": "stream",
     "text": [
      "<class 'pandas.core.frame.DataFrame'>\n",
      "Int64Index: 306534 entries, 0 to 306533\n",
      "Data columns (total 4 columns):\n",
      "event     306534 non-null object\n",
      "person    306534 non-null object\n",
      "time      306534 non-null int64\n",
      "value     306534 non-null object\n",
      "dtypes: int64(1), object(3)\n",
      "memory usage: 11.7+ MB\n"
     ]
    }
   ],
   "source": [
    "# Checking a concise summary of the dataframe\n",
    "transcript.info()\n"
   ]
  },
  {
   "cell_type": "code",
   "execution_count": 350,
   "metadata": {
    "scrolled": false
   },
   "outputs": [
    {
     "data": {
      "text/plain": [
       "event     object\n",
       "person    object\n",
       "time       int64\n",
       "value     object\n",
       "dtype: object"
      ]
     },
     "execution_count": 350,
     "metadata": {},
     "output_type": "execute_result"
    }
   ],
   "source": [
    "# Checking the dtype of the dataframe\n",
    "transcript.dtypes\n"
   ]
  },
  {
   "cell_type": "markdown",
   "metadata": {},
   "source": [
    "**Conclusion:** \n",
    "1. The data frame contains three different data types:\n",
    " * `object`\n",
    " * `int64`\n"
   ]
  },
  {
   "cell_type": "code",
   "execution_count": 351,
   "metadata": {},
   "outputs": [
    {
     "data": {
      "text/plain": [
       "event     0\n",
       "person    0\n",
       "time      0\n",
       "value     0\n",
       "dtype: int64"
      ]
     },
     "execution_count": 351,
     "metadata": {},
     "output_type": "execute_result"
    }
   ],
   "source": [
    "# Checking the number of missing values\n",
    "transcript.isnull().sum()\n"
   ]
  },
  {
   "cell_type": "markdown",
   "metadata": {},
   "source": [
    "**Conclusion:** \n",
    "The data frame does not contain any NaN values."
   ]
  },
  {
   "cell_type": "code",
   "execution_count": 352,
   "metadata": {},
   "outputs": [
    {
     "data": {
      "text/plain": [
       "0"
      ]
     },
     "execution_count": 352,
     "metadata": {},
     "output_type": "execute_result"
    }
   ],
   "source": [
    "# Checking for duplicate values\n",
    "transcript.columns.duplicated().sum()\n"
   ]
  },
  {
   "cell_type": "markdown",
   "metadata": {},
   "source": [
    "**Conclusion:** The data frame does not contain any duplicated values."
   ]
  },
  {
   "cell_type": "code",
   "execution_count": 353,
   "metadata": {},
   "outputs": [
    {
     "data": {
      "text/plain": [
       "17000"
      ]
     },
     "execution_count": 353,
     "metadata": {},
     "output_type": "execute_result"
    }
   ],
   "source": [
    "# Showing the unique values of the data frame\n",
    "#transcript.groupby('person').nunique().count()\n",
    "transcript['person'].nunique()\n"
   ]
  },
  {
   "cell_type": "markdown",
   "metadata": {},
   "source": [
    "**Conclusion:** The data frame variable 'person' (customer id) contains only *17,000* unique values. That is few compared to the total quantity of *306,534*. But it is the same amount of customer id´s as in the data frame \"profile\"."
   ]
  },
  {
   "cell_type": "code",
   "execution_count": 354,
   "metadata": {},
   "outputs": [
    {
     "name": "stdout",
     "output_type": "stream",
     "text": [
      "Count of \"person\" values when \"time\" = 0: 15561\n"
     ]
    }
   ],
   "source": [
    "# Checking and counting the amount of \"person\" values when \"time\" = 0\n",
    "df_0_time  = transcript[transcript['time'] == 0]['person'].count()\n",
    "print('Count of \"person\" values when \"time\" = 0: {}'.format(df_0_time))\n"
   ]
  },
  {
   "cell_type": "markdown",
   "metadata": {},
   "source": [
    "**Conclusion:** The data frame, filtered by the variable 'time' = 0 contains 15,561 \"person\" values."
   ]
  },
  {
   "cell_type": "code",
   "execution_count": 355,
   "metadata": {},
   "outputs": [],
   "source": [
    "# Checking the unique values of the variable \"event\"\n",
    "list_event = transcript['event'].unique().tolist()\n"
   ]
  },
  {
   "cell_type": "markdown",
   "metadata": {},
   "source": [
    "**Conclusion:** The data frame variable \"event\" contains the following values:\n",
    " * *'offer received'*\n",
    " * *'offer viewed'*\n",
    " * *'transaction'*\n",
    " * *'offer completed'*\n",
    " "
   ]
  },
  {
   "cell_type": "code",
   "execution_count": 356,
   "metadata": {
    "scrolled": true
   },
   "outputs": [
    {
     "data": {
      "text/plain": [
       "289308                                     {'amount': 9.09}\n",
       "154915     {'offer id': '5a8bc65990b245e5a138643cd4eb9837'}\n",
       "281376     {'offer id': '2906b810c7d4411798c6938adc9daaa5'}\n",
       "204032     {'offer id': '4d5c57ea9a6940dd891ad53e9dbe8da0'}\n",
       "7796       {'offer id': 'f19421c1d4aa40978ebb69ca19b0e20d'}\n",
       "241619                                     {'amount': 2.87}\n",
       "100942                                    {'amount': 31.97}\n",
       "88985                                      {'amount': 2.87}\n",
       "74486     {'offer_id': '4d5c57ea9a6940dd891ad53e9dbe8da0...\n",
       "Name: value, dtype: object"
      ]
     },
     "execution_count": 356,
     "metadata": {},
     "output_type": "execute_result"
    }
   ],
   "source": [
    "# Checking the keys and values of the variable \"value\" in a sample.\n",
    "list_value = transcript['value']\n",
    "list_value.sample(9)\n"
   ]
  },
  {
   "cell_type": "code",
   "execution_count": 357,
   "metadata": {},
   "outputs": [],
   "source": [
    "# Function: Defining function to create a list of keys existig in a dictionary in a variable (column).\n",
    "def f_create_key_list(df, col_name):\n",
    "    '''\n",
    "    INPUT:\n",
    "    df - Pandas data frame with dictionary to create new columns.\n",
    "    col_name - Dictionary of keys (strings).\n",
    "    \n",
    "    OUTPUT:\n",
    "    dict_keys - New list of the following characteristics:\n",
    "            1. Contains all keys of an dictionary in a list. \n",
    "    Description:\n",
    "    Creates a list of keys existig in a dictionary in a variable (column).\n",
    "    '''\n",
    "    dict_keys = []\n",
    "    for index, row in df.iterrows():\n",
    "        for key in row[col_name]:\n",
    "            if key in dict_keys:\n",
    "                continue\n",
    "            else:\n",
    "                dict_keys.append(key)\n",
    "  \n",
    "    return dict_keys\n"
   ]
  },
  {
   "cell_type": "markdown",
   "metadata": {},
   "source": [
    "**Result:** A function is created to create a list of keys existig in a dictionary in a variable (column)."
   ]
  },
  {
   "cell_type": "code",
   "execution_count": 358,
   "metadata": {},
   "outputs": [
    {
     "data": {
      "text/plain": [
       "['offer id', 'amount', 'offer_id', 'reward']"
      ]
     },
     "execution_count": 358,
     "metadata": {},
     "output_type": "execute_result"
    }
   ],
   "source": [
    "# Using the function: f_create_dict_df\n",
    "f_create_key_list(transcript, 'value')\n"
   ]
  },
  {
   "cell_type": "markdown",
   "metadata": {},
   "source": [
    "**Conclusion:** The variable \"value\" cointains more then one key and different values:\n",
    " * key &rarr; 'offer id'\n",
    " * key &rarr; 'offer_id'\n",
    " * key &rarr; 'amount'\n",
    " * key &rarr; 'reward'"
   ]
  },
  {
   "cell_type": "markdown",
   "metadata": {},
   "source": [
    "### Transcript (transaction records) - Cleaning"
   ]
  },
  {
   "cell_type": "markdown",
   "metadata": {},
   "source": [
    "**Tasks:**\n",
    "1. Renaming the variable \"person\"in \"customer_id\".\n",
    "2. Splitting the variable \"event\" in categorical variables based on its values.\n",
    "3. Converting the variable \"value\" into one column each key.\n",
    "4. Combining the 2 offer id variables including their values in 1 variable \"offer_id\"."
   ]
  },
  {
   "cell_type": "code",
   "execution_count": 359,
   "metadata": {},
   "outputs": [],
   "source": [
    "# Copying the data frame\n",
    "transcript_clean = transcript.copy()\n"
   ]
  },
  {
   "cell_type": "markdown",
   "metadata": {},
   "source": [
    "**Result:** The data frame is copied."
   ]
  },
  {
   "cell_type": "markdown",
   "metadata": {},
   "source": [
    "### Renaming the variable \"person\"in \"customer_id\"."
   ]
  },
  {
   "cell_type": "markdown",
   "metadata": {},
   "source": [
    "#### Code"
   ]
  },
  {
   "cell_type": "code",
   "execution_count": 360,
   "metadata": {},
   "outputs": [],
   "source": [
    "# Renaming the column \"id\"\n",
    "transcript_clean.rename(columns={'person':'customer_id'},inplace=True)\n"
   ]
  },
  {
   "cell_type": "markdown",
   "metadata": {},
   "source": [
    "#### Test"
   ]
  },
  {
   "cell_type": "code",
   "execution_count": 361,
   "metadata": {
    "scrolled": true
   },
   "outputs": [
    {
     "data": {
      "text/html": [
       "<div>\n",
       "<style scoped>\n",
       "    .dataframe tbody tr th:only-of-type {\n",
       "        vertical-align: middle;\n",
       "    }\n",
       "\n",
       "    .dataframe tbody tr th {\n",
       "        vertical-align: top;\n",
       "    }\n",
       "\n",
       "    .dataframe thead th {\n",
       "        text-align: right;\n",
       "    }\n",
       "</style>\n",
       "<table border=\"1\" class=\"dataframe\">\n",
       "  <thead>\n",
       "    <tr style=\"text-align: right;\">\n",
       "      <th></th>\n",
       "      <th>event</th>\n",
       "      <th>customer_id</th>\n",
       "      <th>time</th>\n",
       "      <th>value</th>\n",
       "    </tr>\n",
       "  </thead>\n",
       "  <tbody>\n",
       "    <tr>\n",
       "      <th>0</th>\n",
       "      <td>offer received</td>\n",
       "      <td>78afa995795e4d85b5d9ceeca43f5fef</td>\n",
       "      <td>0</td>\n",
       "      <td>{'offer id': '9b98b8c7a33c4b65b9aebfe6a799e6d9'}</td>\n",
       "    </tr>\n",
       "    <tr>\n",
       "      <th>1</th>\n",
       "      <td>offer received</td>\n",
       "      <td>a03223e636434f42ac4c3df47e8bac43</td>\n",
       "      <td>0</td>\n",
       "      <td>{'offer id': '0b1e1539f2cc45b7b9fa7c272da2e1d7'}</td>\n",
       "    </tr>\n",
       "    <tr>\n",
       "      <th>2</th>\n",
       "      <td>offer received</td>\n",
       "      <td>e2127556f4f64592b11af22de27a7932</td>\n",
       "      <td>0</td>\n",
       "      <td>{'offer id': '2906b810c7d4411798c6938adc9daaa5'}</td>\n",
       "    </tr>\n",
       "    <tr>\n",
       "      <th>3</th>\n",
       "      <td>offer received</td>\n",
       "      <td>8ec6ce2a7e7949b1bf142def7d0e0586</td>\n",
       "      <td>0</td>\n",
       "      <td>{'offer id': 'fafdcd668e3743c1bb461111dcafc2a4'}</td>\n",
       "    </tr>\n",
       "    <tr>\n",
       "      <th>4</th>\n",
       "      <td>offer received</td>\n",
       "      <td>68617ca6246f4fbc85e91a2a49552598</td>\n",
       "      <td>0</td>\n",
       "      <td>{'offer id': '4d5c57ea9a6940dd891ad53e9dbe8da0'}</td>\n",
       "    </tr>\n",
       "  </tbody>\n",
       "</table>\n",
       "</div>"
      ],
      "text/plain": [
       "            event                       customer_id  time  \\\n",
       "0  offer received  78afa995795e4d85b5d9ceeca43f5fef     0   \n",
       "1  offer received  a03223e636434f42ac4c3df47e8bac43     0   \n",
       "2  offer received  e2127556f4f64592b11af22de27a7932     0   \n",
       "3  offer received  8ec6ce2a7e7949b1bf142def7d0e0586     0   \n",
       "4  offer received  68617ca6246f4fbc85e91a2a49552598     0   \n",
       "\n",
       "                                              value  \n",
       "0  {'offer id': '9b98b8c7a33c4b65b9aebfe6a799e6d9'}  \n",
       "1  {'offer id': '0b1e1539f2cc45b7b9fa7c272da2e1d7'}  \n",
       "2  {'offer id': '2906b810c7d4411798c6938adc9daaa5'}  \n",
       "3  {'offer id': 'fafdcd668e3743c1bb461111dcafc2a4'}  \n",
       "4  {'offer id': '4d5c57ea9a6940dd891ad53e9dbe8da0'}  "
      ]
     },
     "execution_count": 361,
     "metadata": {},
     "output_type": "execute_result"
    }
   ],
   "source": [
    "# Displaying the new data frame to check the changes\n",
    "transcript_clean.head()\n"
   ]
  },
  {
   "cell_type": "markdown",
   "metadata": {},
   "source": [
    "**Result:** The column \"person\" is renamed in \"customer_id\"."
   ]
  },
  {
   "cell_type": "markdown",
   "metadata": {},
   "source": [
    "### Splitting the variable \"event\" in categorical variables based on its values."
   ]
  },
  {
   "cell_type": "markdown",
   "metadata": {},
   "source": [
    "#### Code"
   ]
  },
  {
   "cell_type": "code",
   "execution_count": 362,
   "metadata": {},
   "outputs": [],
   "source": [
    "# Using the function: f_create_dummy_df\n",
    "transcript_clean = f_create_dummy_df(transcript_clean, 'event', dummy_na=False)\n"
   ]
  },
  {
   "cell_type": "code",
   "execution_count": 363,
   "metadata": {},
   "outputs": [
    {
     "name": "stdout",
     "output_type": "stream",
     "text": [
      "<class 'pandas.core.frame.DataFrame'>\n",
      "Int64Index: 306534 entries, 0 to 306533\n",
      "Data columns (total 7 columns):\n",
      "customer_id              306534 non-null object\n",
      "time                     306534 non-null int64\n",
      "value                    306534 non-null object\n",
      "event_offer_completed    306534 non-null int64\n",
      "event_offer_received     306534 non-null int64\n",
      "event_offer_viewed       306534 non-null int64\n",
      "event_transaction        306534 non-null int64\n",
      "dtypes: int64(5), object(2)\n",
      "memory usage: 28.7+ MB\n"
     ]
    }
   ],
   "source": [
    "# Checking a concise summary of the dataframe\n",
    "transcript_clean.info()\n"
   ]
  },
  {
   "cell_type": "markdown",
   "metadata": {},
   "source": [
    "#### Test"
   ]
  },
  {
   "cell_type": "code",
   "execution_count": 364,
   "metadata": {
    "scrolled": true
   },
   "outputs": [
    {
     "data": {
      "text/html": [
       "<div>\n",
       "<style scoped>\n",
       "    .dataframe tbody tr th:only-of-type {\n",
       "        vertical-align: middle;\n",
       "    }\n",
       "\n",
       "    .dataframe tbody tr th {\n",
       "        vertical-align: top;\n",
       "    }\n",
       "\n",
       "    .dataframe thead th {\n",
       "        text-align: right;\n",
       "    }\n",
       "</style>\n",
       "<table border=\"1\" class=\"dataframe\">\n",
       "  <thead>\n",
       "    <tr style=\"text-align: right;\">\n",
       "      <th></th>\n",
       "      <th>customer_id</th>\n",
       "      <th>time</th>\n",
       "      <th>value</th>\n",
       "      <th>event_offer_completed</th>\n",
       "      <th>event_offer_received</th>\n",
       "      <th>event_offer_viewed</th>\n",
       "      <th>event_transaction</th>\n",
       "    </tr>\n",
       "  </thead>\n",
       "  <tbody>\n",
       "    <tr>\n",
       "      <th>0</th>\n",
       "      <td>78afa995795e4d85b5d9ceeca43f5fef</td>\n",
       "      <td>0</td>\n",
       "      <td>{'offer id': '9b98b8c7a33c4b65b9aebfe6a799e6d9'}</td>\n",
       "      <td>0</td>\n",
       "      <td>1</td>\n",
       "      <td>0</td>\n",
       "      <td>0</td>\n",
       "    </tr>\n",
       "    <tr>\n",
       "      <th>1</th>\n",
       "      <td>a03223e636434f42ac4c3df47e8bac43</td>\n",
       "      <td>0</td>\n",
       "      <td>{'offer id': '0b1e1539f2cc45b7b9fa7c272da2e1d7'}</td>\n",
       "      <td>0</td>\n",
       "      <td>1</td>\n",
       "      <td>0</td>\n",
       "      <td>0</td>\n",
       "    </tr>\n",
       "    <tr>\n",
       "      <th>2</th>\n",
       "      <td>e2127556f4f64592b11af22de27a7932</td>\n",
       "      <td>0</td>\n",
       "      <td>{'offer id': '2906b810c7d4411798c6938adc9daaa5'}</td>\n",
       "      <td>0</td>\n",
       "      <td>1</td>\n",
       "      <td>0</td>\n",
       "      <td>0</td>\n",
       "    </tr>\n",
       "    <tr>\n",
       "      <th>3</th>\n",
       "      <td>8ec6ce2a7e7949b1bf142def7d0e0586</td>\n",
       "      <td>0</td>\n",
       "      <td>{'offer id': 'fafdcd668e3743c1bb461111dcafc2a4'}</td>\n",
       "      <td>0</td>\n",
       "      <td>1</td>\n",
       "      <td>0</td>\n",
       "      <td>0</td>\n",
       "    </tr>\n",
       "    <tr>\n",
       "      <th>4</th>\n",
       "      <td>68617ca6246f4fbc85e91a2a49552598</td>\n",
       "      <td>0</td>\n",
       "      <td>{'offer id': '4d5c57ea9a6940dd891ad53e9dbe8da0'}</td>\n",
       "      <td>0</td>\n",
       "      <td>1</td>\n",
       "      <td>0</td>\n",
       "      <td>0</td>\n",
       "    </tr>\n",
       "  </tbody>\n",
       "</table>\n",
       "</div>"
      ],
      "text/plain": [
       "                        customer_id  time  \\\n",
       "0  78afa995795e4d85b5d9ceeca43f5fef     0   \n",
       "1  a03223e636434f42ac4c3df47e8bac43     0   \n",
       "2  e2127556f4f64592b11af22de27a7932     0   \n",
       "3  8ec6ce2a7e7949b1bf142def7d0e0586     0   \n",
       "4  68617ca6246f4fbc85e91a2a49552598     0   \n",
       "\n",
       "                                              value  event_offer_completed  \\\n",
       "0  {'offer id': '9b98b8c7a33c4b65b9aebfe6a799e6d9'}                      0   \n",
       "1  {'offer id': '0b1e1539f2cc45b7b9fa7c272da2e1d7'}                      0   \n",
       "2  {'offer id': '2906b810c7d4411798c6938adc9daaa5'}                      0   \n",
       "3  {'offer id': 'fafdcd668e3743c1bb461111dcafc2a4'}                      0   \n",
       "4  {'offer id': '4d5c57ea9a6940dd891ad53e9dbe8da0'}                      0   \n",
       "\n",
       "   event_offer_received  event_offer_viewed  event_transaction  \n",
       "0                     1                   0                  0  \n",
       "1                     1                   0                  0  \n",
       "2                     1                   0                  0  \n",
       "3                     1                   0                  0  \n",
       "4                     1                   0                  0  "
      ]
     },
     "execution_count": 364,
     "metadata": {},
     "output_type": "execute_result"
    }
   ],
   "source": [
    "# Displaying the new data frame to check the changes\n",
    "transcript_clean.head()\n"
   ]
  },
  {
   "cell_type": "markdown",
   "metadata": {},
   "source": [
    "**Result:** The variable \"event\" is split in categorical variables based on its values."
   ]
  },
  {
   "cell_type": "markdown",
   "metadata": {},
   "source": [
    "### Converting the variable \"value\" into one column each key."
   ]
  },
  {
   "cell_type": "markdown",
   "metadata": {},
   "source": [
    "#### Code"
   ]
  },
  {
   "cell_type": "code",
   "execution_count": 365,
   "metadata": {},
   "outputs": [],
   "source": [
    "# Function: Defining function to create the columns for each of the dictionary keys.\n",
    "def f_create_dict_df(df, col_name):\n",
    "    '''\n",
    "    INPUT:\n",
    "    df - Pandas data frame with dictionary to create new columns.\n",
    "    col_name - Dictionary of keys (strings).\n",
    "    \n",
    "    OUTPUT:\n",
    "    df - New dataframe of the following characteristics:\n",
    "            1. Contains all keys as columns.\n",
    "            2. Removes the original columns in cat_cols (all).\n",
    "            3. Create column for each key in cat_cols dictionary.\n",
    "            4. Prefix of the column name: Underscore (_) for separating. \n",
    "    Description:\n",
    "    Converts the dictionary keys of an variable into separate columns.\n",
    "    '''\n",
    "    df= pd.concat([df.drop(col_name, axis=1), df[col_name].apply(pd.Series).add_prefix('_').add_prefix(col_name)],\n",
    "                  axis=1)\n",
    "  \n",
    "    return df\n"
   ]
  },
  {
   "cell_type": "markdown",
   "metadata": {},
   "source": [
    "**Result:** A function is created to convert the dictionary keys of an variable into separate columns."
   ]
  },
  {
   "cell_type": "code",
   "execution_count": 366,
   "metadata": {},
   "outputs": [],
   "source": [
    "# Using the function: f_create_dict_df\n",
    "transcript_clean = f_create_dict_df(transcript_clean, 'value')\n"
   ]
  },
  {
   "cell_type": "markdown",
   "metadata": {},
   "source": [
    "**Result:** The function is used on this data frame."
   ]
  },
  {
   "cell_type": "markdown",
   "metadata": {},
   "source": [
    "#### Test"
   ]
  },
  {
   "cell_type": "code",
   "execution_count": 367,
   "metadata": {
    "scrolled": true
   },
   "outputs": [
    {
     "data": {
      "text/html": [
       "<div>\n",
       "<style scoped>\n",
       "    .dataframe tbody tr th:only-of-type {\n",
       "        vertical-align: middle;\n",
       "    }\n",
       "\n",
       "    .dataframe tbody tr th {\n",
       "        vertical-align: top;\n",
       "    }\n",
       "\n",
       "    .dataframe thead th {\n",
       "        text-align: right;\n",
       "    }\n",
       "</style>\n",
       "<table border=\"1\" class=\"dataframe\">\n",
       "  <thead>\n",
       "    <tr style=\"text-align: right;\">\n",
       "      <th></th>\n",
       "      <th>customer_id</th>\n",
       "      <th>time</th>\n",
       "      <th>event_offer_completed</th>\n",
       "      <th>event_offer_received</th>\n",
       "      <th>event_offer_viewed</th>\n",
       "      <th>event_transaction</th>\n",
       "      <th>value_amount</th>\n",
       "      <th>value_offer id</th>\n",
       "      <th>value_offer_id</th>\n",
       "      <th>value_reward</th>\n",
       "    </tr>\n",
       "  </thead>\n",
       "  <tbody>\n",
       "    <tr>\n",
       "      <th>0</th>\n",
       "      <td>78afa995795e4d85b5d9ceeca43f5fef</td>\n",
       "      <td>0</td>\n",
       "      <td>0</td>\n",
       "      <td>1</td>\n",
       "      <td>0</td>\n",
       "      <td>0</td>\n",
       "      <td>NaN</td>\n",
       "      <td>9b98b8c7a33c4b65b9aebfe6a799e6d9</td>\n",
       "      <td>NaN</td>\n",
       "      <td>NaN</td>\n",
       "    </tr>\n",
       "    <tr>\n",
       "      <th>1</th>\n",
       "      <td>a03223e636434f42ac4c3df47e8bac43</td>\n",
       "      <td>0</td>\n",
       "      <td>0</td>\n",
       "      <td>1</td>\n",
       "      <td>0</td>\n",
       "      <td>0</td>\n",
       "      <td>NaN</td>\n",
       "      <td>0b1e1539f2cc45b7b9fa7c272da2e1d7</td>\n",
       "      <td>NaN</td>\n",
       "      <td>NaN</td>\n",
       "    </tr>\n",
       "    <tr>\n",
       "      <th>2</th>\n",
       "      <td>e2127556f4f64592b11af22de27a7932</td>\n",
       "      <td>0</td>\n",
       "      <td>0</td>\n",
       "      <td>1</td>\n",
       "      <td>0</td>\n",
       "      <td>0</td>\n",
       "      <td>NaN</td>\n",
       "      <td>2906b810c7d4411798c6938adc9daaa5</td>\n",
       "      <td>NaN</td>\n",
       "      <td>NaN</td>\n",
       "    </tr>\n",
       "    <tr>\n",
       "      <th>3</th>\n",
       "      <td>8ec6ce2a7e7949b1bf142def7d0e0586</td>\n",
       "      <td>0</td>\n",
       "      <td>0</td>\n",
       "      <td>1</td>\n",
       "      <td>0</td>\n",
       "      <td>0</td>\n",
       "      <td>NaN</td>\n",
       "      <td>fafdcd668e3743c1bb461111dcafc2a4</td>\n",
       "      <td>NaN</td>\n",
       "      <td>NaN</td>\n",
       "    </tr>\n",
       "    <tr>\n",
       "      <th>4</th>\n",
       "      <td>68617ca6246f4fbc85e91a2a49552598</td>\n",
       "      <td>0</td>\n",
       "      <td>0</td>\n",
       "      <td>1</td>\n",
       "      <td>0</td>\n",
       "      <td>0</td>\n",
       "      <td>NaN</td>\n",
       "      <td>4d5c57ea9a6940dd891ad53e9dbe8da0</td>\n",
       "      <td>NaN</td>\n",
       "      <td>NaN</td>\n",
       "    </tr>\n",
       "  </tbody>\n",
       "</table>\n",
       "</div>"
      ],
      "text/plain": [
       "                        customer_id  time  event_offer_completed  \\\n",
       "0  78afa995795e4d85b5d9ceeca43f5fef     0                      0   \n",
       "1  a03223e636434f42ac4c3df47e8bac43     0                      0   \n",
       "2  e2127556f4f64592b11af22de27a7932     0                      0   \n",
       "3  8ec6ce2a7e7949b1bf142def7d0e0586     0                      0   \n",
       "4  68617ca6246f4fbc85e91a2a49552598     0                      0   \n",
       "\n",
       "   event_offer_received  event_offer_viewed  event_transaction  value_amount  \\\n",
       "0                     1                   0                  0           NaN   \n",
       "1                     1                   0                  0           NaN   \n",
       "2                     1                   0                  0           NaN   \n",
       "3                     1                   0                  0           NaN   \n",
       "4                     1                   0                  0           NaN   \n",
       "\n",
       "                     value_offer id value_offer_id  value_reward  \n",
       "0  9b98b8c7a33c4b65b9aebfe6a799e6d9            NaN           NaN  \n",
       "1  0b1e1539f2cc45b7b9fa7c272da2e1d7            NaN           NaN  \n",
       "2  2906b810c7d4411798c6938adc9daaa5            NaN           NaN  \n",
       "3  fafdcd668e3743c1bb461111dcafc2a4            NaN           NaN  \n",
       "4  4d5c57ea9a6940dd891ad53e9dbe8da0            NaN           NaN  "
      ]
     },
     "execution_count": 367,
     "metadata": {},
     "output_type": "execute_result"
    }
   ],
   "source": [
    "# Displaying the new data frame to check the changes\n",
    "transcript_clean.head()\n"
   ]
  },
  {
   "cell_type": "code",
   "execution_count": 368,
   "metadata": {},
   "outputs": [
    {
     "name": "stdout",
     "output_type": "stream",
     "text": [
      "<class 'pandas.core.frame.DataFrame'>\n",
      "Int64Index: 306534 entries, 0 to 306533\n",
      "Data columns (total 10 columns):\n",
      "customer_id              306534 non-null object\n",
      "time                     306534 non-null int64\n",
      "event_offer_completed    306534 non-null int64\n",
      "event_offer_received     306534 non-null int64\n",
      "event_offer_viewed       306534 non-null int64\n",
      "event_transaction        306534 non-null int64\n",
      "value_amount             138953 non-null float64\n",
      "value_offer id           134002 non-null object\n",
      "value_offer_id           33579 non-null object\n",
      "value_reward             33579 non-null float64\n",
      "dtypes: float64(2), int64(5), object(3)\n",
      "memory usage: 35.7+ MB\n"
     ]
    }
   ],
   "source": [
    "# Checking a concise summary of the dataframe\n",
    "transcript_clean.info()\n"
   ]
  },
  {
   "cell_type": "markdown",
   "metadata": {},
   "source": [
    "**Result:** After processing the function there are 2 variables (dictionary keys of column \"value\") existing in the data frame which will be combined in the next step:\n",
    " * \"value_offer id\"\n",
    " * \"value_offer_id\"\n",
    " "
   ]
  },
  {
   "cell_type": "markdown",
   "metadata": {},
   "source": [
    "### Combining the 2 offer id variables including their values in 1 variable \"offer_id\"."
   ]
  },
  {
   "cell_type": "markdown",
   "metadata": {},
   "source": [
    "#### Code"
   ]
  },
  {
   "cell_type": "code",
   "execution_count": 369,
   "metadata": {},
   "outputs": [],
   "source": [
    "# Function: Defining function to combine 2 variables in one column.\n",
    "def f_create_var_2to1_df(df, col_new, col_name1, col_name2):\n",
    "    '''\n",
    "    INPUT:\n",
    "    df - Pandas data frame including the necessary columns.\n",
    "    col_name1 - First variable name.\n",
    "    col_name2 - Second variable name.\n",
    "    col_new - New variable name (combined column)\n",
    "    \n",
    "    OUTPUT:\n",
    "    df - New dataframe of the following characteristics:\n",
    "            1. Checks if col_new (string) is already existing in col_name1 and col_name2\n",
    "            2. Combines 2 variables into 1 variable.\n",
    "            3. Removes the original columns in cat_name1 and cat_name2 (all).\n",
    "    Description:\n",
    "    Combines 2 variables in one column.\n",
    "    '''\n",
    "    # Checking if col_new (string) is already existing in col_name1 and col_name2\n",
    "    if col_new == col_name1:\n",
    "        df.rename(columns={col_name1:col_new + '_1'},inplace=True) # Renaming the identical variable name\n",
    "        col_name1 = col_new + '_1'\n",
    "        pass\n",
    "    elif col_new == col_name2:\n",
    "        df.rename(columns={col_name2:col_new + '_2'},inplace=True) # Renaming the identical variable name\n",
    "        col_name2 = col_new + '_2'\n",
    "        pass\n",
    "    else:\n",
    "        pass\n",
    "        \n",
    "    # Combining the 2 variables into 1 varible\n",
    "    df[col_new] = np.where(df[col_name1].isnull() & df[col_name2].notnull(), df[col_name2],df[col_name1])\n",
    "    \n",
    "    # Dropping not needed columns.\n",
    "    df = df.drop([col_name1, col_name2], axis=1)\n",
    "    \n",
    "    return df\n"
   ]
  },
  {
   "cell_type": "markdown",
   "metadata": {},
   "source": [
    "**Result:** A function is created to combine 2 variables in one column."
   ]
  },
  {
   "cell_type": "code",
   "execution_count": 370,
   "metadata": {},
   "outputs": [],
   "source": [
    "# Using the function: f_create_var_2to1_df\n",
    "transcript_clean = f_create_var_2to1_df(transcript_clean, 'offer_id', 'value_offer id', 'value_offer_id')\n"
   ]
  },
  {
   "cell_type": "markdown",
   "metadata": {},
   "source": [
    "**Result:** The function is used on this data frame."
   ]
  },
  {
   "cell_type": "markdown",
   "metadata": {},
   "source": [
    "#### Test"
   ]
  },
  {
   "cell_type": "code",
   "execution_count": 371,
   "metadata": {
    "scrolled": true
   },
   "outputs": [
    {
     "data": {
      "text/html": [
       "<div>\n",
       "<style scoped>\n",
       "    .dataframe tbody tr th:only-of-type {\n",
       "        vertical-align: middle;\n",
       "    }\n",
       "\n",
       "    .dataframe tbody tr th {\n",
       "        vertical-align: top;\n",
       "    }\n",
       "\n",
       "    .dataframe thead th {\n",
       "        text-align: right;\n",
       "    }\n",
       "</style>\n",
       "<table border=\"1\" class=\"dataframe\">\n",
       "  <thead>\n",
       "    <tr style=\"text-align: right;\">\n",
       "      <th></th>\n",
       "      <th>customer_id</th>\n",
       "      <th>time</th>\n",
       "      <th>event_offer_completed</th>\n",
       "      <th>event_offer_received</th>\n",
       "      <th>event_offer_viewed</th>\n",
       "      <th>event_transaction</th>\n",
       "      <th>value_amount</th>\n",
       "      <th>value_reward</th>\n",
       "      <th>offer_id</th>\n",
       "    </tr>\n",
       "  </thead>\n",
       "  <tbody>\n",
       "    <tr>\n",
       "      <th>0</th>\n",
       "      <td>78afa995795e4d85b5d9ceeca43f5fef</td>\n",
       "      <td>0</td>\n",
       "      <td>0</td>\n",
       "      <td>1</td>\n",
       "      <td>0</td>\n",
       "      <td>0</td>\n",
       "      <td>NaN</td>\n",
       "      <td>NaN</td>\n",
       "      <td>9b98b8c7a33c4b65b9aebfe6a799e6d9</td>\n",
       "    </tr>\n",
       "    <tr>\n",
       "      <th>1</th>\n",
       "      <td>a03223e636434f42ac4c3df47e8bac43</td>\n",
       "      <td>0</td>\n",
       "      <td>0</td>\n",
       "      <td>1</td>\n",
       "      <td>0</td>\n",
       "      <td>0</td>\n",
       "      <td>NaN</td>\n",
       "      <td>NaN</td>\n",
       "      <td>0b1e1539f2cc45b7b9fa7c272da2e1d7</td>\n",
       "    </tr>\n",
       "    <tr>\n",
       "      <th>2</th>\n",
       "      <td>e2127556f4f64592b11af22de27a7932</td>\n",
       "      <td>0</td>\n",
       "      <td>0</td>\n",
       "      <td>1</td>\n",
       "      <td>0</td>\n",
       "      <td>0</td>\n",
       "      <td>NaN</td>\n",
       "      <td>NaN</td>\n",
       "      <td>2906b810c7d4411798c6938adc9daaa5</td>\n",
       "    </tr>\n",
       "    <tr>\n",
       "      <th>3</th>\n",
       "      <td>8ec6ce2a7e7949b1bf142def7d0e0586</td>\n",
       "      <td>0</td>\n",
       "      <td>0</td>\n",
       "      <td>1</td>\n",
       "      <td>0</td>\n",
       "      <td>0</td>\n",
       "      <td>NaN</td>\n",
       "      <td>NaN</td>\n",
       "      <td>fafdcd668e3743c1bb461111dcafc2a4</td>\n",
       "    </tr>\n",
       "    <tr>\n",
       "      <th>4</th>\n",
       "      <td>68617ca6246f4fbc85e91a2a49552598</td>\n",
       "      <td>0</td>\n",
       "      <td>0</td>\n",
       "      <td>1</td>\n",
       "      <td>0</td>\n",
       "      <td>0</td>\n",
       "      <td>NaN</td>\n",
       "      <td>NaN</td>\n",
       "      <td>4d5c57ea9a6940dd891ad53e9dbe8da0</td>\n",
       "    </tr>\n",
       "  </tbody>\n",
       "</table>\n",
       "</div>"
      ],
      "text/plain": [
       "                        customer_id  time  event_offer_completed  \\\n",
       "0  78afa995795e4d85b5d9ceeca43f5fef     0                      0   \n",
       "1  a03223e636434f42ac4c3df47e8bac43     0                      0   \n",
       "2  e2127556f4f64592b11af22de27a7932     0                      0   \n",
       "3  8ec6ce2a7e7949b1bf142def7d0e0586     0                      0   \n",
       "4  68617ca6246f4fbc85e91a2a49552598     0                      0   \n",
       "\n",
       "   event_offer_received  event_offer_viewed  event_transaction  value_amount  \\\n",
       "0                     1                   0                  0           NaN   \n",
       "1                     1                   0                  0           NaN   \n",
       "2                     1                   0                  0           NaN   \n",
       "3                     1                   0                  0           NaN   \n",
       "4                     1                   0                  0           NaN   \n",
       "\n",
       "   value_reward                          offer_id  \n",
       "0           NaN  9b98b8c7a33c4b65b9aebfe6a799e6d9  \n",
       "1           NaN  0b1e1539f2cc45b7b9fa7c272da2e1d7  \n",
       "2           NaN  2906b810c7d4411798c6938adc9daaa5  \n",
       "3           NaN  fafdcd668e3743c1bb461111dcafc2a4  \n",
       "4           NaN  4d5c57ea9a6940dd891ad53e9dbe8da0  "
      ]
     },
     "execution_count": 371,
     "metadata": {},
     "output_type": "execute_result"
    }
   ],
   "source": [
    "# Displaying the new data frame to check the changes\n",
    "transcript_clean.head()\n"
   ]
  },
  {
   "cell_type": "markdown",
   "metadata": {},
   "source": [
    "**Result:** \n",
    "* The keys of the variable \"value\" are converted into separate columns.\n",
    "* The 2 offer id variables including their values are combined into 1 variable \"offer_id\"."
   ]
  },
  {
   "cell_type": "code",
   "execution_count": 372,
   "metadata": {
    "scrolled": true
   },
   "outputs": [
    {
     "name": "stdout",
     "output_type": "stream",
     "text": [
      "<class 'pandas.core.frame.DataFrame'>\n",
      "Int64Index: 306534 entries, 0 to 306533\n",
      "Data columns (total 9 columns):\n",
      "customer_id              306534 non-null object\n",
      "time                     306534 non-null int64\n",
      "event_offer_completed    306534 non-null int64\n",
      "event_offer_received     306534 non-null int64\n",
      "event_offer_viewed       306534 non-null int64\n",
      "event_transaction        306534 non-null int64\n",
      "value_amount             138953 non-null float64\n",
      "value_reward             33579 non-null float64\n",
      "offer_id                 167581 non-null object\n",
      "dtypes: float64(2), int64(5), object(2)\n",
      "memory usage: 33.4+ MB\n"
     ]
    }
   ],
   "source": [
    "# Checking a concise summary of the dataframe\n",
    "transcript_clean.info()\n"
   ]
  },
  {
   "cell_type": "markdown",
   "metadata": {},
   "source": [
    "**Result:** \n",
    "1. The new variable \"offer_id\" contains all values from the previous 2 offer id variables.\n",
    "2. The variables \"value_amount\" and \"value_reward\"are containing a lot of NaN values."
   ]
  },
  {
   "cell_type": "code",
   "execution_count": 373,
   "metadata": {
    "scrolled": true
   },
   "outputs": [
    {
     "data": {
      "text/plain": [
       "(306534, 9)"
      ]
     },
     "execution_count": 373,
     "metadata": {},
     "output_type": "execute_result"
    }
   ],
   "source": [
    "# Checking the shape of the data frame\n",
    "transcript_clean.shape\n"
   ]
  },
  {
   "cell_type": "markdown",
   "metadata": {},
   "source": [
    "**Result:** The data frame consits of *9* columns and *306,534* rows."
   ]
  },
  {
   "cell_type": "markdown",
   "metadata": {},
   "source": [
    "<a id='sec2_114'></a>\n",
    "### Merge of the Data Frames\n",
    "<div style=\"text-align: right\"><right><a href=\"#top\">Table of Content</a></div>"
   ]
  },
  {
   "cell_type": "markdown",
   "metadata": {},
   "source": [
    "### Merge of \"transcript_clean\" and \"portfolio_clean\""
   ]
  },
  {
   "cell_type": "code",
   "execution_count": 374,
   "metadata": {
    "scrolled": true
   },
   "outputs": [
    {
     "data": {
      "text/plain": [
       "(306534, 9)"
      ]
     },
     "execution_count": 374,
     "metadata": {},
     "output_type": "execute_result"
    }
   ],
   "source": [
    "# Checking the shape of the data frame\n",
    "transcript_clean.shape\n"
   ]
  },
  {
   "cell_type": "code",
   "execution_count": 375,
   "metadata": {
    "scrolled": true
   },
   "outputs": [
    {
     "data": {
      "text/plain": [
       "(10, 9)"
      ]
     },
     "execution_count": 375,
     "metadata": {},
     "output_type": "execute_result"
    }
   ],
   "source": [
    "# Checking the shape of the data frame\n",
    "portfolio_clean.shape\n"
   ]
  },
  {
   "cell_type": "code",
   "execution_count": 376,
   "metadata": {},
   "outputs": [
    {
     "data": {
      "text/html": [
       "<div>\n",
       "<style scoped>\n",
       "    .dataframe tbody tr th:only-of-type {\n",
       "        vertical-align: middle;\n",
       "    }\n",
       "\n",
       "    .dataframe tbody tr th {\n",
       "        vertical-align: top;\n",
       "    }\n",
       "\n",
       "    .dataframe thead th {\n",
       "        text-align: right;\n",
       "    }\n",
       "</style>\n",
       "<table border=\"1\" class=\"dataframe\">\n",
       "  <thead>\n",
       "    <tr style=\"text-align: right;\">\n",
       "      <th></th>\n",
       "      <th>customer_id</th>\n",
       "      <th>time</th>\n",
       "      <th>event_offer_completed</th>\n",
       "      <th>event_offer_received</th>\n",
       "      <th>event_offer_viewed</th>\n",
       "      <th>event_transaction</th>\n",
       "      <th>value_amount</th>\n",
       "      <th>value_reward</th>\n",
       "      <th>offer_id</th>\n",
       "      <th>difficulty</th>\n",
       "      <th>duration</th>\n",
       "      <th>offer_type</th>\n",
       "      <th>reward</th>\n",
       "      <th>channels_email</th>\n",
       "      <th>channels_mobile</th>\n",
       "      <th>channels_social</th>\n",
       "      <th>channels_web</th>\n",
       "    </tr>\n",
       "  </thead>\n",
       "  <tbody>\n",
       "    <tr>\n",
       "      <th>0</th>\n",
       "      <td>78afa995795e4d85b5d9ceeca43f5fef</td>\n",
       "      <td>0</td>\n",
       "      <td>0</td>\n",
       "      <td>1</td>\n",
       "      <td>0</td>\n",
       "      <td>0</td>\n",
       "      <td>NaN</td>\n",
       "      <td>NaN</td>\n",
       "      <td>9b98b8c7a33c4b65b9aebfe6a799e6d9</td>\n",
       "      <td>5.0</td>\n",
       "      <td>7.0</td>\n",
       "      <td>bogo</td>\n",
       "      <td>5.0</td>\n",
       "      <td>1.0</td>\n",
       "      <td>1.0</td>\n",
       "      <td>0.0</td>\n",
       "      <td>1.0</td>\n",
       "    </tr>\n",
       "    <tr>\n",
       "      <th>1</th>\n",
       "      <td>a03223e636434f42ac4c3df47e8bac43</td>\n",
       "      <td>0</td>\n",
       "      <td>0</td>\n",
       "      <td>1</td>\n",
       "      <td>0</td>\n",
       "      <td>0</td>\n",
       "      <td>NaN</td>\n",
       "      <td>NaN</td>\n",
       "      <td>0b1e1539f2cc45b7b9fa7c272da2e1d7</td>\n",
       "      <td>20.0</td>\n",
       "      <td>10.0</td>\n",
       "      <td>discount</td>\n",
       "      <td>5.0</td>\n",
       "      <td>1.0</td>\n",
       "      <td>0.0</td>\n",
       "      <td>0.0</td>\n",
       "      <td>1.0</td>\n",
       "    </tr>\n",
       "    <tr>\n",
       "      <th>2</th>\n",
       "      <td>e2127556f4f64592b11af22de27a7932</td>\n",
       "      <td>0</td>\n",
       "      <td>0</td>\n",
       "      <td>1</td>\n",
       "      <td>0</td>\n",
       "      <td>0</td>\n",
       "      <td>NaN</td>\n",
       "      <td>NaN</td>\n",
       "      <td>2906b810c7d4411798c6938adc9daaa5</td>\n",
       "      <td>10.0</td>\n",
       "      <td>7.0</td>\n",
       "      <td>discount</td>\n",
       "      <td>2.0</td>\n",
       "      <td>1.0</td>\n",
       "      <td>1.0</td>\n",
       "      <td>0.0</td>\n",
       "      <td>1.0</td>\n",
       "    </tr>\n",
       "    <tr>\n",
       "      <th>3</th>\n",
       "      <td>8ec6ce2a7e7949b1bf142def7d0e0586</td>\n",
       "      <td>0</td>\n",
       "      <td>0</td>\n",
       "      <td>1</td>\n",
       "      <td>0</td>\n",
       "      <td>0</td>\n",
       "      <td>NaN</td>\n",
       "      <td>NaN</td>\n",
       "      <td>fafdcd668e3743c1bb461111dcafc2a4</td>\n",
       "      <td>10.0</td>\n",
       "      <td>10.0</td>\n",
       "      <td>discount</td>\n",
       "      <td>2.0</td>\n",
       "      <td>1.0</td>\n",
       "      <td>1.0</td>\n",
       "      <td>1.0</td>\n",
       "      <td>1.0</td>\n",
       "    </tr>\n",
       "    <tr>\n",
       "      <th>4</th>\n",
       "      <td>68617ca6246f4fbc85e91a2a49552598</td>\n",
       "      <td>0</td>\n",
       "      <td>0</td>\n",
       "      <td>1</td>\n",
       "      <td>0</td>\n",
       "      <td>0</td>\n",
       "      <td>NaN</td>\n",
       "      <td>NaN</td>\n",
       "      <td>4d5c57ea9a6940dd891ad53e9dbe8da0</td>\n",
       "      <td>10.0</td>\n",
       "      <td>5.0</td>\n",
       "      <td>bogo</td>\n",
       "      <td>10.0</td>\n",
       "      <td>1.0</td>\n",
       "      <td>1.0</td>\n",
       "      <td>1.0</td>\n",
       "      <td>1.0</td>\n",
       "    </tr>\n",
       "  </tbody>\n",
       "</table>\n",
       "</div>"
      ],
      "text/plain": [
       "                        customer_id  time  event_offer_completed  \\\n",
       "0  78afa995795e4d85b5d9ceeca43f5fef     0                      0   \n",
       "1  a03223e636434f42ac4c3df47e8bac43     0                      0   \n",
       "2  e2127556f4f64592b11af22de27a7932     0                      0   \n",
       "3  8ec6ce2a7e7949b1bf142def7d0e0586     0                      0   \n",
       "4  68617ca6246f4fbc85e91a2a49552598     0                      0   \n",
       "\n",
       "   event_offer_received  event_offer_viewed  event_transaction  value_amount  \\\n",
       "0                     1                   0                  0           NaN   \n",
       "1                     1                   0                  0           NaN   \n",
       "2                     1                   0                  0           NaN   \n",
       "3                     1                   0                  0           NaN   \n",
       "4                     1                   0                  0           NaN   \n",
       "\n",
       "   value_reward                          offer_id  difficulty  duration  \\\n",
       "0           NaN  9b98b8c7a33c4b65b9aebfe6a799e6d9         5.0       7.0   \n",
       "1           NaN  0b1e1539f2cc45b7b9fa7c272da2e1d7        20.0      10.0   \n",
       "2           NaN  2906b810c7d4411798c6938adc9daaa5        10.0       7.0   \n",
       "3           NaN  fafdcd668e3743c1bb461111dcafc2a4        10.0      10.0   \n",
       "4           NaN  4d5c57ea9a6940dd891ad53e9dbe8da0        10.0       5.0   \n",
       "\n",
       "  offer_type  reward  channels_email  channels_mobile  channels_social  \\\n",
       "0       bogo     5.0             1.0              1.0              0.0   \n",
       "1   discount     5.0             1.0              0.0              0.0   \n",
       "2   discount     2.0             1.0              1.0              0.0   \n",
       "3   discount     2.0             1.0              1.0              1.0   \n",
       "4       bogo    10.0             1.0              1.0              1.0   \n",
       "\n",
       "   channels_web  \n",
       "0           1.0  \n",
       "1           1.0  \n",
       "2           1.0  \n",
       "3           1.0  \n",
       "4           1.0  "
      ]
     },
     "execution_count": 376,
     "metadata": {},
     "output_type": "execute_result"
    }
   ],
   "source": [
    "# Merging the data frame \"transcript_clean\" with the data frame \"portfolio_clean\"\n",
    "df_merge1 = transcript_clean.merge(portfolio_clean, on='offer_id', how='left')\n",
    "df_merge1.head()\n"
   ]
  },
  {
   "cell_type": "code",
   "execution_count": 377,
   "metadata": {
    "scrolled": true
   },
   "outputs": [
    {
     "data": {
      "text/plain": [
       "(306534, 17)"
      ]
     },
     "execution_count": 377,
     "metadata": {},
     "output_type": "execute_result"
    }
   ],
   "source": [
    "# Checking the shape of the data frame\n",
    "df_merge1.shape\n"
   ]
  },
  {
   "cell_type": "code",
   "execution_count": 378,
   "metadata": {},
   "outputs": [
    {
     "name": "stdout",
     "output_type": "stream",
     "text": [
      "<class 'pandas.core.frame.DataFrame'>\n",
      "Int64Index: 306534 entries, 0 to 306533\n",
      "Data columns (total 17 columns):\n",
      "customer_id              306534 non-null object\n",
      "time                     306534 non-null int64\n",
      "event_offer_completed    306534 non-null int64\n",
      "event_offer_received     306534 non-null int64\n",
      "event_offer_viewed       306534 non-null int64\n",
      "event_transaction        306534 non-null int64\n",
      "value_amount             138953 non-null float64\n",
      "value_reward             33579 non-null float64\n",
      "offer_id                 167581 non-null object\n",
      "difficulty               167581 non-null float64\n",
      "duration                 167581 non-null float64\n",
      "offer_type               167581 non-null object\n",
      "reward                   167581 non-null float64\n",
      "channels_email           167581 non-null float64\n",
      "channels_mobile          167581 non-null float64\n",
      "channels_social          167581 non-null float64\n",
      "channels_web             167581 non-null float64\n",
      "dtypes: float64(9), int64(5), object(3)\n",
      "memory usage: 42.1+ MB\n"
     ]
    }
   ],
   "source": [
    "# Checking a concise summary of the dataframe \n",
    "df_merge1.info()\n"
   ]
  },
  {
   "cell_type": "code",
   "execution_count": 379,
   "metadata": {
    "scrolled": true
   },
   "outputs": [
    {
     "data": {
      "text/html": [
       "<div>\n",
       "<style scoped>\n",
       "    .dataframe tbody tr th:only-of-type {\n",
       "        vertical-align: middle;\n",
       "    }\n",
       "\n",
       "    .dataframe tbody tr th {\n",
       "        vertical-align: top;\n",
       "    }\n",
       "\n",
       "    .dataframe thead th {\n",
       "        text-align: right;\n",
       "    }\n",
       "</style>\n",
       "<table border=\"1\" class=\"dataframe\">\n",
       "  <thead>\n",
       "    <tr style=\"text-align: right;\">\n",
       "      <th></th>\n",
       "      <th>value_reward</th>\n",
       "      <th>reward</th>\n",
       "    </tr>\n",
       "  </thead>\n",
       "  <tbody>\n",
       "    <tr>\n",
       "      <th>175051</th>\n",
       "      <td>NaN</td>\n",
       "      <td>NaN</td>\n",
       "    </tr>\n",
       "    <tr>\n",
       "      <th>111663</th>\n",
       "      <td>NaN</td>\n",
       "      <td>5.0</td>\n",
       "    </tr>\n",
       "    <tr>\n",
       "      <th>195184</th>\n",
       "      <td>NaN</td>\n",
       "      <td>NaN</td>\n",
       "    </tr>\n",
       "    <tr>\n",
       "      <th>147593</th>\n",
       "      <td>NaN</td>\n",
       "      <td>NaN</td>\n",
       "    </tr>\n",
       "    <tr>\n",
       "      <th>28180</th>\n",
       "      <td>NaN</td>\n",
       "      <td>NaN</td>\n",
       "    </tr>\n",
       "    <tr>\n",
       "      <th>101399</th>\n",
       "      <td>NaN</td>\n",
       "      <td>NaN</td>\n",
       "    </tr>\n",
       "    <tr>\n",
       "      <th>73708</th>\n",
       "      <td>NaN</td>\n",
       "      <td>NaN</td>\n",
       "    </tr>\n",
       "    <tr>\n",
       "      <th>220533</th>\n",
       "      <td>NaN</td>\n",
       "      <td>NaN</td>\n",
       "    </tr>\n",
       "    <tr>\n",
       "      <th>103930</th>\n",
       "      <td>NaN</td>\n",
       "      <td>NaN</td>\n",
       "    </tr>\n",
       "  </tbody>\n",
       "</table>\n",
       "</div>"
      ],
      "text/plain": [
       "        value_reward  reward\n",
       "175051           NaN     NaN\n",
       "111663           NaN     5.0\n",
       "195184           NaN     NaN\n",
       "147593           NaN     NaN\n",
       "28180            NaN     NaN\n",
       "101399           NaN     NaN\n",
       "73708            NaN     NaN\n",
       "220533           NaN     NaN\n",
       "103930           NaN     NaN"
      ]
     },
     "execution_count": 379,
     "metadata": {},
     "output_type": "execute_result"
    }
   ],
   "source": [
    "# Checking the values of the variables \"value_reward\" and \"reward\".\n",
    "df_merge1[['value_reward', 'reward']].sample(9)\n"
   ]
  },
  {
   "cell_type": "markdown",
   "metadata": {},
   "source": [
    "**Conclusion:** After the merge of the 2 data frames there are 2 variables (columns) which are probaply identical and should be combined into 1 variable:\n",
    "* \"value_reward\"\n",
    "* \"reward\""
   ]
  },
  {
   "cell_type": "markdown",
   "metadata": {},
   "source": [
    "### Merge of the Data Frames - Cleaning"
   ]
  },
  {
   "cell_type": "markdown",
   "metadata": {},
   "source": [
    "**Tasks:**\n",
    "1. Combining the 2 reward variables including their values in 1 variable \"reward\"."
   ]
  },
  {
   "cell_type": "code",
   "execution_count": 380,
   "metadata": {},
   "outputs": [],
   "source": [
    "# Copying the data frame\n",
    "df_merge1_clean = df_merge1.copy()\n"
   ]
  },
  {
   "cell_type": "markdown",
   "metadata": {},
   "source": [
    "**Result:** The data frame is copied."
   ]
  },
  {
   "cell_type": "markdown",
   "metadata": {},
   "source": [
    "### Combining the 2 reward variables including their values in 1 variable \"reward\"."
   ]
  },
  {
   "cell_type": "markdown",
   "metadata": {},
   "source": [
    "#### Code"
   ]
  },
  {
   "cell_type": "code",
   "execution_count": 381,
   "metadata": {
    "scrolled": false
   },
   "outputs": [
    {
     "name": "stdout",
     "output_type": "stream",
     "text": [
      "<class 'pandas.core.frame.DataFrame'>\n",
      "Int64Index: 306534 entries, 0 to 306533\n",
      "Data columns (total 17 columns):\n",
      "customer_id              306534 non-null object\n",
      "time                     306534 non-null int64\n",
      "event_offer_completed    306534 non-null int64\n",
      "event_offer_received     306534 non-null int64\n",
      "event_offer_viewed       306534 non-null int64\n",
      "event_transaction        306534 non-null int64\n",
      "value_amount             138953 non-null float64\n",
      "value_reward             33579 non-null float64\n",
      "offer_id                 167581 non-null object\n",
      "difficulty               167581 non-null float64\n",
      "duration                 167581 non-null float64\n",
      "offer_type               167581 non-null object\n",
      "reward                   167581 non-null float64\n",
      "channels_email           167581 non-null float64\n",
      "channels_mobile          167581 non-null float64\n",
      "channels_social          167581 non-null float64\n",
      "channels_web             167581 non-null float64\n",
      "dtypes: float64(9), int64(5), object(3)\n",
      "memory usage: 42.1+ MB\n"
     ]
    }
   ],
   "source": [
    "# Checking a concise summary of the dataframe\n",
    "df_merge1_clean.info()\n"
   ]
  },
  {
   "cell_type": "code",
   "execution_count": 382,
   "metadata": {
    "scrolled": true
   },
   "outputs": [
    {
     "data": {
      "text/html": [
       "<div>\n",
       "<style scoped>\n",
       "    .dataframe tbody tr th:only-of-type {\n",
       "        vertical-align: middle;\n",
       "    }\n",
       "\n",
       "    .dataframe tbody tr th {\n",
       "        vertical-align: top;\n",
       "    }\n",
       "\n",
       "    .dataframe thead th {\n",
       "        text-align: right;\n",
       "    }\n",
       "</style>\n",
       "<table border=\"1\" class=\"dataframe\">\n",
       "  <thead>\n",
       "    <tr style=\"text-align: right;\">\n",
       "      <th></th>\n",
       "      <th>value_reward</th>\n",
       "      <th>reward</th>\n",
       "    </tr>\n",
       "  </thead>\n",
       "  <tbody>\n",
       "    <tr>\n",
       "      <th>129215</th>\n",
       "      <td>NaN</td>\n",
       "      <td>0.0</td>\n",
       "    </tr>\n",
       "    <tr>\n",
       "      <th>159697</th>\n",
       "      <td>NaN</td>\n",
       "      <td>5.0</td>\n",
       "    </tr>\n",
       "    <tr>\n",
       "      <th>111847</th>\n",
       "      <td>NaN</td>\n",
       "      <td>0.0</td>\n",
       "    </tr>\n",
       "    <tr>\n",
       "      <th>190170</th>\n",
       "      <td>NaN</td>\n",
       "      <td>NaN</td>\n",
       "    </tr>\n",
       "    <tr>\n",
       "      <th>222858</th>\n",
       "      <td>NaN</td>\n",
       "      <td>0.0</td>\n",
       "    </tr>\n",
       "    <tr>\n",
       "      <th>198680</th>\n",
       "      <td>NaN</td>\n",
       "      <td>NaN</td>\n",
       "    </tr>\n",
       "    <tr>\n",
       "      <th>105371</th>\n",
       "      <td>NaN</td>\n",
       "      <td>NaN</td>\n",
       "    </tr>\n",
       "    <tr>\n",
       "      <th>46628</th>\n",
       "      <td>NaN</td>\n",
       "      <td>NaN</td>\n",
       "    </tr>\n",
       "    <tr>\n",
       "      <th>305191</th>\n",
       "      <td>NaN</td>\n",
       "      <td>NaN</td>\n",
       "    </tr>\n",
       "  </tbody>\n",
       "</table>\n",
       "</div>"
      ],
      "text/plain": [
       "        value_reward  reward\n",
       "129215           NaN     0.0\n",
       "159697           NaN     5.0\n",
       "111847           NaN     0.0\n",
       "190170           NaN     NaN\n",
       "222858           NaN     0.0\n",
       "198680           NaN     NaN\n",
       "105371           NaN     NaN\n",
       "46628            NaN     NaN\n",
       "305191           NaN     NaN"
      ]
     },
     "execution_count": 382,
     "metadata": {},
     "output_type": "execute_result"
    }
   ],
   "source": [
    "# Checking the values of the variables \"value_reward\" and \"reward\".\n",
    "df_merge1_clean[['value_reward', 'reward']].sample(9)\n"
   ]
  },
  {
   "cell_type": "code",
   "execution_count": 383,
   "metadata": {
    "scrolled": false
   },
   "outputs": [
    {
     "data": {
      "text/html": [
       "<div>\n",
       "<style scoped>\n",
       "    .dataframe tbody tr th:only-of-type {\n",
       "        vertical-align: middle;\n",
       "    }\n",
       "\n",
       "    .dataframe tbody tr th {\n",
       "        vertical-align: top;\n",
       "    }\n",
       "\n",
       "    .dataframe thead th {\n",
       "        text-align: right;\n",
       "    }\n",
       "</style>\n",
       "<table border=\"1\" class=\"dataframe\">\n",
       "  <thead>\n",
       "    <tr style=\"text-align: right;\">\n",
       "      <th></th>\n",
       "      <th>customer_id</th>\n",
       "      <th>time</th>\n",
       "      <th>event_offer_completed</th>\n",
       "      <th>event_offer_received</th>\n",
       "      <th>event_offer_viewed</th>\n",
       "      <th>event_transaction</th>\n",
       "      <th>value_amount</th>\n",
       "      <th>value_reward</th>\n",
       "      <th>offer_id</th>\n",
       "      <th>difficulty</th>\n",
       "      <th>duration</th>\n",
       "      <th>offer_type</th>\n",
       "      <th>reward</th>\n",
       "      <th>channels_email</th>\n",
       "      <th>channels_mobile</th>\n",
       "      <th>channels_social</th>\n",
       "      <th>channels_web</th>\n",
       "    </tr>\n",
       "  </thead>\n",
       "  <tbody>\n",
       "    <tr>\n",
       "      <th>12658</th>\n",
       "      <td>9fa9ae8f57894cc9a3b8a9bbe0fc1b2f</td>\n",
       "      <td>0</td>\n",
       "      <td>1</td>\n",
       "      <td>0</td>\n",
       "      <td>0</td>\n",
       "      <td>0</td>\n",
       "      <td>NaN</td>\n",
       "      <td>2.0</td>\n",
       "      <td>2906b810c7d4411798c6938adc9daaa5</td>\n",
       "      <td>10.0</td>\n",
       "      <td>7.0</td>\n",
       "      <td>discount</td>\n",
       "      <td>2.0</td>\n",
       "      <td>1.0</td>\n",
       "      <td>1.0</td>\n",
       "      <td>0.0</td>\n",
       "      <td>1.0</td>\n",
       "    </tr>\n",
       "    <tr>\n",
       "      <th>12672</th>\n",
       "      <td>fe97aa22dd3e48c8b143116a8403dd52</td>\n",
       "      <td>0</td>\n",
       "      <td>1</td>\n",
       "      <td>0</td>\n",
       "      <td>0</td>\n",
       "      <td>0</td>\n",
       "      <td>NaN</td>\n",
       "      <td>2.0</td>\n",
       "      <td>fafdcd668e3743c1bb461111dcafc2a4</td>\n",
       "      <td>10.0</td>\n",
       "      <td>10.0</td>\n",
       "      <td>discount</td>\n",
       "      <td>2.0</td>\n",
       "      <td>1.0</td>\n",
       "      <td>1.0</td>\n",
       "      <td>1.0</td>\n",
       "      <td>1.0</td>\n",
       "    </tr>\n",
       "    <tr>\n",
       "      <th>12679</th>\n",
       "      <td>629fc02d56414d91bca360decdfa9288</td>\n",
       "      <td>0</td>\n",
       "      <td>1</td>\n",
       "      <td>0</td>\n",
       "      <td>0</td>\n",
       "      <td>0</td>\n",
       "      <td>NaN</td>\n",
       "      <td>5.0</td>\n",
       "      <td>9b98b8c7a33c4b65b9aebfe6a799e6d9</td>\n",
       "      <td>5.0</td>\n",
       "      <td>7.0</td>\n",
       "      <td>bogo</td>\n",
       "      <td>5.0</td>\n",
       "      <td>1.0</td>\n",
       "      <td>1.0</td>\n",
       "      <td>0.0</td>\n",
       "      <td>1.0</td>\n",
       "    </tr>\n",
       "    <tr>\n",
       "      <th>12692</th>\n",
       "      <td>676506bad68e4161b9bbaffeb039626b</td>\n",
       "      <td>0</td>\n",
       "      <td>1</td>\n",
       "      <td>0</td>\n",
       "      <td>0</td>\n",
       "      <td>0</td>\n",
       "      <td>NaN</td>\n",
       "      <td>10.0</td>\n",
       "      <td>ae264e3637204a6fb9bb56bc8210ddfd</td>\n",
       "      <td>10.0</td>\n",
       "      <td>7.0</td>\n",
       "      <td>bogo</td>\n",
       "      <td>10.0</td>\n",
       "      <td>1.0</td>\n",
       "      <td>1.0</td>\n",
       "      <td>1.0</td>\n",
       "      <td>0.0</td>\n",
       "    </tr>\n",
       "    <tr>\n",
       "      <th>12697</th>\n",
       "      <td>8f7dd3b2afe14c078eb4f6e6fe4ba97d</td>\n",
       "      <td>0</td>\n",
       "      <td>1</td>\n",
       "      <td>0</td>\n",
       "      <td>0</td>\n",
       "      <td>0</td>\n",
       "      <td>NaN</td>\n",
       "      <td>10.0</td>\n",
       "      <td>4d5c57ea9a6940dd891ad53e9dbe8da0</td>\n",
       "      <td>10.0</td>\n",
       "      <td>5.0</td>\n",
       "      <td>bogo</td>\n",
       "      <td>10.0</td>\n",
       "      <td>1.0</td>\n",
       "      <td>1.0</td>\n",
       "      <td>1.0</td>\n",
       "      <td>1.0</td>\n",
       "    </tr>\n",
       "  </tbody>\n",
       "</table>\n",
       "</div>"
      ],
      "text/plain": [
       "                            customer_id  time  event_offer_completed  \\\n",
       "12658  9fa9ae8f57894cc9a3b8a9bbe0fc1b2f     0                      1   \n",
       "12672  fe97aa22dd3e48c8b143116a8403dd52     0                      1   \n",
       "12679  629fc02d56414d91bca360decdfa9288     0                      1   \n",
       "12692  676506bad68e4161b9bbaffeb039626b     0                      1   \n",
       "12697  8f7dd3b2afe14c078eb4f6e6fe4ba97d     0                      1   \n",
       "\n",
       "       event_offer_received  event_offer_viewed  event_transaction  \\\n",
       "12658                     0                   0                  0   \n",
       "12672                     0                   0                  0   \n",
       "12679                     0                   0                  0   \n",
       "12692                     0                   0                  0   \n",
       "12697                     0                   0                  0   \n",
       "\n",
       "       value_amount  value_reward                          offer_id  \\\n",
       "12658           NaN           2.0  2906b810c7d4411798c6938adc9daaa5   \n",
       "12672           NaN           2.0  fafdcd668e3743c1bb461111dcafc2a4   \n",
       "12679           NaN           5.0  9b98b8c7a33c4b65b9aebfe6a799e6d9   \n",
       "12692           NaN          10.0  ae264e3637204a6fb9bb56bc8210ddfd   \n",
       "12697           NaN          10.0  4d5c57ea9a6940dd891ad53e9dbe8da0   \n",
       "\n",
       "       difficulty  duration offer_type  reward  channels_email  \\\n",
       "12658        10.0       7.0   discount     2.0             1.0   \n",
       "12672        10.0      10.0   discount     2.0             1.0   \n",
       "12679         5.0       7.0       bogo     5.0             1.0   \n",
       "12692        10.0       7.0       bogo    10.0             1.0   \n",
       "12697        10.0       5.0       bogo    10.0             1.0   \n",
       "\n",
       "       channels_mobile  channels_social  channels_web  \n",
       "12658              1.0              0.0           1.0  \n",
       "12672              1.0              1.0           1.0  \n",
       "12679              1.0              0.0           1.0  \n",
       "12692              1.0              1.0           0.0  \n",
       "12697              1.0              1.0           1.0  "
      ]
     },
     "execution_count": 383,
     "metadata": {},
     "output_type": "execute_result"
    }
   ],
   "source": [
    "# Dropping NaN values from the variable \"value_reward\"\n",
    "df_reward = df_merge1_clean.dropna(subset=['value_reward'])\n",
    "df_reward.head()\n"
   ]
  },
  {
   "cell_type": "code",
   "execution_count": 384,
   "metadata": {
    "scrolled": true
   },
   "outputs": [
    {
     "name": "stdout",
     "output_type": "stream",
     "text": [
      "<class 'pandas.core.frame.DataFrame'>\n",
      "Int64Index: 33579 entries, 12658 to 306527\n",
      "Data columns (total 17 columns):\n",
      "customer_id              33579 non-null object\n",
      "time                     33579 non-null int64\n",
      "event_offer_completed    33579 non-null int64\n",
      "event_offer_received     33579 non-null int64\n",
      "event_offer_viewed       33579 non-null int64\n",
      "event_transaction        33579 non-null int64\n",
      "value_amount             0 non-null float64\n",
      "value_reward             33579 non-null float64\n",
      "offer_id                 33579 non-null object\n",
      "difficulty               33579 non-null float64\n",
      "duration                 33579 non-null float64\n",
      "offer_type               33579 non-null object\n",
      "reward                   33579 non-null float64\n",
      "channels_email           33579 non-null float64\n",
      "channels_mobile          33579 non-null float64\n",
      "channels_social          33579 non-null float64\n",
      "channels_web             33579 non-null float64\n",
      "dtypes: float64(9), int64(5), object(3)\n",
      "memory usage: 4.6+ MB\n"
     ]
    }
   ],
   "source": [
    "# Checking a concise summary of the dataframe\n",
    "df_reward.info()\n"
   ]
  },
  {
   "cell_type": "code",
   "execution_count": 385,
   "metadata": {},
   "outputs": [
    {
     "data": {
      "text/plain": [
       "False"
      ]
     },
     "execution_count": 385,
     "metadata": {},
     "output_type": "execute_result"
    }
   ],
   "source": [
    "# Checking existance of NaN values in data frame\n",
    "df_reward['value_reward'].isnull().any()\n"
   ]
  },
  {
   "cell_type": "code",
   "execution_count": 386,
   "metadata": {
    "scrolled": true
   },
   "outputs": [
    {
     "data": {
      "text/plain": [
       "False"
      ]
     },
     "execution_count": 386,
     "metadata": {},
     "output_type": "execute_result"
    }
   ],
   "source": [
    "# Checking existance of NaN values in data frame\n",
    "df_reward['reward'].isnull().any()\n"
   ]
  },
  {
   "cell_type": "code",
   "execution_count": 387,
   "metadata": {},
   "outputs": [
    {
     "name": "stdout",
     "output_type": "stream",
     "text": [
      "True\n"
     ]
    }
   ],
   "source": [
    "# Comparing if the variables \"value_reward\" and \"reward\" are identical\n",
    "df_reward = pd.DataFrame(df_reward)\n",
    "\n",
    "df_reward1 = df_reward['reward']\n",
    "df_reward2 = df_reward['value_reward']\n",
    "\n",
    "print((df_reward1 == df_reward2).all())\n"
   ]
  },
  {
   "cell_type": "markdown",
   "metadata": {},
   "source": [
    "**Result:** Each value of the variable \"value_reward\" has an identical value in variable \"reward\". The variables can be combined into one variable without loosing any data."
   ]
  },
  {
   "cell_type": "code",
   "execution_count": 388,
   "metadata": {},
   "outputs": [],
   "source": [
    "# Using the function: f_create_var_2to1_df\n",
    "df_merge1_clean = f_create_var_2to1_df(df_merge1_clean, 'reward', 'value_reward', 'reward')\n"
   ]
  },
  {
   "cell_type": "markdown",
   "metadata": {},
   "source": [
    "**Result:** The function is used on this data frame."
   ]
  },
  {
   "cell_type": "markdown",
   "metadata": {},
   "source": [
    "#### Test"
   ]
  },
  {
   "cell_type": "code",
   "execution_count": 389,
   "metadata": {
    "scrolled": true
   },
   "outputs": [
    {
     "name": "stdout",
     "output_type": "stream",
     "text": [
      "<class 'pandas.core.frame.DataFrame'>\n",
      "Int64Index: 306534 entries, 0 to 306533\n",
      "Data columns (total 16 columns):\n",
      "customer_id              306534 non-null object\n",
      "time                     306534 non-null int64\n",
      "event_offer_completed    306534 non-null int64\n",
      "event_offer_received     306534 non-null int64\n",
      "event_offer_viewed       306534 non-null int64\n",
      "event_transaction        306534 non-null int64\n",
      "value_amount             138953 non-null float64\n",
      "offer_id                 167581 non-null object\n",
      "difficulty               167581 non-null float64\n",
      "duration                 167581 non-null float64\n",
      "offer_type               167581 non-null object\n",
      "channels_email           167581 non-null float64\n",
      "channels_mobile          167581 non-null float64\n",
      "channels_social          167581 non-null float64\n",
      "channels_web             167581 non-null float64\n",
      "reward                   167581 non-null float64\n",
      "dtypes: float64(8), int64(5), object(3)\n",
      "memory usage: 39.8+ MB\n"
     ]
    }
   ],
   "source": [
    "# Checking a concise summary of the dataframe\n",
    "df_merge1_clean.info()\n"
   ]
  },
  {
   "cell_type": "code",
   "execution_count": 390,
   "metadata": {
    "scrolled": true
   },
   "outputs": [
    {
     "data": {
      "text/html": [
       "<div>\n",
       "<style scoped>\n",
       "    .dataframe tbody tr th:only-of-type {\n",
       "        vertical-align: middle;\n",
       "    }\n",
       "\n",
       "    .dataframe tbody tr th {\n",
       "        vertical-align: top;\n",
       "    }\n",
       "\n",
       "    .dataframe thead th {\n",
       "        text-align: right;\n",
       "    }\n",
       "</style>\n",
       "<table border=\"1\" class=\"dataframe\">\n",
       "  <thead>\n",
       "    <tr style=\"text-align: right;\">\n",
       "      <th></th>\n",
       "      <th>customer_id</th>\n",
       "      <th>time</th>\n",
       "      <th>event_offer_completed</th>\n",
       "      <th>event_offer_received</th>\n",
       "      <th>event_offer_viewed</th>\n",
       "      <th>event_transaction</th>\n",
       "      <th>value_amount</th>\n",
       "      <th>offer_id</th>\n",
       "      <th>difficulty</th>\n",
       "      <th>duration</th>\n",
       "      <th>offer_type</th>\n",
       "      <th>channels_email</th>\n",
       "      <th>channels_mobile</th>\n",
       "      <th>channels_social</th>\n",
       "      <th>channels_web</th>\n",
       "      <th>reward</th>\n",
       "    </tr>\n",
       "  </thead>\n",
       "  <tbody>\n",
       "    <tr>\n",
       "      <th>0</th>\n",
       "      <td>78afa995795e4d85b5d9ceeca43f5fef</td>\n",
       "      <td>0</td>\n",
       "      <td>0</td>\n",
       "      <td>1</td>\n",
       "      <td>0</td>\n",
       "      <td>0</td>\n",
       "      <td>NaN</td>\n",
       "      <td>9b98b8c7a33c4b65b9aebfe6a799e6d9</td>\n",
       "      <td>5.0</td>\n",
       "      <td>7.0</td>\n",
       "      <td>bogo</td>\n",
       "      <td>1.0</td>\n",
       "      <td>1.0</td>\n",
       "      <td>0.0</td>\n",
       "      <td>1.0</td>\n",
       "      <td>5.0</td>\n",
       "    </tr>\n",
       "    <tr>\n",
       "      <th>1</th>\n",
       "      <td>a03223e636434f42ac4c3df47e8bac43</td>\n",
       "      <td>0</td>\n",
       "      <td>0</td>\n",
       "      <td>1</td>\n",
       "      <td>0</td>\n",
       "      <td>0</td>\n",
       "      <td>NaN</td>\n",
       "      <td>0b1e1539f2cc45b7b9fa7c272da2e1d7</td>\n",
       "      <td>20.0</td>\n",
       "      <td>10.0</td>\n",
       "      <td>discount</td>\n",
       "      <td>1.0</td>\n",
       "      <td>0.0</td>\n",
       "      <td>0.0</td>\n",
       "      <td>1.0</td>\n",
       "      <td>5.0</td>\n",
       "    </tr>\n",
       "    <tr>\n",
       "      <th>2</th>\n",
       "      <td>e2127556f4f64592b11af22de27a7932</td>\n",
       "      <td>0</td>\n",
       "      <td>0</td>\n",
       "      <td>1</td>\n",
       "      <td>0</td>\n",
       "      <td>0</td>\n",
       "      <td>NaN</td>\n",
       "      <td>2906b810c7d4411798c6938adc9daaa5</td>\n",
       "      <td>10.0</td>\n",
       "      <td>7.0</td>\n",
       "      <td>discount</td>\n",
       "      <td>1.0</td>\n",
       "      <td>1.0</td>\n",
       "      <td>0.0</td>\n",
       "      <td>1.0</td>\n",
       "      <td>2.0</td>\n",
       "    </tr>\n",
       "    <tr>\n",
       "      <th>3</th>\n",
       "      <td>8ec6ce2a7e7949b1bf142def7d0e0586</td>\n",
       "      <td>0</td>\n",
       "      <td>0</td>\n",
       "      <td>1</td>\n",
       "      <td>0</td>\n",
       "      <td>0</td>\n",
       "      <td>NaN</td>\n",
       "      <td>fafdcd668e3743c1bb461111dcafc2a4</td>\n",
       "      <td>10.0</td>\n",
       "      <td>10.0</td>\n",
       "      <td>discount</td>\n",
       "      <td>1.0</td>\n",
       "      <td>1.0</td>\n",
       "      <td>1.0</td>\n",
       "      <td>1.0</td>\n",
       "      <td>2.0</td>\n",
       "    </tr>\n",
       "    <tr>\n",
       "      <th>4</th>\n",
       "      <td>68617ca6246f4fbc85e91a2a49552598</td>\n",
       "      <td>0</td>\n",
       "      <td>0</td>\n",
       "      <td>1</td>\n",
       "      <td>0</td>\n",
       "      <td>0</td>\n",
       "      <td>NaN</td>\n",
       "      <td>4d5c57ea9a6940dd891ad53e9dbe8da0</td>\n",
       "      <td>10.0</td>\n",
       "      <td>5.0</td>\n",
       "      <td>bogo</td>\n",
       "      <td>1.0</td>\n",
       "      <td>1.0</td>\n",
       "      <td>1.0</td>\n",
       "      <td>1.0</td>\n",
       "      <td>10.0</td>\n",
       "    </tr>\n",
       "  </tbody>\n",
       "</table>\n",
       "</div>"
      ],
      "text/plain": [
       "                        customer_id  time  event_offer_completed  \\\n",
       "0  78afa995795e4d85b5d9ceeca43f5fef     0                      0   \n",
       "1  a03223e636434f42ac4c3df47e8bac43     0                      0   \n",
       "2  e2127556f4f64592b11af22de27a7932     0                      0   \n",
       "3  8ec6ce2a7e7949b1bf142def7d0e0586     0                      0   \n",
       "4  68617ca6246f4fbc85e91a2a49552598     0                      0   \n",
       "\n",
       "   event_offer_received  event_offer_viewed  event_transaction  value_amount  \\\n",
       "0                     1                   0                  0           NaN   \n",
       "1                     1                   0                  0           NaN   \n",
       "2                     1                   0                  0           NaN   \n",
       "3                     1                   0                  0           NaN   \n",
       "4                     1                   0                  0           NaN   \n",
       "\n",
       "                           offer_id  difficulty  duration offer_type  \\\n",
       "0  9b98b8c7a33c4b65b9aebfe6a799e6d9         5.0       7.0       bogo   \n",
       "1  0b1e1539f2cc45b7b9fa7c272da2e1d7        20.0      10.0   discount   \n",
       "2  2906b810c7d4411798c6938adc9daaa5        10.0       7.0   discount   \n",
       "3  fafdcd668e3743c1bb461111dcafc2a4        10.0      10.0   discount   \n",
       "4  4d5c57ea9a6940dd891ad53e9dbe8da0        10.0       5.0       bogo   \n",
       "\n",
       "   channels_email  channels_mobile  channels_social  channels_web  reward  \n",
       "0             1.0              1.0              0.0           1.0     5.0  \n",
       "1             1.0              0.0              0.0           1.0     5.0  \n",
       "2             1.0              1.0              0.0           1.0     2.0  \n",
       "3             1.0              1.0              1.0           1.0     2.0  \n",
       "4             1.0              1.0              1.0           1.0    10.0  "
      ]
     },
     "execution_count": 390,
     "metadata": {},
     "output_type": "execute_result"
    }
   ],
   "source": [
    "# Displaying the new data frame to check the changes\n",
    "df_merge1_clean.head()\n"
   ]
  },
  {
   "cell_type": "code",
   "execution_count": 391,
   "metadata": {
    "scrolled": true
   },
   "outputs": [
    {
     "data": {
      "text/plain": [
       "(306534, 16)"
      ]
     },
     "execution_count": 391,
     "metadata": {},
     "output_type": "execute_result"
    }
   ],
   "source": [
    "# Checking the shape of the data frame\n",
    "df_merge1_clean.shape\n"
   ]
  },
  {
   "cell_type": "markdown",
   "metadata": {},
   "source": [
    "**Result:** The new variable \"reward\" contains all values from the previous 2 offer id variables."
   ]
  },
  {
   "cell_type": "markdown",
   "metadata": {},
   "source": [
    "### Merge of \"df_merge_clean\" and \"profile_clean\""
   ]
  },
  {
   "cell_type": "code",
   "execution_count": 392,
   "metadata": {
    "scrolled": true
   },
   "outputs": [
    {
     "data": {
      "text/plain": [
       "(306534, 16)"
      ]
     },
     "execution_count": 392,
     "metadata": {},
     "output_type": "execute_result"
    }
   ],
   "source": [
    "# Checking the shape of the data frame\n",
    "df_merge1_clean.shape\n"
   ]
  },
  {
   "cell_type": "code",
   "execution_count": 393,
   "metadata": {
    "scrolled": true
   },
   "outputs": [
    {
     "data": {
      "text/plain": [
       "(17000, 5)"
      ]
     },
     "execution_count": 393,
     "metadata": {},
     "output_type": "execute_result"
    }
   ],
   "source": [
    "# Checking the shape of the data frame\n",
    "profile_clean.shape\n"
   ]
  },
  {
   "cell_type": "code",
   "execution_count": 394,
   "metadata": {
    "scrolled": true
   },
   "outputs": [
    {
     "data": {
      "text/html": [
       "<div>\n",
       "<style scoped>\n",
       "    .dataframe tbody tr th:only-of-type {\n",
       "        vertical-align: middle;\n",
       "    }\n",
       "\n",
       "    .dataframe tbody tr th {\n",
       "        vertical-align: top;\n",
       "    }\n",
       "\n",
       "    .dataframe thead th {\n",
       "        text-align: right;\n",
       "    }\n",
       "</style>\n",
       "<table border=\"1\" class=\"dataframe\">\n",
       "  <thead>\n",
       "    <tr style=\"text-align: right;\">\n",
       "      <th></th>\n",
       "      <th>customer_id</th>\n",
       "      <th>time</th>\n",
       "      <th>event_offer_completed</th>\n",
       "      <th>event_offer_received</th>\n",
       "      <th>event_offer_viewed</th>\n",
       "      <th>event_transaction</th>\n",
       "      <th>value_amount</th>\n",
       "      <th>offer_id</th>\n",
       "      <th>difficulty</th>\n",
       "      <th>duration</th>\n",
       "      <th>offer_type</th>\n",
       "      <th>channels_email</th>\n",
       "      <th>channels_mobile</th>\n",
       "      <th>channels_social</th>\n",
       "      <th>channels_web</th>\n",
       "      <th>reward</th>\n",
       "      <th>age</th>\n",
       "      <th>became_member_on</th>\n",
       "      <th>gender</th>\n",
       "      <th>income</th>\n",
       "    </tr>\n",
       "  </thead>\n",
       "  <tbody>\n",
       "    <tr>\n",
       "      <th>0</th>\n",
       "      <td>78afa995795e4d85b5d9ceeca43f5fef</td>\n",
       "      <td>0</td>\n",
       "      <td>0</td>\n",
       "      <td>1</td>\n",
       "      <td>0</td>\n",
       "      <td>0</td>\n",
       "      <td>NaN</td>\n",
       "      <td>9b98b8c7a33c4b65b9aebfe6a799e6d9</td>\n",
       "      <td>5.0</td>\n",
       "      <td>7.0</td>\n",
       "      <td>bogo</td>\n",
       "      <td>1.0</td>\n",
       "      <td>1.0</td>\n",
       "      <td>0.0</td>\n",
       "      <td>1.0</td>\n",
       "      <td>5.0</td>\n",
       "      <td>75</td>\n",
       "      <td>2017-05-09</td>\n",
       "      <td>F</td>\n",
       "      <td>100000.0</td>\n",
       "    </tr>\n",
       "    <tr>\n",
       "      <th>1</th>\n",
       "      <td>a03223e636434f42ac4c3df47e8bac43</td>\n",
       "      <td>0</td>\n",
       "      <td>0</td>\n",
       "      <td>1</td>\n",
       "      <td>0</td>\n",
       "      <td>0</td>\n",
       "      <td>NaN</td>\n",
       "      <td>0b1e1539f2cc45b7b9fa7c272da2e1d7</td>\n",
       "      <td>20.0</td>\n",
       "      <td>10.0</td>\n",
       "      <td>discount</td>\n",
       "      <td>1.0</td>\n",
       "      <td>0.0</td>\n",
       "      <td>0.0</td>\n",
       "      <td>1.0</td>\n",
       "      <td>5.0</td>\n",
       "      <td>118</td>\n",
       "      <td>2017-08-04</td>\n",
       "      <td>None</td>\n",
       "      <td>NaN</td>\n",
       "    </tr>\n",
       "    <tr>\n",
       "      <th>2</th>\n",
       "      <td>e2127556f4f64592b11af22de27a7932</td>\n",
       "      <td>0</td>\n",
       "      <td>0</td>\n",
       "      <td>1</td>\n",
       "      <td>0</td>\n",
       "      <td>0</td>\n",
       "      <td>NaN</td>\n",
       "      <td>2906b810c7d4411798c6938adc9daaa5</td>\n",
       "      <td>10.0</td>\n",
       "      <td>7.0</td>\n",
       "      <td>discount</td>\n",
       "      <td>1.0</td>\n",
       "      <td>1.0</td>\n",
       "      <td>0.0</td>\n",
       "      <td>1.0</td>\n",
       "      <td>2.0</td>\n",
       "      <td>68</td>\n",
       "      <td>2018-04-26</td>\n",
       "      <td>M</td>\n",
       "      <td>70000.0</td>\n",
       "    </tr>\n",
       "    <tr>\n",
       "      <th>3</th>\n",
       "      <td>8ec6ce2a7e7949b1bf142def7d0e0586</td>\n",
       "      <td>0</td>\n",
       "      <td>0</td>\n",
       "      <td>1</td>\n",
       "      <td>0</td>\n",
       "      <td>0</td>\n",
       "      <td>NaN</td>\n",
       "      <td>fafdcd668e3743c1bb461111dcafc2a4</td>\n",
       "      <td>10.0</td>\n",
       "      <td>10.0</td>\n",
       "      <td>discount</td>\n",
       "      <td>1.0</td>\n",
       "      <td>1.0</td>\n",
       "      <td>1.0</td>\n",
       "      <td>1.0</td>\n",
       "      <td>2.0</td>\n",
       "      <td>118</td>\n",
       "      <td>2017-09-25</td>\n",
       "      <td>None</td>\n",
       "      <td>NaN</td>\n",
       "    </tr>\n",
       "    <tr>\n",
       "      <th>4</th>\n",
       "      <td>68617ca6246f4fbc85e91a2a49552598</td>\n",
       "      <td>0</td>\n",
       "      <td>0</td>\n",
       "      <td>1</td>\n",
       "      <td>0</td>\n",
       "      <td>0</td>\n",
       "      <td>NaN</td>\n",
       "      <td>4d5c57ea9a6940dd891ad53e9dbe8da0</td>\n",
       "      <td>10.0</td>\n",
       "      <td>5.0</td>\n",
       "      <td>bogo</td>\n",
       "      <td>1.0</td>\n",
       "      <td>1.0</td>\n",
       "      <td>1.0</td>\n",
       "      <td>1.0</td>\n",
       "      <td>10.0</td>\n",
       "      <td>118</td>\n",
       "      <td>2017-10-02</td>\n",
       "      <td>None</td>\n",
       "      <td>NaN</td>\n",
       "    </tr>\n",
       "  </tbody>\n",
       "</table>\n",
       "</div>"
      ],
      "text/plain": [
       "                        customer_id  time  event_offer_completed  \\\n",
       "0  78afa995795e4d85b5d9ceeca43f5fef     0                      0   \n",
       "1  a03223e636434f42ac4c3df47e8bac43     0                      0   \n",
       "2  e2127556f4f64592b11af22de27a7932     0                      0   \n",
       "3  8ec6ce2a7e7949b1bf142def7d0e0586     0                      0   \n",
       "4  68617ca6246f4fbc85e91a2a49552598     0                      0   \n",
       "\n",
       "   event_offer_received  event_offer_viewed  event_transaction  value_amount  \\\n",
       "0                     1                   0                  0           NaN   \n",
       "1                     1                   0                  0           NaN   \n",
       "2                     1                   0                  0           NaN   \n",
       "3                     1                   0                  0           NaN   \n",
       "4                     1                   0                  0           NaN   \n",
       "\n",
       "                           offer_id  difficulty  duration offer_type  \\\n",
       "0  9b98b8c7a33c4b65b9aebfe6a799e6d9         5.0       7.0       bogo   \n",
       "1  0b1e1539f2cc45b7b9fa7c272da2e1d7        20.0      10.0   discount   \n",
       "2  2906b810c7d4411798c6938adc9daaa5        10.0       7.0   discount   \n",
       "3  fafdcd668e3743c1bb461111dcafc2a4        10.0      10.0   discount   \n",
       "4  4d5c57ea9a6940dd891ad53e9dbe8da0        10.0       5.0       bogo   \n",
       "\n",
       "   channels_email  channels_mobile  channels_social  channels_web  reward  \\\n",
       "0             1.0              1.0              0.0           1.0     5.0   \n",
       "1             1.0              0.0              0.0           1.0     5.0   \n",
       "2             1.0              1.0              0.0           1.0     2.0   \n",
       "3             1.0              1.0              1.0           1.0     2.0   \n",
       "4             1.0              1.0              1.0           1.0    10.0   \n",
       "\n",
       "   age became_member_on gender    income  \n",
       "0   75       2017-05-09      F  100000.0  \n",
       "1  118       2017-08-04   None       NaN  \n",
       "2   68       2018-04-26      M   70000.0  \n",
       "3  118       2017-09-25   None       NaN  \n",
       "4  118       2017-10-02   None       NaN  "
      ]
     },
     "execution_count": 394,
     "metadata": {},
     "output_type": "execute_result"
    }
   ],
   "source": [
    "# Merging the data frame \"transcript_clean\" with the data frame \"portfolio_clean\"\n",
    "df_merge = df_merge1_clean.merge(profile_clean, on='customer_id', how='left')\n",
    "df_merge.head()\n"
   ]
  },
  {
   "cell_type": "code",
   "execution_count": 395,
   "metadata": {
    "scrolled": true
   },
   "outputs": [
    {
     "data": {
      "text/plain": [
       "(306534, 20)"
      ]
     },
     "execution_count": 395,
     "metadata": {},
     "output_type": "execute_result"
    }
   ],
   "source": [
    "# Checking the shape of the data frame\n",
    "df_merge.shape\n"
   ]
  },
  {
   "cell_type": "code",
   "execution_count": 396,
   "metadata": {
    "scrolled": true
   },
   "outputs": [
    {
     "name": "stdout",
     "output_type": "stream",
     "text": [
      "<class 'pandas.core.frame.DataFrame'>\n",
      "Int64Index: 306534 entries, 0 to 306533\n",
      "Data columns (total 20 columns):\n",
      "customer_id              306534 non-null object\n",
      "time                     306534 non-null int64\n",
      "event_offer_completed    306534 non-null int64\n",
      "event_offer_received     306534 non-null int64\n",
      "event_offer_viewed       306534 non-null int64\n",
      "event_transaction        306534 non-null int64\n",
      "value_amount             138953 non-null float64\n",
      "offer_id                 167581 non-null object\n",
      "difficulty               167581 non-null float64\n",
      "duration                 167581 non-null float64\n",
      "offer_type               167581 non-null object\n",
      "channels_email           167581 non-null float64\n",
      "channels_mobile          167581 non-null float64\n",
      "channels_social          167581 non-null float64\n",
      "channels_web             167581 non-null float64\n",
      "reward                   167581 non-null float64\n",
      "age                      306534 non-null int64\n",
      "became_member_on         306534 non-null datetime64[ns]\n",
      "gender                   272762 non-null object\n",
      "income                   272762 non-null float64\n",
      "dtypes: datetime64[ns](1), float64(9), int64(6), object(4)\n",
      "memory usage: 49.1+ MB\n"
     ]
    }
   ],
   "source": [
    "# Checking a concise summary of the dataframe \n",
    "df_merge.info()\n"
   ]
  },
  {
   "cell_type": "markdown",
   "metadata": {},
   "source": [
    "**Conclusion:** \n",
    "1. The variable \"customer_id\" **does not contain** any NaN values.\n",
    "2. The variable \"offer_id\" **contains** more then 50% NaN values.\n"
   ]
  },
  {
   "cell_type": "code",
   "execution_count": 397,
   "metadata": {},
   "outputs": [],
   "source": [
    "# Copying the data frame\n",
    "df = df_merge.copy()\n"
   ]
  },
  {
   "cell_type": "markdown",
   "metadata": {},
   "source": [
    "**Result:** The data frame is copied."
   ]
  },
  {
   "cell_type": "code",
   "execution_count": 398,
   "metadata": {},
   "outputs": [],
   "source": [
    "# Saving data final frame to .csv\n",
    "df.to_csv('data/data.csv', index=False)\n"
   ]
  },
  {
   "cell_type": "markdown",
   "metadata": {},
   "source": [
    "**Result:** The data frame is saved as .csv."
   ]
  },
  {
   "cell_type": "code",
   "execution_count": null,
   "metadata": {},
   "outputs": [],
   "source": []
  },
  {
   "cell_type": "code",
   "execution_count": null,
   "metadata": {},
   "outputs": [],
   "source": []
  },
  {
   "cell_type": "markdown",
   "metadata": {},
   "source": [
    "<a id='sec2_2'></a>\n",
    "### 3. B. Data Visualization\n",
    "<div style=\"text-align: right\"><right><a href=\"#top\">Table of Content</a></div>\n",
    "\n",
    "#### Data visualization based on the data exploration in the previous step.<br>"
   ]
  },
  {
   "cell_type": "code",
   "execution_count": 399,
   "metadata": {},
   "outputs": [],
   "source": [
    "# Loading the final saved data frame\n",
    "data = pd.read_csv('data/data.csv')\n"
   ]
  },
  {
   "cell_type": "code",
   "execution_count": 400,
   "metadata": {},
   "outputs": [],
   "source": [
    "# Function: Python Function that defines the size, the dots per inches, the facecolor of the axes,\n",
    "# the figure patch edgecolor and the color of the color of the background of the plots and returns it.\n",
    "\n",
    "def fig_axes():\n",
    "    '''\n",
    "    INPUT:\n",
    "    None\n",
    "    \n",
    "    OUTPUT:\n",
    "    Layout for plots - plt (Matplotlib), sns (seaborn)\n",
    "    \n",
    "    Description:\n",
    "    Defines the size, the dots per inches, the facecolor of the axes, the figure patch edgecolor \n",
    "    and the color of the color of the background of the plots and returns it.\n",
    "    '''\n",
    "    plt.subplots(figsize=(15, 5), dpi=80, facecolor='w', edgecolor='k')\n",
    "    sns.set_style('darkgrid')\n",
    "    print()\n",
    "    "
   ]
  },
  {
   "cell_type": "markdown",
   "metadata": {},
   "source": [
    "**Result:** A function is created that defines the size, the dots per inches, the facecolor of the axes, the figure patch edgecolor and the color of the color of the background of the plots and returns it."
   ]
  },
  {
   "cell_type": "code",
   "execution_count": 401,
   "metadata": {
    "scrolled": true
   },
   "outputs": [
    {
     "data": {
      "text/html": [
       "<div>\n",
       "<style scoped>\n",
       "    .dataframe tbody tr th:only-of-type {\n",
       "        vertical-align: middle;\n",
       "    }\n",
       "\n",
       "    .dataframe tbody tr th {\n",
       "        vertical-align: top;\n",
       "    }\n",
       "\n",
       "    .dataframe thead th {\n",
       "        text-align: right;\n",
       "    }\n",
       "</style>\n",
       "<table border=\"1\" class=\"dataframe\">\n",
       "  <thead>\n",
       "    <tr style=\"text-align: right;\">\n",
       "      <th></th>\n",
       "      <th>customer_id</th>\n",
       "      <th>time</th>\n",
       "      <th>event_offer_completed</th>\n",
       "      <th>event_offer_received</th>\n",
       "      <th>event_offer_viewed</th>\n",
       "      <th>event_transaction</th>\n",
       "      <th>value_amount</th>\n",
       "      <th>offer_id</th>\n",
       "      <th>difficulty</th>\n",
       "      <th>duration</th>\n",
       "      <th>offer_type</th>\n",
       "      <th>channels_email</th>\n",
       "      <th>channels_mobile</th>\n",
       "      <th>channels_social</th>\n",
       "      <th>channels_web</th>\n",
       "      <th>reward</th>\n",
       "      <th>age</th>\n",
       "      <th>became_member_on</th>\n",
       "      <th>gender</th>\n",
       "      <th>income</th>\n",
       "    </tr>\n",
       "  </thead>\n",
       "  <tbody>\n",
       "    <tr>\n",
       "      <th>0</th>\n",
       "      <td>78afa995795e4d85b5d9ceeca43f5fef</td>\n",
       "      <td>0</td>\n",
       "      <td>0</td>\n",
       "      <td>1</td>\n",
       "      <td>0</td>\n",
       "      <td>0</td>\n",
       "      <td>NaN</td>\n",
       "      <td>9b98b8c7a33c4b65b9aebfe6a799e6d9</td>\n",
       "      <td>5.0</td>\n",
       "      <td>7.0</td>\n",
       "      <td>bogo</td>\n",
       "      <td>1.0</td>\n",
       "      <td>1.0</td>\n",
       "      <td>0.0</td>\n",
       "      <td>1.0</td>\n",
       "      <td>5.0</td>\n",
       "      <td>75</td>\n",
       "      <td>2017-05-09</td>\n",
       "      <td>F</td>\n",
       "      <td>100000.0</td>\n",
       "    </tr>\n",
       "    <tr>\n",
       "      <th>1</th>\n",
       "      <td>a03223e636434f42ac4c3df47e8bac43</td>\n",
       "      <td>0</td>\n",
       "      <td>0</td>\n",
       "      <td>1</td>\n",
       "      <td>0</td>\n",
       "      <td>0</td>\n",
       "      <td>NaN</td>\n",
       "      <td>0b1e1539f2cc45b7b9fa7c272da2e1d7</td>\n",
       "      <td>20.0</td>\n",
       "      <td>10.0</td>\n",
       "      <td>discount</td>\n",
       "      <td>1.0</td>\n",
       "      <td>0.0</td>\n",
       "      <td>0.0</td>\n",
       "      <td>1.0</td>\n",
       "      <td>5.0</td>\n",
       "      <td>118</td>\n",
       "      <td>2017-08-04</td>\n",
       "      <td>NaN</td>\n",
       "      <td>NaN</td>\n",
       "    </tr>\n",
       "    <tr>\n",
       "      <th>2</th>\n",
       "      <td>e2127556f4f64592b11af22de27a7932</td>\n",
       "      <td>0</td>\n",
       "      <td>0</td>\n",
       "      <td>1</td>\n",
       "      <td>0</td>\n",
       "      <td>0</td>\n",
       "      <td>NaN</td>\n",
       "      <td>2906b810c7d4411798c6938adc9daaa5</td>\n",
       "      <td>10.0</td>\n",
       "      <td>7.0</td>\n",
       "      <td>discount</td>\n",
       "      <td>1.0</td>\n",
       "      <td>1.0</td>\n",
       "      <td>0.0</td>\n",
       "      <td>1.0</td>\n",
       "      <td>2.0</td>\n",
       "      <td>68</td>\n",
       "      <td>2018-04-26</td>\n",
       "      <td>M</td>\n",
       "      <td>70000.0</td>\n",
       "    </tr>\n",
       "    <tr>\n",
       "      <th>3</th>\n",
       "      <td>8ec6ce2a7e7949b1bf142def7d0e0586</td>\n",
       "      <td>0</td>\n",
       "      <td>0</td>\n",
       "      <td>1</td>\n",
       "      <td>0</td>\n",
       "      <td>0</td>\n",
       "      <td>NaN</td>\n",
       "      <td>fafdcd668e3743c1bb461111dcafc2a4</td>\n",
       "      <td>10.0</td>\n",
       "      <td>10.0</td>\n",
       "      <td>discount</td>\n",
       "      <td>1.0</td>\n",
       "      <td>1.0</td>\n",
       "      <td>1.0</td>\n",
       "      <td>1.0</td>\n",
       "      <td>2.0</td>\n",
       "      <td>118</td>\n",
       "      <td>2017-09-25</td>\n",
       "      <td>NaN</td>\n",
       "      <td>NaN</td>\n",
       "    </tr>\n",
       "    <tr>\n",
       "      <th>4</th>\n",
       "      <td>68617ca6246f4fbc85e91a2a49552598</td>\n",
       "      <td>0</td>\n",
       "      <td>0</td>\n",
       "      <td>1</td>\n",
       "      <td>0</td>\n",
       "      <td>0</td>\n",
       "      <td>NaN</td>\n",
       "      <td>4d5c57ea9a6940dd891ad53e9dbe8da0</td>\n",
       "      <td>10.0</td>\n",
       "      <td>5.0</td>\n",
       "      <td>bogo</td>\n",
       "      <td>1.0</td>\n",
       "      <td>1.0</td>\n",
       "      <td>1.0</td>\n",
       "      <td>1.0</td>\n",
       "      <td>10.0</td>\n",
       "      <td>118</td>\n",
       "      <td>2017-10-02</td>\n",
       "      <td>NaN</td>\n",
       "      <td>NaN</td>\n",
       "    </tr>\n",
       "  </tbody>\n",
       "</table>\n",
       "</div>"
      ],
      "text/plain": [
       "                        customer_id  time  event_offer_completed  \\\n",
       "0  78afa995795e4d85b5d9ceeca43f5fef     0                      0   \n",
       "1  a03223e636434f42ac4c3df47e8bac43     0                      0   \n",
       "2  e2127556f4f64592b11af22de27a7932     0                      0   \n",
       "3  8ec6ce2a7e7949b1bf142def7d0e0586     0                      0   \n",
       "4  68617ca6246f4fbc85e91a2a49552598     0                      0   \n",
       "\n",
       "   event_offer_received  event_offer_viewed  event_transaction  value_amount  \\\n",
       "0                     1                   0                  0           NaN   \n",
       "1                     1                   0                  0           NaN   \n",
       "2                     1                   0                  0           NaN   \n",
       "3                     1                   0                  0           NaN   \n",
       "4                     1                   0                  0           NaN   \n",
       "\n",
       "                           offer_id  difficulty  duration offer_type  \\\n",
       "0  9b98b8c7a33c4b65b9aebfe6a799e6d9         5.0       7.0       bogo   \n",
       "1  0b1e1539f2cc45b7b9fa7c272da2e1d7        20.0      10.0   discount   \n",
       "2  2906b810c7d4411798c6938adc9daaa5        10.0       7.0   discount   \n",
       "3  fafdcd668e3743c1bb461111dcafc2a4        10.0      10.0   discount   \n",
       "4  4d5c57ea9a6940dd891ad53e9dbe8da0        10.0       5.0       bogo   \n",
       "\n",
       "   channels_email  channels_mobile  channels_social  channels_web  reward  \\\n",
       "0             1.0              1.0              0.0           1.0     5.0   \n",
       "1             1.0              0.0              0.0           1.0     5.0   \n",
       "2             1.0              1.0              0.0           1.0     2.0   \n",
       "3             1.0              1.0              1.0           1.0     2.0   \n",
       "4             1.0              1.0              1.0           1.0    10.0   \n",
       "\n",
       "   age became_member_on gender    income  \n",
       "0   75       2017-05-09      F  100000.0  \n",
       "1  118       2017-08-04    NaN       NaN  \n",
       "2   68       2018-04-26      M   70000.0  \n",
       "3  118       2017-09-25    NaN       NaN  \n",
       "4  118       2017-10-02    NaN       NaN  "
      ]
     },
     "execution_count": 401,
     "metadata": {},
     "output_type": "execute_result"
    }
   ],
   "source": [
    "# Displaying the new data frame to check the changes\n",
    "data.head()\n"
   ]
  },
  {
   "cell_type": "markdown",
   "metadata": {},
   "source": [
    "### Distribution of the variable \"age\""
   ]
  },
  {
   "cell_type": "code",
   "execution_count": 436,
   "metadata": {
    "scrolled": true
   },
   "outputs": [
    {
     "data": {
      "text/plain": [
       "count    306534.000000\n",
       "mean         60.909367\n",
       "std          26.032030\n",
       "min          18.000000\n",
       "25%          43.000000\n",
       "50%          57.000000\n",
       "75%          72.000000\n",
       "max         118.000000\n",
       "Name: age, dtype: float64"
      ]
     },
     "execution_count": 436,
     "metadata": {},
     "output_type": "execute_result"
    }
   ],
   "source": [
    "# Calculating the descriptive statistics of the \"age\" values\n",
    "# (50 % is equal to the median)\n",
    "data_plot_1 = data['age']\n",
    "data_plot_1.describe()\n"
   ]
  },
  {
   "cell_type": "code",
   "execution_count": 437,
   "metadata": {
    "scrolled": false
   },
   "outputs": [
    {
     "name": "stdout",
     "output_type": "stream",
     "text": [
      "\n"
     ]
    },
    {
     "data": {
      "image/png": "[encoded data removed]",
      "text/plain": [
       "<Figure size 1200x400 with 1 Axes>"
      ]
     },
     "metadata": {},
     "output_type": "display_data"
    }
   ],
   "source": [
    "# Calling the function\"fig_axes()\"\n",
    "fig_axes()\n",
    "\n",
    "# Plotting the age distribution.\n",
    "sns.histplot(data_plot_1, bins=50)\n",
    "\n",
    "# Defining the title and the lables\n",
    "plt.title('Starbucks: Age Distribution of Customers', fontsize=23, y=1.05)\n",
    "plt.xlabel('Age', labelpad=12)\n",
    "plt.ylabel('Count of Customers', labelpad=12)\n",
    "\n",
    "# Saving the plot as a picture\n",
    "plt.savefig('pics/plot_age_hist.png', dpi=300, bbox_inches = \"tight\");"
   ]
  },
  {
   "cell_type": "markdown",
   "metadata": {},
   "source": [
    "**Conclusion:** \n",
    "1. **Range of age:** The youngest customers are *18* and the oldest customers are *118*.\n",
    "2. **Median of age:** The median of the age distribution is *57*.\n",
    "3. **Mean of age:** The mean of the age distribution is approximately *61*.\n",
    "4. **Outliers:** The counts of customer ages of the value *118* are outliers and .\n"
   ]
  },
  {
   "cell_type": "code",
   "execution_count": 438,
   "metadata": {
    "scrolled": true
   },
   "outputs": [],
   "source": [
    "# Counting the amount of values and defining new data frame.\n",
    "#data_pie = data.groupby('age').agg({'gender':'count'})\n",
    "#data_pie.head()"
   ]
  },
  {
   "cell_type": "code",
   "execution_count": 435,
   "metadata": {},
   "outputs": [],
   "source": [
    "# Defining the variable for the plot.\n",
    "# Checking and counting the \"age\" values \n",
    "\n",
    "#x = profile['gender'].isnull().sum()\n",
    "#data_pie = data.groupby('age').agg({'gender':'count'})\n",
    "#data_pie['age_perc'] = (x/df_118.sum())*100\n",
    "#data_pie['ages'] = data['age'] == 118\n",
    "#data_pie['age_perc'] = (profile['gender'].isnull()/df_118_NaN)*100\n",
    "#data_pie = data_pie['age_perc']\n",
    "#data_pie['age_perc'].tail()\n",
    "#data_pie['ages'].tail()\n",
    "#print(df_118)\n",
    "#print(x)"
   ]
  },
  {
   "cell_type": "code",
   "execution_count": 409,
   "metadata": {},
   "outputs": [],
   "source": [
    "# Checking the ratio of the defined variable.\n",
    "#data_pie.tail()"
   ]
  },
  {
   "cell_type": "code",
   "execution_count": 410,
   "metadata": {
    "scrolled": false
   },
   "outputs": [
    {
     "name": "stdout",
     "output_type": "stream",
     "text": [
      "\n"
     ]
    },
    {
     "ename": "ValueError",
     "evalue": "x must be 1D",
     "output_type": "error",
     "traceback": [
      "\u001b[0;31m---------------------------------------------------------------------------\u001b[0m",
      "\u001b[0;31mValueError\u001b[0m                                Traceback (most recent call last)",
      "\u001b[0;32m<ipython-input-410-2bb108f77de7>\u001b[0m in \u001b[0;36m<module>\u001b[0;34m\u001b[0m\n\u001b[1;32m     10\u001b[0m \u001b[0;31m# Defining the plot.\u001b[0m\u001b[0;34m\u001b[0m\u001b[0;34m\u001b[0m\u001b[0;34m\u001b[0m\u001b[0m\n\u001b[1;32m     11\u001b[0m plt.pie(data_pie, explode=plot_explode, labels=plot_labels, autopct='%1.1f%%', shadow=True,\n\u001b[0;32m---> 12\u001b[0;31m         startangle=90, colors=plot_base_color, textprops=dict(color=\"darkblue\"))\n\u001b[0m\u001b[1;32m     13\u001b[0m \u001b[0mplt\u001b[0m\u001b[0;34m.\u001b[0m\u001b[0maxis\u001b[0m\u001b[0;34m(\u001b[0m\u001b[0;34m'equal'\u001b[0m\u001b[0;34m)\u001b[0m  \u001b[0;31m# Ensuring that pie is drawn as a circle.\u001b[0m\u001b[0;34m\u001b[0m\u001b[0;34m\u001b[0m\u001b[0m\n\u001b[1;32m     14\u001b[0m \u001b[0;34m\u001b[0m\u001b[0m\n",
      "\u001b[0;32m/opt/anaconda3/envs/py3_env/lib/python3.6/site-packages/matplotlib/pyplot.py\u001b[0m in \u001b[0;36mpie\u001b[0;34m(x, explode, labels, colors, autopct, pctdistance, shadow, labeldistance, startangle, radius, counterclock, wedgeprops, textprops, center, frame, rotatelabels, normalize, data)\u001b[0m\n\u001b[1;32m   2832\u001b[0m         \u001b[0mwedgeprops\u001b[0m\u001b[0;34m=\u001b[0m\u001b[0mwedgeprops\u001b[0m\u001b[0;34m,\u001b[0m \u001b[0mtextprops\u001b[0m\u001b[0;34m=\u001b[0m\u001b[0mtextprops\u001b[0m\u001b[0;34m,\u001b[0m \u001b[0mcenter\u001b[0m\u001b[0;34m=\u001b[0m\u001b[0mcenter\u001b[0m\u001b[0;34m,\u001b[0m\u001b[0;34m\u001b[0m\u001b[0;34m\u001b[0m\u001b[0m\n\u001b[1;32m   2833\u001b[0m         \u001b[0mframe\u001b[0m\u001b[0;34m=\u001b[0m\u001b[0mframe\u001b[0m\u001b[0;34m,\u001b[0m \u001b[0mrotatelabels\u001b[0m\u001b[0;34m=\u001b[0m\u001b[0mrotatelabels\u001b[0m\u001b[0;34m,\u001b[0m \u001b[0mnormalize\u001b[0m\u001b[0;34m=\u001b[0m\u001b[0mnormalize\u001b[0m\u001b[0;34m,\u001b[0m\u001b[0;34m\u001b[0m\u001b[0;34m\u001b[0m\u001b[0m\n\u001b[0;32m-> 2834\u001b[0;31m         **({\"data\": data} if data is not None else {}))\n\u001b[0m\u001b[1;32m   2835\u001b[0m \u001b[0;34m\u001b[0m\u001b[0m\n\u001b[1;32m   2836\u001b[0m \u001b[0;34m\u001b[0m\u001b[0m\n",
      "\u001b[0;32m/opt/anaconda3/envs/py3_env/lib/python3.6/site-packages/matplotlib/__init__.py\u001b[0m in \u001b[0;36minner\u001b[0;34m(ax, data, *args, **kwargs)\u001b[0m\n\u001b[1;32m   1445\u001b[0m     \u001b[0;32mdef\u001b[0m \u001b[0minner\u001b[0m\u001b[0;34m(\u001b[0m\u001b[0max\u001b[0m\u001b[0;34m,\u001b[0m \u001b[0;34m*\u001b[0m\u001b[0margs\u001b[0m\u001b[0;34m,\u001b[0m \u001b[0mdata\u001b[0m\u001b[0;34m=\u001b[0m\u001b[0;32mNone\u001b[0m\u001b[0;34m,\u001b[0m \u001b[0;34m**\u001b[0m\u001b[0mkwargs\u001b[0m\u001b[0;34m)\u001b[0m\u001b[0;34m:\u001b[0m\u001b[0;34m\u001b[0m\u001b[0;34m\u001b[0m\u001b[0m\n\u001b[1;32m   1446\u001b[0m         \u001b[0;32mif\u001b[0m \u001b[0mdata\u001b[0m \u001b[0;32mis\u001b[0m \u001b[0;32mNone\u001b[0m\u001b[0;34m:\u001b[0m\u001b[0;34m\u001b[0m\u001b[0;34m\u001b[0m\u001b[0m\n\u001b[0;32m-> 1447\u001b[0;31m             \u001b[0;32mreturn\u001b[0m \u001b[0mfunc\u001b[0m\u001b[0;34m(\u001b[0m\u001b[0max\u001b[0m\u001b[0;34m,\u001b[0m \u001b[0;34m*\u001b[0m\u001b[0mmap\u001b[0m\u001b[0;34m(\u001b[0m\u001b[0msanitize_sequence\u001b[0m\u001b[0;34m,\u001b[0m \u001b[0margs\u001b[0m\u001b[0;34m)\u001b[0m\u001b[0;34m,\u001b[0m \u001b[0;34m**\u001b[0m\u001b[0mkwargs\u001b[0m\u001b[0;34m)\u001b[0m\u001b[0;34m\u001b[0m\u001b[0;34m\u001b[0m\u001b[0m\n\u001b[0m\u001b[1;32m   1448\u001b[0m \u001b[0;34m\u001b[0m\u001b[0m\n\u001b[1;32m   1449\u001b[0m         \u001b[0mbound\u001b[0m \u001b[0;34m=\u001b[0m \u001b[0mnew_sig\u001b[0m\u001b[0;34m.\u001b[0m\u001b[0mbind\u001b[0m\u001b[0;34m(\u001b[0m\u001b[0max\u001b[0m\u001b[0;34m,\u001b[0m \u001b[0;34m*\u001b[0m\u001b[0margs\u001b[0m\u001b[0;34m,\u001b[0m \u001b[0;34m**\u001b[0m\u001b[0mkwargs\u001b[0m\u001b[0;34m)\u001b[0m\u001b[0;34m\u001b[0m\u001b[0;34m\u001b[0m\u001b[0m\n",
      "\u001b[0;32m/opt/anaconda3/envs/py3_env/lib/python3.6/site-packages/matplotlib/axes/_axes.py\u001b[0m in \u001b[0;36mpie\u001b[0;34m(self, x, explode, labels, colors, autopct, pctdistance, shadow, labeldistance, startangle, radius, counterclock, wedgeprops, textprops, center, frame, rotatelabels, normalize)\u001b[0m\n\u001b[1;32m   2995\u001b[0m         \u001b[0mx\u001b[0m \u001b[0;34m=\u001b[0m \u001b[0mnp\u001b[0m\u001b[0;34m.\u001b[0m\u001b[0masarray\u001b[0m\u001b[0;34m(\u001b[0m\u001b[0mx\u001b[0m\u001b[0;34m,\u001b[0m \u001b[0mnp\u001b[0m\u001b[0;34m.\u001b[0m\u001b[0mfloat32\u001b[0m\u001b[0;34m)\u001b[0m\u001b[0;34m\u001b[0m\u001b[0;34m\u001b[0m\u001b[0m\n\u001b[1;32m   2996\u001b[0m         \u001b[0;32mif\u001b[0m \u001b[0mx\u001b[0m\u001b[0;34m.\u001b[0m\u001b[0mndim\u001b[0m \u001b[0;34m>\u001b[0m \u001b[0;36m1\u001b[0m\u001b[0;34m:\u001b[0m\u001b[0;34m\u001b[0m\u001b[0;34m\u001b[0m\u001b[0m\n\u001b[0;32m-> 2997\u001b[0;31m             \u001b[0;32mraise\u001b[0m \u001b[0mValueError\u001b[0m\u001b[0;34m(\u001b[0m\u001b[0;34m\"x must be 1D\"\u001b[0m\u001b[0;34m)\u001b[0m\u001b[0;34m\u001b[0m\u001b[0;34m\u001b[0m\u001b[0m\n\u001b[0m\u001b[1;32m   2998\u001b[0m \u001b[0;34m\u001b[0m\u001b[0m\n\u001b[1;32m   2999\u001b[0m         \u001b[0;32mif\u001b[0m \u001b[0mnp\u001b[0m\u001b[0;34m.\u001b[0m\u001b[0many\u001b[0m\u001b[0;34m(\u001b[0m\u001b[0mx\u001b[0m \u001b[0;34m<\u001b[0m \u001b[0;36m0\u001b[0m\u001b[0;34m)\u001b[0m\u001b[0;34m:\u001b[0m\u001b[0;34m\u001b[0m\u001b[0;34m\u001b[0m\u001b[0m\n",
      "\u001b[0;31mValueError\u001b[0m: x must be 1D"
     ]
    },
    {
     "data": {
      "image/png": "[encoded data removed]",
      "text/plain": [
       "<Figure size 1200x400 with 1 Axes>"
      ]
     },
     "metadata": {},
     "output_type": "display_data"
    }
   ],
   "source": [
    "# Plotting the immediate booking possibility of apartments.\n",
    "# Calling the function\"fig_axes()\"\n",
    "fig_axes() # Python Function\n",
    "\n",
    "# Defining the plot variables.\n",
    "plot_labels = 'No', 'Yes'\n",
    "plot_base_color = ['skyblue', 'cornflowerblue']\n",
    "plot_explode = (0.1, 0)  # Exploding the 2 slices (gap)\n",
    "\n",
    "# Defining the plot.\n",
    "plt.pie(data_pie, explode=plot_explode, labels=plot_labels, autopct='%1.1f%%', shadow=True,\n",
    "        startangle=90, colors=plot_base_color, textprops=dict(color=\"darkblue\"))\n",
    "plt.axis('equal')  # Ensuring that pie is drawn as a circle.\n",
    "\n",
    "# Defining the title\n",
    "plt.title('Will I Quickly Find a Suitable Apartment in Munich?', fontsize=18, y=1.03)\n",
    "\n",
    "# Saving as a picture\n",
    "plt.savefig('pics/plot_age_pie.png', dpi=300);"
   ]
  },
  {
   "cell_type": "code",
   "execution_count": null,
   "metadata": {},
   "outputs": [],
   "source": []
  },
  {
   "cell_type": "code",
   "execution_count": null,
   "metadata": {},
   "outputs": [],
   "source": []
  },
  {
   "cell_type": "code",
   "execution_count": null,
   "metadata": {},
   "outputs": [],
   "source": []
  },
  {
   "cell_type": "code",
   "execution_count": null,
   "metadata": {},
   "outputs": [],
   "source": []
  },
  {
   "cell_type": "markdown",
   "metadata": {},
   "source": [
    "<a id='sec3'></a>\n",
    "## 4. Section 3: Methodology\n",
    "<div style=\"text-align: right\"><right><a href=\"#top\">Table of Content</a></div>"
   ]
  },
  {
   "cell_type": "markdown",
   "metadata": {},
   "source": [
    "<a id='sec3_1'></a>\n",
    "### 4. A. Data Preprocessing\n",
    "<div style=\"text-align: right\"><right><a href=\"#top\">Table of Content</a></div>\n",
    "  \n",
    "#### Description of the steps taken to preprocess the data and address any abnormalities in the data sets. If data preprocessing is not needed, the reasons will be explained.<br>"
   ]
  },
  {
   "cell_type": "markdown",
   "metadata": {},
   "source": [
    "Maschine Learning:\n",
    "    \n",
    "    * Tensor Flow\n",
    "    * Keras"
   ]
  },
  {
   "cell_type": "code",
   "execution_count": null,
   "metadata": {},
   "outputs": [],
   "source": []
  },
  {
   "cell_type": "code",
   "execution_count": null,
   "metadata": {},
   "outputs": [],
   "source": []
  },
  {
   "cell_type": "code",
   "execution_count": null,
   "metadata": {},
   "outputs": [],
   "source": []
  },
  {
   "cell_type": "markdown",
   "metadata": {},
   "source": [
    "<a id='sec3_2'></a>\n",
    "### 4. B. Implementation\n",
    "<div style=\"text-align: right\"><right><a href=\"#top\">Table of Content</a></div>\n",
    "\n",
    "    \n",
    "#### Discussion about the process using the models, algorithms, and techniques applied to solve the problem. As well as mentioning of any complications during the implementation."
   ]
  },
  {
   "cell_type": "markdown",
   "metadata": {},
   "source": [
    "<a id='sec3_3'></a>\n",
    "### 4. C. Refinement\n",
    "<div style=\"text-align: right\"><right><a href=\"#top\">Table of Content</a></div>\n",
    "\n",
    "#### Description of the process to refine the algorithms and techniques, such as using cross-validation or changing the parameter settings."
   ]
  },
  {
   "cell_type": "markdown",
   "metadata": {},
   "source": [
    "<a id='sec4'></a>\n",
    "## 5. Section 4: Results\n",
    "<div style=\"text-align: right\"><right><a href=\"#top\">Table of Content</a></div>"
   ]
  },
  {
   "cell_type": "markdown",
   "metadata": {},
   "source": [
    "<a id='sec4_1'></a>\n",
    "### 5. A. Model Evaluation and Validation\n",
    "<div style=\"text-align: right\"><right><a href=\"#top\">Table of Content</a></div>\n",
    "\n",
    "    \n",
    "#### Discussion about the models and parameters used in the methodology. \n",
    "    \n",
    "# If no model is used, students can discuss the methodology using data visualizations and other means."
   ]
  },
  {
   "cell_type": "markdown",
   "metadata": {},
   "source": [
    "<a id='sec4_2'></a>\n",
    "### 5. B. Justification\n",
    "<div style=\"text-align: right\"><right><a href=\"#top\">Table of Content</a></div>\n",
    "\n",
    "#### Discussion about the final results in detail and explaination why some models, parameters, or techniques perform better over others. \n",
    "    \n",
    "# Show and compare the results in tabular forms or charts."
   ]
  },
  {
   "cell_type": "markdown",
   "metadata": {},
   "source": [
    "<a id='sec5'></a>\n",
    "## 6. Section 5: Conclusion\n",
    "<div style=\"text-align: right\"><right><a href=\"#top\">Table of Content</a></div>"
   ]
  },
  {
   "cell_type": "markdown",
   "metadata": {},
   "source": [
    "<a id='sec5_1'></a>\n",
    "### 6. A. Reflection\n",
    "<div style=\"text-align: right\"><right><a href=\"#top\">Table of Content</a></div>\n",
    "\n",
    "#### Summary of the end-to-end problem solution and discussion of the particular aspects which are interesting or difficult to implement."
   ]
  },
  {
   "cell_type": "markdown",
   "metadata": {},
   "source": [
    "<a id='sec5_2'></a>\n",
    "### 6. B. Improvement\n",
    "<div style=\"text-align: right\"><right><a href=\"#top\">Table of Content</a></div>\n",
    "\n",
    "#### Suggestions for the next research to improve the experiment."
   ]
  },
  {
   "cell_type": "code",
   "execution_count": null,
   "metadata": {},
   "outputs": [],
   "source": []
  },
  {
   "cell_type": "code",
   "execution_count": null,
   "metadata": {},
   "outputs": [],
   "source": []
  },
  {
   "cell_type": "code",
   "execution_count": null,
   "metadata": {},
   "outputs": [],
   "source": []
  },
  {
   "cell_type": "markdown",
   "metadata": {},
   "source": [
    "<a id='sec6'></a>\n",
    "## 7. References\n",
    "<div style=\"text-align: right\"><right><a href=\"#top\">Table of Content</a></div>"
   ]
  },
  {
   "cell_type": "markdown",
   "metadata": {},
   "source": [
    "<li><a href=\"https://unsplash.com/photos/NlGjqcPACUw\">Data Source Picture 1</a> (Date Compiled: 11 August, 2022)</li>\n",
    "<li><a href=\"https://unsplash.com/photos/dThk3tBIp4Q\">Data Source Picture 2</a> (Date Compiled: 11 August, 2022)</li>"
   ]
  },
  {
   "cell_type": "code",
   "execution_count": null,
   "metadata": {},
   "outputs": [],
   "source": []
  },
  {
   "cell_type": "code",
   "execution_count": null,
   "metadata": {},
   "outputs": [],
   "source": []
  },
  {
   "cell_type": "code",
   "execution_count": null,
   "metadata": {},
   "outputs": [],
   "source": []
  },
  {
   "cell_type": "code",
   "execution_count": null,
   "metadata": {},
   "outputs": [],
   "source": []
  },
  {
   "cell_type": "code",
   "execution_count": null,
   "metadata": {},
   "outputs": [],
   "source": []
  },
  {
   "cell_type": "code",
   "execution_count": null,
   "metadata": {},
   "outputs": [],
   "source": []
  },
  {
   "cell_type": "code",
   "execution_count": null,
   "metadata": {},
   "outputs": [],
   "source": []
  }
 ],
 "metadata": {
  "kernelspec": {
   "display_name": "Python [conda env:py3_env]",
   "language": "python",
   "name": "conda-env-py3_env-py"
  },
  "language_info": {
   "codemirror_mode": {
    "name": "ipython",
    "version": 3
   },
   "file_extension": ".py",
   "mimetype": "text/x-python",
   "name": "python",
   "nbconvert_exporter": "python",
   "pygments_lexer": "ipython3",
   "version": "3.6.13"
  }
 },
 "nbformat": 4,
 "nbformat_minor": 2
}
