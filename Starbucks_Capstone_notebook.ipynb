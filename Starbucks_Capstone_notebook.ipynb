{
 "cells": [
  {
   "cell_type": "markdown",
   "metadata": {},
   "source": [
    "<div style=\"text-align: right\"><b>31th, October 2022</b></div>\n",
    "\n",
    "# Data Scientist Udacity Nanodegree - Capstone Project: Starbucks Capstone Challenge\n",
    "\n",
    "\n",
    "#### Author: Sebastian Heß\n"
   ]
  },
  {
   "cell_type": "markdown",
   "metadata": {},
   "source": [
    "<img src=\"pics/pic_sb.jpg\"/>"
   ]
  },
  {
   "cell_type": "markdown",
   "metadata": {},
   "source": [
    "<a id='top'></a>\n",
    "## Table of Contents\n",
    "<ol class=\"level_1\">\n",
    "    <li><a href=\"#int\">Introduction</a></li>\n",
    "        <ol class=\"level_2\">\n",
    "            <li><a href=\"#int_1\">Project Information by Udacity</a></li>\n",
    "        </ol>\n",
    "     <li><a href=\"#sec1\">Section 1: Project Definition</a></li>\n",
    "        <ol class=\"level_2\">\n",
    "            <li><a href=\"#sec1_1\">Project Overview</a></li>\n",
    "            <li><a href=\"#sec1_2\">Project Statement</a></li>\n",
    "            <li><a href=\"#sec1_3\">Metrics</a></li>\n",
    "        </ol>   \n",
    "    <li><a href=\"#sec2\">Section 2: Exploratory Data Analysis</a></li>\n",
    "        <ol class=\"level_2\">\n",
    "            <li><a href=\"#sec2_1\">Data Exploration</a></li>\n",
    "            <ol class=\"level_3\">\n",
    "                <li><a href=\"#sec2_11\">Data Wrangling</a></li> \n",
    "                <ol class=\"level_4\">\n",
    "                    <li><a href=\"#sec2_111\">Portfolio (offer)</a></li>\n",
    "                    <li><a href=\"#sec2_112\">Profile (demographic)</a></li>\n",
    "                    <li><a href=\"#sec2_113\">Transcript (transaction records)</a></li>\n",
    "                    <li><a href=\"#sec2_114\">Merge of the Data Frames</a></li>\n",
    "                </ol>\n",
    "            </ol>\n",
    "            <li><a href=\"#sec2_2\">Data Visualization</a></li>\n",
    "            <ol class=\"level_3\">\n",
    "                <li><a href=\"#sec2_21\">Question 1: How is the distribution of the variable \"age\"?</a></li>\n",
    "                <li><a href=\"#sec2_22\">Question 2: How is the distribution of the variable \"gender\"?</a></li> \n",
    "                <li><a href=\"#sec2_23\">Question 3:  How is the distribution of the variable \"income\"?</a></li> \n",
    "                <li><a href=\"#sec2_24\">Question 4:  How is the distribution of the variable \"gender\" correlated to the age clusters?</a></li>\n",
    "                <li><a href=\"#sec2_25\">Question 5:  How is the distribution of the variable \"gender\" correlated to the income clusters?</a></li> \n",
    "                <li><a href=\"#sec2_26\">Question 6:  How is the distribution of the variable \"age\" correlated to the offer types?</a></li> \n",
    "                <li><a href=\"#sec2_27\">Question 7:  How is the distribution of the variable \"gender\" correlated to the offer types?</a></li>\n",
    "                <li><a href=\"#sec2_28\">Question 8:  How is the distribution of the variable \"gender\" correlated to the events?</a></li>\n",
    "                <li><a href=\"#sec2_29\">Question 9:  How is the distribution of the variable \"age\" correlated to the events?</a></li> \n",
    "            </ol>\n",
    "        </ol>\n",
    "    <li><a href=\"#sec3\">Section 3: Methodology</a></li>\n",
    "        <ol class=\"level_2\">\n",
    "            <li><a href=\"#sec3_1\">Data Preprocessing</a></li>\n",
    "            <ol class=\"level_3\">\n",
    "                <li><a href=\"#sec3_11\">Eliminating Outliers of variable \"age\"</a></li>\n",
    "                <li><a href=\"#sec3_12\">Imputing Missing Values</a></li> \n",
    "                <li><a href=\"#sec3_13\"><i>Dropping Missing Values (Discarded - Not used)</i></a></li>\n",
    "                <li><a href=\"#sec3_14\">Splitting the variable \"channels\" in categorical variables based on its values</a></li>\n",
    "                <li><a href=\"#sec3_15\">Splitting the variable \"event\" in categorical variables based on its values</a></li>\n",
    "                <li><a href=\"#sec3_16\">Splitting the variable \"offer_type\" in categorical variables based on its values</a></li>\n",
    "                <li><a href=\"#sec3_17\">Splitting the variable \"gender\" in categorical variables based on its values</a></li>\n",
    "                <li><a href=\"#sec3_18\">Splitting the variable \"age\" in categorical variables based on its values</a></li>\n",
    "                <li><a href=\"#sec3_19\">Creating a new variable \"row_count\"</a></li>\n",
    "            </ol>\n",
    "            <li><a href=\"#sec3_2\">Implementation</a></li>\n",
    "            <ol class=\"level_3\">\n",
    "                <li><a href=\"#sec3_21\">Creating a machine learning model</a></li>\n",
    "                <li><a href=\"#sec3_22\">Creating a function for a confusion matrix</a></li>\n",
    "                <li><a href=\"#sec3_23\">Creating a data frame with metrics</a></li>\n",
    "                <li><a href=\"#sec3_24\">Machine learning model inital setup</a></li>\n",
    "                <li><a href=\"#sec3_25\">Model: NULL</a></li>\n",
    "                <li><a href=\"#sec3_26\">Model A: Logistic Regression</a></li>\n",
    "                <li><a href=\"#sec3_27\">Model B: Decision Trees</a></li>\n",
    "                <li><a href=\"#sec3_28\">Model C: Naive Bayes Classifier</a></li>\n",
    "                <li><a href=\"#sec3_29\">Model D: KNeighbors Classifier</a></li>\n",
    "            </ol>\n",
    "            <li><a href=\"#sec3_2\">Refinement</a></li>\n",
    "            <ol class=\"level_3\">\n",
    "                <li><a href=\"#sec3_31\">Metrics</a></li>\n",
    "                <li><a href=\"#sec3_32\">Classification Threshold: Modifying the classification threshold </a></li>\n",
    "                <li><a href=\"#sec3_33\">Classification Threshold: Visualization of the recall/precision correlation of \"NaiveBase\"  and \"KNeighbors\" models</a></li>\n",
    "                <li><a href=\"#sec3_34\">Classification Threshold: Visualization of the recall, precision/threshold correlation of the \"KNeighbors\" model</a></li>\n",
    "                <li><a href=\"#sec3_35\">Classification Threshold: Adjusting \"KNeigbhors\" classifier with a threshold value of 0.95</a></li>\n",
    "            </ol>\n",
    "        </ol>\n",
    "    <li><a href=\"#sec4\">Section 4: Results</a></li>\n",
    "        <ol class=\"level_2\">\n",
    "            <li><a href=\"#sec4_1\">Model Evaluation and Validation</a></li>\n",
    "            <li><a href=\"#sec4_2\">Justification</a></li>\n",
    "        </ol>\n",
    "    <li><a href=\"#sec5\">Section 5: Conclusion</a></li>\n",
    "        <ol class=\"level_2\">\n",
    "            <li><a href=\"#sec5_1\">Reflection</a></li>\n",
    "            <li><a href=\"#sec5_2\">Improvement</a></li>\n",
    "        </ol>\n",
    "    <li><a href=\"#sec6\">References</a></li>\n",
    "</ol>"
   ]
  },
  {
   "cell_type": "markdown",
   "metadata": {},
   "source": [
    "<a id='int'></a>\n",
    "# 1. Introduction\n",
    "<div style=\"text-align: right\"><right><a href=\"#top\">Table of Content</a></div>"
   ]
  },
  {
   "cell_type": "markdown",
   "metadata": {},
   "source": [
    "<a id='int_1'></a>\n",
    "## 1. A. Project Information provided by Udacity\n",
    "<div style=\"text-align: right\"><right><a href=\"#top\">Table of Content</a></div>"
   ]
  },
  {
   "cell_type": "markdown",
   "metadata": {},
   "source": [
    "### Introduction\n",
    "\n",
    "This data set contains simulated data that mimics customer behavior on the Starbucks rewards mobile app. Once every few days, Starbucks sends out an offer to users of the mobile app. An offer can be merely an advertisement for a drink or an actual offer such as a discount or BOGO (buy one get one free). Some users might not receive any offer during certain weeks. \n",
    "\n",
    "Not all users receive the same offer, and that is the challenge to solve with this data set.\n",
    "\n",
    "Your task is to combine transaction, demographic and offer data to determine which demographic groups respond best to which offer type. This data set is a simplified version of the real Starbucks app because the underlying simulator only has one product whereas Starbucks actually sells dozens of products.\n",
    "\n",
    "Every offer has a validity period before the offer expires. As an example, a BOGO offer might be valid for only 5 days. You'll see in the data set that informational offers have a validity period even though these ads are merely providing information about a product; for example, if an informational offer has 7 days of validity, you can assume the customer is feeling the influence of the offer for 7 days after receiving the advertisement.\n",
    "\n",
    "You'll be given transactional data showing user purchases made on the app including the timestamp of purchase and the amount of money spent on a purchase. This transactional data also has a record for each offer that a user receives as well as a record for when a user actually views the offer. There are also records for when a user completes an offer. \n",
    "\n",
    "Keep in mind as well that someone using the app might make a purchase through the app without having received an offer or seen an offer.\n",
    "\n",
    "### Example\n",
    "\n",
    "To give an example, a user could receive a discount offer buy 10 dollars get 2 off on Monday. The offer is valid for 10 days from receipt. If the customer accumulates at least 10 dollars in purchases during the validity period, the customer completes the offer.\n",
    "\n",
    "However, there are a few things to watch out for in this data set. Customers do not opt into the offers that they receive; in other words, a user can receive an offer, never actually view the offer, and still complete the offer. For example, a user might receive the \"buy 10 dollars get 2 dollars off offer\", but the user never opens the offer during the 10 day validity period. The customer spends 15 dollars during those ten days. There will be an offer completion record in the data set; however, the customer was not influenced by the offer because the customer never viewed the offer.\n",
    "\n",
    "### Cleaning\n",
    "\n",
    "This makes data cleaning especially important and tricky.\n",
    "\n",
    "You'll also want to take into account that some demographic groups will make purchases even if they don't receive an offer. From a business perspective, if a customer is going to make a 10 dollar purchase without an offer anyway, you wouldn't want to send a buy 10 dollars get 2 dollars off offer. You'll want to try to assess what a certain demographic group will buy when not receiving any offers.\n",
    "\n",
    "### Final Advice\n",
    "\n",
    "Because this is a capstone project, you are free to analyze the data any way you see fit. For example, you could build a machine learning model that predicts how much someone will spend based on demographics and offer type. Or you could build a model that predicts whether or not someone will respond to an offer. Or, you don't need to build a machine learning model at all. You could develop a set of heuristics that determine what offer you should send to each customer (i.e., 75 percent of women customers who were 35 years old responded to offer A vs 40 percent from the same demographic to offer B, so send offer A)."
   ]
  },
  {
   "cell_type": "markdown",
   "metadata": {},
   "source": [
    "## Data Sets\n",
    "\n",
    "The data is contained in three files:\n",
    "\n",
    "* **portfolio.json** - containing offer ids and meta data about each offer (duration, type, etc.)\n",
    "* **profile.json** - demographic data for each customer\n",
    "* **transcript.json** - records for transactions, offers received, offers viewed, and offers completed\n",
    "\n",
    "Here is the schema and explanation of each variable in the files:\n",
    "\n",
    "**portfolio.json**\n",
    "* id (string) - offer id\n",
    "* offer_type (string) - type of offer ie BOGO, discount, informational\n",
    "* difficulty (int) - minimum required spend to complete an offer\n",
    "* reward (int) - reward given for completing an offer\n",
    "* duration (int) - time for offer to be open, in days\n",
    "* channels (list of strings)\n",
    "\n",
    "**profile.json**\n",
    "* age (int) - age of the customer \n",
    "* became_member_on (int) - date when customer created an app account\n",
    "* gender (str) - gender of the customer (note some entries contain 'O' for other rather than M or F)\n",
    "* id (str) - customer id\n",
    "* income (float) - customer's income\n",
    "\n",
    "**transcript.json**\n",
    "* event (str) - record description (ie transaction, offer received, offer viewed, etc.)\n",
    "* person (str) - customer id\n",
    "* time (int) - time in hours since start of test. The data begins at time t=0\n",
    "* value - (dict of strings) - either an offer id or transaction amount depending on the record\n",
    "\n",
    "**Note:** If you are using the workspace, you will need to go to the terminal and run the command `conda update pandas` before reading in the files. This is because the version of pandas in the workspace cannot read in the transcript.json file correctly, but the newest version of pandas can. You can access the termnal from the orange icon in the top left of this notebook.  \n",
    "\n",
    "You can see how to access the terminal and how the install works using the two images below.  First you need to access the terminal:\n",
    "\n",
    "<img src=\"pics/pic1.png\"/>\n",
    "\n",
    "Then you will want to run the above command:\n",
    "\n",
    "<img src=\"pics/pic2.png\"/>\n",
    "\n",
    "Finally, when you enter back into the notebook (use the jupyter icon again), you should be able to run the below cell without any errors."
   ]
  },
  {
   "cell_type": "markdown",
   "metadata": {},
   "source": [
    "<a id='sec1'></a>\n",
    "# 2. Section 1: Project Definition\n",
    "<div style=\"text-align: right\"><right><a href=\"#top\">Table of Content</a></div>"
   ]
  },
  {
   "cell_type": "markdown",
   "metadata": {},
   "source": [
    "<a id='sec1_1'></a>\n",
    "## 2. A. Project Overview\n",
    "<div style=\"text-align: right\"><right><a href=\"#top\">Table of Content</a></div>\n"
   ]
  },
  {
   "cell_type": "markdown",
   "metadata": {},
   "source": [
    "This is the final project of my Udacity Data Scientist Nanodegree. I chose the Starbuck's Capstone Challenge project because I'm interested in the experience of studying user demographic purchasing behavior across different offer types to determine which demographics respond best to which offer type.\n",
    "\n",
    "The data consists of simulated data that mimics customer behavior in the Starbucks Rewards mobile app. Starbuck regularly sends customers offers through the mobile app. The offers contain either advertising or various discount options.\n",
    "\n",
    "Identifying the top responding demographics by offer type requires combining transactional, demographic, and offer data.\n"
   ]
  },
  {
   "cell_type": "markdown",
   "metadata": {},
   "source": [
    "<a id='sec1_2'></a>\n",
    "## 2. B. Problem Statement\n",
    "<div style=\"text-align: right\"><right><a href=\"#top\">Table of Content</a></div>\n"
   ]
  },
  {
   "cell_type": "markdown",
   "metadata": {},
   "source": [
    "For this project Starbucks and Udacity are providing 3 data sets:\n",
    "\n",
    "1. **Protfolio (offer)** - Containing offer ids and meta data about each offer sent during a 30-day test period (duration, type, etc.)\n",
    "2. **Profile (demographic)** - Containing demographic data of the rewards program for each customer.\n",
    "3. **Transcript (transaction records)** - Containing event logs like records for transactions, offers received, offers viewed, and offers completed.\n",
    "\n",
    "\n",
    "##### **Facts:**\n",
    "* The users might not receive any offer in a specific time range.\n",
    "* The users are receiving different kinds of offers.\n",
    "\n",
    "\n",
    "##### **Tasks:**\n",
    "\n",
    "1. Exploring the data by wrangling.\n",
    "2. Data Analyse by Visualization of the data.\n",
    "3. Preprocessing the data.\n",
    "4. Implementation of the maschine learning model.\n",
    "5. Refinement of the maschine learning model.\n",
    "6. Evaluation of the maschine learning model and justification of the results.\n",
    "7. Reflection about the solution and protential improvements.\n",
    "\n",
    "##### **Challenges:**\n",
    "\n",
    "1. My main objective is to implement a logic that makes it possible to predict if a customer will complete an offer.\n"
   ]
  },
  {
   "cell_type": "markdown",
   "metadata": {},
   "source": [
    "<a id='sec1_3'></a>\n",
    "## 2. C. Metrics\n",
    "<div style=\"text-align: right\"><right><a href=\"#top\">Table of Content</a></div>\n"
   ]
  },
  {
   "cell_type": "markdown",
   "metadata": {},
   "source": [
    "The following metrics are chosen to evaluate the model's performance:\n",
    "\n",
    "> * **Accuracy:** the proportion of the total number of predictions that are correct.<br>\n",
    "(The total, how often the model predicts correctly \"defaulters\" and \"Non-Defaulters\".)<br>\n",
    "> * **Precision:** the proportion of positive predictions that are actually correct.<br>\n",
    "(When the model predicts default: How often is correct?)<br>\n",
    "> * **Recall:** the proportion of positive observed values correctly predicted as such.<br>\n",
    "(The propotion of actuall defaulters that the modell will correctly predict as such.)\n"
   ]
  },
  {
   "cell_type": "markdown",
   "metadata": {},
   "source": [
    "<a id='sec2'></a>\n",
    "# 3. Section 2: Exploratory Data Analysis\n",
    "<div style=\"text-align: right\"><right><a href=\"#top\">Table of Content</a></div>"
   ]
  },
  {
   "cell_type": "markdown",
   "metadata": {},
   "source": [
    "<a id='sec2_1'></a>\n",
    "## 3. A. Data Exploration\n",
    "<div style=\"text-align: right\"><right><a href=\"#top\">Table of Content</a></div>\n",
    "\n",
    "#### Description of the data sets, including the features, data distributions, and descriptive statistics. Identification of any abnormalities or specific characteristics inherent in the data sets.<br>"
   ]
  },
  {
   "cell_type": "markdown",
   "metadata": {},
   "source": [
    "### Imported Libraries and Modules\n",
    "\n",
    "> * **OS** a python module which priveds functions for interacting with the operating system OS.\n",
    "> * **Numpy** a Python library for working with arrays.\n",
    "> * **Pandas** a Python library for data manipulating and analysis.\n",
    "> * **import math** math module has a set of methods and constants.\n",
    "> * **import json** to work with JSON data.\n",
    "> * **Matplotlib** a Python library for data visualizations.\n",
    "> * **%matplotlib inline** a magic function for inline plotting of graphs.\n",
    "> * **Seaborn** a Python library for data visuallization based on matplotlib.\n",
    "> * **sns.set_style** to define the seaborn figure aesthetic as \"darkgrid\".\n",
    "> * **sklearn.model_selection** a class of the sklearn module splitting the data in train and test data.\n",
    "> * **sklearn.metrics** a class of the sklearn metrics to use with any continous response variable.\n",
    "> * **sklearn preprocessing** a class of the sklearn module providing several common utility functions and transformer classes to change raw feature vectors into a representation that is more suitable for the downstream estimators.\n",
    "> * **sklearn RobustScaler** a class of the sklearn module scaling features using statistics that are robust to outliers.\n",
    "> * **sklearn LogisticRegression** a class of the sklearn module containing different functions for performing machine learning with linear models.\n",
    "> * **sklearn DecisionTreeClassifier** a class of the sklearn module based on a decision tree classifier.\n",
    "> * **sklearn GaussianNB** a class of the sklearn module based on Gaussian Naive Bayes (GaussianNB).\n",
    "> * **sklearn KNeighborsClassifier** a class of the sklearn module based on a classifier implementing the k-nearest neighbors vote."
   ]
  },
  {
   "cell_type": "code",
   "execution_count": 1,
   "metadata": {},
   "outputs": [],
   "source": [
    "# Importing Libraries\n",
    "import os as os\n",
    "import numpy as np\n",
    "import pandas as pd\n",
    "import math\n",
    "import json\n",
    "import matplotlib.pyplot as plt\n",
    "%matplotlib inline\n",
    "import seaborn as sns\n",
    "sns.set_style('darkgrid')\n",
    "\n",
    "# ML tools: Import the ML libraries required \n",
    "from sklearn.model_selection import train_test_split\n",
    "from sklearn.metrics import accuracy_score, precision_score, recall_score, confusion_matrix, precision_recall_curve\n",
    "from sklearn import preprocessing\n",
    "from sklearn.preprocessing import RobustScaler\n",
    "from sklearn.linear_model import LogisticRegression\n",
    "from sklearn.tree import DecisionTreeClassifier\n",
    "from sklearn.naive_bayes import GaussianNB\n",
    "from sklearn.neighbors import KNeighborsClassifier\n"
   ]
  },
  {
   "cell_type": "markdown",
   "metadata": {},
   "source": [
    "<a id='sec2_11'></a>\n",
    "## 3. A. a. Data Wrangling\n",
    "<div style=\"text-align: right\"><right><a href=\"#top\">Table of Content</a></div>\n"
   ]
  },
  {
   "cell_type": "code",
   "execution_count": 2,
   "metadata": {},
   "outputs": [],
   "source": [
    "# Reading in the json files\n",
    "portfolio = pd.read_json('data/portfolio.json', orient='records', lines=True)\n",
    "profile = pd.read_json('data/profile.json', orient='records', lines=True)\n",
    "transcript = pd.read_json('data/transcript.json', orient='records', lines=True)\n"
   ]
  },
  {
   "cell_type": "markdown",
   "metadata": {},
   "source": [
    "<a id='sec2_111'></a>\n",
    "## Portfolio (offer) - General Properties of Fata Frame\n",
    "<div style=\"text-align: right\"><right><a href=\"#top\">Table of Content</a></div>"
   ]
  },
  {
   "cell_type": "markdown",
   "metadata": {},
   "source": [
    "#### Information: Offers sent during 30-day test period (10 offers x 6 fields)\n",
    "\n",
    ">* reward: (numeric) money awarded for the amount spent\n",
    ">* channels: (list) web, email, mobile, social\n",
    ">* difficulty: (numeric) money required to be spent to receive reward\n",
    ">* duration: (numeric) time for offer to be open, in days\n",
    ">* offer_type: (string) bogo, discount, informational\n",
    ">* id: (string/hash)<br>\n"
   ]
  },
  {
   "cell_type": "code",
   "execution_count": 3,
   "metadata": {},
   "outputs": [
    {
     "data": {
      "text/plain": [
       "(10, 6)"
      ]
     },
     "execution_count": 3,
     "metadata": {},
     "output_type": "execute_result"
    }
   ],
   "source": [
    "# Checking the shape of the data frame\n",
    "portfolio.shape\n"
   ]
  },
  {
   "cell_type": "markdown",
   "metadata": {},
   "source": [
    "**Conclusion:** The data frame consits of *6* columns and *10* rows."
   ]
  },
  {
   "cell_type": "code",
   "execution_count": 4,
   "metadata": {},
   "outputs": [
    {
     "data": {
      "text/html": [
       "<div>\n",
       "<style scoped>\n",
       "    .dataframe tbody tr th:only-of-type {\n",
       "        vertical-align: middle;\n",
       "    }\n",
       "\n",
       "    .dataframe tbody tr th {\n",
       "        vertical-align: top;\n",
       "    }\n",
       "\n",
       "    .dataframe thead th {\n",
       "        text-align: right;\n",
       "    }\n",
       "</style>\n",
       "<table border=\"1\" class=\"dataframe\">\n",
       "  <thead>\n",
       "    <tr style=\"text-align: right;\">\n",
       "      <th></th>\n",
       "      <th>reward</th>\n",
       "      <th>channels</th>\n",
       "      <th>difficulty</th>\n",
       "      <th>duration</th>\n",
       "      <th>offer_type</th>\n",
       "      <th>id</th>\n",
       "    </tr>\n",
       "  </thead>\n",
       "  <tbody>\n",
       "    <tr>\n",
       "      <th>0</th>\n",
       "      <td>10</td>\n",
       "      <td>[email, mobile, social]</td>\n",
       "      <td>10</td>\n",
       "      <td>7</td>\n",
       "      <td>bogo</td>\n",
       "      <td>ae264e3637204a6fb9bb56bc8210ddfd</td>\n",
       "    </tr>\n",
       "    <tr>\n",
       "      <th>1</th>\n",
       "      <td>10</td>\n",
       "      <td>[web, email, mobile, social]</td>\n",
       "      <td>10</td>\n",
       "      <td>5</td>\n",
       "      <td>bogo</td>\n",
       "      <td>4d5c57ea9a6940dd891ad53e9dbe8da0</td>\n",
       "    </tr>\n",
       "    <tr>\n",
       "      <th>2</th>\n",
       "      <td>0</td>\n",
       "      <td>[web, email, mobile]</td>\n",
       "      <td>0</td>\n",
       "      <td>4</td>\n",
       "      <td>informational</td>\n",
       "      <td>3f207df678b143eea3cee63160fa8bed</td>\n",
       "    </tr>\n",
       "    <tr>\n",
       "      <th>3</th>\n",
       "      <td>5</td>\n",
       "      <td>[web, email, mobile]</td>\n",
       "      <td>5</td>\n",
       "      <td>7</td>\n",
       "      <td>bogo</td>\n",
       "      <td>9b98b8c7a33c4b65b9aebfe6a799e6d9</td>\n",
       "    </tr>\n",
       "    <tr>\n",
       "      <th>4</th>\n",
       "      <td>5</td>\n",
       "      <td>[web, email]</td>\n",
       "      <td>20</td>\n",
       "      <td>10</td>\n",
       "      <td>discount</td>\n",
       "      <td>0b1e1539f2cc45b7b9fa7c272da2e1d7</td>\n",
       "    </tr>\n",
       "  </tbody>\n",
       "</table>\n",
       "</div>"
      ],
      "text/plain": [
       "   reward                      channels  difficulty  duration     offer_type  \\\n",
       "0      10       [email, mobile, social]          10         7           bogo   \n",
       "1      10  [web, email, mobile, social]          10         5           bogo   \n",
       "2       0          [web, email, mobile]           0         4  informational   \n",
       "3       5          [web, email, mobile]           5         7           bogo   \n",
       "4       5                  [web, email]          20        10       discount   \n",
       "\n",
       "                                 id  \n",
       "0  ae264e3637204a6fb9bb56bc8210ddfd  \n",
       "1  4d5c57ea9a6940dd891ad53e9dbe8da0  \n",
       "2  3f207df678b143eea3cee63160fa8bed  \n",
       "3  9b98b8c7a33c4b65b9aebfe6a799e6d9  \n",
       "4  0b1e1539f2cc45b7b9fa7c272da2e1d7  "
      ]
     },
     "execution_count": 4,
     "metadata": {},
     "output_type": "execute_result"
    }
   ],
   "source": [
    "# Displaying data frame to get an idea of the data\n",
    "portfolio.head()\n"
   ]
  },
  {
   "cell_type": "markdown",
   "metadata": {},
   "source": [
    "**Conclusion:** \n",
    "1. Since the variable \"offer_type\" is relevant for this analysis its values will be investigated more detailed. \n",
    "2. The variable \"id\" represents the **offer id**. \n",
    "3. The variable \"channels\" will be split in categorical variables based on its values."
   ]
  },
  {
   "cell_type": "code",
   "execution_count": 5,
   "metadata": {
    "scrolled": true
   },
   "outputs": [
    {
     "name": "stdout",
     "output_type": "stream",
     "text": [
      "<class 'pandas.core.frame.DataFrame'>\n",
      "RangeIndex: 10 entries, 0 to 9\n",
      "Data columns (total 6 columns):\n",
      " #   Column      Non-Null Count  Dtype \n",
      "---  ------      --------------  ----- \n",
      " 0   reward      10 non-null     int64 \n",
      " 1   channels    10 non-null     object\n",
      " 2   difficulty  10 non-null     int64 \n",
      " 3   duration    10 non-null     int64 \n",
      " 4   offer_type  10 non-null     object\n",
      " 5   id          10 non-null     object\n",
      "dtypes: int64(3), object(3)\n",
      "memory usage: 608.0+ bytes\n"
     ]
    }
   ],
   "source": [
    "# Checking a concise summary of the dataframe\n",
    "portfolio.info()\n"
   ]
  },
  {
   "cell_type": "code",
   "execution_count": 6,
   "metadata": {},
   "outputs": [
    {
     "data": {
      "text/plain": [
       "reward         int64\n",
       "channels      object\n",
       "difficulty     int64\n",
       "duration       int64\n",
       "offer_type    object\n",
       "id            object\n",
       "dtype: object"
      ]
     },
     "execution_count": 6,
     "metadata": {},
     "output_type": "execute_result"
    }
   ],
   "source": [
    "# Checking the dtype of the dataframe\n",
    "portfolio.dtypes\n"
   ]
  },
  {
   "cell_type": "markdown",
   "metadata": {},
   "source": [
    "**Conclusion:** The data frame contains two different data types `object` and `int64`. "
   ]
  },
  {
   "cell_type": "code",
   "execution_count": 7,
   "metadata": {
    "scrolled": true
   },
   "outputs": [
    {
     "data": {
      "text/plain": [
       "reward        0\n",
       "channels      0\n",
       "difficulty    0\n",
       "duration      0\n",
       "offer_type    0\n",
       "id            0\n",
       "dtype: int64"
      ]
     },
     "execution_count": 7,
     "metadata": {},
     "output_type": "execute_result"
    }
   ],
   "source": [
    "# Checking the number of missing values\n",
    "portfolio.isnull().sum()\n"
   ]
  },
  {
   "cell_type": "markdown",
   "metadata": {},
   "source": [
    "**Conclusion:** The data frame does not contain any NaN values."
   ]
  },
  {
   "cell_type": "code",
   "execution_count": 8,
   "metadata": {},
   "outputs": [
    {
     "data": {
      "text/plain": [
       "False"
      ]
     },
     "execution_count": 8,
     "metadata": {},
     "output_type": "execute_result"
    }
   ],
   "source": [
    "# Checking for duplicate values\n",
    "portfolio.columns.duplicated().any()\n"
   ]
  },
  {
   "cell_type": "markdown",
   "metadata": {},
   "source": [
    "**Conclusion:** The data frame does **not** contain any duplicated values."
   ]
  },
  {
   "cell_type": "code",
   "execution_count": 9,
   "metadata": {
    "scrolled": false
   },
   "outputs": [
    {
     "data": {
      "text/plain": [
       "10"
      ]
     },
     "execution_count": 9,
     "metadata": {},
     "output_type": "execute_result"
    }
   ],
   "source": [
    "# Checking the unique values of the data frame based in 'id'\n",
    "portfolio['id'].nunique()\n"
   ]
  },
  {
   "cell_type": "markdown",
   "metadata": {},
   "source": [
    "**Conclusion:** The variable \"id\" contains only unique values."
   ]
  },
  {
   "cell_type": "code",
   "execution_count": 10,
   "metadata": {},
   "outputs": [
    {
     "data": {
      "text/plain": [
       "offer_type\n",
       "bogo             4\n",
       "discount         4\n",
       "informational    2\n",
       "Name: id, dtype: int64"
      ]
     },
     "execution_count": 10,
     "metadata": {},
     "output_type": "execute_result"
    }
   ],
   "source": [
    "# Checking and counting the \"offer_type\" values \n",
    "portfolio.groupby('offer_type')['id'].count()\n"
   ]
  },
  {
   "cell_type": "markdown",
   "metadata": {},
   "source": [
    "**Conclusion:** The variable \"offer_type\" contains 3 values: \n",
    "* `bogo` with a count of *4*,\n",
    "> Meaning: Buy one get one free.\n",
    "* `discount` also with a count of *4* and\n",
    "> Meaning: Regular discount for an order. \n",
    "* `informational` with a count of *2*.\n",
    "> Meaning: Special offers."
   ]
  },
  {
   "cell_type": "markdown",
   "metadata": {},
   "source": [
    "## Portfolio (offer) - Cleaning"
   ]
  },
  {
   "cell_type": "markdown",
   "metadata": {},
   "source": [
    "**Tasks:**\n",
    "1. Renaming the variable \"id\" in \"offer_id\".\n",
    "2. <a href=\"#sec3_14\">Splitting the variable \"channels\" in categorical variables based on its values</a>"
   ]
  },
  {
   "cell_type": "code",
   "execution_count": 11,
   "metadata": {},
   "outputs": [],
   "source": [
    "# Copying the data frame\n",
    "portfolio_clean = portfolio.copy()\n"
   ]
  },
  {
   "cell_type": "markdown",
   "metadata": {},
   "source": [
    "**Result:** The data frame is copied."
   ]
  },
  {
   "cell_type": "markdown",
   "metadata": {},
   "source": [
    "### 1. Renaming the variable \"id\"in \"offer_id\"."
   ]
  },
  {
   "cell_type": "markdown",
   "metadata": {},
   "source": [
    "#### Code"
   ]
  },
  {
   "cell_type": "code",
   "execution_count": 12,
   "metadata": {},
   "outputs": [],
   "source": [
    "# Renaming the column \"id\"\n",
    "portfolio_clean.rename(columns={'id':'offer_id'},inplace=True)\n"
   ]
  },
  {
   "cell_type": "markdown",
   "metadata": {},
   "source": [
    "#### Test"
   ]
  },
  {
   "cell_type": "code",
   "execution_count": 13,
   "metadata": {
    "scrolled": true
   },
   "outputs": [
    {
     "data": {
      "text/html": [
       "<div>\n",
       "<style scoped>\n",
       "    .dataframe tbody tr th:only-of-type {\n",
       "        vertical-align: middle;\n",
       "    }\n",
       "\n",
       "    .dataframe tbody tr th {\n",
       "        vertical-align: top;\n",
       "    }\n",
       "\n",
       "    .dataframe thead th {\n",
       "        text-align: right;\n",
       "    }\n",
       "</style>\n",
       "<table border=\"1\" class=\"dataframe\">\n",
       "  <thead>\n",
       "    <tr style=\"text-align: right;\">\n",
       "      <th></th>\n",
       "      <th>reward</th>\n",
       "      <th>channels</th>\n",
       "      <th>difficulty</th>\n",
       "      <th>duration</th>\n",
       "      <th>offer_type</th>\n",
       "      <th>offer_id</th>\n",
       "    </tr>\n",
       "  </thead>\n",
       "  <tbody>\n",
       "    <tr>\n",
       "      <th>0</th>\n",
       "      <td>10</td>\n",
       "      <td>[email, mobile, social]</td>\n",
       "      <td>10</td>\n",
       "      <td>7</td>\n",
       "      <td>bogo</td>\n",
       "      <td>ae264e3637204a6fb9bb56bc8210ddfd</td>\n",
       "    </tr>\n",
       "    <tr>\n",
       "      <th>1</th>\n",
       "      <td>10</td>\n",
       "      <td>[web, email, mobile, social]</td>\n",
       "      <td>10</td>\n",
       "      <td>5</td>\n",
       "      <td>bogo</td>\n",
       "      <td>4d5c57ea9a6940dd891ad53e9dbe8da0</td>\n",
       "    </tr>\n",
       "    <tr>\n",
       "      <th>2</th>\n",
       "      <td>0</td>\n",
       "      <td>[web, email, mobile]</td>\n",
       "      <td>0</td>\n",
       "      <td>4</td>\n",
       "      <td>informational</td>\n",
       "      <td>3f207df678b143eea3cee63160fa8bed</td>\n",
       "    </tr>\n",
       "    <tr>\n",
       "      <th>3</th>\n",
       "      <td>5</td>\n",
       "      <td>[web, email, mobile]</td>\n",
       "      <td>5</td>\n",
       "      <td>7</td>\n",
       "      <td>bogo</td>\n",
       "      <td>9b98b8c7a33c4b65b9aebfe6a799e6d9</td>\n",
       "    </tr>\n",
       "    <tr>\n",
       "      <th>4</th>\n",
       "      <td>5</td>\n",
       "      <td>[web, email]</td>\n",
       "      <td>20</td>\n",
       "      <td>10</td>\n",
       "      <td>discount</td>\n",
       "      <td>0b1e1539f2cc45b7b9fa7c272da2e1d7</td>\n",
       "    </tr>\n",
       "  </tbody>\n",
       "</table>\n",
       "</div>"
      ],
      "text/plain": [
       "   reward                      channels  difficulty  duration     offer_type  \\\n",
       "0      10       [email, mobile, social]          10         7           bogo   \n",
       "1      10  [web, email, mobile, social]          10         5           bogo   \n",
       "2       0          [web, email, mobile]           0         4  informational   \n",
       "3       5          [web, email, mobile]           5         7           bogo   \n",
       "4       5                  [web, email]          20        10       discount   \n",
       "\n",
       "                           offer_id  \n",
       "0  ae264e3637204a6fb9bb56bc8210ddfd  \n",
       "1  4d5c57ea9a6940dd891ad53e9dbe8da0  \n",
       "2  3f207df678b143eea3cee63160fa8bed  \n",
       "3  9b98b8c7a33c4b65b9aebfe6a799e6d9  \n",
       "4  0b1e1539f2cc45b7b9fa7c272da2e1d7  "
      ]
     },
     "execution_count": 13,
     "metadata": {},
     "output_type": "execute_result"
    }
   ],
   "source": [
    "# # Displaying the new data frame to check the changes\n",
    "portfolio_clean.head()\n"
   ]
  },
  {
   "cell_type": "markdown",
   "metadata": {},
   "source": [
    "**Result:** The column \"id\" is renamed in \"offer_id\"."
   ]
  },
  {
   "cell_type": "markdown",
   "metadata": {},
   "source": [
    "<a id='sec2_112'></a>\n",
    "## Profile (demographic) - General Properties of Fata Frame\n",
    "<div style=\"text-align: right\"><right><a href=\"#top\">Table of Content</a></div>"
   ]
  },
  {
   "cell_type": "markdown",
   "metadata": {},
   "source": [
    "#### Information: Rewards program users (17000 users x 5 fields)\n",
    "\n",
    ">* gender: (categorical) M, F, O, or null\n",
    ">* age: (numeric) missing value encoded as 118\n",
    ">* id: (string/hash)\n",
    ">* became_member_on: (date) format YYYYMMDD\n",
    ">* income: (numeric)\n"
   ]
  },
  {
   "cell_type": "code",
   "execution_count": 14,
   "metadata": {},
   "outputs": [
    {
     "data": {
      "text/plain": [
       "(17000, 5)"
      ]
     },
     "execution_count": 14,
     "metadata": {},
     "output_type": "execute_result"
    }
   ],
   "source": [
    "# Checking the shape of the data frame\n",
    "profile.shape\n"
   ]
  },
  {
   "cell_type": "markdown",
   "metadata": {},
   "source": [
    "**Conclusion:** The data frame consits of *5* columns and *17,000* rows."
   ]
  },
  {
   "cell_type": "code",
   "execution_count": 15,
   "metadata": {
    "scrolled": false
   },
   "outputs": [
    {
     "data": {
      "text/html": [
       "<div>\n",
       "<style scoped>\n",
       "    .dataframe tbody tr th:only-of-type {\n",
       "        vertical-align: middle;\n",
       "    }\n",
       "\n",
       "    .dataframe tbody tr th {\n",
       "        vertical-align: top;\n",
       "    }\n",
       "\n",
       "    .dataframe thead th {\n",
       "        text-align: right;\n",
       "    }\n",
       "</style>\n",
       "<table border=\"1\" class=\"dataframe\">\n",
       "  <thead>\n",
       "    <tr style=\"text-align: right;\">\n",
       "      <th></th>\n",
       "      <th>gender</th>\n",
       "      <th>age</th>\n",
       "      <th>id</th>\n",
       "      <th>became_member_on</th>\n",
       "      <th>income</th>\n",
       "    </tr>\n",
       "  </thead>\n",
       "  <tbody>\n",
       "    <tr>\n",
       "      <th>0</th>\n",
       "      <td>None</td>\n",
       "      <td>118</td>\n",
       "      <td>68be06ca386d4c31939f3a4f0e3dd783</td>\n",
       "      <td>20170212</td>\n",
       "      <td>NaN</td>\n",
       "    </tr>\n",
       "    <tr>\n",
       "      <th>1</th>\n",
       "      <td>F</td>\n",
       "      <td>55</td>\n",
       "      <td>0610b486422d4921ae7d2bf64640c50b</td>\n",
       "      <td>20170715</td>\n",
       "      <td>112000.0</td>\n",
       "    </tr>\n",
       "    <tr>\n",
       "      <th>2</th>\n",
       "      <td>None</td>\n",
       "      <td>118</td>\n",
       "      <td>38fe809add3b4fcf9315a9694bb96ff5</td>\n",
       "      <td>20180712</td>\n",
       "      <td>NaN</td>\n",
       "    </tr>\n",
       "    <tr>\n",
       "      <th>3</th>\n",
       "      <td>F</td>\n",
       "      <td>75</td>\n",
       "      <td>78afa995795e4d85b5d9ceeca43f5fef</td>\n",
       "      <td>20170509</td>\n",
       "      <td>100000.0</td>\n",
       "    </tr>\n",
       "    <tr>\n",
       "      <th>4</th>\n",
       "      <td>None</td>\n",
       "      <td>118</td>\n",
       "      <td>a03223e636434f42ac4c3df47e8bac43</td>\n",
       "      <td>20170804</td>\n",
       "      <td>NaN</td>\n",
       "    </tr>\n",
       "  </tbody>\n",
       "</table>\n",
       "</div>"
      ],
      "text/plain": [
       "  gender  age                                id  became_member_on    income\n",
       "0   None  118  68be06ca386d4c31939f3a4f0e3dd783          20170212       NaN\n",
       "1      F   55  0610b486422d4921ae7d2bf64640c50b          20170715  112000.0\n",
       "2   None  118  38fe809add3b4fcf9315a9694bb96ff5          20180712       NaN\n",
       "3      F   75  78afa995795e4d85b5d9ceeca43f5fef          20170509  100000.0\n",
       "4   None  118  a03223e636434f42ac4c3df47e8bac43          20170804       NaN"
      ]
     },
     "execution_count": 15,
     "metadata": {},
     "output_type": "execute_result"
    }
   ],
   "source": [
    "# Displaying data frame to get an idea of the data\n",
    "profile.head()\n"
   ]
  },
  {
   "cell_type": "markdown",
   "metadata": {},
   "source": [
    "**Conclusion:**\n",
    "1. The following variables values will be investigated more detailed since they are relevant for this analysis:\n",
    " * \"gender\"\n",
    "    * \"None\" values \n",
    " * \"income\"\n",
    "    * \"NaN\" values   \n",
    "2. The variable \"age\" contains values which are unrealistically high.\n",
    " *  `profile['age'][0]` &rarr; value = *118*\n",
    "3. There is also a correlation between the three variables:\n",
    "\n",
    "index  | gender | income | age\n",
    ":----: | :----: | :----: | :----:\n",
    "0      | None   | NaN    | 118\n",
    "2      | None   | NaN    | 118\n",
    "4      | None   | NaN    | 118\n",
    "...    | ...    | ...    | ... \n",
    "\n",
    "4. The variable \"id\" represents the **customer id**.\n"
   ]
  },
  {
   "cell_type": "code",
   "execution_count": 16,
   "metadata": {
    "scrolled": true
   },
   "outputs": [
    {
     "name": "stdout",
     "output_type": "stream",
     "text": [
      "<class 'pandas.core.frame.DataFrame'>\n",
      "RangeIndex: 17000 entries, 0 to 16999\n",
      "Data columns (total 5 columns):\n",
      " #   Column            Non-Null Count  Dtype  \n",
      "---  ------            --------------  -----  \n",
      " 0   gender            14825 non-null  object \n",
      " 1   age               17000 non-null  int64  \n",
      " 2   id                17000 non-null  object \n",
      " 3   became_member_on  17000 non-null  int64  \n",
      " 4   income            14825 non-null  float64\n",
      "dtypes: float64(1), int64(2), object(2)\n",
      "memory usage: 664.2+ KB\n"
     ]
    }
   ],
   "source": [
    "# Checking a concise summary of the dataframe\n",
    "profile.info()\n"
   ]
  },
  {
   "cell_type": "code",
   "execution_count": 17,
   "metadata": {
    "scrolled": false
   },
   "outputs": [
    {
     "data": {
      "text/plain": [
       "gender               object\n",
       "age                   int64\n",
       "id                   object\n",
       "became_member_on      int64\n",
       "income              float64\n",
       "dtype: object"
      ]
     },
     "execution_count": 17,
     "metadata": {},
     "output_type": "execute_result"
    }
   ],
   "source": [
    "# Checking the dtype of the dataframe\n",
    "profile.dtypes\n"
   ]
  },
  {
   "cell_type": "markdown",
   "metadata": {},
   "source": [
    "**Conclusion:** \n",
    "1. The data frame contains three different data types:\n",
    " * `object`\n",
    " * `int64`\n",
    " * `float64`\n",
    "2. The variable \"became_member_on\" should be converted into a date format. <br>\n",
    "It is also possible that there is a correlation with the offers, which can be investigated."
   ]
  },
  {
   "cell_type": "code",
   "execution_count": 18,
   "metadata": {},
   "outputs": [
    {
     "data": {
      "text/plain": [
       "gender              2175\n",
       "age                    0\n",
       "id                     0\n",
       "became_member_on       0\n",
       "income              2175\n",
       "dtype: int64"
      ]
     },
     "execution_count": 18,
     "metadata": {},
     "output_type": "execute_result"
    }
   ],
   "source": [
    "# Checking the number of missing values\n",
    "profile.isnull().sum()\n"
   ]
  },
  {
   "cell_type": "markdown",
   "metadata": {},
   "source": [
    "**Conclusion:** \n",
    "1. The following variables of the data frame are containing NaN values:\n",
    " * \"gender\"\n",
    " * \"income\"\n",
    "2. The amount of NaN values of both variables is equal. The sum is *2175*."
   ]
  },
  {
   "cell_type": "code",
   "execution_count": 19,
   "metadata": {},
   "outputs": [],
   "source": [
    "# Function: Defining function to create a list of values existig in the variable (column).\n",
    "def f_create_var_list(df, col_name):\n",
    "    '''\n",
    "    INPUT:\n",
    "    df - Pandas data frame with dictionary to create new columns.\n",
    "    col_name - List of values (strings) of the variable (columns).\n",
    "    \n",
    "    OUTPUT:\n",
    "    var_list - New list of the following characteristics:\n",
    "            1. Contains all values of a variable in a list. \n",
    "    Description:\n",
    "    Creates a list of values existig in a variable (column).\n",
    "    '''\n",
    "    var_list = list(dict.fromkeys(df[col_name]))\n",
    "\n",
    "\n",
    "    return var_list\n"
   ]
  },
  {
   "cell_type": "markdown",
   "metadata": {},
   "source": [
    "**Result:** A function is created to create a list of values existig in a variable (column)."
   ]
  },
  {
   "cell_type": "code",
   "execution_count": 20,
   "metadata": {},
   "outputs": [
    {
     "data": {
      "text/plain": [
       "[None, 'F', 'M', 'O']"
      ]
     },
     "execution_count": 20,
     "metadata": {},
     "output_type": "execute_result"
    }
   ],
   "source": [
    "# Using the function: f_create_var_list\n",
    "f_create_var_list(profile, 'gender')\n"
   ]
  },
  {
   "cell_type": "markdown",
   "metadata": {},
   "source": [
    "**Conclusion:** The variable \"gender\" cointains the values:\n",
    " * F &rarr; 'Female'\n",
    " * M &rarr; 'Male'\n",
    " * O &rarr; 'Other'\n",
    " * NaN &rarr; 'None'"
   ]
  },
  {
   "cell_type": "code",
   "execution_count": 21,
   "metadata": {},
   "outputs": [
    {
     "data": {
      "text/plain": [
       "False"
      ]
     },
     "execution_count": 21,
     "metadata": {},
     "output_type": "execute_result"
    }
   ],
   "source": [
    "# Checking for duplicate values\n",
    "profile.columns.duplicated().any()\n"
   ]
  },
  {
   "cell_type": "markdown",
   "metadata": {},
   "source": [
    "**Conclusion:** The data frame does not contain any duplicated values."
   ]
  },
  {
   "cell_type": "code",
   "execution_count": 22,
   "metadata": {},
   "outputs": [
    {
     "data": {
      "text/plain": [
       "17000"
      ]
     },
     "execution_count": 22,
     "metadata": {},
     "output_type": "execute_result"
    }
   ],
   "source": [
    "# Showing the unique values of the data frame\n",
    "profile['id'].nunique()\n"
   ]
  },
  {
   "cell_type": "markdown",
   "metadata": {},
   "source": [
    "**Conclusion:** The variable \"id\" contains only unique values (no NaN)."
   ]
  },
  {
   "cell_type": "code",
   "execution_count": 23,
   "metadata": {
    "scrolled": false
   },
   "outputs": [
    {
     "data": {
      "text/html": [
       "<div>\n",
       "<style scoped>\n",
       "    .dataframe tbody tr th:only-of-type {\n",
       "        vertical-align: middle;\n",
       "    }\n",
       "\n",
       "    .dataframe tbody tr th {\n",
       "        vertical-align: top;\n",
       "    }\n",
       "\n",
       "    .dataframe thead th {\n",
       "        text-align: right;\n",
       "    }\n",
       "</style>\n",
       "<table border=\"1\" class=\"dataframe\">\n",
       "  <thead>\n",
       "    <tr style=\"text-align: right;\">\n",
       "      <th></th>\n",
       "      <th>gender</th>\n",
       "      <th>age</th>\n",
       "      <th>id</th>\n",
       "      <th>became_member_on</th>\n",
       "      <th>income</th>\n",
       "    </tr>\n",
       "  </thead>\n",
       "  <tbody>\n",
       "    <tr>\n",
       "      <th>0</th>\n",
       "      <td>None</td>\n",
       "      <td>118</td>\n",
       "      <td>68be06ca386d4c31939f3a4f0e3dd783</td>\n",
       "      <td>20170212</td>\n",
       "      <td>NaN</td>\n",
       "    </tr>\n",
       "    <tr>\n",
       "      <th>2</th>\n",
       "      <td>None</td>\n",
       "      <td>118</td>\n",
       "      <td>38fe809add3b4fcf9315a9694bb96ff5</td>\n",
       "      <td>20180712</td>\n",
       "      <td>NaN</td>\n",
       "    </tr>\n",
       "    <tr>\n",
       "      <th>4</th>\n",
       "      <td>None</td>\n",
       "      <td>118</td>\n",
       "      <td>a03223e636434f42ac4c3df47e8bac43</td>\n",
       "      <td>20170804</td>\n",
       "      <td>NaN</td>\n",
       "    </tr>\n",
       "    <tr>\n",
       "      <th>6</th>\n",
       "      <td>None</td>\n",
       "      <td>118</td>\n",
       "      <td>8ec6ce2a7e7949b1bf142def7d0e0586</td>\n",
       "      <td>20170925</td>\n",
       "      <td>NaN</td>\n",
       "    </tr>\n",
       "    <tr>\n",
       "      <th>7</th>\n",
       "      <td>None</td>\n",
       "      <td>118</td>\n",
       "      <td>68617ca6246f4fbc85e91a2a49552598</td>\n",
       "      <td>20171002</td>\n",
       "      <td>NaN</td>\n",
       "    </tr>\n",
       "  </tbody>\n",
       "</table>\n",
       "</div>"
      ],
      "text/plain": [
       "  gender  age                                id  became_member_on  income\n",
       "0   None  118  68be06ca386d4c31939f3a4f0e3dd783          20170212     NaN\n",
       "2   None  118  38fe809add3b4fcf9315a9694bb96ff5          20180712     NaN\n",
       "4   None  118  a03223e636434f42ac4c3df47e8bac43          20170804     NaN\n",
       "6   None  118  8ec6ce2a7e7949b1bf142def7d0e0586          20170925     NaN\n",
       "7   None  118  68617ca6246f4fbc85e91a2a49552598          20171002     NaN"
      ]
     },
     "execution_count": 23,
     "metadata": {},
     "output_type": "execute_result"
    }
   ],
   "source": [
    "# Checking and counting the \"age\" values \n",
    "pro_118 = profile[profile['age'] == 118]\n",
    "pro_118.head()\n"
   ]
  },
  {
   "cell_type": "code",
   "execution_count": 24,
   "metadata": {},
   "outputs": [
    {
     "name": "stdout",
     "output_type": "stream",
     "text": [
      "Count of value \"(F) Female\" = 0\n",
      "Count of value \"(M) Male\" = 0\n",
      "Count of value \"(O) Other\" = 0\n",
      "Count of value \"(None) NaN\" = 2175\n"
     ]
    }
   ],
   "source": [
    "# Checking if there are any \"F\", \"M\" or \"O\" values in the variable \"gender\" \n",
    "# while filtering varibale \"age\" equal to the value 118\n",
    "pro_118_F = pro_118[pro_118['gender'] == 'F']['gender'].count()\n",
    "pro_118_M = pro_118[pro_118['gender'] == 'M']['gender'].count()\n",
    "pro_118_O = pro_118[pro_118['gender'] == 'O']['gender'].count()\n",
    "pro_118_NaN = pd.isna(pro_118[\"gender\"]).count()\n",
    "\n",
    "print('Count of value \"(F) Female\" = {}'.format(pro_118_F))\n",
    "print('Count of value \"(M) Male\" = {}'.format(pro_118_M))\n",
    "print('Count of value \"(O) Other\" = {}'.format(pro_118_O))\n",
    "print('Count of value \"(None) NaN\" = {}'.format(pro_118_NaN))\n"
   ]
  },
  {
   "cell_type": "markdown",
   "metadata": {},
   "source": [
    "**Conclusion:** \n",
    "\n",
    "1. The variable \"age\" filtered by the value of *118* shows that the variable \"gender\" does not include other values except of the \"NaN\" values.\n",
    "2. The amount of \"NaN\" values *2175* is equal to the amount of \"NaN\" values of the variable \"gender\" and \"income\" within the \"profile\" data frame.\n"
   ]
  },
  {
   "cell_type": "code",
   "execution_count": 25,
   "metadata": {
    "scrolled": false
   },
   "outputs": [
    {
     "data": {
      "text/html": [
       "<div>\n",
       "<style scoped>\n",
       "    .dataframe tbody tr th:only-of-type {\n",
       "        vertical-align: middle;\n",
       "    }\n",
       "\n",
       "    .dataframe tbody tr th {\n",
       "        vertical-align: top;\n",
       "    }\n",
       "\n",
       "    .dataframe thead th {\n",
       "        text-align: right;\n",
       "    }\n",
       "</style>\n",
       "<table border=\"1\" class=\"dataframe\">\n",
       "  <thead>\n",
       "    <tr style=\"text-align: right;\">\n",
       "      <th></th>\n",
       "      <th>count</th>\n",
       "      <th>mean</th>\n",
       "      <th>std</th>\n",
       "      <th>min</th>\n",
       "      <th>25%</th>\n",
       "      <th>50%</th>\n",
       "      <th>75%</th>\n",
       "      <th>max</th>\n",
       "    </tr>\n",
       "    <tr>\n",
       "      <th>gender</th>\n",
       "      <th></th>\n",
       "      <th></th>\n",
       "      <th></th>\n",
       "      <th></th>\n",
       "      <th></th>\n",
       "      <th></th>\n",
       "      <th></th>\n",
       "      <th></th>\n",
       "    </tr>\n",
       "  </thead>\n",
       "  <tbody>\n",
       "    <tr>\n",
       "      <th>F</th>\n",
       "      <td>6129.0</td>\n",
       "      <td>57.544950</td>\n",
       "      <td>16.883315</td>\n",
       "      <td>18.0</td>\n",
       "      <td>48.0</td>\n",
       "      <td>58.0</td>\n",
       "      <td>69.0</td>\n",
       "      <td>101.0</td>\n",
       "    </tr>\n",
       "    <tr>\n",
       "      <th>M</th>\n",
       "      <td>8484.0</td>\n",
       "      <td>52.116690</td>\n",
       "      <td>17.413894</td>\n",
       "      <td>18.0</td>\n",
       "      <td>39.0</td>\n",
       "      <td>53.0</td>\n",
       "      <td>65.0</td>\n",
       "      <td>100.0</td>\n",
       "    </tr>\n",
       "    <tr>\n",
       "      <th>O</th>\n",
       "      <td>212.0</td>\n",
       "      <td>54.400943</td>\n",
       "      <td>16.244710</td>\n",
       "      <td>20.0</td>\n",
       "      <td>43.0</td>\n",
       "      <td>55.0</td>\n",
       "      <td>66.0</td>\n",
       "      <td>100.0</td>\n",
       "    </tr>\n",
       "  </tbody>\n",
       "</table>\n",
       "</div>"
      ],
      "text/plain": [
       "         count       mean        std   min   25%   50%   75%    max\n",
       "gender                                                             \n",
       "F       6129.0  57.544950  16.883315  18.0  48.0  58.0  69.0  101.0\n",
       "M       8484.0  52.116690  17.413894  18.0  39.0  53.0  65.0  100.0\n",
       "O        212.0  54.400943  16.244710  20.0  43.0  55.0  66.0  100.0"
      ]
     },
     "execution_count": 25,
     "metadata": {},
     "output_type": "execute_result"
    }
   ],
   "source": [
    "# Calculating the descriptive statistics of the \"age\" values grouped by the variable \"gender\"\n",
    "# (50 % is equal to the median)\n",
    "profile.groupby('gender')['age'].describe()\n"
   ]
  },
  {
   "cell_type": "code",
   "execution_count": 26,
   "metadata": {},
   "outputs": [
    {
     "data": {
      "text/plain": [
       "2175"
      ]
     },
     "execution_count": 26,
     "metadata": {},
     "output_type": "execute_result"
    }
   ],
   "source": [
    "# Checking and counting the missing values of varibale \"gender\" \n",
    "profile['gender'].isnull().sum()\n"
   ]
  },
  {
   "cell_type": "markdown",
   "metadata": {},
   "source": [
    "**Conclusion:** \n",
    "\n",
    "1. The variable \"gender\" contains the following values and counts of values:\n",
    " * \"F - Female\" &rarr; count = *6129*\n",
    " * \"M - Male\" &rarr; count = *8484*\n",
    " * \"O - Other\" &rarr; count = *212*\n",
    " * \"None - NaN\" &rarr; count = *2175*\n",
    "\n",
    "\n",
    "2. The max value of the descriptive statistics displays that the highest age value of the \"gender\" values \"F\", \"M\" and \"O\" is below *118*.\n",
    " * \"F - Female\" &rarr; value = *101.0*\n",
    " * \"M - Male\" &rarr; value = *100.0*\n",
    " * \"O - Other\" &rarr; value = *100.0*"
   ]
  },
  {
   "cell_type": "markdown",
   "metadata": {},
   "source": [
    "## Profile (demographic) - Cleaning"
   ]
  },
  {
   "cell_type": "markdown",
   "metadata": {},
   "source": [
    "**Tasks:**\n",
    "1. Renaming the variable \"id\"in \"customer_id\".\n",
    "2. Converting the variable \"became_member_on\" into a date format."
   ]
  },
  {
   "cell_type": "code",
   "execution_count": 27,
   "metadata": {},
   "outputs": [],
   "source": [
    "# Copying the data frame\n",
    "profile_clean = profile.copy()\n"
   ]
  },
  {
   "cell_type": "markdown",
   "metadata": {},
   "source": [
    "**Result:** The data frame is copied."
   ]
  },
  {
   "cell_type": "markdown",
   "metadata": {},
   "source": [
    "### Renaming the variable \"id\"in \"customer_id\"."
   ]
  },
  {
   "cell_type": "markdown",
   "metadata": {},
   "source": [
    "#### Code"
   ]
  },
  {
   "cell_type": "code",
   "execution_count": 28,
   "metadata": {},
   "outputs": [],
   "source": [
    "# Renaming the column \"id\"\n",
    "profile_clean.rename(columns={'id':'customer_id'},inplace=True)\n"
   ]
  },
  {
   "cell_type": "markdown",
   "metadata": {},
   "source": [
    "#### Test"
   ]
  },
  {
   "cell_type": "code",
   "execution_count": 29,
   "metadata": {
    "scrolled": true
   },
   "outputs": [
    {
     "data": {
      "text/html": [
       "<div>\n",
       "<style scoped>\n",
       "    .dataframe tbody tr th:only-of-type {\n",
       "        vertical-align: middle;\n",
       "    }\n",
       "\n",
       "    .dataframe tbody tr th {\n",
       "        vertical-align: top;\n",
       "    }\n",
       "\n",
       "    .dataframe thead th {\n",
       "        text-align: right;\n",
       "    }\n",
       "</style>\n",
       "<table border=\"1\" class=\"dataframe\">\n",
       "  <thead>\n",
       "    <tr style=\"text-align: right;\">\n",
       "      <th></th>\n",
       "      <th>gender</th>\n",
       "      <th>age</th>\n",
       "      <th>customer_id</th>\n",
       "      <th>became_member_on</th>\n",
       "      <th>income</th>\n",
       "    </tr>\n",
       "  </thead>\n",
       "  <tbody>\n",
       "    <tr>\n",
       "      <th>0</th>\n",
       "      <td>None</td>\n",
       "      <td>118</td>\n",
       "      <td>68be06ca386d4c31939f3a4f0e3dd783</td>\n",
       "      <td>20170212</td>\n",
       "      <td>NaN</td>\n",
       "    </tr>\n",
       "    <tr>\n",
       "      <th>1</th>\n",
       "      <td>F</td>\n",
       "      <td>55</td>\n",
       "      <td>0610b486422d4921ae7d2bf64640c50b</td>\n",
       "      <td>20170715</td>\n",
       "      <td>112000.0</td>\n",
       "    </tr>\n",
       "    <tr>\n",
       "      <th>2</th>\n",
       "      <td>None</td>\n",
       "      <td>118</td>\n",
       "      <td>38fe809add3b4fcf9315a9694bb96ff5</td>\n",
       "      <td>20180712</td>\n",
       "      <td>NaN</td>\n",
       "    </tr>\n",
       "    <tr>\n",
       "      <th>3</th>\n",
       "      <td>F</td>\n",
       "      <td>75</td>\n",
       "      <td>78afa995795e4d85b5d9ceeca43f5fef</td>\n",
       "      <td>20170509</td>\n",
       "      <td>100000.0</td>\n",
       "    </tr>\n",
       "    <tr>\n",
       "      <th>4</th>\n",
       "      <td>None</td>\n",
       "      <td>118</td>\n",
       "      <td>a03223e636434f42ac4c3df47e8bac43</td>\n",
       "      <td>20170804</td>\n",
       "      <td>NaN</td>\n",
       "    </tr>\n",
       "  </tbody>\n",
       "</table>\n",
       "</div>"
      ],
      "text/plain": [
       "  gender  age                       customer_id  became_member_on    income\n",
       "0   None  118  68be06ca386d4c31939f3a4f0e3dd783          20170212       NaN\n",
       "1      F   55  0610b486422d4921ae7d2bf64640c50b          20170715  112000.0\n",
       "2   None  118  38fe809add3b4fcf9315a9694bb96ff5          20180712       NaN\n",
       "3      F   75  78afa995795e4d85b5d9ceeca43f5fef          20170509  100000.0\n",
       "4   None  118  a03223e636434f42ac4c3df47e8bac43          20170804       NaN"
      ]
     },
     "execution_count": 29,
     "metadata": {},
     "output_type": "execute_result"
    }
   ],
   "source": [
    "# Displaying the new data frame to check the changes\n",
    "profile_clean.head()\n"
   ]
  },
  {
   "cell_type": "markdown",
   "metadata": {},
   "source": [
    "**Result:** The column \"id\" is renamed in \"customer_id\"."
   ]
  },
  {
   "cell_type": "markdown",
   "metadata": {},
   "source": [
    "### Converting the variable \"became_member_on\" into a date format."
   ]
  },
  {
   "cell_type": "markdown",
   "metadata": {},
   "source": [
    "#### Code"
   ]
  },
  {
   "cell_type": "code",
   "execution_count": 30,
   "metadata": {},
   "outputs": [],
   "source": [
    "# Converting the dtype of the column.\n",
    "profile_clean['became_member_on'] = pd.to_datetime(profile_clean['became_member_on'], format='%Y%m%d')\n"
   ]
  },
  {
   "cell_type": "markdown",
   "metadata": {},
   "source": [
    "**Result:** The dvariables data type is changed."
   ]
  },
  {
   "cell_type": "markdown",
   "metadata": {},
   "source": [
    "#### Test"
   ]
  },
  {
   "cell_type": "code",
   "execution_count": 31,
   "metadata": {
    "scrolled": true
   },
   "outputs": [
    {
     "data": {
      "text/html": [
       "<div>\n",
       "<style scoped>\n",
       "    .dataframe tbody tr th:only-of-type {\n",
       "        vertical-align: middle;\n",
       "    }\n",
       "\n",
       "    .dataframe tbody tr th {\n",
       "        vertical-align: top;\n",
       "    }\n",
       "\n",
       "    .dataframe thead th {\n",
       "        text-align: right;\n",
       "    }\n",
       "</style>\n",
       "<table border=\"1\" class=\"dataframe\">\n",
       "  <thead>\n",
       "    <tr style=\"text-align: right;\">\n",
       "      <th></th>\n",
       "      <th>gender</th>\n",
       "      <th>age</th>\n",
       "      <th>customer_id</th>\n",
       "      <th>became_member_on</th>\n",
       "      <th>income</th>\n",
       "    </tr>\n",
       "  </thead>\n",
       "  <tbody>\n",
       "    <tr>\n",
       "      <th>0</th>\n",
       "      <td>None</td>\n",
       "      <td>118</td>\n",
       "      <td>68be06ca386d4c31939f3a4f0e3dd783</td>\n",
       "      <td>2017-02-12</td>\n",
       "      <td>NaN</td>\n",
       "    </tr>\n",
       "    <tr>\n",
       "      <th>1</th>\n",
       "      <td>F</td>\n",
       "      <td>55</td>\n",
       "      <td>0610b486422d4921ae7d2bf64640c50b</td>\n",
       "      <td>2017-07-15</td>\n",
       "      <td>112000.0</td>\n",
       "    </tr>\n",
       "    <tr>\n",
       "      <th>2</th>\n",
       "      <td>None</td>\n",
       "      <td>118</td>\n",
       "      <td>38fe809add3b4fcf9315a9694bb96ff5</td>\n",
       "      <td>2018-07-12</td>\n",
       "      <td>NaN</td>\n",
       "    </tr>\n",
       "    <tr>\n",
       "      <th>3</th>\n",
       "      <td>F</td>\n",
       "      <td>75</td>\n",
       "      <td>78afa995795e4d85b5d9ceeca43f5fef</td>\n",
       "      <td>2017-05-09</td>\n",
       "      <td>100000.0</td>\n",
       "    </tr>\n",
       "    <tr>\n",
       "      <th>4</th>\n",
       "      <td>None</td>\n",
       "      <td>118</td>\n",
       "      <td>a03223e636434f42ac4c3df47e8bac43</td>\n",
       "      <td>2017-08-04</td>\n",
       "      <td>NaN</td>\n",
       "    </tr>\n",
       "  </tbody>\n",
       "</table>\n",
       "</div>"
      ],
      "text/plain": [
       "  gender  age                       customer_id became_member_on    income\n",
       "0   None  118  68be06ca386d4c31939f3a4f0e3dd783       2017-02-12       NaN\n",
       "1      F   55  0610b486422d4921ae7d2bf64640c50b       2017-07-15  112000.0\n",
       "2   None  118  38fe809add3b4fcf9315a9694bb96ff5       2018-07-12       NaN\n",
       "3      F   75  78afa995795e4d85b5d9ceeca43f5fef       2017-05-09  100000.0\n",
       "4   None  118  a03223e636434f42ac4c3df47e8bac43       2017-08-04       NaN"
      ]
     },
     "execution_count": 31,
     "metadata": {},
     "output_type": "execute_result"
    }
   ],
   "source": [
    "# Displaying the new data frame to check the changes\n",
    "profile_clean.head()\n"
   ]
  },
  {
   "cell_type": "markdown",
   "metadata": {},
   "source": [
    "**Result:** The variable \"became_member_on\" is converted into a date format."
   ]
  },
  {
   "cell_type": "code",
   "execution_count": 32,
   "metadata": {},
   "outputs": [
    {
     "data": {
      "text/plain": [
       "(17000, 5)"
      ]
     },
     "execution_count": 32,
     "metadata": {},
     "output_type": "execute_result"
    }
   ],
   "source": [
    "# Checking the shape of the data frame\n",
    "profile_clean.shape\n"
   ]
  },
  {
   "cell_type": "markdown",
   "metadata": {},
   "source": [
    "**Result:** The data frame consits of *5* columns and *17,000* rows."
   ]
  },
  {
   "cell_type": "markdown",
   "metadata": {},
   "source": [
    "<a id='sec2_113'></a>\n",
    "## Transcript (transaction records) - General Properties of Fata Frame\n",
    "<div style=\"text-align: right\"><right><a href=\"#top\">Table of Content</a></div>"
   ]
  },
  {
   "cell_type": "markdown",
   "metadata": {},
   "source": [
    "#### Information: Event log (306648 events x 4 fields)\n",
    "\n",
    ">* person: (string/hash)\n",
    ">* event: (string) offer received, offer viewed, transaction, offer completed\n",
    ">* value: (dictionary) different values depending on event type\n",
    ">* offer id: (string/hash) not associated with any \"transaction\"\n",
    ">* amount: (numeric) money spent in \"transaction\"\n",
    ">* reward: (numeric) money gained from \"offer completed\"\n",
    ">* time: (numeric) hours after start of test\n"
   ]
  },
  {
   "cell_type": "code",
   "execution_count": 33,
   "metadata": {},
   "outputs": [
    {
     "data": {
      "text/plain": [
       "(306534, 4)"
      ]
     },
     "execution_count": 33,
     "metadata": {},
     "output_type": "execute_result"
    }
   ],
   "source": [
    "# Checking the shape of the data frame\n",
    "transcript.shape\n"
   ]
  },
  {
   "cell_type": "markdown",
   "metadata": {},
   "source": [
    "**Conclusion:** The data frame consits of *4* columns and *306,534* rows."
   ]
  },
  {
   "cell_type": "code",
   "execution_count": 34,
   "metadata": {
    "scrolled": false
   },
   "outputs": [
    {
     "data": {
      "text/html": [
       "<div>\n",
       "<style scoped>\n",
       "    .dataframe tbody tr th:only-of-type {\n",
       "        vertical-align: middle;\n",
       "    }\n",
       "\n",
       "    .dataframe tbody tr th {\n",
       "        vertical-align: top;\n",
       "    }\n",
       "\n",
       "    .dataframe thead th {\n",
       "        text-align: right;\n",
       "    }\n",
       "</style>\n",
       "<table border=\"1\" class=\"dataframe\">\n",
       "  <thead>\n",
       "    <tr style=\"text-align: right;\">\n",
       "      <th></th>\n",
       "      <th>person</th>\n",
       "      <th>event</th>\n",
       "      <th>value</th>\n",
       "      <th>time</th>\n",
       "    </tr>\n",
       "  </thead>\n",
       "  <tbody>\n",
       "    <tr>\n",
       "      <th>0</th>\n",
       "      <td>78afa995795e4d85b5d9ceeca43f5fef</td>\n",
       "      <td>offer received</td>\n",
       "      <td>{'offer id': '9b98b8c7a33c4b65b9aebfe6a799e6d9'}</td>\n",
       "      <td>0</td>\n",
       "    </tr>\n",
       "    <tr>\n",
       "      <th>1</th>\n",
       "      <td>a03223e636434f42ac4c3df47e8bac43</td>\n",
       "      <td>offer received</td>\n",
       "      <td>{'offer id': '0b1e1539f2cc45b7b9fa7c272da2e1d7'}</td>\n",
       "      <td>0</td>\n",
       "    </tr>\n",
       "    <tr>\n",
       "      <th>2</th>\n",
       "      <td>e2127556f4f64592b11af22de27a7932</td>\n",
       "      <td>offer received</td>\n",
       "      <td>{'offer id': '2906b810c7d4411798c6938adc9daaa5'}</td>\n",
       "      <td>0</td>\n",
       "    </tr>\n",
       "    <tr>\n",
       "      <th>3</th>\n",
       "      <td>8ec6ce2a7e7949b1bf142def7d0e0586</td>\n",
       "      <td>offer received</td>\n",
       "      <td>{'offer id': 'fafdcd668e3743c1bb461111dcafc2a4'}</td>\n",
       "      <td>0</td>\n",
       "    </tr>\n",
       "    <tr>\n",
       "      <th>4</th>\n",
       "      <td>68617ca6246f4fbc85e91a2a49552598</td>\n",
       "      <td>offer received</td>\n",
       "      <td>{'offer id': '4d5c57ea9a6940dd891ad53e9dbe8da0'}</td>\n",
       "      <td>0</td>\n",
       "    </tr>\n",
       "  </tbody>\n",
       "</table>\n",
       "</div>"
      ],
      "text/plain": [
       "                             person           event  \\\n",
       "0  78afa995795e4d85b5d9ceeca43f5fef  offer received   \n",
       "1  a03223e636434f42ac4c3df47e8bac43  offer received   \n",
       "2  e2127556f4f64592b11af22de27a7932  offer received   \n",
       "3  8ec6ce2a7e7949b1bf142def7d0e0586  offer received   \n",
       "4  68617ca6246f4fbc85e91a2a49552598  offer received   \n",
       "\n",
       "                                              value  time  \n",
       "0  {'offer id': '9b98b8c7a33c4b65b9aebfe6a799e6d9'}     0  \n",
       "1  {'offer id': '0b1e1539f2cc45b7b9fa7c272da2e1d7'}     0  \n",
       "2  {'offer id': '2906b810c7d4411798c6938adc9daaa5'}     0  \n",
       "3  {'offer id': 'fafdcd668e3743c1bb461111dcafc2a4'}     0  \n",
       "4  {'offer id': '4d5c57ea9a6940dd891ad53e9dbe8da0'}     0  "
      ]
     },
     "execution_count": 34,
     "metadata": {},
     "output_type": "execute_result"
    }
   ],
   "source": [
    "# Displaying data frame to get an idea of the data\n",
    "transcript.head()\n"
   ]
  },
  {
   "cell_type": "markdown",
   "metadata": {},
   "source": [
    "**Conclusion:**\n",
    "1. The following variables values will be investigated more detailed since they are relevant for this analysis:\n",
    " * \"time\"\n",
    "    * \"0\" values \n",
    " * \"event\"\n",
    "    * `string` values \n",
    "2. The variable \"person\" represents the **customer id**. \n",
    "3. The variable \"value\" includes a dictionary with the \n",
    " * key &rarr; **offer id**\n",
    " * value &rarr; **value of offer id**<br>\n",
    " \n",
    "Because it is possible that there are more keys existing, this variable will be checked in detail.\n",
    "\n",
    "4. Based on the included **offer id** and **value of offer id** this data frame can be used to merge the previous two data frames.\n",
    "5. The variable \"value\" should be converted into a column which only contains the **offer id**.\n"
   ]
  },
  {
   "cell_type": "code",
   "execution_count": 35,
   "metadata": {
    "scrolled": true
   },
   "outputs": [
    {
     "name": "stdout",
     "output_type": "stream",
     "text": [
      "<class 'pandas.core.frame.DataFrame'>\n",
      "RangeIndex: 306534 entries, 0 to 306533\n",
      "Data columns (total 4 columns):\n",
      " #   Column  Non-Null Count   Dtype \n",
      "---  ------  --------------   ----- \n",
      " 0   person  306534 non-null  object\n",
      " 1   event   306534 non-null  object\n",
      " 2   value   306534 non-null  object\n",
      " 3   time    306534 non-null  int64 \n",
      "dtypes: int64(1), object(3)\n",
      "memory usage: 9.4+ MB\n"
     ]
    }
   ],
   "source": [
    "# Checking a concise summary of the dataframe\n",
    "transcript.info()\n"
   ]
  },
  {
   "cell_type": "code",
   "execution_count": 36,
   "metadata": {
    "scrolled": false
   },
   "outputs": [
    {
     "data": {
      "text/plain": [
       "person    object\n",
       "event     object\n",
       "value     object\n",
       "time       int64\n",
       "dtype: object"
      ]
     },
     "execution_count": 36,
     "metadata": {},
     "output_type": "execute_result"
    }
   ],
   "source": [
    "# Checking the dtype of the dataframe\n",
    "transcript.dtypes\n"
   ]
  },
  {
   "cell_type": "markdown",
   "metadata": {},
   "source": [
    "**Conclusion:** \n",
    "1. The data frame contains three different data types:\n",
    " * `object`\n",
    " * `int64`\n"
   ]
  },
  {
   "cell_type": "code",
   "execution_count": 37,
   "metadata": {},
   "outputs": [
    {
     "data": {
      "text/plain": [
       "person    0\n",
       "event     0\n",
       "value     0\n",
       "time      0\n",
       "dtype: int64"
      ]
     },
     "execution_count": 37,
     "metadata": {},
     "output_type": "execute_result"
    }
   ],
   "source": [
    "# Checking the number of missing values\n",
    "transcript.isnull().sum()\n"
   ]
  },
  {
   "cell_type": "markdown",
   "metadata": {},
   "source": [
    "**Conclusion:** \n",
    "The data frame does not contain any NaN values."
   ]
  },
  {
   "cell_type": "code",
   "execution_count": 38,
   "metadata": {},
   "outputs": [
    {
     "data": {
      "text/plain": [
       "False"
      ]
     },
     "execution_count": 38,
     "metadata": {},
     "output_type": "execute_result"
    }
   ],
   "source": [
    "# Checking for duplicate values\n",
    "transcript.columns.duplicated().any()\n"
   ]
  },
  {
   "cell_type": "markdown",
   "metadata": {},
   "source": [
    "**Conclusion:** The data frame does not contain any duplicated values."
   ]
  },
  {
   "cell_type": "code",
   "execution_count": 39,
   "metadata": {},
   "outputs": [
    {
     "data": {
      "text/plain": [
       "17000"
      ]
     },
     "execution_count": 39,
     "metadata": {},
     "output_type": "execute_result"
    }
   ],
   "source": [
    "# Showing the unique values of the data frame\n",
    "transcript['person'].nunique()\n"
   ]
  },
  {
   "cell_type": "markdown",
   "metadata": {},
   "source": [
    "**Conclusion:** The data frame variable \"person\" (customer id) contains only *17,000* unique values. That is few compared to the total quantity of *306,534*. But it is the same amount of customer id´s as in the data frame \"profile\" variable."
   ]
  },
  {
   "cell_type": "code",
   "execution_count": 40,
   "metadata": {},
   "outputs": [
    {
     "name": "stdout",
     "output_type": "stream",
     "text": [
      "Count of \"person\" values when \"time\" = 0: 15561\n"
     ]
    }
   ],
   "source": [
    "# Checking and counting the amount of \"person\" values when \"time\" = 0\n",
    "df_0_time  = transcript[transcript['time'] == 0]['person'].count()\n",
    "print('Count of \"person\" values when \"time\" = 0: {}'.format(df_0_time))\n"
   ]
  },
  {
   "cell_type": "markdown",
   "metadata": {},
   "source": [
    "**Conclusion:** The data frame, filtered by the variable \"time\" = 0 contains 15,561 \"person\" values."
   ]
  },
  {
   "cell_type": "code",
   "execution_count": 41,
   "metadata": {},
   "outputs": [],
   "source": [
    "# Checking the unique values of the variable \"event\"\n",
    "list_event = transcript['event'].unique().tolist()\n"
   ]
  },
  {
   "cell_type": "markdown",
   "metadata": {},
   "source": [
    "**Conclusion:** The data frame variable \"event\" contains the following values:\n",
    " * *'offer received'*\n",
    " * *'offer viewed'*\n",
    " * *'transaction'*\n",
    " * *'offer completed'*\n",
    " "
   ]
  },
  {
   "cell_type": "code",
   "execution_count": 42,
   "metadata": {
    "scrolled": false
   },
   "outputs": [
    {
     "data": {
      "text/plain": [
       "254303    {'offer id': '2298d6c36e964ae4a3e7e9706d1fb8c2'}\n",
       "46107                                    {'amount': 19.75}\n",
       "262331    {'offer id': 'fafdcd668e3743c1bb461111dcafc2a4'}\n",
       "190678                                    {'amount': 5.71}\n",
       "57424     {'offer id': 'fafdcd668e3743c1bb461111dcafc2a4'}\n",
       "196344                                   {'amount': 20.39}\n",
       "108268                                    {'amount': 5.09}\n",
       "213579    {'offer id': '2298d6c36e964ae4a3e7e9706d1fb8c2'}\n",
       "197516                                   {'amount': 15.27}\n",
       "Name: value, dtype: object"
      ]
     },
     "execution_count": 42,
     "metadata": {},
     "output_type": "execute_result"
    }
   ],
   "source": [
    "# Checking the keys and values of the variable \"value\" in a sample.\n",
    "list_value = transcript['value']\n",
    "list_value.sample(9)\n"
   ]
  },
  {
   "cell_type": "code",
   "execution_count": 43,
   "metadata": {},
   "outputs": [],
   "source": [
    "# Function: Defining function to create a list of keys existig in a dictionary in a variable (column).\n",
    "def f_create_dict_key_list(df, col_name):\n",
    "    '''\n",
    "    INPUT:\n",
    "    df - Pandas data frame with dictionary to create new columns.\n",
    "    col_name - Dictionary of keys (strings).\n",
    "    \n",
    "    OUTPUT:\n",
    "    dict_keys - New list of the following characteristics:\n",
    "            1. Contains all keys of an dictionary in a list. \n",
    "    Description:\n",
    "    Creates a list of keys existig in a dictionary in a variable (column).\n",
    "    '''\n",
    "    dict_keys = []\n",
    "    for index, row in df.iterrows():\n",
    "        for key in row[col_name]:\n",
    "            if key in dict_keys:\n",
    "                continue\n",
    "            else:\n",
    "                dict_keys.append(key)\n",
    "  \n",
    "    return dict_keys\n"
   ]
  },
  {
   "cell_type": "markdown",
   "metadata": {},
   "source": [
    "**Result:** A function is created to create a list of keys existig in a dictionary in a variable (column)."
   ]
  },
  {
   "cell_type": "code",
   "execution_count": 44,
   "metadata": {},
   "outputs": [
    {
     "data": {
      "text/plain": [
       "['offer id', 'amount', 'offer_id', 'reward']"
      ]
     },
     "execution_count": 44,
     "metadata": {},
     "output_type": "execute_result"
    }
   ],
   "source": [
    "# Using the function: f_create_dict_key_list\n",
    "f_create_dict_key_list(transcript, 'value')\n"
   ]
  },
  {
   "cell_type": "markdown",
   "metadata": {},
   "source": [
    "**Conclusion:** The variable \"value\" cointains more then one key and different values:\n",
    " * key &rarr; 'offer id'\n",
    " * key &rarr; 'offer_id'\n",
    " * key &rarr; 'amount'\n",
    " * key &rarr; 'reward'"
   ]
  },
  {
   "cell_type": "markdown",
   "metadata": {},
   "source": [
    "## Transcript (transaction records) - Cleaning"
   ]
  },
  {
   "cell_type": "markdown",
   "metadata": {},
   "source": [
    "**Tasks:**\n",
    "1. Renaming the variable \"person\"in \"customer_id\".\n",
    "2. Splitting the variable \"event\" in categorical variables based on its values.\n",
    "3. Converting the variable \"value\" into one column each key.\n",
    "4. Combining the 2 offer id variables including their values in 1 variable \"offer_id\"."
   ]
  },
  {
   "cell_type": "code",
   "execution_count": 45,
   "metadata": {},
   "outputs": [],
   "source": [
    "# Copying the data frame\n",
    "transcript_clean = transcript.copy()\n"
   ]
  },
  {
   "cell_type": "markdown",
   "metadata": {},
   "source": [
    "**Result:** The data frame is copied."
   ]
  },
  {
   "cell_type": "markdown",
   "metadata": {},
   "source": [
    "### Renaming the variable \"person\"in \"customer_id\"."
   ]
  },
  {
   "cell_type": "markdown",
   "metadata": {},
   "source": [
    "#### Code"
   ]
  },
  {
   "cell_type": "code",
   "execution_count": 46,
   "metadata": {},
   "outputs": [],
   "source": [
    "# Renaming the column \"id\"\n",
    "transcript_clean.rename(columns={'person':'customer_id'},inplace=True)\n"
   ]
  },
  {
   "cell_type": "markdown",
   "metadata": {},
   "source": [
    "#### Test"
   ]
  },
  {
   "cell_type": "code",
   "execution_count": 47,
   "metadata": {
    "scrolled": true
   },
   "outputs": [
    {
     "data": {
      "text/html": [
       "<div>\n",
       "<style scoped>\n",
       "    .dataframe tbody tr th:only-of-type {\n",
       "        vertical-align: middle;\n",
       "    }\n",
       "\n",
       "    .dataframe tbody tr th {\n",
       "        vertical-align: top;\n",
       "    }\n",
       "\n",
       "    .dataframe thead th {\n",
       "        text-align: right;\n",
       "    }\n",
       "</style>\n",
       "<table border=\"1\" class=\"dataframe\">\n",
       "  <thead>\n",
       "    <tr style=\"text-align: right;\">\n",
       "      <th></th>\n",
       "      <th>customer_id</th>\n",
       "      <th>event</th>\n",
       "      <th>value</th>\n",
       "      <th>time</th>\n",
       "    </tr>\n",
       "  </thead>\n",
       "  <tbody>\n",
       "    <tr>\n",
       "      <th>0</th>\n",
       "      <td>78afa995795e4d85b5d9ceeca43f5fef</td>\n",
       "      <td>offer received</td>\n",
       "      <td>{'offer id': '9b98b8c7a33c4b65b9aebfe6a799e6d9'}</td>\n",
       "      <td>0</td>\n",
       "    </tr>\n",
       "    <tr>\n",
       "      <th>1</th>\n",
       "      <td>a03223e636434f42ac4c3df47e8bac43</td>\n",
       "      <td>offer received</td>\n",
       "      <td>{'offer id': '0b1e1539f2cc45b7b9fa7c272da2e1d7'}</td>\n",
       "      <td>0</td>\n",
       "    </tr>\n",
       "    <tr>\n",
       "      <th>2</th>\n",
       "      <td>e2127556f4f64592b11af22de27a7932</td>\n",
       "      <td>offer received</td>\n",
       "      <td>{'offer id': '2906b810c7d4411798c6938adc9daaa5'}</td>\n",
       "      <td>0</td>\n",
       "    </tr>\n",
       "    <tr>\n",
       "      <th>3</th>\n",
       "      <td>8ec6ce2a7e7949b1bf142def7d0e0586</td>\n",
       "      <td>offer received</td>\n",
       "      <td>{'offer id': 'fafdcd668e3743c1bb461111dcafc2a4'}</td>\n",
       "      <td>0</td>\n",
       "    </tr>\n",
       "    <tr>\n",
       "      <th>4</th>\n",
       "      <td>68617ca6246f4fbc85e91a2a49552598</td>\n",
       "      <td>offer received</td>\n",
       "      <td>{'offer id': '4d5c57ea9a6940dd891ad53e9dbe8da0'}</td>\n",
       "      <td>0</td>\n",
       "    </tr>\n",
       "  </tbody>\n",
       "</table>\n",
       "</div>"
      ],
      "text/plain": [
       "                        customer_id           event  \\\n",
       "0  78afa995795e4d85b5d9ceeca43f5fef  offer received   \n",
       "1  a03223e636434f42ac4c3df47e8bac43  offer received   \n",
       "2  e2127556f4f64592b11af22de27a7932  offer received   \n",
       "3  8ec6ce2a7e7949b1bf142def7d0e0586  offer received   \n",
       "4  68617ca6246f4fbc85e91a2a49552598  offer received   \n",
       "\n",
       "                                              value  time  \n",
       "0  {'offer id': '9b98b8c7a33c4b65b9aebfe6a799e6d9'}     0  \n",
       "1  {'offer id': '0b1e1539f2cc45b7b9fa7c272da2e1d7'}     0  \n",
       "2  {'offer id': '2906b810c7d4411798c6938adc9daaa5'}     0  \n",
       "3  {'offer id': 'fafdcd668e3743c1bb461111dcafc2a4'}     0  \n",
       "4  {'offer id': '4d5c57ea9a6940dd891ad53e9dbe8da0'}     0  "
      ]
     },
     "execution_count": 47,
     "metadata": {},
     "output_type": "execute_result"
    }
   ],
   "source": [
    "# Displaying the new data frame to check the changes\n",
    "transcript_clean.head()\n"
   ]
  },
  {
   "cell_type": "markdown",
   "metadata": {},
   "source": [
    "**Result:** The column \"person\" is renamed in \"customer_id\"."
   ]
  },
  {
   "cell_type": "markdown",
   "metadata": {},
   "source": [
    "### Converting the variable \"value\" into one column each key."
   ]
  },
  {
   "cell_type": "markdown",
   "metadata": {},
   "source": [
    "#### Code"
   ]
  },
  {
   "cell_type": "code",
   "execution_count": 48,
   "metadata": {},
   "outputs": [],
   "source": [
    "# Function: Defining function to create the columns for each of the dictionary keys.\n",
    "def f_create_dict_df(df, col_name):\n",
    "    '''\n",
    "    INPUT:\n",
    "    df - Pandas data frame with dictionary to create new columns.\n",
    "    col_name - Dictionary of keys (strings).\n",
    "    \n",
    "    OUTPUT:\n",
    "    df - New dataframe of the following characteristics:\n",
    "            1. Contains all keys as columns.\n",
    "            2. Removes the original columns in cat_cols (all).\n",
    "            3. Create column for each key in cat_cols dictionary.\n",
    "            4. Prefix of the column name: Underscore (_) for separating. \n",
    "    Description:\n",
    "    Converts the dictionary keys of an variable into separate columns.\n",
    "    '''\n",
    "    df= pd.concat([df.drop(col_name, axis=1), \n",
    "                   df[col_name].apply(pd.Series).add_prefix('_').add_prefix(col_name)], axis=1)\n",
    "  \n",
    "    return df\n"
   ]
  },
  {
   "cell_type": "markdown",
   "metadata": {},
   "source": [
    "**Result:** A function is created to convert the dictionary keys of an variable into separate columns."
   ]
  },
  {
   "cell_type": "code",
   "execution_count": 49,
   "metadata": {},
   "outputs": [],
   "source": [
    "# Using the function: f_create_dict_df\n",
    "transcript_clean = f_create_dict_df(transcript_clean, 'value')\n"
   ]
  },
  {
   "cell_type": "markdown",
   "metadata": {},
   "source": [
    "**Result:** The function is used on this data frame."
   ]
  },
  {
   "cell_type": "markdown",
   "metadata": {},
   "source": [
    "#### Test"
   ]
  },
  {
   "cell_type": "code",
   "execution_count": 50,
   "metadata": {
    "scrolled": false
   },
   "outputs": [
    {
     "data": {
      "text/html": [
       "<div>\n",
       "<style scoped>\n",
       "    .dataframe tbody tr th:only-of-type {\n",
       "        vertical-align: middle;\n",
       "    }\n",
       "\n",
       "    .dataframe tbody tr th {\n",
       "        vertical-align: top;\n",
       "    }\n",
       "\n",
       "    .dataframe thead th {\n",
       "        text-align: right;\n",
       "    }\n",
       "</style>\n",
       "<table border=\"1\" class=\"dataframe\">\n",
       "  <thead>\n",
       "    <tr style=\"text-align: right;\">\n",
       "      <th></th>\n",
       "      <th>customer_id</th>\n",
       "      <th>event</th>\n",
       "      <th>time</th>\n",
       "      <th>value_offer id</th>\n",
       "      <th>value_amount</th>\n",
       "      <th>value_offer_id</th>\n",
       "      <th>value_reward</th>\n",
       "    </tr>\n",
       "  </thead>\n",
       "  <tbody>\n",
       "    <tr>\n",
       "      <th>0</th>\n",
       "      <td>78afa995795e4d85b5d9ceeca43f5fef</td>\n",
       "      <td>offer received</td>\n",
       "      <td>0</td>\n",
       "      <td>9b98b8c7a33c4b65b9aebfe6a799e6d9</td>\n",
       "      <td>NaN</td>\n",
       "      <td>NaN</td>\n",
       "      <td>NaN</td>\n",
       "    </tr>\n",
       "    <tr>\n",
       "      <th>1</th>\n",
       "      <td>a03223e636434f42ac4c3df47e8bac43</td>\n",
       "      <td>offer received</td>\n",
       "      <td>0</td>\n",
       "      <td>0b1e1539f2cc45b7b9fa7c272da2e1d7</td>\n",
       "      <td>NaN</td>\n",
       "      <td>NaN</td>\n",
       "      <td>NaN</td>\n",
       "    </tr>\n",
       "    <tr>\n",
       "      <th>2</th>\n",
       "      <td>e2127556f4f64592b11af22de27a7932</td>\n",
       "      <td>offer received</td>\n",
       "      <td>0</td>\n",
       "      <td>2906b810c7d4411798c6938adc9daaa5</td>\n",
       "      <td>NaN</td>\n",
       "      <td>NaN</td>\n",
       "      <td>NaN</td>\n",
       "    </tr>\n",
       "    <tr>\n",
       "      <th>3</th>\n",
       "      <td>8ec6ce2a7e7949b1bf142def7d0e0586</td>\n",
       "      <td>offer received</td>\n",
       "      <td>0</td>\n",
       "      <td>fafdcd668e3743c1bb461111dcafc2a4</td>\n",
       "      <td>NaN</td>\n",
       "      <td>NaN</td>\n",
       "      <td>NaN</td>\n",
       "    </tr>\n",
       "    <tr>\n",
       "      <th>4</th>\n",
       "      <td>68617ca6246f4fbc85e91a2a49552598</td>\n",
       "      <td>offer received</td>\n",
       "      <td>0</td>\n",
       "      <td>4d5c57ea9a6940dd891ad53e9dbe8da0</td>\n",
       "      <td>NaN</td>\n",
       "      <td>NaN</td>\n",
       "      <td>NaN</td>\n",
       "    </tr>\n",
       "  </tbody>\n",
       "</table>\n",
       "</div>"
      ],
      "text/plain": [
       "                        customer_id           event  time  \\\n",
       "0  78afa995795e4d85b5d9ceeca43f5fef  offer received     0   \n",
       "1  a03223e636434f42ac4c3df47e8bac43  offer received     0   \n",
       "2  e2127556f4f64592b11af22de27a7932  offer received     0   \n",
       "3  8ec6ce2a7e7949b1bf142def7d0e0586  offer received     0   \n",
       "4  68617ca6246f4fbc85e91a2a49552598  offer received     0   \n",
       "\n",
       "                     value_offer id  value_amount value_offer_id  value_reward  \n",
       "0  9b98b8c7a33c4b65b9aebfe6a799e6d9           NaN            NaN           NaN  \n",
       "1  0b1e1539f2cc45b7b9fa7c272da2e1d7           NaN            NaN           NaN  \n",
       "2  2906b810c7d4411798c6938adc9daaa5           NaN            NaN           NaN  \n",
       "3  fafdcd668e3743c1bb461111dcafc2a4           NaN            NaN           NaN  \n",
       "4  4d5c57ea9a6940dd891ad53e9dbe8da0           NaN            NaN           NaN  "
      ]
     },
     "execution_count": 50,
     "metadata": {},
     "output_type": "execute_result"
    }
   ],
   "source": [
    "# Displaying the new data frame to check the changes\n",
    "transcript_clean.head()\n"
   ]
  },
  {
   "cell_type": "code",
   "execution_count": 51,
   "metadata": {},
   "outputs": [
    {
     "data": {
      "text/html": [
       "<div>\n",
       "<style scoped>\n",
       "    .dataframe tbody tr th:only-of-type {\n",
       "        vertical-align: middle;\n",
       "    }\n",
       "\n",
       "    .dataframe tbody tr th {\n",
       "        vertical-align: top;\n",
       "    }\n",
       "\n",
       "    .dataframe thead th {\n",
       "        text-align: right;\n",
       "    }\n",
       "</style>\n",
       "<table border=\"1\" class=\"dataframe\">\n",
       "  <thead>\n",
       "    <tr style=\"text-align: right;\">\n",
       "      <th></th>\n",
       "      <th>customer_id</th>\n",
       "      <th>event</th>\n",
       "      <th>time</th>\n",
       "      <th>value_offer id</th>\n",
       "      <th>value_amount</th>\n",
       "      <th>value_offer_id</th>\n",
       "      <th>value_reward</th>\n",
       "    </tr>\n",
       "  </thead>\n",
       "  <tbody>\n",
       "    <tr>\n",
       "      <th>55972</th>\n",
       "      <td>0009655768c64bdeb2e877511632db8f</td>\n",
       "      <td>offer received</td>\n",
       "      <td>168</td>\n",
       "      <td>5a8bc65990b245e5a138643cd4eb9837</td>\n",
       "      <td>NaN</td>\n",
       "      <td>NaN</td>\n",
       "      <td>NaN</td>\n",
       "    </tr>\n",
       "    <tr>\n",
       "      <th>77705</th>\n",
       "      <td>0009655768c64bdeb2e877511632db8f</td>\n",
       "      <td>offer viewed</td>\n",
       "      <td>192</td>\n",
       "      <td>5a8bc65990b245e5a138643cd4eb9837</td>\n",
       "      <td>NaN</td>\n",
       "      <td>NaN</td>\n",
       "      <td>NaN</td>\n",
       "    </tr>\n",
       "    <tr>\n",
       "      <th>89291</th>\n",
       "      <td>0009655768c64bdeb2e877511632db8f</td>\n",
       "      <td>transaction</td>\n",
       "      <td>228</td>\n",
       "      <td>NaN</td>\n",
       "      <td>22.16</td>\n",
       "      <td>NaN</td>\n",
       "      <td>NaN</td>\n",
       "    </tr>\n",
       "    <tr>\n",
       "      <th>113605</th>\n",
       "      <td>0009655768c64bdeb2e877511632db8f</td>\n",
       "      <td>offer received</td>\n",
       "      <td>336</td>\n",
       "      <td>3f207df678b143eea3cee63160fa8bed</td>\n",
       "      <td>NaN</td>\n",
       "      <td>NaN</td>\n",
       "      <td>NaN</td>\n",
       "    </tr>\n",
       "    <tr>\n",
       "      <th>139992</th>\n",
       "      <td>0009655768c64bdeb2e877511632db8f</td>\n",
       "      <td>offer viewed</td>\n",
       "      <td>372</td>\n",
       "      <td>3f207df678b143eea3cee63160fa8bed</td>\n",
       "      <td>NaN</td>\n",
       "      <td>NaN</td>\n",
       "      <td>NaN</td>\n",
       "    </tr>\n",
       "    <tr>\n",
       "      <th>153401</th>\n",
       "      <td>0009655768c64bdeb2e877511632db8f</td>\n",
       "      <td>offer received</td>\n",
       "      <td>408</td>\n",
       "      <td>f19421c1d4aa40978ebb69ca19b0e20d</td>\n",
       "      <td>NaN</td>\n",
       "      <td>NaN</td>\n",
       "      <td>NaN</td>\n",
       "    </tr>\n",
       "    <tr>\n",
       "      <th>168412</th>\n",
       "      <td>0009655768c64bdeb2e877511632db8f</td>\n",
       "      <td>transaction</td>\n",
       "      <td>414</td>\n",
       "      <td>NaN</td>\n",
       "      <td>8.57</td>\n",
       "      <td>NaN</td>\n",
       "      <td>NaN</td>\n",
       "    </tr>\n",
       "    <tr>\n",
       "      <th>168413</th>\n",
       "      <td>0009655768c64bdeb2e877511632db8f</td>\n",
       "      <td>offer completed</td>\n",
       "      <td>414</td>\n",
       "      <td>NaN</td>\n",
       "      <td>NaN</td>\n",
       "      <td>f19421c1d4aa40978ebb69ca19b0e20d</td>\n",
       "      <td>5.0</td>\n",
       "    </tr>\n",
       "    <tr>\n",
       "      <th>187554</th>\n",
       "      <td>0009655768c64bdeb2e877511632db8f</td>\n",
       "      <td>offer viewed</td>\n",
       "      <td>456</td>\n",
       "      <td>f19421c1d4aa40978ebb69ca19b0e20d</td>\n",
       "      <td>NaN</td>\n",
       "      <td>NaN</td>\n",
       "      <td>NaN</td>\n",
       "    </tr>\n",
       "    <tr>\n",
       "      <th>204340</th>\n",
       "      <td>0009655768c64bdeb2e877511632db8f</td>\n",
       "      <td>offer received</td>\n",
       "      <td>504</td>\n",
       "      <td>fafdcd668e3743c1bb461111dcafc2a4</td>\n",
       "      <td>NaN</td>\n",
       "      <td>NaN</td>\n",
       "      <td>NaN</td>\n",
       "    </tr>\n",
       "  </tbody>\n",
       "</table>\n",
       "</div>"
      ],
      "text/plain": [
       "                             customer_id            event  time  \\\n",
       "55972   0009655768c64bdeb2e877511632db8f   offer received   168   \n",
       "77705   0009655768c64bdeb2e877511632db8f     offer viewed   192   \n",
       "89291   0009655768c64bdeb2e877511632db8f      transaction   228   \n",
       "113605  0009655768c64bdeb2e877511632db8f   offer received   336   \n",
       "139992  0009655768c64bdeb2e877511632db8f     offer viewed   372   \n",
       "153401  0009655768c64bdeb2e877511632db8f   offer received   408   \n",
       "168412  0009655768c64bdeb2e877511632db8f      transaction   414   \n",
       "168413  0009655768c64bdeb2e877511632db8f  offer completed   414   \n",
       "187554  0009655768c64bdeb2e877511632db8f     offer viewed   456   \n",
       "204340  0009655768c64bdeb2e877511632db8f   offer received   504   \n",
       "\n",
       "                          value_offer id  value_amount  \\\n",
       "55972   5a8bc65990b245e5a138643cd4eb9837           NaN   \n",
       "77705   5a8bc65990b245e5a138643cd4eb9837           NaN   \n",
       "89291                                NaN         22.16   \n",
       "113605  3f207df678b143eea3cee63160fa8bed           NaN   \n",
       "139992  3f207df678b143eea3cee63160fa8bed           NaN   \n",
       "153401  f19421c1d4aa40978ebb69ca19b0e20d           NaN   \n",
       "168412                               NaN          8.57   \n",
       "168413                               NaN           NaN   \n",
       "187554  f19421c1d4aa40978ebb69ca19b0e20d           NaN   \n",
       "204340  fafdcd668e3743c1bb461111dcafc2a4           NaN   \n",
       "\n",
       "                          value_offer_id  value_reward  \n",
       "55972                                NaN           NaN  \n",
       "77705                                NaN           NaN  \n",
       "89291                                NaN           NaN  \n",
       "113605                               NaN           NaN  \n",
       "139992                               NaN           NaN  \n",
       "153401                               NaN           NaN  \n",
       "168412                               NaN           NaN  \n",
       "168413  f19421c1d4aa40978ebb69ca19b0e20d           5.0  \n",
       "187554                               NaN           NaN  \n",
       "204340                               NaN           NaN  "
      ]
     },
     "execution_count": 51,
     "metadata": {},
     "output_type": "execute_result"
    }
   ],
   "source": [
    "# Checking \"value\" data frame based on one \"customer_id\"\n",
    "transcript_clean[transcript_clean['customer_id']== '0009655768c64bdeb2e877511632db8f'].head(10)\n"
   ]
  },
  {
   "cell_type": "code",
   "execution_count": 52,
   "metadata": {},
   "outputs": [
    {
     "name": "stdout",
     "output_type": "stream",
     "text": [
      "<class 'pandas.core.frame.DataFrame'>\n",
      "RangeIndex: 306534 entries, 0 to 306533\n",
      "Data columns (total 7 columns):\n",
      " #   Column          Non-Null Count   Dtype  \n",
      "---  ------          --------------   -----  \n",
      " 0   customer_id     306534 non-null  object \n",
      " 1   event           306534 non-null  object \n",
      " 2   time            306534 non-null  int64  \n",
      " 3   value_offer id  134002 non-null  object \n",
      " 4   value_amount    138953 non-null  float64\n",
      " 5   value_offer_id  33579 non-null   object \n",
      " 6   value_reward    33579 non-null   float64\n",
      "dtypes: float64(2), int64(1), object(4)\n",
      "memory usage: 16.4+ MB\n"
     ]
    }
   ],
   "source": [
    "# Checking a concise summary of the dataframe\n",
    "transcript_clean.info()\n"
   ]
  },
  {
   "cell_type": "markdown",
   "metadata": {},
   "source": [
    "**Result:** After processing the function there are 2 variables (dictionary keys of column \"value\") existing in the data frame which will be combined in the next step:\n",
    " * \"value_offer id\" (space)\n",
    " * \"value_offer_id\" (underscore)\n",
    " "
   ]
  },
  {
   "cell_type": "markdown",
   "metadata": {},
   "source": [
    "### Combining the 2 offer id variables including their values in 1 variable \"offer_id\"."
   ]
  },
  {
   "cell_type": "markdown",
   "metadata": {},
   "source": [
    "#### Code"
   ]
  },
  {
   "cell_type": "code",
   "execution_count": 53,
   "metadata": {},
   "outputs": [],
   "source": [
    "# Function: Defining function to combine 2 variables in one column where \"col_name1\" is NaN and \"col_name2\" is not NaN.\n",
    "def f_create_var_2to1_df(df, col_new, col_name1, col_name2):\n",
    "    '''\n",
    "    INPUT:\n",
    "    df - Pandas data frame including the necessary columns.\n",
    "    col_new - New variable name (combined column)\n",
    "    col_name1 - First variable name.\n",
    "    col_name2 - Second variable name.\n",
    "    \n",
    "    OUTPUT:\n",
    "    df - New dataframe of the following characteristics:\n",
    "            1. Checks if col_new (string) is already existing in col_name1 and col_name2\n",
    "            2. Combines 2 variables into 1 variable.\n",
    "            3. Removes the original columns in cat_name1 and cat_name2 (all).\n",
    "    Description:\n",
    "    Combines 2 variables in one column where \"col_name1\" is NaN and \"col_name2\" is not NaN.\n",
    "    '''\n",
    "    # Checking if col_new (string) is already existing in col_name1 and col_name2\n",
    "    if col_new == col_name1:\n",
    "        df.rename(columns={col_name1:col_new + '_1'},inplace=True) # Renaming the identical variable name\n",
    "        col_name1 = col_new + '_1'\n",
    "        pass\n",
    "    elif col_new == col_name2:\n",
    "        df.rename(columns={col_name2:col_new + '_2'},inplace=True) # Renaming the identical variable name\n",
    "        col_name2 = col_new + '_2'\n",
    "        pass\n",
    "    else:\n",
    "        pass\n",
    "        \n",
    "    # Combining the 2 variables into 1 varible\n",
    "    df[col_new] = np.where(df[col_name1].isnull() & df[col_name2].notnull(), df[col_name2], df[col_name1])\n",
    "    \n",
    "    # Dropping not needed columns.\n",
    "    df = df.drop([col_name1, col_name2], axis=1)\n",
    "    \n",
    "    return df\n"
   ]
  },
  {
   "cell_type": "markdown",
   "metadata": {},
   "source": [
    "**Result:** A function is created to combine 2 variables in one column."
   ]
  },
  {
   "cell_type": "code",
   "execution_count": 54,
   "metadata": {},
   "outputs": [],
   "source": [
    "# Using the function: f_create_var_2to1_df\n",
    "transcript_clean = f_create_var_2to1_df(transcript_clean, 'offer_id', 'value_offer id', 'value_offer_id')\n"
   ]
  },
  {
   "cell_type": "markdown",
   "metadata": {},
   "source": [
    "**Result:** The function is used on this data frame."
   ]
  },
  {
   "cell_type": "markdown",
   "metadata": {},
   "source": [
    "#### Test"
   ]
  },
  {
   "cell_type": "code",
   "execution_count": 55,
   "metadata": {
    "scrolled": true
   },
   "outputs": [
    {
     "data": {
      "text/html": [
       "<div>\n",
       "<style scoped>\n",
       "    .dataframe tbody tr th:only-of-type {\n",
       "        vertical-align: middle;\n",
       "    }\n",
       "\n",
       "    .dataframe tbody tr th {\n",
       "        vertical-align: top;\n",
       "    }\n",
       "\n",
       "    .dataframe thead th {\n",
       "        text-align: right;\n",
       "    }\n",
       "</style>\n",
       "<table border=\"1\" class=\"dataframe\">\n",
       "  <thead>\n",
       "    <tr style=\"text-align: right;\">\n",
       "      <th></th>\n",
       "      <th>customer_id</th>\n",
       "      <th>event</th>\n",
       "      <th>time</th>\n",
       "      <th>value_amount</th>\n",
       "      <th>value_reward</th>\n",
       "      <th>offer_id</th>\n",
       "    </tr>\n",
       "  </thead>\n",
       "  <tbody>\n",
       "    <tr>\n",
       "      <th>0</th>\n",
       "      <td>78afa995795e4d85b5d9ceeca43f5fef</td>\n",
       "      <td>offer received</td>\n",
       "      <td>0</td>\n",
       "      <td>NaN</td>\n",
       "      <td>NaN</td>\n",
       "      <td>9b98b8c7a33c4b65b9aebfe6a799e6d9</td>\n",
       "    </tr>\n",
       "    <tr>\n",
       "      <th>1</th>\n",
       "      <td>a03223e636434f42ac4c3df47e8bac43</td>\n",
       "      <td>offer received</td>\n",
       "      <td>0</td>\n",
       "      <td>NaN</td>\n",
       "      <td>NaN</td>\n",
       "      <td>0b1e1539f2cc45b7b9fa7c272da2e1d7</td>\n",
       "    </tr>\n",
       "    <tr>\n",
       "      <th>2</th>\n",
       "      <td>e2127556f4f64592b11af22de27a7932</td>\n",
       "      <td>offer received</td>\n",
       "      <td>0</td>\n",
       "      <td>NaN</td>\n",
       "      <td>NaN</td>\n",
       "      <td>2906b810c7d4411798c6938adc9daaa5</td>\n",
       "    </tr>\n",
       "    <tr>\n",
       "      <th>3</th>\n",
       "      <td>8ec6ce2a7e7949b1bf142def7d0e0586</td>\n",
       "      <td>offer received</td>\n",
       "      <td>0</td>\n",
       "      <td>NaN</td>\n",
       "      <td>NaN</td>\n",
       "      <td>fafdcd668e3743c1bb461111dcafc2a4</td>\n",
       "    </tr>\n",
       "    <tr>\n",
       "      <th>4</th>\n",
       "      <td>68617ca6246f4fbc85e91a2a49552598</td>\n",
       "      <td>offer received</td>\n",
       "      <td>0</td>\n",
       "      <td>NaN</td>\n",
       "      <td>NaN</td>\n",
       "      <td>4d5c57ea9a6940dd891ad53e9dbe8da0</td>\n",
       "    </tr>\n",
       "  </tbody>\n",
       "</table>\n",
       "</div>"
      ],
      "text/plain": [
       "                        customer_id           event  time  value_amount  \\\n",
       "0  78afa995795e4d85b5d9ceeca43f5fef  offer received     0           NaN   \n",
       "1  a03223e636434f42ac4c3df47e8bac43  offer received     0           NaN   \n",
       "2  e2127556f4f64592b11af22de27a7932  offer received     0           NaN   \n",
       "3  8ec6ce2a7e7949b1bf142def7d0e0586  offer received     0           NaN   \n",
       "4  68617ca6246f4fbc85e91a2a49552598  offer received     0           NaN   \n",
       "\n",
       "   value_reward                          offer_id  \n",
       "0           NaN  9b98b8c7a33c4b65b9aebfe6a799e6d9  \n",
       "1           NaN  0b1e1539f2cc45b7b9fa7c272da2e1d7  \n",
       "2           NaN  2906b810c7d4411798c6938adc9daaa5  \n",
       "3           NaN  fafdcd668e3743c1bb461111dcafc2a4  \n",
       "4           NaN  4d5c57ea9a6940dd891ad53e9dbe8da0  "
      ]
     },
     "execution_count": 55,
     "metadata": {},
     "output_type": "execute_result"
    }
   ],
   "source": [
    "# Displaying the new data frame to check the changes\n",
    "transcript_clean.head()\n"
   ]
  },
  {
   "cell_type": "markdown",
   "metadata": {},
   "source": [
    "**Result:** \n",
    "* The keys of the variable \"value\" are converted into separate columns.\n",
    "* The 2 offer id variables including their values are combined into 1 variable \"offer_id\"."
   ]
  },
  {
   "cell_type": "code",
   "execution_count": 56,
   "metadata": {
    "scrolled": true
   },
   "outputs": [
    {
     "name": "stdout",
     "output_type": "stream",
     "text": [
      "<class 'pandas.core.frame.DataFrame'>\n",
      "RangeIndex: 306534 entries, 0 to 306533\n",
      "Data columns (total 6 columns):\n",
      " #   Column        Non-Null Count   Dtype  \n",
      "---  ------        --------------   -----  \n",
      " 0   customer_id   306534 non-null  object \n",
      " 1   event         306534 non-null  object \n",
      " 2   time          306534 non-null  int64  \n",
      " 3   value_amount  138953 non-null  float64\n",
      " 4   value_reward  33579 non-null   float64\n",
      " 5   offer_id      167581 non-null  object \n",
      "dtypes: float64(2), int64(1), object(3)\n",
      "memory usage: 14.0+ MB\n"
     ]
    }
   ],
   "source": [
    "# Checking a concise summary of the dataframe\n",
    "transcript_clean.info()\n"
   ]
  },
  {
   "cell_type": "markdown",
   "metadata": {},
   "source": [
    "**Result:** \n",
    "1. The new variable \"offer_id\" contains all values from the previous 2 offer id variables.\n",
    "2. The following variables are containing a lot of NaN values:\n",
    " * \"value_amount\"\n",
    " * \"value_reward\"\n",
    " * \"offer_id\""
   ]
  },
  {
   "cell_type": "code",
   "execution_count": 57,
   "metadata": {
    "scrolled": true
   },
   "outputs": [
    {
     "data": {
      "text/plain": [
       "(306534, 6)"
      ]
     },
     "execution_count": 57,
     "metadata": {},
     "output_type": "execute_result"
    }
   ],
   "source": [
    "# Checking the shape of the data frame\n",
    "transcript_clean.shape\n"
   ]
  },
  {
   "cell_type": "markdown",
   "metadata": {},
   "source": [
    "**Result:** The data frame consits of *6* columns and *306,534* rows."
   ]
  },
  {
   "cell_type": "markdown",
   "metadata": {},
   "source": [
    "<a id='sec2_114'></a>\n",
    "## Merge of the Data Frames\n",
    "<div style=\"text-align: right\"><right><a href=\"#top\">Table of Content</a></div>"
   ]
  },
  {
   "cell_type": "markdown",
   "metadata": {},
   "source": [
    "### Merge of \"transcript_clean\" and \"portfolio_clean\""
   ]
  },
  {
   "cell_type": "code",
   "execution_count": 58,
   "metadata": {
    "scrolled": true
   },
   "outputs": [
    {
     "data": {
      "text/plain": [
       "(306534, 6)"
      ]
     },
     "execution_count": 58,
     "metadata": {},
     "output_type": "execute_result"
    }
   ],
   "source": [
    "# Checking the shape of the data frame\n",
    "transcript_clean.shape\n"
   ]
  },
  {
   "cell_type": "code",
   "execution_count": 59,
   "metadata": {
    "scrolled": true
   },
   "outputs": [
    {
     "data": {
      "text/plain": [
       "(10, 6)"
      ]
     },
     "execution_count": 59,
     "metadata": {},
     "output_type": "execute_result"
    }
   ],
   "source": [
    "# Checking the shape of the data frame\n",
    "portfolio_clean.shape\n"
   ]
  },
  {
   "cell_type": "code",
   "execution_count": 60,
   "metadata": {},
   "outputs": [
    {
     "data": {
      "text/html": [
       "<div>\n",
       "<style scoped>\n",
       "    .dataframe tbody tr th:only-of-type {\n",
       "        vertical-align: middle;\n",
       "    }\n",
       "\n",
       "    .dataframe tbody tr th {\n",
       "        vertical-align: top;\n",
       "    }\n",
       "\n",
       "    .dataframe thead th {\n",
       "        text-align: right;\n",
       "    }\n",
       "</style>\n",
       "<table border=\"1\" class=\"dataframe\">\n",
       "  <thead>\n",
       "    <tr style=\"text-align: right;\">\n",
       "      <th></th>\n",
       "      <th>customer_id</th>\n",
       "      <th>event</th>\n",
       "      <th>time</th>\n",
       "      <th>value_amount</th>\n",
       "      <th>value_reward</th>\n",
       "      <th>offer_id</th>\n",
       "      <th>reward</th>\n",
       "      <th>channels</th>\n",
       "      <th>difficulty</th>\n",
       "      <th>duration</th>\n",
       "      <th>offer_type</th>\n",
       "    </tr>\n",
       "  </thead>\n",
       "  <tbody>\n",
       "    <tr>\n",
       "      <th>0</th>\n",
       "      <td>78afa995795e4d85b5d9ceeca43f5fef</td>\n",
       "      <td>offer received</td>\n",
       "      <td>0</td>\n",
       "      <td>NaN</td>\n",
       "      <td>NaN</td>\n",
       "      <td>9b98b8c7a33c4b65b9aebfe6a799e6d9</td>\n",
       "      <td>5.0</td>\n",
       "      <td>[web, email, mobile]</td>\n",
       "      <td>5.0</td>\n",
       "      <td>7.0</td>\n",
       "      <td>bogo</td>\n",
       "    </tr>\n",
       "    <tr>\n",
       "      <th>1</th>\n",
       "      <td>a03223e636434f42ac4c3df47e8bac43</td>\n",
       "      <td>offer received</td>\n",
       "      <td>0</td>\n",
       "      <td>NaN</td>\n",
       "      <td>NaN</td>\n",
       "      <td>0b1e1539f2cc45b7b9fa7c272da2e1d7</td>\n",
       "      <td>5.0</td>\n",
       "      <td>[web, email]</td>\n",
       "      <td>20.0</td>\n",
       "      <td>10.0</td>\n",
       "      <td>discount</td>\n",
       "    </tr>\n",
       "    <tr>\n",
       "      <th>2</th>\n",
       "      <td>e2127556f4f64592b11af22de27a7932</td>\n",
       "      <td>offer received</td>\n",
       "      <td>0</td>\n",
       "      <td>NaN</td>\n",
       "      <td>NaN</td>\n",
       "      <td>2906b810c7d4411798c6938adc9daaa5</td>\n",
       "      <td>2.0</td>\n",
       "      <td>[web, email, mobile]</td>\n",
       "      <td>10.0</td>\n",
       "      <td>7.0</td>\n",
       "      <td>discount</td>\n",
       "    </tr>\n",
       "    <tr>\n",
       "      <th>3</th>\n",
       "      <td>8ec6ce2a7e7949b1bf142def7d0e0586</td>\n",
       "      <td>offer received</td>\n",
       "      <td>0</td>\n",
       "      <td>NaN</td>\n",
       "      <td>NaN</td>\n",
       "      <td>fafdcd668e3743c1bb461111dcafc2a4</td>\n",
       "      <td>2.0</td>\n",
       "      <td>[web, email, mobile, social]</td>\n",
       "      <td>10.0</td>\n",
       "      <td>10.0</td>\n",
       "      <td>discount</td>\n",
       "    </tr>\n",
       "    <tr>\n",
       "      <th>4</th>\n",
       "      <td>68617ca6246f4fbc85e91a2a49552598</td>\n",
       "      <td>offer received</td>\n",
       "      <td>0</td>\n",
       "      <td>NaN</td>\n",
       "      <td>NaN</td>\n",
       "      <td>4d5c57ea9a6940dd891ad53e9dbe8da0</td>\n",
       "      <td>10.0</td>\n",
       "      <td>[web, email, mobile, social]</td>\n",
       "      <td>10.0</td>\n",
       "      <td>5.0</td>\n",
       "      <td>bogo</td>\n",
       "    </tr>\n",
       "  </tbody>\n",
       "</table>\n",
       "</div>"
      ],
      "text/plain": [
       "                        customer_id           event  time  value_amount  \\\n",
       "0  78afa995795e4d85b5d9ceeca43f5fef  offer received     0           NaN   \n",
       "1  a03223e636434f42ac4c3df47e8bac43  offer received     0           NaN   \n",
       "2  e2127556f4f64592b11af22de27a7932  offer received     0           NaN   \n",
       "3  8ec6ce2a7e7949b1bf142def7d0e0586  offer received     0           NaN   \n",
       "4  68617ca6246f4fbc85e91a2a49552598  offer received     0           NaN   \n",
       "\n",
       "   value_reward                          offer_id  reward  \\\n",
       "0           NaN  9b98b8c7a33c4b65b9aebfe6a799e6d9     5.0   \n",
       "1           NaN  0b1e1539f2cc45b7b9fa7c272da2e1d7     5.0   \n",
       "2           NaN  2906b810c7d4411798c6938adc9daaa5     2.0   \n",
       "3           NaN  fafdcd668e3743c1bb461111dcafc2a4     2.0   \n",
       "4           NaN  4d5c57ea9a6940dd891ad53e9dbe8da0    10.0   \n",
       "\n",
       "                       channels  difficulty  duration offer_type  \n",
       "0          [web, email, mobile]         5.0       7.0       bogo  \n",
       "1                  [web, email]        20.0      10.0   discount  \n",
       "2          [web, email, mobile]        10.0       7.0   discount  \n",
       "3  [web, email, mobile, social]        10.0      10.0   discount  \n",
       "4  [web, email, mobile, social]        10.0       5.0       bogo  "
      ]
     },
     "execution_count": 60,
     "metadata": {},
     "output_type": "execute_result"
    }
   ],
   "source": [
    "# Merging the data frame \"transcript_clean\" with the data frame \"portfolio_clean\"\n",
    "df_merge_1 = transcript_clean.merge(portfolio_clean, on='offer_id', how='left')\n",
    "df_merge_1.head()\n"
   ]
  },
  {
   "cell_type": "code",
   "execution_count": 61,
   "metadata": {
    "scrolled": true
   },
   "outputs": [
    {
     "data": {
      "text/plain": [
       "(306534, 11)"
      ]
     },
     "execution_count": 61,
     "metadata": {},
     "output_type": "execute_result"
    }
   ],
   "source": [
    "# Checking the shape of the data frame\n",
    "df_merge_1.shape\n"
   ]
  },
  {
   "cell_type": "code",
   "execution_count": 62,
   "metadata": {},
   "outputs": [
    {
     "name": "stdout",
     "output_type": "stream",
     "text": [
      "<class 'pandas.core.frame.DataFrame'>\n",
      "Int64Index: 306534 entries, 0 to 306533\n",
      "Data columns (total 11 columns):\n",
      " #   Column        Non-Null Count   Dtype  \n",
      "---  ------        --------------   -----  \n",
      " 0   customer_id   306534 non-null  object \n",
      " 1   event         306534 non-null  object \n",
      " 2   time          306534 non-null  int64  \n",
      " 3   value_amount  138953 non-null  float64\n",
      " 4   value_reward  33579 non-null   float64\n",
      " 5   offer_id      167581 non-null  object \n",
      " 6   reward        167581 non-null  float64\n",
      " 7   channels      167581 non-null  object \n",
      " 8   difficulty    167581 non-null  float64\n",
      " 9   duration      167581 non-null  float64\n",
      " 10  offer_type    167581 non-null  object \n",
      "dtypes: float64(5), int64(1), object(5)\n",
      "memory usage: 28.1+ MB\n"
     ]
    }
   ],
   "source": [
    "# Checking a concise summary of the dataframe \n",
    "df_merge_1.info()\n"
   ]
  },
  {
   "cell_type": "code",
   "execution_count": 63,
   "metadata": {
    "scrolled": true
   },
   "outputs": [
    {
     "data": {
      "text/html": [
       "<div>\n",
       "<style scoped>\n",
       "    .dataframe tbody tr th:only-of-type {\n",
       "        vertical-align: middle;\n",
       "    }\n",
       "\n",
       "    .dataframe tbody tr th {\n",
       "        vertical-align: top;\n",
       "    }\n",
       "\n",
       "    .dataframe thead th {\n",
       "        text-align: right;\n",
       "    }\n",
       "</style>\n",
       "<table border=\"1\" class=\"dataframe\">\n",
       "  <thead>\n",
       "    <tr style=\"text-align: right;\">\n",
       "      <th></th>\n",
       "      <th>value_reward</th>\n",
       "      <th>reward</th>\n",
       "    </tr>\n",
       "  </thead>\n",
       "  <tbody>\n",
       "    <tr>\n",
       "      <th>142430</th>\n",
       "      <td>NaN</td>\n",
       "      <td>NaN</td>\n",
       "    </tr>\n",
       "    <tr>\n",
       "      <th>164800</th>\n",
       "      <td>NaN</td>\n",
       "      <td>10.0</td>\n",
       "    </tr>\n",
       "    <tr>\n",
       "      <th>248110</th>\n",
       "      <td>NaN</td>\n",
       "      <td>5.0</td>\n",
       "    </tr>\n",
       "    <tr>\n",
       "      <th>172895</th>\n",
       "      <td>2.0</td>\n",
       "      <td>2.0</td>\n",
       "    </tr>\n",
       "    <tr>\n",
       "      <th>105819</th>\n",
       "      <td>NaN</td>\n",
       "      <td>5.0</td>\n",
       "    </tr>\n",
       "    <tr>\n",
       "      <th>51428</th>\n",
       "      <td>NaN</td>\n",
       "      <td>NaN</td>\n",
       "    </tr>\n",
       "    <tr>\n",
       "      <th>114101</th>\n",
       "      <td>NaN</td>\n",
       "      <td>2.0</td>\n",
       "    </tr>\n",
       "    <tr>\n",
       "      <th>85980</th>\n",
       "      <td>NaN</td>\n",
       "      <td>NaN</td>\n",
       "    </tr>\n",
       "    <tr>\n",
       "      <th>180541</th>\n",
       "      <td>NaN</td>\n",
       "      <td>10.0</td>\n",
       "    </tr>\n",
       "  </tbody>\n",
       "</table>\n",
       "</div>"
      ],
      "text/plain": [
       "        value_reward  reward\n",
       "142430           NaN     NaN\n",
       "164800           NaN    10.0\n",
       "248110           NaN     5.0\n",
       "172895           2.0     2.0\n",
       "105819           NaN     5.0\n",
       "51428            NaN     NaN\n",
       "114101           NaN     2.0\n",
       "85980            NaN     NaN\n",
       "180541           NaN    10.0"
      ]
     },
     "execution_count": 63,
     "metadata": {},
     "output_type": "execute_result"
    }
   ],
   "source": [
    "# Checking the values of the variables \"value_reward\" and \"reward\".\n",
    "df_merge_1[['value_reward', 'reward']].sample(9)\n"
   ]
  },
  {
   "cell_type": "markdown",
   "metadata": {},
   "source": [
    "**Conclusion:** After the merge of the 2 data frames there are 2 variables (columns) which are probaply identical and should be combined into 1 variable:\n",
    "* \"value_reward\"\n",
    "* \"reward\""
   ]
  },
  {
   "cell_type": "markdown",
   "metadata": {},
   "source": [
    "## Merge of the Data Frames - Cleaning"
   ]
  },
  {
   "cell_type": "markdown",
   "metadata": {},
   "source": [
    "**Tasks:**\n",
    "1. Combining the 2 reward variables including their values in 1 variable \"reward\"."
   ]
  },
  {
   "cell_type": "code",
   "execution_count": 64,
   "metadata": {},
   "outputs": [],
   "source": [
    "# Copying the data frame\n",
    "df_merge_1_clean = df_merge_1.copy()\n"
   ]
  },
  {
   "cell_type": "markdown",
   "metadata": {},
   "source": [
    "**Result:** The data frame is copied."
   ]
  },
  {
   "cell_type": "markdown",
   "metadata": {},
   "source": [
    "### Combining the 2 reward variables including their values in 1 variable \"reward\"."
   ]
  },
  {
   "cell_type": "markdown",
   "metadata": {},
   "source": [
    "#### Code"
   ]
  },
  {
   "cell_type": "code",
   "execution_count": 65,
   "metadata": {
    "scrolled": false
   },
   "outputs": [
    {
     "name": "stdout",
     "output_type": "stream",
     "text": [
      "<class 'pandas.core.frame.DataFrame'>\n",
      "Int64Index: 306534 entries, 0 to 306533\n",
      "Data columns (total 11 columns):\n",
      " #   Column        Non-Null Count   Dtype  \n",
      "---  ------        --------------   -----  \n",
      " 0   customer_id   306534 non-null  object \n",
      " 1   event         306534 non-null  object \n",
      " 2   time          306534 non-null  int64  \n",
      " 3   value_amount  138953 non-null  float64\n",
      " 4   value_reward  33579 non-null   float64\n",
      " 5   offer_id      167581 non-null  object \n",
      " 6   reward        167581 non-null  float64\n",
      " 7   channels      167581 non-null  object \n",
      " 8   difficulty    167581 non-null  float64\n",
      " 9   duration      167581 non-null  float64\n",
      " 10  offer_type    167581 non-null  object \n",
      "dtypes: float64(5), int64(1), object(5)\n",
      "memory usage: 28.1+ MB\n"
     ]
    }
   ],
   "source": [
    "# Checking a concise summary of the dataframe\n",
    "df_merge_1_clean.info()\n"
   ]
  },
  {
   "cell_type": "code",
   "execution_count": 66,
   "metadata": {
    "scrolled": false
   },
   "outputs": [
    {
     "data": {
      "text/html": [
       "<div>\n",
       "<style scoped>\n",
       "    .dataframe tbody tr th:only-of-type {\n",
       "        vertical-align: middle;\n",
       "    }\n",
       "\n",
       "    .dataframe tbody tr th {\n",
       "        vertical-align: top;\n",
       "    }\n",
       "\n",
       "    .dataframe thead th {\n",
       "        text-align: right;\n",
       "    }\n",
       "</style>\n",
       "<table border=\"1\" class=\"dataframe\">\n",
       "  <thead>\n",
       "    <tr style=\"text-align: right;\">\n",
       "      <th></th>\n",
       "      <th>value_reward</th>\n",
       "      <th>reward</th>\n",
       "    </tr>\n",
       "  </thead>\n",
       "  <tbody>\n",
       "    <tr>\n",
       "      <th>88297</th>\n",
       "      <td>NaN</td>\n",
       "      <td>NaN</td>\n",
       "    </tr>\n",
       "    <tr>\n",
       "      <th>148332</th>\n",
       "      <td>NaN</td>\n",
       "      <td>NaN</td>\n",
       "    </tr>\n",
       "    <tr>\n",
       "      <th>272878</th>\n",
       "      <td>NaN</td>\n",
       "      <td>3.0</td>\n",
       "    </tr>\n",
       "    <tr>\n",
       "      <th>44963</th>\n",
       "      <td>NaN</td>\n",
       "      <td>NaN</td>\n",
       "    </tr>\n",
       "    <tr>\n",
       "      <th>184061</th>\n",
       "      <td>NaN</td>\n",
       "      <td>NaN</td>\n",
       "    </tr>\n",
       "    <tr>\n",
       "      <th>198639</th>\n",
       "      <td>NaN</td>\n",
       "      <td>NaN</td>\n",
       "    </tr>\n",
       "    <tr>\n",
       "      <th>288584</th>\n",
       "      <td>10.0</td>\n",
       "      <td>10.0</td>\n",
       "    </tr>\n",
       "    <tr>\n",
       "      <th>182042</th>\n",
       "      <td>NaN</td>\n",
       "      <td>NaN</td>\n",
       "    </tr>\n",
       "    <tr>\n",
       "      <th>74294</th>\n",
       "      <td>NaN</td>\n",
       "      <td>3.0</td>\n",
       "    </tr>\n",
       "  </tbody>\n",
       "</table>\n",
       "</div>"
      ],
      "text/plain": [
       "        value_reward  reward\n",
       "88297            NaN     NaN\n",
       "148332           NaN     NaN\n",
       "272878           NaN     3.0\n",
       "44963            NaN     NaN\n",
       "184061           NaN     NaN\n",
       "198639           NaN     NaN\n",
       "288584          10.0    10.0\n",
       "182042           NaN     NaN\n",
       "74294            NaN     3.0"
      ]
     },
     "execution_count": 66,
     "metadata": {},
     "output_type": "execute_result"
    }
   ],
   "source": [
    "# Checking the values of the variables \"value_reward\" and \"reward\".\n",
    "df_merge_1_clean[['value_reward', 'reward']].sample(9)\n"
   ]
  },
  {
   "cell_type": "code",
   "execution_count": 67,
   "metadata": {},
   "outputs": [
    {
     "data": {
      "text/html": [
       "<div>\n",
       "<style scoped>\n",
       "    .dataframe tbody tr th:only-of-type {\n",
       "        vertical-align: middle;\n",
       "    }\n",
       "\n",
       "    .dataframe tbody tr th {\n",
       "        vertical-align: top;\n",
       "    }\n",
       "\n",
       "    .dataframe thead th {\n",
       "        text-align: right;\n",
       "    }\n",
       "</style>\n",
       "<table border=\"1\" class=\"dataframe\">\n",
       "  <thead>\n",
       "    <tr style=\"text-align: right;\">\n",
       "      <th></th>\n",
       "      <th>value_reward</th>\n",
       "      <th>reward</th>\n",
       "    </tr>\n",
       "  </thead>\n",
       "  <tbody>\n",
       "    <tr>\n",
       "      <th>12658</th>\n",
       "      <td>2.0</td>\n",
       "      <td>2.0</td>\n",
       "    </tr>\n",
       "    <tr>\n",
       "      <th>12672</th>\n",
       "      <td>2.0</td>\n",
       "      <td>2.0</td>\n",
       "    </tr>\n",
       "    <tr>\n",
       "      <th>12679</th>\n",
       "      <td>5.0</td>\n",
       "      <td>5.0</td>\n",
       "    </tr>\n",
       "    <tr>\n",
       "      <th>12692</th>\n",
       "      <td>10.0</td>\n",
       "      <td>10.0</td>\n",
       "    </tr>\n",
       "    <tr>\n",
       "      <th>12697</th>\n",
       "      <td>10.0</td>\n",
       "      <td>10.0</td>\n",
       "    </tr>\n",
       "  </tbody>\n",
       "</table>\n",
       "</div>"
      ],
      "text/plain": [
       "       value_reward  reward\n",
       "12658           2.0     2.0\n",
       "12672           2.0     2.0\n",
       "12679           5.0     5.0\n",
       "12692          10.0    10.0\n",
       "12697          10.0    10.0"
      ]
     },
     "execution_count": 67,
     "metadata": {},
     "output_type": "execute_result"
    }
   ],
   "source": [
    "# Checking the values of the variables \"value_reward\" and \"reward\".\n",
    "df_reward = df_merge_1_clean[df_merge_1_clean['value_reward'].notna()]\n",
    "df_reward[['value_reward', 'reward']].head()\n"
   ]
  },
  {
   "cell_type": "code",
   "execution_count": 68,
   "metadata": {},
   "outputs": [
    {
     "name": "stdout",
     "output_type": "stream",
     "text": [
      "True\n"
     ]
    }
   ],
   "source": [
    "# Comparing if the variables \"value_reward\" and \"reward\" are identical\n",
    "df_reward = pd.DataFrame(df_reward)\n",
    "df_reward_1 = df_reward['reward']\n",
    "df_reward_2 = df_reward['value_reward']\n",
    "print((df_reward_1 == df_reward_2).all())\n"
   ]
  },
  {
   "cell_type": "code",
   "execution_count": 69,
   "metadata": {
    "scrolled": true
   },
   "outputs": [
    {
     "name": "stdout",
     "output_type": "stream",
     "text": [
      "<class 'pandas.core.frame.DataFrame'>\n",
      "Int64Index: 33579 entries, 12658 to 306527\n",
      "Data columns (total 11 columns):\n",
      " #   Column        Non-Null Count  Dtype  \n",
      "---  ------        --------------  -----  \n",
      " 0   customer_id   33579 non-null  object \n",
      " 1   event         33579 non-null  object \n",
      " 2   time          33579 non-null  int64  \n",
      " 3   value_amount  0 non-null      float64\n",
      " 4   value_reward  33579 non-null  float64\n",
      " 5   offer_id      33579 non-null  object \n",
      " 6   reward        33579 non-null  float64\n",
      " 7   channels      33579 non-null  object \n",
      " 8   difficulty    33579 non-null  float64\n",
      " 9   duration      33579 non-null  float64\n",
      " 10  offer_type    33579 non-null  object \n",
      "dtypes: float64(5), int64(1), object(5)\n",
      "memory usage: 3.1+ MB\n"
     ]
    }
   ],
   "source": [
    "# Checking a concise summary of the dataframe\n",
    "df_reward.info()\n"
   ]
  },
  {
   "cell_type": "code",
   "execution_count": 70,
   "metadata": {},
   "outputs": [
    {
     "data": {
      "text/plain": [
       "True"
      ]
     },
     "execution_count": 70,
     "metadata": {},
     "output_type": "execute_result"
    }
   ],
   "source": [
    "# Checking existance of NaN values in data frame\n",
    "df_merge_1_clean['value_reward'].isnull().any()\n"
   ]
  },
  {
   "cell_type": "code",
   "execution_count": 71,
   "metadata": {
    "scrolled": true
   },
   "outputs": [
    {
     "data": {
      "text/plain": [
       "True"
      ]
     },
     "execution_count": 71,
     "metadata": {},
     "output_type": "execute_result"
    }
   ],
   "source": [
    "# Checking existance of NaN values in data frame\n",
    "df_merge_1_clean['reward'].notnull().any()\n"
   ]
  },
  {
   "cell_type": "markdown",
   "metadata": {},
   "source": [
    "**Result:** Each value of the variable \"value_reward\" has an identical value in variable \"reward\". The variables can be combined into one variable without loosing any data."
   ]
  },
  {
   "cell_type": "code",
   "execution_count": 72,
   "metadata": {},
   "outputs": [],
   "source": [
    "# Using the function: f_create_var_2to1_df\n",
    "df_merge_1_clean = f_create_var_2to1_df(df_merge_1_clean, 'reward', 'value_reward', 'reward')\n"
   ]
  },
  {
   "cell_type": "markdown",
   "metadata": {},
   "source": [
    "**Result:** The function is used on this data frame."
   ]
  },
  {
   "cell_type": "markdown",
   "metadata": {},
   "source": [
    "#### Test"
   ]
  },
  {
   "cell_type": "code",
   "execution_count": 73,
   "metadata": {
    "scrolled": true
   },
   "outputs": [
    {
     "name": "stdout",
     "output_type": "stream",
     "text": [
      "<class 'pandas.core.frame.DataFrame'>\n",
      "Int64Index: 306534 entries, 0 to 306533\n",
      "Data columns (total 10 columns):\n",
      " #   Column        Non-Null Count   Dtype  \n",
      "---  ------        --------------   -----  \n",
      " 0   customer_id   306534 non-null  object \n",
      " 1   event         306534 non-null  object \n",
      " 2   time          306534 non-null  int64  \n",
      " 3   value_amount  138953 non-null  float64\n",
      " 4   offer_id      167581 non-null  object \n",
      " 5   channels      167581 non-null  object \n",
      " 6   difficulty    167581 non-null  float64\n",
      " 7   duration      167581 non-null  float64\n",
      " 8   offer_type    167581 non-null  object \n",
      " 9   reward        167581 non-null  float64\n",
      "dtypes: float64(4), int64(1), object(5)\n",
      "memory usage: 25.7+ MB\n"
     ]
    }
   ],
   "source": [
    "# Checking a concise summary of the dataframe\n",
    "df_merge_1_clean.info()\n"
   ]
  },
  {
   "cell_type": "code",
   "execution_count": 74,
   "metadata": {
    "scrolled": true
   },
   "outputs": [
    {
     "data": {
      "text/html": [
       "<div>\n",
       "<style scoped>\n",
       "    .dataframe tbody tr th:only-of-type {\n",
       "        vertical-align: middle;\n",
       "    }\n",
       "\n",
       "    .dataframe tbody tr th {\n",
       "        vertical-align: top;\n",
       "    }\n",
       "\n",
       "    .dataframe thead th {\n",
       "        text-align: right;\n",
       "    }\n",
       "</style>\n",
       "<table border=\"1\" class=\"dataframe\">\n",
       "  <thead>\n",
       "    <tr style=\"text-align: right;\">\n",
       "      <th></th>\n",
       "      <th>customer_id</th>\n",
       "      <th>event</th>\n",
       "      <th>time</th>\n",
       "      <th>value_amount</th>\n",
       "      <th>offer_id</th>\n",
       "      <th>channels</th>\n",
       "      <th>difficulty</th>\n",
       "      <th>duration</th>\n",
       "      <th>offer_type</th>\n",
       "      <th>reward</th>\n",
       "    </tr>\n",
       "  </thead>\n",
       "  <tbody>\n",
       "    <tr>\n",
       "      <th>0</th>\n",
       "      <td>78afa995795e4d85b5d9ceeca43f5fef</td>\n",
       "      <td>offer received</td>\n",
       "      <td>0</td>\n",
       "      <td>NaN</td>\n",
       "      <td>9b98b8c7a33c4b65b9aebfe6a799e6d9</td>\n",
       "      <td>[web, email, mobile]</td>\n",
       "      <td>5.0</td>\n",
       "      <td>7.0</td>\n",
       "      <td>bogo</td>\n",
       "      <td>5.0</td>\n",
       "    </tr>\n",
       "    <tr>\n",
       "      <th>1</th>\n",
       "      <td>a03223e636434f42ac4c3df47e8bac43</td>\n",
       "      <td>offer received</td>\n",
       "      <td>0</td>\n",
       "      <td>NaN</td>\n",
       "      <td>0b1e1539f2cc45b7b9fa7c272da2e1d7</td>\n",
       "      <td>[web, email]</td>\n",
       "      <td>20.0</td>\n",
       "      <td>10.0</td>\n",
       "      <td>discount</td>\n",
       "      <td>5.0</td>\n",
       "    </tr>\n",
       "    <tr>\n",
       "      <th>2</th>\n",
       "      <td>e2127556f4f64592b11af22de27a7932</td>\n",
       "      <td>offer received</td>\n",
       "      <td>0</td>\n",
       "      <td>NaN</td>\n",
       "      <td>2906b810c7d4411798c6938adc9daaa5</td>\n",
       "      <td>[web, email, mobile]</td>\n",
       "      <td>10.0</td>\n",
       "      <td>7.0</td>\n",
       "      <td>discount</td>\n",
       "      <td>2.0</td>\n",
       "    </tr>\n",
       "    <tr>\n",
       "      <th>3</th>\n",
       "      <td>8ec6ce2a7e7949b1bf142def7d0e0586</td>\n",
       "      <td>offer received</td>\n",
       "      <td>0</td>\n",
       "      <td>NaN</td>\n",
       "      <td>fafdcd668e3743c1bb461111dcafc2a4</td>\n",
       "      <td>[web, email, mobile, social]</td>\n",
       "      <td>10.0</td>\n",
       "      <td>10.0</td>\n",
       "      <td>discount</td>\n",
       "      <td>2.0</td>\n",
       "    </tr>\n",
       "    <tr>\n",
       "      <th>4</th>\n",
       "      <td>68617ca6246f4fbc85e91a2a49552598</td>\n",
       "      <td>offer received</td>\n",
       "      <td>0</td>\n",
       "      <td>NaN</td>\n",
       "      <td>4d5c57ea9a6940dd891ad53e9dbe8da0</td>\n",
       "      <td>[web, email, mobile, social]</td>\n",
       "      <td>10.0</td>\n",
       "      <td>5.0</td>\n",
       "      <td>bogo</td>\n",
       "      <td>10.0</td>\n",
       "    </tr>\n",
       "  </tbody>\n",
       "</table>\n",
       "</div>"
      ],
      "text/plain": [
       "                        customer_id           event  time  value_amount  \\\n",
       "0  78afa995795e4d85b5d9ceeca43f5fef  offer received     0           NaN   \n",
       "1  a03223e636434f42ac4c3df47e8bac43  offer received     0           NaN   \n",
       "2  e2127556f4f64592b11af22de27a7932  offer received     0           NaN   \n",
       "3  8ec6ce2a7e7949b1bf142def7d0e0586  offer received     0           NaN   \n",
       "4  68617ca6246f4fbc85e91a2a49552598  offer received     0           NaN   \n",
       "\n",
       "                           offer_id                      channels  difficulty  \\\n",
       "0  9b98b8c7a33c4b65b9aebfe6a799e6d9          [web, email, mobile]         5.0   \n",
       "1  0b1e1539f2cc45b7b9fa7c272da2e1d7                  [web, email]        20.0   \n",
       "2  2906b810c7d4411798c6938adc9daaa5          [web, email, mobile]        10.0   \n",
       "3  fafdcd668e3743c1bb461111dcafc2a4  [web, email, mobile, social]        10.0   \n",
       "4  4d5c57ea9a6940dd891ad53e9dbe8da0  [web, email, mobile, social]        10.0   \n",
       "\n",
       "   duration offer_type  reward  \n",
       "0       7.0       bogo     5.0  \n",
       "1      10.0   discount     5.0  \n",
       "2       7.0   discount     2.0  \n",
       "3      10.0   discount     2.0  \n",
       "4       5.0       bogo    10.0  "
      ]
     },
     "execution_count": 74,
     "metadata": {},
     "output_type": "execute_result"
    }
   ],
   "source": [
    "# Displaying the new data frame to check the changes\n",
    "df_merge_1_clean.head()\n"
   ]
  },
  {
   "cell_type": "code",
   "execution_count": 75,
   "metadata": {
    "scrolled": true
   },
   "outputs": [
    {
     "data": {
      "text/plain": [
       "(306534, 10)"
      ]
     },
     "execution_count": 75,
     "metadata": {},
     "output_type": "execute_result"
    }
   ],
   "source": [
    "# Checking the shape of the data frame\n",
    "df_merge_1_clean.shape\n"
   ]
  },
  {
   "cell_type": "markdown",
   "metadata": {},
   "source": [
    "**Result:** The new variable \"reward\" contains all values from the previous 2 reward variables."
   ]
  },
  {
   "cell_type": "markdown",
   "metadata": {},
   "source": [
    "### Merge of \"df_merge_clean\" and \"profile_clean\""
   ]
  },
  {
   "cell_type": "code",
   "execution_count": 76,
   "metadata": {
    "scrolled": true
   },
   "outputs": [
    {
     "data": {
      "text/plain": [
       "(306534, 10)"
      ]
     },
     "execution_count": 76,
     "metadata": {},
     "output_type": "execute_result"
    }
   ],
   "source": [
    "# Checking the shape of the data frame\n",
    "df_merge_1_clean.shape\n"
   ]
  },
  {
   "cell_type": "code",
   "execution_count": 77,
   "metadata": {
    "scrolled": true
   },
   "outputs": [
    {
     "data": {
      "text/plain": [
       "(17000, 5)"
      ]
     },
     "execution_count": 77,
     "metadata": {},
     "output_type": "execute_result"
    }
   ],
   "source": [
    "# Checking the shape of the data frame\n",
    "profile_clean.shape\n"
   ]
  },
  {
   "cell_type": "code",
   "execution_count": 78,
   "metadata": {
    "scrolled": true
   },
   "outputs": [
    {
     "data": {
      "text/html": [
       "<div>\n",
       "<style scoped>\n",
       "    .dataframe tbody tr th:only-of-type {\n",
       "        vertical-align: middle;\n",
       "    }\n",
       "\n",
       "    .dataframe tbody tr th {\n",
       "        vertical-align: top;\n",
       "    }\n",
       "\n",
       "    .dataframe thead th {\n",
       "        text-align: right;\n",
       "    }\n",
       "</style>\n",
       "<table border=\"1\" class=\"dataframe\">\n",
       "  <thead>\n",
       "    <tr style=\"text-align: right;\">\n",
       "      <th></th>\n",
       "      <th>customer_id</th>\n",
       "      <th>event</th>\n",
       "      <th>time</th>\n",
       "      <th>value_amount</th>\n",
       "      <th>offer_id</th>\n",
       "      <th>channels</th>\n",
       "      <th>difficulty</th>\n",
       "      <th>duration</th>\n",
       "      <th>offer_type</th>\n",
       "      <th>reward</th>\n",
       "      <th>gender</th>\n",
       "      <th>age</th>\n",
       "      <th>became_member_on</th>\n",
       "      <th>income</th>\n",
       "    </tr>\n",
       "  </thead>\n",
       "  <tbody>\n",
       "    <tr>\n",
       "      <th>0</th>\n",
       "      <td>78afa995795e4d85b5d9ceeca43f5fef</td>\n",
       "      <td>offer received</td>\n",
       "      <td>0</td>\n",
       "      <td>NaN</td>\n",
       "      <td>9b98b8c7a33c4b65b9aebfe6a799e6d9</td>\n",
       "      <td>[web, email, mobile]</td>\n",
       "      <td>5.0</td>\n",
       "      <td>7.0</td>\n",
       "      <td>bogo</td>\n",
       "      <td>5.0</td>\n",
       "      <td>F</td>\n",
       "      <td>75</td>\n",
       "      <td>2017-05-09</td>\n",
       "      <td>100000.0</td>\n",
       "    </tr>\n",
       "    <tr>\n",
       "      <th>1</th>\n",
       "      <td>a03223e636434f42ac4c3df47e8bac43</td>\n",
       "      <td>offer received</td>\n",
       "      <td>0</td>\n",
       "      <td>NaN</td>\n",
       "      <td>0b1e1539f2cc45b7b9fa7c272da2e1d7</td>\n",
       "      <td>[web, email]</td>\n",
       "      <td>20.0</td>\n",
       "      <td>10.0</td>\n",
       "      <td>discount</td>\n",
       "      <td>5.0</td>\n",
       "      <td>None</td>\n",
       "      <td>118</td>\n",
       "      <td>2017-08-04</td>\n",
       "      <td>NaN</td>\n",
       "    </tr>\n",
       "    <tr>\n",
       "      <th>2</th>\n",
       "      <td>e2127556f4f64592b11af22de27a7932</td>\n",
       "      <td>offer received</td>\n",
       "      <td>0</td>\n",
       "      <td>NaN</td>\n",
       "      <td>2906b810c7d4411798c6938adc9daaa5</td>\n",
       "      <td>[web, email, mobile]</td>\n",
       "      <td>10.0</td>\n",
       "      <td>7.0</td>\n",
       "      <td>discount</td>\n",
       "      <td>2.0</td>\n",
       "      <td>M</td>\n",
       "      <td>68</td>\n",
       "      <td>2018-04-26</td>\n",
       "      <td>70000.0</td>\n",
       "    </tr>\n",
       "    <tr>\n",
       "      <th>3</th>\n",
       "      <td>8ec6ce2a7e7949b1bf142def7d0e0586</td>\n",
       "      <td>offer received</td>\n",
       "      <td>0</td>\n",
       "      <td>NaN</td>\n",
       "      <td>fafdcd668e3743c1bb461111dcafc2a4</td>\n",
       "      <td>[web, email, mobile, social]</td>\n",
       "      <td>10.0</td>\n",
       "      <td>10.0</td>\n",
       "      <td>discount</td>\n",
       "      <td>2.0</td>\n",
       "      <td>None</td>\n",
       "      <td>118</td>\n",
       "      <td>2017-09-25</td>\n",
       "      <td>NaN</td>\n",
       "    </tr>\n",
       "    <tr>\n",
       "      <th>4</th>\n",
       "      <td>68617ca6246f4fbc85e91a2a49552598</td>\n",
       "      <td>offer received</td>\n",
       "      <td>0</td>\n",
       "      <td>NaN</td>\n",
       "      <td>4d5c57ea9a6940dd891ad53e9dbe8da0</td>\n",
       "      <td>[web, email, mobile, social]</td>\n",
       "      <td>10.0</td>\n",
       "      <td>5.0</td>\n",
       "      <td>bogo</td>\n",
       "      <td>10.0</td>\n",
       "      <td>None</td>\n",
       "      <td>118</td>\n",
       "      <td>2017-10-02</td>\n",
       "      <td>NaN</td>\n",
       "    </tr>\n",
       "  </tbody>\n",
       "</table>\n",
       "</div>"
      ],
      "text/plain": [
       "                        customer_id           event  time  value_amount  \\\n",
       "0  78afa995795e4d85b5d9ceeca43f5fef  offer received     0           NaN   \n",
       "1  a03223e636434f42ac4c3df47e8bac43  offer received     0           NaN   \n",
       "2  e2127556f4f64592b11af22de27a7932  offer received     0           NaN   \n",
       "3  8ec6ce2a7e7949b1bf142def7d0e0586  offer received     0           NaN   \n",
       "4  68617ca6246f4fbc85e91a2a49552598  offer received     0           NaN   \n",
       "\n",
       "                           offer_id                      channels  difficulty  \\\n",
       "0  9b98b8c7a33c4b65b9aebfe6a799e6d9          [web, email, mobile]         5.0   \n",
       "1  0b1e1539f2cc45b7b9fa7c272da2e1d7                  [web, email]        20.0   \n",
       "2  2906b810c7d4411798c6938adc9daaa5          [web, email, mobile]        10.0   \n",
       "3  fafdcd668e3743c1bb461111dcafc2a4  [web, email, mobile, social]        10.0   \n",
       "4  4d5c57ea9a6940dd891ad53e9dbe8da0  [web, email, mobile, social]        10.0   \n",
       "\n",
       "   duration offer_type  reward gender  age became_member_on    income  \n",
       "0       7.0       bogo     5.0      F   75       2017-05-09  100000.0  \n",
       "1      10.0   discount     5.0   None  118       2017-08-04       NaN  \n",
       "2       7.0   discount     2.0      M   68       2018-04-26   70000.0  \n",
       "3      10.0   discount     2.0   None  118       2017-09-25       NaN  \n",
       "4       5.0       bogo    10.0   None  118       2017-10-02       NaN  "
      ]
     },
     "execution_count": 78,
     "metadata": {},
     "output_type": "execute_result"
    }
   ],
   "source": [
    "# Merging the data frame \"transcript_clean\" with the data frame \"portfolio_clean\"\n",
    "df_merge_final = df_merge_1_clean.merge(profile_clean, on='customer_id', how='left')\n",
    "df_merge_final.head()\n"
   ]
  },
  {
   "cell_type": "code",
   "execution_count": 79,
   "metadata": {
    "scrolled": true
   },
   "outputs": [
    {
     "data": {
      "text/plain": [
       "(306534, 14)"
      ]
     },
     "execution_count": 79,
     "metadata": {},
     "output_type": "execute_result"
    }
   ],
   "source": [
    "# Checking the shape of the data frame\n",
    "df_merge_final.shape\n"
   ]
  },
  {
   "cell_type": "code",
   "execution_count": 80,
   "metadata": {
    "scrolled": true
   },
   "outputs": [
    {
     "name": "stdout",
     "output_type": "stream",
     "text": [
      "<class 'pandas.core.frame.DataFrame'>\n",
      "Int64Index: 306534 entries, 0 to 306533\n",
      "Data columns (total 14 columns):\n",
      " #   Column            Non-Null Count   Dtype         \n",
      "---  ------            --------------   -----         \n",
      " 0   customer_id       306534 non-null  object        \n",
      " 1   event             306534 non-null  object        \n",
      " 2   time              306534 non-null  int64         \n",
      " 3   value_amount      138953 non-null  float64       \n",
      " 4   offer_id          167581 non-null  object        \n",
      " 5   channels          167581 non-null  object        \n",
      " 6   difficulty        167581 non-null  float64       \n",
      " 7   duration          167581 non-null  float64       \n",
      " 8   offer_type        167581 non-null  object        \n",
      " 9   reward            167581 non-null  float64       \n",
      " 10  gender            272762 non-null  object        \n",
      " 11  age               306534 non-null  int64         \n",
      " 12  became_member_on  306534 non-null  datetime64[ns]\n",
      " 13  income            272762 non-null  float64       \n",
      "dtypes: datetime64[ns](1), float64(5), int64(2), object(6)\n",
      "memory usage: 35.1+ MB\n"
     ]
    }
   ],
   "source": [
    "# Checking a concise summary of the dataframe \n",
    "df_merge_final.info()\n"
   ]
  },
  {
   "cell_type": "markdown",
   "metadata": {},
   "source": [
    "**Conclusion:** \n",
    "1. The variable \"customer_id\" **does not contain** any NaN values.\n",
    "2. The variable \"offer_id\" **contains** more then 50% NaN values.\n"
   ]
  },
  {
   "cell_type": "code",
   "execution_count": 81,
   "metadata": {},
   "outputs": [
    {
     "data": {
      "text/plain": [
       "False"
      ]
     },
     "execution_count": 81,
     "metadata": {},
     "output_type": "execute_result"
    }
   ],
   "source": [
    "# Checking for duplicate values\n",
    "df_merge_final.columns.duplicated().any()\n"
   ]
  },
  {
   "cell_type": "markdown",
   "metadata": {},
   "source": [
    "**Conclusion:** The data frame does not contain any duplicated values."
   ]
  },
  {
   "cell_type": "code",
   "execution_count": 82,
   "metadata": {},
   "outputs": [],
   "source": [
    "# Copying the data frame\n",
    "df_final = df_merge_final.copy()\n"
   ]
  },
  {
   "cell_type": "markdown",
   "metadata": {},
   "source": [
    "**Result:** The data frame is copied."
   ]
  },
  {
   "cell_type": "code",
   "execution_count": 83,
   "metadata": {},
   "outputs": [],
   "source": [
    "# Saving data final data frame to .csv\n",
    "df_final.to_csv('data/data.csv', index=False)\n"
   ]
  },
  {
   "cell_type": "markdown",
   "metadata": {},
   "source": [
    "**Result:** The data frame is saved as .csv."
   ]
  },
  {
   "cell_type": "markdown",
   "metadata": {},
   "source": [
    "### Assessing Summary"
   ]
  },
  {
   "cell_type": "markdown",
   "metadata": {},
   "source": [
    "> 1. The data frame consits of *14* columns and *306,534* rows.\n",
    "> 2. The data frame contains NaN values.\n",
    "> 3. The data frame contains missing values.\n",
    "> 4. The data frame does NOT contain duplicate values.\n",
    "> 5. The data frame contains data types which need to be changed.\n",
    "> 6. Some values of the data frame have to be imputed.\n",
    "> 7. After the data visualization part the data has to be processed further to prepae the data frame for the machine learning part.\n"
   ]
  },
  {
   "cell_type": "markdown",
   "metadata": {},
   "source": [
    "<a id='sec2_2'></a>\n",
    "## 3. B. Data Visualization\n",
    "<div style=\"text-align: right\"><right><a href=\"#top\">Table of Content</a></div>"
   ]
  },
  {
   "cell_type": "markdown",
   "metadata": {},
   "source": [
    "#### Data visualization based on the data exploration in the previous step.<br>\n",
    "\n",
    "<li><a href=\"#sec2_21\">Question 1: How is the Distribution of the variable \"age\"?</a></li>\n",
    "<li><a href=\"#sec2_22\">Question 2: How is the Distribution of the variable \"gender\"?</a></li> \n",
    "<li><a href=\"#sec2_23\">Question 3:  How is the Distribution of the variable \"income\"?</a></li> \n",
    "<li><a href=\"#sec2_24\">Question 4:  How is the Distribution of the variable \"gender\" correlated to the age clusters?</a></li>\n",
    "<li><a href=\"#sec2_25\">Question 5:  How is the Distribution of the variable \"gender\" correlated to the income clusters?</a></li> \n",
    "<li><a href=\"#sec2_26\">Question 6:  How is the Distribution of the variable \"age\" correlated to the offer types?</a></li> \n",
    "<li><a href=\"#sec2_27\">Question 7:  How is the Distribution of the variable \"gender\" correlated to the offer types?</a></li>\n",
    "<li><a href=\"#sec2_28\">Question 8:  How is the Distribution of the variable \"gender\" correlated to the events?</a></li>\n",
    "<li><a href=\"#sec2_29\">Question 9:  How is the Distribution of the variable \"age\" correlated to the events?</a></li>"
   ]
  },
  {
   "cell_type": "code",
   "execution_count": 84,
   "metadata": {},
   "outputs": [],
   "source": [
    "# Loading the final saved data frame\n",
    "df_datav = df_final.copy()\n",
    "#df_datav = pd.read_csv('data/data.csv', dtype=str, engine='python')\n"
   ]
  },
  {
   "cell_type": "code",
   "execution_count": 85,
   "metadata": {},
   "outputs": [],
   "source": [
    "# Function: Python Function that defines the size, the dots per inches, the facecolor of the axes,\n",
    "# the figure patch edgecolor and the color of the color of the background of the plots and returns it.\n",
    "\n",
    "def f_fig_axes():\n",
    "    '''\n",
    "    INPUT:\n",
    "    None\n",
    "    \n",
    "    OUTPUT:\n",
    "    Layout for plots - plt (Matplotlib), sns (seaborn)\n",
    "    \n",
    "    Description:\n",
    "    Defines the size, the dots per inches, the facecolor of the axes, the figure patch edgecolor \n",
    "    and the color of the color of the background of the plots and returns it.\n",
    "    '''\n",
    "    plt.subplots(figsize=(15, 5), dpi=80, facecolor='w', edgecolor='k')\n",
    "    sns.set_style('darkgrid')\n",
    "    print()\n",
    "    "
   ]
  },
  {
   "cell_type": "markdown",
   "metadata": {},
   "source": [
    "**Result:** A function is created that defines the size, the dots per inches, the facecolor of the axes, the figure patch edgecolor and the color of the color of the background of the plots and returns it."
   ]
  },
  {
   "cell_type": "code",
   "execution_count": 86,
   "metadata": {
    "scrolled": false
   },
   "outputs": [
    {
     "data": {
      "text/html": [
       "<div>\n",
       "<style scoped>\n",
       "    .dataframe tbody tr th:only-of-type {\n",
       "        vertical-align: middle;\n",
       "    }\n",
       "\n",
       "    .dataframe tbody tr th {\n",
       "        vertical-align: top;\n",
       "    }\n",
       "\n",
       "    .dataframe thead th {\n",
       "        text-align: right;\n",
       "    }\n",
       "</style>\n",
       "<table border=\"1\" class=\"dataframe\">\n",
       "  <thead>\n",
       "    <tr style=\"text-align: right;\">\n",
       "      <th></th>\n",
       "      <th>customer_id</th>\n",
       "      <th>event</th>\n",
       "      <th>time</th>\n",
       "      <th>value_amount</th>\n",
       "      <th>offer_id</th>\n",
       "      <th>channels</th>\n",
       "      <th>difficulty</th>\n",
       "      <th>duration</th>\n",
       "      <th>offer_type</th>\n",
       "      <th>reward</th>\n",
       "      <th>gender</th>\n",
       "      <th>age</th>\n",
       "      <th>became_member_on</th>\n",
       "      <th>income</th>\n",
       "    </tr>\n",
       "  </thead>\n",
       "  <tbody>\n",
       "    <tr>\n",
       "      <th>0</th>\n",
       "      <td>78afa995795e4d85b5d9ceeca43f5fef</td>\n",
       "      <td>offer received</td>\n",
       "      <td>0</td>\n",
       "      <td>NaN</td>\n",
       "      <td>9b98b8c7a33c4b65b9aebfe6a799e6d9</td>\n",
       "      <td>[web, email, mobile]</td>\n",
       "      <td>5.0</td>\n",
       "      <td>7.0</td>\n",
       "      <td>bogo</td>\n",
       "      <td>5.0</td>\n",
       "      <td>F</td>\n",
       "      <td>75</td>\n",
       "      <td>2017-05-09</td>\n",
       "      <td>100000.0</td>\n",
       "    </tr>\n",
       "    <tr>\n",
       "      <th>1</th>\n",
       "      <td>a03223e636434f42ac4c3df47e8bac43</td>\n",
       "      <td>offer received</td>\n",
       "      <td>0</td>\n",
       "      <td>NaN</td>\n",
       "      <td>0b1e1539f2cc45b7b9fa7c272da2e1d7</td>\n",
       "      <td>[web, email]</td>\n",
       "      <td>20.0</td>\n",
       "      <td>10.0</td>\n",
       "      <td>discount</td>\n",
       "      <td>5.0</td>\n",
       "      <td>None</td>\n",
       "      <td>118</td>\n",
       "      <td>2017-08-04</td>\n",
       "      <td>NaN</td>\n",
       "    </tr>\n",
       "    <tr>\n",
       "      <th>2</th>\n",
       "      <td>e2127556f4f64592b11af22de27a7932</td>\n",
       "      <td>offer received</td>\n",
       "      <td>0</td>\n",
       "      <td>NaN</td>\n",
       "      <td>2906b810c7d4411798c6938adc9daaa5</td>\n",
       "      <td>[web, email, mobile]</td>\n",
       "      <td>10.0</td>\n",
       "      <td>7.0</td>\n",
       "      <td>discount</td>\n",
       "      <td>2.0</td>\n",
       "      <td>M</td>\n",
       "      <td>68</td>\n",
       "      <td>2018-04-26</td>\n",
       "      <td>70000.0</td>\n",
       "    </tr>\n",
       "    <tr>\n",
       "      <th>3</th>\n",
       "      <td>8ec6ce2a7e7949b1bf142def7d0e0586</td>\n",
       "      <td>offer received</td>\n",
       "      <td>0</td>\n",
       "      <td>NaN</td>\n",
       "      <td>fafdcd668e3743c1bb461111dcafc2a4</td>\n",
       "      <td>[web, email, mobile, social]</td>\n",
       "      <td>10.0</td>\n",
       "      <td>10.0</td>\n",
       "      <td>discount</td>\n",
       "      <td>2.0</td>\n",
       "      <td>None</td>\n",
       "      <td>118</td>\n",
       "      <td>2017-09-25</td>\n",
       "      <td>NaN</td>\n",
       "    </tr>\n",
       "    <tr>\n",
       "      <th>4</th>\n",
       "      <td>68617ca6246f4fbc85e91a2a49552598</td>\n",
       "      <td>offer received</td>\n",
       "      <td>0</td>\n",
       "      <td>NaN</td>\n",
       "      <td>4d5c57ea9a6940dd891ad53e9dbe8da0</td>\n",
       "      <td>[web, email, mobile, social]</td>\n",
       "      <td>10.0</td>\n",
       "      <td>5.0</td>\n",
       "      <td>bogo</td>\n",
       "      <td>10.0</td>\n",
       "      <td>None</td>\n",
       "      <td>118</td>\n",
       "      <td>2017-10-02</td>\n",
       "      <td>NaN</td>\n",
       "    </tr>\n",
       "  </tbody>\n",
       "</table>\n",
       "</div>"
      ],
      "text/plain": [
       "                        customer_id           event  time  value_amount  \\\n",
       "0  78afa995795e4d85b5d9ceeca43f5fef  offer received     0           NaN   \n",
       "1  a03223e636434f42ac4c3df47e8bac43  offer received     0           NaN   \n",
       "2  e2127556f4f64592b11af22de27a7932  offer received     0           NaN   \n",
       "3  8ec6ce2a7e7949b1bf142def7d0e0586  offer received     0           NaN   \n",
       "4  68617ca6246f4fbc85e91a2a49552598  offer received     0           NaN   \n",
       "\n",
       "                           offer_id                      channels  difficulty  \\\n",
       "0  9b98b8c7a33c4b65b9aebfe6a799e6d9          [web, email, mobile]         5.0   \n",
       "1  0b1e1539f2cc45b7b9fa7c272da2e1d7                  [web, email]        20.0   \n",
       "2  2906b810c7d4411798c6938adc9daaa5          [web, email, mobile]        10.0   \n",
       "3  fafdcd668e3743c1bb461111dcafc2a4  [web, email, mobile, social]        10.0   \n",
       "4  4d5c57ea9a6940dd891ad53e9dbe8da0  [web, email, mobile, social]        10.0   \n",
       "\n",
       "   duration offer_type  reward gender  age became_member_on    income  \n",
       "0       7.0       bogo     5.0      F   75       2017-05-09  100000.0  \n",
       "1      10.0   discount     5.0   None  118       2017-08-04       NaN  \n",
       "2       7.0   discount     2.0      M   68       2018-04-26   70000.0  \n",
       "3      10.0   discount     2.0   None  118       2017-09-25       NaN  \n",
       "4       5.0       bogo    10.0   None  118       2017-10-02       NaN  "
      ]
     },
     "execution_count": 86,
     "metadata": {},
     "output_type": "execute_result"
    }
   ],
   "source": [
    "# Displaying the new data frame to check the changes\n",
    "df_datav.head()\n"
   ]
  },
  {
   "cell_type": "markdown",
   "metadata": {},
   "source": [
    "<a id='sec2_21'></a>\n",
    "## Question 1: How is the distribution of the variable \"age\"?\n",
    "<div style=\"text-align: right\"><right><a href=\"#top\">Table of Content</a></div>"
   ]
  },
  {
   "cell_type": "code",
   "execution_count": 87,
   "metadata": {
    "scrolled": true
   },
   "outputs": [
    {
     "data": {
      "text/plain": [
       "count    306534.000000\n",
       "mean         60.909367\n",
       "std          26.032030\n",
       "min          18.000000\n",
       "25%          43.000000\n",
       "50%          57.000000\n",
       "75%          72.000000\n",
       "max         118.000000\n",
       "Name: age, dtype: float64"
      ]
     },
     "execution_count": 87,
     "metadata": {},
     "output_type": "execute_result"
    }
   ],
   "source": [
    "# Calculating the descriptive statistics of the \"age\" values\n",
    "# (50 % is equal to the median)\n",
    "df_data_q1 = df_datav.copy() # Copying the orignal data frame\n",
    "df_data_q1 = df_data_q1['age']\n",
    "df_data_q1.describe()\n"
   ]
  },
  {
   "cell_type": "code",
   "execution_count": 88,
   "metadata": {
    "scrolled": false
   },
   "outputs": [
    {
     "name": "stdout",
     "output_type": "stream",
     "text": [
      "\n"
     ]
    },
    {
     "data": {
      "image/png": "[encoded data removed]",
      "text/plain": [
       "<Figure size 1200x400 with 1 Axes>"
      ]
     },
     "metadata": {},
     "output_type": "display_data"
    }
   ],
   "source": [
    "# Calling the function\"f_fig_axes()\"\n",
    "f_fig_axes()\n",
    "\n",
    "# Plotting the age distribution.\n",
    "sns.histplot(df_data_q1, bins=50, kde=True)\n",
    "\n",
    "# Defining the title and the lables\n",
    "plt.title('Starbucks: Age Distribution of Customers', fontsize=23, y=1.05)\n",
    "plt.xlabel('Age', labelpad=12)\n",
    "plt.ylabel('Count of Customers', labelpad=12)\n",
    "\n",
    "# Saving the plot as a picture\n",
    "plt.savefig('pics/plot_q1_age_hist.png', dpi=300, bbox_inches = \"tight\");\n"
   ]
  },
  {
   "cell_type": "markdown",
   "metadata": {},
   "source": [
    "**Conclusion:** \n",
    "1. **Range of age:** The youngest customers are *18* and the oldest customers are *118*.\n",
    "2. **Median of age:** The median of the age distribution is *57*.\n",
    "3. **Mean of age:** The mean of the age distribution is approximately *61*.\n",
    "4. **Outliers:** The counts of customer ages of the value *118* are outliers and .\n"
   ]
  },
  {
   "cell_type": "markdown",
   "metadata": {},
   "source": [
    "<a id='sec2_22'></a>\n",
    "## Question 2: How is the distribution of the variable \"gender\"?\n",
    "<div style=\"text-align: right\"><right><a href=\"#top\">Table of Content</a></div>"
   ]
  },
  {
   "cell_type": "code",
   "execution_count": 89,
   "metadata": {
    "scrolled": true
   },
   "outputs": [
    {
     "data": {
      "text/html": [
       "<div>\n",
       "<style scoped>\n",
       "    .dataframe tbody tr th:only-of-type {\n",
       "        vertical-align: middle;\n",
       "    }\n",
       "\n",
       "    .dataframe tbody tr th {\n",
       "        vertical-align: top;\n",
       "    }\n",
       "\n",
       "    .dataframe thead th {\n",
       "        text-align: right;\n",
       "    }\n",
       "</style>\n",
       "<table border=\"1\" class=\"dataframe\">\n",
       "  <thead>\n",
       "    <tr style=\"text-align: right;\">\n",
       "      <th></th>\n",
       "      <th>customer_id</th>\n",
       "    </tr>\n",
       "    <tr>\n",
       "      <th>gender</th>\n",
       "      <th></th>\n",
       "    </tr>\n",
       "  </thead>\n",
       "  <tbody>\n",
       "    <tr>\n",
       "      <th>F</th>\n",
       "      <td>113101</td>\n",
       "    </tr>\n",
       "    <tr>\n",
       "      <th>M</th>\n",
       "      <td>155690</td>\n",
       "    </tr>\n",
       "    <tr>\n",
       "      <th>None</th>\n",
       "      <td>33772</td>\n",
       "    </tr>\n",
       "    <tr>\n",
       "      <th>O</th>\n",
       "      <td>3971</td>\n",
       "    </tr>\n",
       "  </tbody>\n",
       "</table>\n",
       "</div>"
      ],
      "text/plain": [
       "        customer_id\n",
       "gender             \n",
       "F            113101\n",
       "M            155690\n",
       "None          33772\n",
       "O              3971"
      ]
     },
     "execution_count": 89,
     "metadata": {},
     "output_type": "execute_result"
    }
   ],
   "source": [
    "# Counting the amount of values and defining new data frame.\n",
    "df_data_q2 = df_datav.copy() # Copying the orignal data frame\n",
    "df_data_q2 = df_data_q2.astype(str).groupby('gender').agg({'customer_id':'count'})\n",
    "df_data_q2\n"
   ]
  },
  {
   "cell_type": "code",
   "execution_count": 90,
   "metadata": {},
   "outputs": [
    {
     "data": {
      "text/plain": [
       "33772"
      ]
     },
     "execution_count": 90,
     "metadata": {},
     "output_type": "execute_result"
    }
   ],
   "source": [
    "# Checking the number of missing values of the variable \"gender\"\n",
    "df_datav['gender'].isnull().sum()\n"
   ]
  },
  {
   "cell_type": "markdown",
   "metadata": {},
   "source": [
    "**Check:** \n",
    "1. The amount of NaN values of the variable \"gender\" is equal to the amount of \"None\" values. The sum is *18,776*."
   ]
  },
  {
   "cell_type": "code",
   "execution_count": 91,
   "metadata": {},
   "outputs": [
    {
     "data": {
      "text/plain": [
       "gender\n",
       "F       36.896723\n",
       "M       50.790451\n",
       "None    11.017375\n",
       "O        1.295452\n",
       "Name: gen_perc, dtype: float64"
      ]
     },
     "execution_count": 91,
     "metadata": {},
     "output_type": "execute_result"
    }
   ],
   "source": [
    "# Defining the variable for the plot.\n",
    "df_data_q2['gen_perc'] = (df_data_q2['customer_id']/df_data_q2['customer_id'].sum())*100\n",
    "df_data_q2 = df_data_q2['gen_perc']\n",
    "df_data_q2.head()\n"
   ]
  },
  {
   "cell_type": "code",
   "execution_count": 92,
   "metadata": {
    "scrolled": false
   },
   "outputs": [
    {
     "name": "stdout",
     "output_type": "stream",
     "text": [
      "\n"
     ]
    },
    {
     "data": {
      "image/png": "[encoded data removed]",
      "text/plain": [
       "<Figure size 1200x400 with 1 Axes>"
      ]
     },
     "metadata": {},
     "output_type": "display_data"
    }
   ],
   "source": [
    "# Plotting the immediate booking possibility of apartments.\n",
    "\n",
    "# Calling the function\"f_fig_axes()\"\n",
    "f_fig_axes() # Python Function\n",
    "\n",
    "# Defining the plot variables.\n",
    "plot_labels = ('Female', 'Male', 'Other', 'NaN')\n",
    "plot_base_color = ['skyblue', 'cornflowerblue', 'lightsteelblue', 'lightcoral']\n",
    "plot_explode = (0.05, 0.05, 0.2, 0.2)  # Exploding the 4 slices (gapping)\n",
    "\n",
    "# Defining the plot.\n",
    "plt.pie(df_data_q2, explode=plot_explode, labels=plot_labels, autopct='%1.1f%%', shadow=True,\n",
    "        startangle=90, colors=plot_base_color, textprops=dict(color=\"darkblue\"))\n",
    "plt.axis('equal')  # Ensuring that pie is drawn as a circle.\n",
    "\n",
    "# Defining the title\n",
    "plt.title('How is the Distribution of Genders compared to the total data quantity?', fontsize=18, y=1.03)\n",
    "\n",
    "# Saving as a picture\n",
    "plt.savefig('pics/plot_g2_gender_pie.png', dpi=300);\n"
   ]
  },
  {
   "cell_type": "markdown",
   "metadata": {},
   "source": [
    "**Conclusion:** \n",
    "1. **Male:** The biggest customers gender group is \"Male\" with a proportion of approximately *51%*.\n",
    "2. **Female:** The gender group \"Female\" exists with a proportion of approximately *37%*.\n",
    "3. **Other:** A thrid customers gender group is called \"Male\" appears with a proportion of *1,3%*.\n",
    "4. **NaN:** There are also NaN values existing within the variable \"gender\" with a proportion of *11%*.\n"
   ]
  },
  {
   "cell_type": "markdown",
   "metadata": {},
   "source": [
    "<a id='sec2_23'></a>\n",
    "## Question 3:  How is the distribution of the variable \"income\"?\n",
    "<div style=\"text-align: right\"><right><a href=\"#top\">Table of Content</a></div>"
   ]
  },
  {
   "cell_type": "code",
   "execution_count": 93,
   "metadata": {
    "scrolled": false
   },
   "outputs": [
    {
     "data": {
      "text/plain": [
       "count    272762.000000\n",
       "mean      64337.000755\n",
       "std       21243.762941\n",
       "min       30000.000000\n",
       "25%       48000.000000\n",
       "50%       62000.000000\n",
       "75%       78000.000000\n",
       "max      120000.000000\n",
       "Name: income, dtype: float64"
      ]
     },
     "execution_count": 93,
     "metadata": {},
     "output_type": "execute_result"
    }
   ],
   "source": [
    "# Calculating the descriptive statistics of the \"income\" values\n",
    "# (50 % is equal to the median)\n",
    "df_data_q3 = df_datav.copy() # Copying the orignal data frame\n",
    "df_data_q3 = df_datav['income']\n",
    "df_data_q3.describe()\n"
   ]
  },
  {
   "cell_type": "code",
   "execution_count": 94,
   "metadata": {
    "scrolled": false
   },
   "outputs": [
    {
     "name": "stdout",
     "output_type": "stream",
     "text": [
      "\n"
     ]
    },
    {
     "data": {
      "image/png": "[encoded data removed]",
      "text/plain": [
       "<Figure size 1200x400 with 1 Axes>"
      ]
     },
     "metadata": {},
     "output_type": "display_data"
    }
   ],
   "source": [
    "# Calling the function\"f_fig_axes()\"\n",
    "f_fig_axes()\n",
    "\n",
    "# Plotting the age distribution.\n",
    "sns.histplot(df_data_q3, bins=90, kde=True)\n",
    "\n",
    "# Defining the title, the lables and the ticks\n",
    "plt.title('Starbucks: Income Distribution of Customers', fontsize=23, y=1.05)\n",
    "plt.xlabel('Income', labelpad=12)\n",
    "plt.ylabel('Count of Customers', labelpad=12)\n",
    "plt.xticks([30000, 35000, 40000, 45000, 50000, 55000, 60000, 65000, 70000, 75000, 80000, 85000, 90000,\n",
    "            95000,100000, 105000, 110000, 115000, 120000])\n",
    "\n",
    "# Saving the plot as a picture\n",
    "plt.savefig('pics/plot_q3_income_hist.png', dpi=300, bbox_inches = \"tight\");\n"
   ]
  },
  {
   "cell_type": "markdown",
   "metadata": {},
   "source": [
    "**Conclusion:** \n",
    "1. **Distribution:** The distribution of the variable \"income\" is *right-skewed* (positive skewness).\n",
    "2. **Cluster:** There are *4* income clusters existing:<br>\n",
    "> **Cluster 1**: In a range between *30,000* and *50,000* USD.<br>\n",
    "> **Cluster 2**: In a range between *50,000* and *75,000* USD.<br>\n",
    "> **Cluster 3**: In a range between *75,000* and *100,000* USD.<br>\n",
    "> **Cluster 4**: In a range between *100,000* and *120,000* USD.\n"
   ]
  },
  {
   "cell_type": "markdown",
   "metadata": {},
   "source": [
    "<a id='sec2_24'></a>\n",
    "## Question 4:  How is the distribution of the variable \"gender\" correlated to the age clusters?\n",
    "<div style=\"text-align: right\"><right><a href=\"#top\">Table of Content</a></div>"
   ]
  },
  {
   "cell_type": "code",
   "execution_count": 95,
   "metadata": {
    "scrolled": false
   },
   "outputs": [
    {
     "data": {
      "text/plain": [
       "0    Seniors\n",
       "1    Seniors\n",
       "2    Seniors\n",
       "3    Seniors\n",
       "4    Seniors\n",
       "Name: age_cluster, dtype: category\n",
       "Categories (3, object): ['Youth' < 'Adults' < 'Seniors']"
      ]
     },
     "execution_count": 95,
     "metadata": {},
     "output_type": "execute_result"
    }
   ],
   "source": [
    "# Creating clusters for the age \n",
    "df_data_q4 = df_datav.copy() # Copying the orignal data frame\n",
    "df_data_q4['age_cluster'] = pd.cut(df_datav['age'], bins=[15, 24, 64, 120], labels=['Youth', 'Adults', 'Seniors'])\n",
    "\n",
    "df_data_q4['age_cluster'].head()\n"
   ]
  },
  {
   "cell_type": "code",
   "execution_count": 96,
   "metadata": {
    "scrolled": false
   },
   "outputs": [
    {
     "name": "stdout",
     "output_type": "stream",
     "text": [
      "\n"
     ]
    },
    {
     "data": {
      "image/png": "[encoded data removed]",
      "text/plain": [
       "<Figure size 1200x400 with 1 Axes>"
      ]
     },
     "metadata": {},
     "output_type": "display_data"
    }
   ],
   "source": [
    "# Calling the function\"f_fig_axes()\"\n",
    "f_fig_axes()\n",
    "\n",
    "# Plotting income cluster of customer genders.\n",
    "plot_q4 = sns.countplot(data=df_data_q4, x='gender', hue='age_cluster', palette='copper_r')\n",
    "\n",
    "# Defining the title, the lables and the ticks\n",
    "plt.title('Starbucks: Distribution of the Age Clusters of Customer Genders', fontsize=23, y=1.05)\n",
    "plt.xlabel('Gender', labelpad=12)\n",
    "plt.xlabels = ['Female', 'Male', 'Other'] # Renaming the x axis values\n",
    "plot_q4.set_xticklabels(plt.xlabels)\n",
    "plt.ylabel('Count of Customers', labelpad=12)\n",
    "\n",
    "# Defining legend\n",
    "plt.legend(title='Age Cluster', loc='upper right')\n",
    "\n",
    "# Saving the plot as a picture\n",
    "plt.savefig('pics/plot_q4_gender_age_cluster.png', dpi=300, bbox_inches = \"tight\");\n"
   ]
  },
  {
   "cell_type": "markdown",
   "metadata": {},
   "source": [
    "**Conclusion:** \n",
    "1. **Major Customer Group:** The distribution of the age clusters of customer genders depicts that adult males are the major customer group existing in the data.\n",
    "2. **Second Biggest Customer Group:** Adult females are the second biggest customer group existing in the data.\n",
    "3. **Third Biggest Customer Group:** The third biggest customer group existing in the data are senior males and females.    "
   ]
  },
  {
   "cell_type": "markdown",
   "metadata": {},
   "source": [
    "<a id='sec2_25'></a>\n",
    "## Question 5:  How is the distribution of the variable \"gender\" correlated to the income clusters?\n",
    "<div style=\"text-align: right\"><right><a href=\"#top\">Table of Content</a></div>"
   ]
  },
  {
   "cell_type": "code",
   "execution_count": 97,
   "metadata": {
    "scrolled": true
   },
   "outputs": [
    {
     "data": {
      "text/plain": [
       "0       high\n",
       "1        NaN\n",
       "2    average\n",
       "3        NaN\n",
       "4        NaN\n",
       "Name: income_cluster, dtype: category\n",
       "Categories (4, object): ['low' < 'average' < 'high' < 'very_high']"
      ]
     },
     "execution_count": 97,
     "metadata": {},
     "output_type": "execute_result"
    }
   ],
   "source": [
    "# Creating clusters for the income \n",
    "df_data_q5 = df_datav.copy() # Copying the orignal data frame\n",
    "df_data_q5['income_cluster'] = pd.cut(df_datav['income'], bins=[30000, 50000, 75000, 100000, 120000],\n",
    "                                       labels=['low', 'average', 'high', 'very_high'])\n",
    "\n",
    "df_data_q5['income_cluster'].head()\n"
   ]
  },
  {
   "cell_type": "code",
   "execution_count": 98,
   "metadata": {
    "scrolled": false
   },
   "outputs": [
    {
     "name": "stdout",
     "output_type": "stream",
     "text": [
      "\n"
     ]
    },
    {
     "data": {
      "image/png": "[encoded data removed]",
      "text/plain": [
       "<Figure size 1200x400 with 1 Axes>"
      ]
     },
     "metadata": {},
     "output_type": "display_data"
    }
   ],
   "source": [
    "# Calling the function\"f_fig_axes()\"\n",
    "f_fig_axes()\n",
    "\n",
    "# Plotting income cluster of customer genders.\n",
    "plot_q5 = sns.countplot(data=df_data_q5, x='gender', hue='income_cluster', palette='copper_r')\n",
    "\n",
    "# Defining the title, the lables and the ticks\n",
    "plt.title('Starbucks: Distribution of the Income Cluster of Customer Genders', fontsize=23, y=1.05)\n",
    "plt.xlabel('Gender', labelpad=12)\n",
    "plt.xlabels = ['Female', 'Male', 'Other'] # Renaming the x axis values\n",
    "plot_q5.set_xticklabels(plt.xlabels)\n",
    "plt.ylabel('Count of Customers', labelpad=12)\n",
    "\n",
    "# Defining legend\n",
    "plt.legend(title='Income Cluster', loc='upper right')\n",
    "\n",
    "# Saving the plot as a picture\n",
    "plt.savefig('pics/plot_q5_gender_income_cluster.png', dpi=300, bbox_inches = \"tight\");\n"
   ]
  },
  {
   "cell_type": "markdown",
   "metadata": {},
   "source": [
    "**Conclusion:** \n",
    "1. **Major Customer Group:** The distribution of the income clusters of customer genders depicts that adult males are the major customer group earning an avarage income.\n",
    "2. **Second Biggest Customer Group:** Adult males are the second biggest customer group earning an low income.\n",
    "3. **Third Biggest Customer Group:** Adult females are the third biggest customer group earning an average income followed by females which have a high wage earning.\n",
    " "
   ]
  },
  {
   "cell_type": "markdown",
   "metadata": {},
   "source": [
    "<a id='sec2_26'></a>\n",
    "## Question 6:  How is the distribution of the variable \"age\" correlated to the offer types?\n",
    "<div style=\"text-align: right\"><right><a href=\"#top\">Table of Content</a></div>"
   ]
  },
  {
   "cell_type": "code",
   "execution_count": 99,
   "metadata": {
    "scrolled": true
   },
   "outputs": [],
   "source": [
    "# Creating clusters for the age \n",
    "df_data_q6 = df_datav.copy() # Copying the orignal data frame\n",
    "df_data_q6['age_cluster'] = df_data_q4['age_cluster'] \n"
   ]
  },
  {
   "cell_type": "code",
   "execution_count": 100,
   "metadata": {},
   "outputs": [
    {
     "name": "stdout",
     "output_type": "stream",
     "text": [
      "\n"
     ]
    },
    {
     "data": {
      "image/png": "[encoded data removed]",
      "text/plain": [
       "<Figure size 1200x400 with 1 Axes>"
      ]
     },
     "metadata": {},
     "output_type": "display_data"
    }
   ],
   "source": [
    "# Calling the function\"f_fig_axes()\"\n",
    "f_fig_axes()\n",
    "\n",
    "# Plotting income cluster of customer genders.\n",
    "plot_q6 = sns.countplot(data=df_data_q6, x='age_cluster', hue='offer_type', palette='copper_r')\n",
    "\n",
    "# Defining the title, the lables and the ticks\n",
    "plt.title('Starbucks: Distribution of the Offer Types of Age Cluster', fontsize=23, y=1.05)\n",
    "plt.xlabel('Age Cluster', labelpad=12)\n",
    "plt.ylabel('Count of Customers', labelpad=12)\n",
    "\n",
    "# Defining legend\n",
    "plt.legend(title='Offer Types', loc='upper right')\n",
    "\n",
    "# Saving the plot as a picture\n",
    "plt.savefig('pics/plot_q6_offer_type_age_cluster.png', dpi=300, bbox_inches = \"tight\");\n"
   ]
  },
  {
   "cell_type": "markdown",
   "metadata": {},
   "source": [
    "**Conclusion:** \n",
    "1. **Major Customer Group:** The distribution of the offer types of customer age depicts that adults are the major customer group receiving the \"bogo\" and the \"discount\" offer type.\n",
    "2. **Second Biggest Customer Group:** Seniors are the second biggest customer group receiving the \"bogo\" and the \"discount\" offer type.\n",
    "3. **Third Biggest Customer Group:** Adults are the third biggest customer group receiving the \"informational\" offer type.\n",
    " "
   ]
  },
  {
   "cell_type": "markdown",
   "metadata": {},
   "source": [
    "<a id='sec2_27'></a>\n",
    "## Question 7:  How is the distribution of the variable \"gender\" correlated to the offer types?\n",
    "<div style=\"text-align: right\"><right><a href=\"#top\">Table of Content</a></div>"
   ]
  },
  {
   "cell_type": "code",
   "execution_count": 101,
   "metadata": {
    "scrolled": true
   },
   "outputs": [],
   "source": [
    "# Defining the variable for the plot.\n",
    "df_data_q7 = df_datav.copy() # Copying the orignal data frame\n"
   ]
  },
  {
   "cell_type": "code",
   "execution_count": 102,
   "metadata": {
    "scrolled": false
   },
   "outputs": [
    {
     "name": "stdout",
     "output_type": "stream",
     "text": [
      "\n"
     ]
    },
    {
     "data": {
      "image/png": "[encoded data removed]",
      "text/plain": [
       "<Figure size 1200x400 with 1 Axes>"
      ]
     },
     "metadata": {},
     "output_type": "display_data"
    }
   ],
   "source": [
    "# Calling the function\"f_fig_axes()\"\n",
    "f_fig_axes()\n",
    "\n",
    "# Plotting income cluster of customer genders.\n",
    "plot_q7 = sns.countplot(data=df_data_q7, x='gender', hue='offer_type', palette='copper_r')\n",
    "\n",
    "# Defining the title, the lables and the ticks\n",
    "plt.title('Starbucks: Distribution of the Offer Types of Customer Genders', fontsize=23, y=1.05)\n",
    "plt.xlabel('Gender', labelpad=12)\n",
    "plt.xlabels = ['Female', 'Male', 'Other'] # Renaming the x axis values\n",
    "plot_q7.set_xticklabels(plt.xlabels)\n",
    "plt.ylabel('Count of Customers', labelpad=12)\n",
    "\n",
    "# Defining legend\n",
    "plt.legend(title='Offer Types', loc='upper right')\n",
    "\n",
    "# Saving the plot as a picture\n",
    "plt.savefig('pics/plot_q7_offer_type_gender.png', dpi=300, bbox_inches = \"tight\");\n"
   ]
  },
  {
   "cell_type": "markdown",
   "metadata": {},
   "source": [
    "**Conclusion:** \n",
    "1. **Major Customer Group:** The distribution of the offer types of customer genders depicts that males are the major customer group receiving the \"bogo\" and the \"discount\" offer type.\n",
    "2. **Second Biggest Customer Group:** Females are the second biggest customer group receiving the \"bogo\" and the \"discount\" offer type.\n",
    "3. **Third Biggest Customer Group:** Males are the third biggest customer group receiving the \"informational\" offer type.\n"
   ]
  },
  {
   "cell_type": "markdown",
   "metadata": {},
   "source": [
    "<a id='sec2_28'></a>\n",
    "## Question 8:  How is the distribution of the variable \"gender\" correlated to the events?\n",
    "<div style=\"text-align: right\"><right><a href=\"#top\">Table of Content</a></div>"
   ]
  },
  {
   "cell_type": "code",
   "execution_count": 103,
   "metadata": {
    "scrolled": true
   },
   "outputs": [],
   "source": [
    "# Defining the variable for the plot.\n",
    "df_data_q8 = df_datav.copy() # Copying the orignal data frame\n"
   ]
  },
  {
   "cell_type": "code",
   "execution_count": 104,
   "metadata": {
    "scrolled": false
   },
   "outputs": [
    {
     "name": "stdout",
     "output_type": "stream",
     "text": [
      "\n"
     ]
    },
    {
     "data": {
      "image/png": "[encoded data removed]",
      "text/plain": [
       "<Figure size 1200x400 with 1 Axes>"
      ]
     },
     "metadata": {},
     "output_type": "display_data"
    }
   ],
   "source": [
    "# Calling the function\"f_fig_axes()\"\n",
    "f_fig_axes()\n",
    "\n",
    "# Plotting income cluster of customer genders.\n",
    "plot_q8 = sns.countplot(data=df_data_q8, x='gender', hue='event', palette='copper_r')\n",
    "\n",
    "# Defining the title, the lables and the ticks\n",
    "plt.title('Starbucks: Distribution of the Events of Customer Genders', fontsize=23, y=1.05)\n",
    "plt.xlabel('Gender', labelpad=12)\n",
    "plt.xlabels = ['Female', 'Male', 'Other'] # Renaming the x axis values\n",
    "plot_q8.set_xticklabels(plt.xlabels)\n",
    "plt.ylabel('Count of Customers', labelpad=12)\n",
    "\n",
    "# Defining legend\n",
    "plt.legend(title='Event', loc='upper right');\n",
    "\n",
    "# Saving the plot as a picture\n",
    "plt.savefig('pics/plot_q8.1_gender_event.png', dpi=300, bbox_inches = \"tight\");\n"
   ]
  },
  {
   "cell_type": "code",
   "execution_count": 105,
   "metadata": {
    "scrolled": false
   },
   "outputs": [
    {
     "name": "stdout",
     "output_type": "stream",
     "text": [
      "                 gender\n",
      "event                  \n",
      "offer completed   15477\n",
      "offer received    27456\n",
      "offer viewed      20786\n",
      "transaction       49382\n",
      "                 gender\n",
      "event                  \n",
      "offer completed   16466\n",
      "offer received    38129\n",
      "offer viewed      28301\n",
      "transaction       72794\n"
     ]
    }
   ],
   "source": [
    "# Defining separate gender data frames.\n",
    "df_data_q8_f = df_data_q8[df_data_q8['gender'] == 'F']\n",
    "df_data_q8_f = df_data_q8_f.astype(str).groupby('event').agg({'gender':'count'})\n",
    "\n",
    "df_data_q8_m = df_data_q8[df_data_q8['gender'] == 'M']\n",
    "df_data_q8_m = df_data_q8_m.astype(str).groupby('event').agg({'gender':'count'})\n",
    "\n",
    "print(df_data_q8_f)\n",
    "print(df_data_q8_m)"
   ]
  },
  {
   "cell_type": "code",
   "execution_count": 106,
   "metadata": {
    "scrolled": true
   },
   "outputs": [
    {
     "name": "stdout",
     "output_type": "stream",
     "text": [
      "event\n",
      "offer completed     5.674177\n",
      "offer received     10.065918\n",
      "offer viewed        7.620563\n",
      "transaction        18.104428\n",
      "Name: eve_perc, dtype: float64\n",
      "event\n",
      "offer completed     6.036765\n",
      "offer received     13.978853\n",
      "offer viewed       10.375712\n",
      "transaction        26.687735\n",
      "Name: eve_perc, dtype: float64\n"
     ]
    }
   ],
   "source": [
    "# Defining the variable for the plot.\n",
    "df_data_q8_f['eve_perc'] = (df_data_q8_f['gender']/df_data_q8['gender'].count())*100\n",
    "df_data_q8_f = df_data_q8_f['eve_perc']\n",
    "\n",
    "df_data_q8_m['eve_perc'] = (df_data_q8_m['gender']/df_data_q8['gender'].count())*100\n",
    "df_data_q8_m = df_data_q8_m['eve_perc']\n",
    "\n",
    "print(df_data_q8_f.head())\n",
    "print(df_data_q8_m.head())\n"
   ]
  },
  {
   "cell_type": "code",
   "execution_count": 107,
   "metadata": {
    "scrolled": true
   },
   "outputs": [
    {
     "name": "stdout",
     "output_type": "stream",
     "text": [
      "\n"
     ]
    },
    {
     "data": {
      "image/png": "[encoded data removed]",
      "text/plain": [
       "<Figure size 1200x400 with 2 Axes>"
      ]
     },
     "metadata": {},
     "output_type": "display_data"
    }
   ],
   "source": [
    "# Plotting the immediate booking possibility of apartments.\n",
    "\n",
    "# Calling the function\"f_fig_axes()\"\n",
    "f_fig_axes() # Python Function\n",
    "\n",
    "### Female ###\n",
    "# Defining the plot variables.\n",
    "plot_labels = ('offer completed', 'offer received', 'offer viewed', 'transaction')\n",
    "plot_base_color = ['cornflowerblue', 'lightskyblue', 'skyblue', 'lightsteelblue']\n",
    "plot_explode = (0.05, 0.05, 0.05, 0.05)  # Exploding the 4 slices (gapping)\n",
    "\n",
    "# Defining the plot.\n",
    "plt.subplot(1, 2, 1)\n",
    "plt.pie(df_data_q8_f, explode=plot_explode, labels=plot_labels, autopct='%1.1f%%', shadow=True,\n",
    "        startangle=90, colors=plot_base_color, textprops=dict(color=\"darkblue\"))\n",
    "plt.axis('equal')  # Ensuring that pie is drawn as a circle.\n",
    "\n",
    "# Defining the title\n",
    "plt.title('Gender Female: Distribution of the Events', fontsize=18, y=1.03)\n",
    "\n",
    "### Male ###\n",
    "# Defining the plot variables.\n",
    "plot_labels = ('offer completed', 'offer received', 'offer viewed', 'transaction')\n",
    "plot_base_color = ['cornflowerblue', 'lightskyblue', 'skyblue', 'lightsteelblue']\n",
    "plot_explode = (0.05, 0.05, 0.05, 0.05)  # Exploding the 4 slices (gapping)\n",
    "\n",
    "# Defining the plot.\n",
    "plt.subplot(1, 2, 2)\n",
    "plt.pie(df_data_q8_m, explode=plot_explode, labels=plot_labels, autopct='%1.1f%%', shadow=True,\n",
    "        startangle=90, colors=plot_base_color, textprops=dict(color=\"darkblue\"))\n",
    "plt.axis('equal')  # Ensuring that pie is drawn as a circle.\n",
    "\n",
    "# Defining the title\n",
    "plt.title('Gender Male: Distribution of the Events', fontsize=18, y=1.03)\n",
    "\n",
    "\n",
    "\n",
    "# Saving as a picture\n",
    "plt.savefig('pics/plot_g8.2_gender_f_event_pie.png', dpi=300);\n"
   ]
  },
  {
   "cell_type": "markdown",
   "metadata": {},
   "source": [
    "**Conclusion:** \n",
    "1. **Major Customer Group:** The distribution of the events of customer genders depicts that males are the major customer group doing a \"transaction\" and a \"offer completed\".\n",
    "2. **Second Biggest Customer Group:** Females are the second biggest customer group doing a \"transaction\" and a \"offer completed\".\n",
    "3. **Third Biggest Customer Group:** Males are the third biggest customer group \"receiving\" and \"viewing\" an offer.\n",
    "1. **Major Customer Group:** The distribution of the events of customer genders depicts that males are the major customer group doing a \"transaction\" and a \"offer completed\".\n",
    "4. **Insight:** The raltive distribution of the events considering \"Female\" and \"Male\" customer genders depicts that both genders have the same percentage share of *57,4%*"
   ]
  },
  {
   "cell_type": "markdown",
   "metadata": {},
   "source": [
    "<a id='sec2_29'></a>\n",
    "## Question 9:  How is the distribution of the variable \"age\" correlated to the events?\n",
    "<div style=\"text-align: right\"><right><a href=\"#top\">Table of Content</a></div>"
   ]
  },
  {
   "cell_type": "code",
   "execution_count": 108,
   "metadata": {
    "scrolled": true
   },
   "outputs": [],
   "source": [
    "# Creating clusters for the age \n",
    "df_data_q9 = df_datav.copy() # Copying the orignal data frame\n",
    "df_data_q9['age_cluster'] = df_data_q4['age_cluster'] "
   ]
  },
  {
   "cell_type": "code",
   "execution_count": 109,
   "metadata": {
    "scrolled": false
   },
   "outputs": [
    {
     "name": "stdout",
     "output_type": "stream",
     "text": [
      "\n"
     ]
    },
    {
     "data": {
      "image/png": "[encoded data removed]",
      "text/plain": [
       "<Figure size 1200x400 with 1 Axes>"
      ]
     },
     "metadata": {},
     "output_type": "display_data"
    }
   ],
   "source": [
    "# Calling the function\"f_fig_axes()\"\n",
    "f_fig_axes()\n",
    "\n",
    "# Plotting income cluster of customer genders.\n",
    "plot_q9 = sns.countplot(data=df_data_q9, x='age_cluster', hue='event', palette='copper_r')\n",
    "\n",
    "# Defining the title, the lables and the ticks\n",
    "plt.title('Starbucks: Distribution of the Events of Age Cluster', fontsize=23, y=1.05)\n",
    "plt.xlabel('Age Cluster', labelpad=12)\n",
    "plt.ylabel('Count of Customers', labelpad=12)\n",
    "\n",
    "# Defining legend\n",
    "plt.legend(title='Event', loc='upper right');\n",
    "\n",
    "# Saving the plot as a picture\n",
    "plt.savefig('pics/plot_q9.1_age_cluster_event.png', dpi=300, bbox_inches = \"tight\");\n"
   ]
  },
  {
   "cell_type": "code",
   "execution_count": 110,
   "metadata": {
    "scrolled": false
   },
   "outputs": [
    {
     "name": "stdout",
     "output_type": "stream",
     "text": [
      "event\n",
      "offer completed    10972\n",
      "offer received     28849\n",
      "offer viewed       22223\n",
      "transaction        48164\n",
      "Name: age_cluster, dtype: int64\n",
      "event\n",
      "offer completed    21141\n",
      "offer received     43490\n",
      "offer viewed       32781\n",
      "transaction        81860\n",
      "Name: age_cluster, dtype: int64\n"
     ]
    }
   ],
   "source": [
    "# Defining separate gender data frames.\n",
    "df_data_q9_s = df_data_q9[df_data_q9['age_cluster'] == 'Seniors'].groupby('event').count()\n",
    "df_data_q9_a = df_data_q9[df_data_q9['age_cluster'] == 'Adults'].groupby('event').count()\n",
    "\n",
    "print(df_data_q9_s['age_cluster'])\n",
    "print(df_data_q9_a['age_cluster'])\n"
   ]
  },
  {
   "cell_type": "code",
   "execution_count": 111,
   "metadata": {
    "scrolled": true
   },
   "outputs": [
    {
     "name": "stdout",
     "output_type": "stream",
     "text": [
      "event\n",
      "offer completed     3.579375\n",
      "offer received      9.411354\n",
      "offer viewed        7.249767\n",
      "transaction        15.712450\n",
      "Name: eve_perc, dtype: float64\n",
      "event\n",
      "offer completed     6.896788\n",
      "offer received     14.187659\n",
      "offer viewed       10.694083\n",
      "transaction        26.705031\n",
      "Name: eve_perc, dtype: float64\n"
     ]
    }
   ],
   "source": [
    "# Defining the variable for the plot.\n",
    "df_data_q9_s['eve_perc'] = (df_data_q9_s['age_cluster']/df_data_q9['age_cluster'].count())*100\n",
    "df_data_q9_s = df_data_q9_s['eve_perc']\n",
    "\n",
    "df_data_q9_a['eve_perc'] = (df_data_q9_a['age_cluster']/df_data_q9['age_cluster'].count())*100\n",
    "df_data_q9_a = df_data_q9_a['eve_perc']\n",
    "\n",
    "print(df_data_q9_s.head())\n",
    "print(df_data_q9_a.head())\n"
   ]
  },
  {
   "cell_type": "code",
   "execution_count": 112,
   "metadata": {
    "scrolled": false
   },
   "outputs": [
    {
     "name": "stdout",
     "output_type": "stream",
     "text": [
      "\n"
     ]
    },
    {
     "data": {
      "image/png": "[encoded data removed]",
      "text/plain": [
       "<Figure size 1200x400 with 2 Axes>"
      ]
     },
     "metadata": {},
     "output_type": "display_data"
    }
   ],
   "source": [
    "# Plotting the immediate booking possibility of apartments.\n",
    "\n",
    "# Calling the function\"f_fig_axes()\"\n",
    "f_fig_axes() # Python Function\n",
    "\n",
    "### Female ###\n",
    "# Defining the plot variables.\n",
    "plot_labels = ('offer completed', 'offer received', 'offer viewed', 'transaction')\n",
    "plot_base_color = ['cornflowerblue', 'lightskyblue', 'skyblue', 'lightsteelblue']\n",
    "plot_explode = (0.05, 0.05, 0.05, 0.05)  # Exploding the 4 slices (gapping)\n",
    "\n",
    "# Defining the plot.\n",
    "plt.subplot(1, 2, 1)\n",
    "plt.pie(df_data_q9_s, explode=plot_explode, labels=plot_labels, autopct='%1.1f%%', shadow=True,\n",
    "        startangle=90, colors=plot_base_color, textprops=dict(color=\"darkblue\"))\n",
    "plt.axis('equal')  # Ensuring that pie is drawn as a circle.\n",
    "\n",
    "# Defining the title\n",
    "plt.title('Age Cluster \"Seniors\": Distribution of the Events', fontsize=18, y=1.03)\n",
    "\n",
    "### Male ###\n",
    "# Defining the plot variables.\n",
    "plot_labels = ('offer completed', 'offer received', 'offer viewed', 'transaction')\n",
    "plot_base_color = ['cornflowerblue', 'lightskyblue', 'skyblue', 'lightsteelblue']\n",
    "plot_explode = (0.05, 0.05, 0.05, 0.05)  # Exploding the 4 slices (gapping)\n",
    "\n",
    "# Defining the plot.\n",
    "plt.subplot(1, 2, 2)\n",
    "plt.pie(df_data_q9_a, explode=plot_explode, labels=plot_labels, autopct='%1.1f%%', shadow=True,\n",
    "        startangle=90, colors=plot_base_color, textprops=dict(color=\"darkblue\"))\n",
    "plt.axis('equal')  # Ensuring that pie is drawn as a circle.\n",
    "\n",
    "# Defining the title\n",
    "plt.title('Age Cluster \"Adults\": Distribution of the Events', fontsize=18, y=1.03)\n",
    "\n",
    "\n",
    "# Saving as a picture\n",
    "plt.savefig('pics/plot_g9.2_age_cluster_f_event_pie.png', dpi=300);\n"
   ]
  },
  {
   "cell_type": "markdown",
   "metadata": {},
   "source": [
    "**Conclusion:** \n",
    "1. **Major Customer Group:** The distribution of the events of customer age depicts that adults are the major customer group doing a \"transaction\" and a \"offer completed\".\n",
    "2. **Second Biggest Customer Group:** Seniors are the second biggest customer group doing a \"transaction\" and a \"offer completed\".\n",
    "3. **Third Biggest Customer Group:** Adults are the third biggest customer group \"receiving\" and \"viewing\" an offer.\n",
    "4. **Insight:** The raltive distribution of the events considering \"Seniors\" and \"Adults\" age clusters depicts that both age clusters have an almost equal percentage share of around *55%*"
   ]
  },
  {
   "cell_type": "markdown",
   "metadata": {},
   "source": [
    "<a id='sec3'></a>\n",
    "# 4. Section 3: Methodology\n",
    "<div style=\"text-align: right\"><right><a href=\"#top\">Table of Content</a></div>"
   ]
  },
  {
   "cell_type": "markdown",
   "metadata": {},
   "source": [
    "<a id='sec3_1'></a>\n",
    "## 4. A. Data Preprocessing\n",
    "<div style=\"text-align: right\"><right><a href=\"#top\">Table of Content</a></div>\n",
    "  \n",
    "#### Description of the steps taken to preprocess the data and address any abnormalities in the data sets. If data preprocessing is not needed, the reasons will be explained.<br>"
   ]
  },
  {
   "cell_type": "code",
   "execution_count": 113,
   "metadata": {},
   "outputs": [],
   "source": [
    "# Loading the final saved data frame\n",
    "df_prepro = df_final.copy()\n",
    "#df_prepro = pd.read_csv('data/data.csv', engine='python')\n"
   ]
  },
  {
   "cell_type": "code",
   "execution_count": 114,
   "metadata": {},
   "outputs": [
    {
     "data": {
      "text/plain": [
       "customer_id          0.000000\n",
       "event                0.000000\n",
       "time                 0.000000\n",
       "value_amount        54.669629\n",
       "offer_id            45.330371\n",
       "channels            45.330371\n",
       "difficulty          45.330371\n",
       "duration            45.330371\n",
       "offer_type          45.330371\n",
       "reward              45.330371\n",
       "gender              11.017375\n",
       "age                  0.000000\n",
       "became_member_on     0.000000\n",
       "income              11.017375\n",
       "dtype: float64"
      ]
     },
     "execution_count": 114,
     "metadata": {},
     "output_type": "execute_result"
    }
   ],
   "source": [
    "# Calculating the output percentage of values that are missing\n",
    "# (Source of code parts: Udacity - Data Scientist Nanodegree Program)\n",
    "df_prepro_missing_val = 100 * df_prepro.isnull().sum() / df_prepro.shape[0]\n",
    "df_prepro_missing_val\n"
   ]
  },
  {
   "cell_type": "markdown",
   "metadata": {},
   "source": [
    "<a id='sec3_11'></a>\n",
    "## Eliminating Outliers of variable \"age\"\n",
    "<div style=\"text-align: right\"><right><a href=\"#top\">Table of Content</a></div>"
   ]
  },
  {
   "cell_type": "markdown",
   "metadata": {},
   "source": [
    "**Function** to help to remove ouliers from the data frame as a preparation for the machine learning model."
   ]
  },
  {
   "cell_type": "code",
   "execution_count": 115,
   "metadata": {},
   "outputs": [],
   "source": [
    "# Function: Function that uses the Tukey rule to detect outliers in a dataframe column \n",
    "# and removes that entire row from the data frame. \n",
    "# (Source of code parts: Udacity - Data Scientist Nanodegree Program)\n",
    "\n",
    "def f_remove_outliers_tukey_rule(df, col_name):\n",
    "    '''\n",
    "    INPUT:\n",
    "    df - Pandas data frame.\n",
    "    col_name - Name of the column of the data frame.\n",
    "    \n",
    "    OUTPUT:\n",
    "    df - The output is a data frame with the outliers eliminated.\n",
    "            \n",
    "    Description:\n",
    "    Function that uses the Tukey rule to detect outliers in a dataframe column\n",
    "    and removes that entire row from the data frame.\n",
    "    Call the function like:\n",
    "        for col in ['col_name']:\n",
    "            df = f_remove_outliers_tukey_rule(df, col)\n",
    "    '''\n",
    "    data = df[col_name]\n",
    "    Q1 = data.quantile(0.25)\n",
    "    Q3 = data.quantile(0.75)\n",
    "\n",
    "    IQR = Q3 - Q1\n",
    "\n",
    "    max_value = Q3 + 1.5 * IQR\n",
    "    min_value = Q1 - 1.5 * IQR\n",
    "\n",
    "    return df[(df[col_name] < max_value) & (df[col_name] > min_value)]\n"
   ]
  },
  {
   "cell_type": "code",
   "execution_count": 116,
   "metadata": {},
   "outputs": [],
   "source": [
    "# Using the function: f_remove_outliers_tukey_rule\n",
    "for col in ['age']:\n",
    "    df_prepro = f_remove_outliers_tukey_rule(df_prepro, col)\n",
    "    "
   ]
  },
  {
   "cell_type": "markdown",
   "metadata": {},
   "source": [
    "#### Test"
   ]
  },
  {
   "cell_type": "code",
   "execution_count": 117,
   "metadata": {
    "scrolled": true
   },
   "outputs": [
    {
     "data": {
      "text/plain": [
       "count    272762.000000\n",
       "mean         53.840696\n",
       "std          17.551337\n",
       "min          18.000000\n",
       "25%          41.000000\n",
       "50%          55.000000\n",
       "75%          66.000000\n",
       "max         101.000000\n",
       "Name: age, dtype: float64"
      ]
     },
     "execution_count": 117,
     "metadata": {},
     "output_type": "execute_result"
    }
   ],
   "source": [
    "# Calculating the descriptive statistics of the \"age\" values\n",
    "# (50 % is equal to the median)\n",
    "df_prepro['age'].describe()\n"
   ]
  },
  {
   "cell_type": "code",
   "execution_count": 118,
   "metadata": {},
   "outputs": [
    {
     "data": {
      "text/plain": [
       "(272762, 14)"
      ]
     },
     "execution_count": 118,
     "metadata": {},
     "output_type": "execute_result"
    }
   ],
   "source": [
    "# Checking the shape of the data frame\n",
    "df_prepro.shape\n"
   ]
  },
  {
   "cell_type": "markdown",
   "metadata": {},
   "source": [
    "**Result:** The outliers of variable \"age\" are completely removed."
   ]
  },
  {
   "cell_type": "markdown",
   "metadata": {},
   "source": [
    "<a id='sec3_12'></a>\n",
    "## Imputing Missing Values\n",
    "<div style=\"text-align: right\"><right><a href=\"#top\">Table of Content</a></div>"
   ]
  },
  {
   "cell_type": "code",
   "execution_count": 119,
   "metadata": {
    "scrolled": true
   },
   "outputs": [
    {
     "data": {
      "text/plain": [
       "customer_id              0\n",
       "event                    0\n",
       "time                     0\n",
       "value_amount        148805\n",
       "offer_id            123957\n",
       "channels            123957\n",
       "difficulty          123957\n",
       "duration            123957\n",
       "offer_type          123957\n",
       "reward              123957\n",
       "gender                   0\n",
       "age                      0\n",
       "became_member_on         0\n",
       "income                   0\n",
       "dtype: int64"
      ]
     },
     "execution_count": 119,
     "metadata": {},
     "output_type": "execute_result"
    }
   ],
   "source": [
    "# Checking the number of missing values\n",
    "df_prepro.isnull().sum()\n"
   ]
  },
  {
   "cell_type": "markdown",
   "metadata": {},
   "source": [
    "**Function** to help to impute missing values from the data frame as a preparation for the machine learning model."
   ]
  },
  {
   "cell_type": "code",
   "execution_count": 120,
   "metadata": {},
   "outputs": [],
   "source": [
    "# Function: Function that imputes missing values in a dataframe column.\n",
    "def f_impute_values_col_zero(df, col_list):\n",
    "    '''\n",
    "    INPUT:\n",
    "    df - Pandas data frame.\n",
    "    col_list - List of the column names of the data frame (e.g. ['col_1', 'col_2', ...]).\n",
    "    \n",
    "    OUTPUT:\n",
    "    df - The output is a data frame with imputed missing values.\n",
    "            \n",
    "    Description:\n",
    "    Function that imputes NaN values of a column in a dataframe column with \"0\".\n",
    "    '''\n",
    "    # Imputing values for all CATEGORIAL  and NUMERICAL columns.\n",
    "    for i in col_list:\n",
    "        df[i] = df[i].fillna(value=0)\n",
    "\n",
    "    return df\n"
   ]
  },
  {
   "cell_type": "code",
   "execution_count": 121,
   "metadata": {},
   "outputs": [],
   "source": [
    "# Using the function: f_impute_values_col_zero\n",
    "df_prepro = f_impute_values_col_zero(df_prepro, ['value_amount',\n",
    "                                                 'offer_id',\n",
    "                                                 'difficulty',\n",
    "                                                 'duration',\n",
    "                                                 'offer_type',\n",
    "                                                 'reward'])\n"
   ]
  },
  {
   "cell_type": "markdown",
   "metadata": {},
   "source": [
    "#### Test"
   ]
  },
  {
   "cell_type": "code",
   "execution_count": 122,
   "metadata": {
    "scrolled": true
   },
   "outputs": [
    {
     "data": {
      "text/plain": [
       "customer_id              0\n",
       "event                    0\n",
       "time                     0\n",
       "value_amount             0\n",
       "offer_id                 0\n",
       "channels            123957\n",
       "difficulty               0\n",
       "duration                 0\n",
       "offer_type               0\n",
       "reward                   0\n",
       "gender                   0\n",
       "age                      0\n",
       "became_member_on         0\n",
       "income                   0\n",
       "dtype: int64"
      ]
     },
     "execution_count": 122,
     "metadata": {},
     "output_type": "execute_result"
    }
   ],
   "source": [
    "# Checking the number of missing values\n",
    "df_prepro.isnull().sum()"
   ]
  },
  {
   "cell_type": "markdown",
   "metadata": {},
   "source": [
    "**Result:** The corresponding missing values are imputed."
   ]
  },
  {
   "cell_type": "markdown",
   "metadata": {},
   "source": [
    "<a id='sec3_13'></a>\n",
    "## *Dropping Missing Values (Discarded - Not used)*\n",
    "<div style=\"text-align: right\"><right><a href=\"#top\">Table of Content</a></div>"
   ]
  },
  {
   "cell_type": "markdown",
   "metadata": {},
   "source": [
    "**Function** to help to drop rows with missing values from the data frame as a preparation for the machine learning model."
   ]
  },
  {
   "cell_type": "code",
   "execution_count": 123,
   "metadata": {},
   "outputs": [],
   "source": [
    "# Function: Function that drops rows with missing values from the data frame.\n",
    "def f_drop_NaN_rows(df, col_list):\n",
    "    '''\n",
    "    INPUT:\n",
    "    df - Pandas data frame.\n",
    "    col_name - Name of the column of the data frame. ( e.g. ['col_1', 'col_2', 'col_3'])\n",
    "    \n",
    "    OUTPUT:\n",
    "    df - The output is a data frame with dropped missing value rows.\n",
    "            \n",
    "    Description:\n",
    "    Function that drops rows with missing values from the data frame.\n",
    "    '''\n",
    "    # Dropping rows with not needed NaN values in specific columns.\n",
    "    df = df.dropna(subset=col_list, how='any')\n",
    "\n",
    "    return df\n"
   ]
  },
  {
   "cell_type": "code",
   "execution_count": 124,
   "metadata": {},
   "outputs": [],
   "source": [
    "# Using the function: f_drop_NaN_rows\n",
    "#df_prepro = f_drop_NaN_rows(df_prepro, ['offer_id'])\n"
   ]
  },
  {
   "cell_type": "markdown",
   "metadata": {},
   "source": [
    "<a id='sec3_14'></a>\n",
    "## Splitting the variable \"channels\" in categorical variables based on its values\n",
    "<div style=\"text-align: right\"><right><a href=\"#top\">Table of Content</a></div>"
   ]
  },
  {
   "cell_type": "code",
   "execution_count": 125,
   "metadata": {
    "scrolled": true
   },
   "outputs": [
    {
     "data": {
      "text/html": [
       "<div>\n",
       "<style scoped>\n",
       "    .dataframe tbody tr th:only-of-type {\n",
       "        vertical-align: middle;\n",
       "    }\n",
       "\n",
       "    .dataframe tbody tr th {\n",
       "        vertical-align: top;\n",
       "    }\n",
       "\n",
       "    .dataframe thead th {\n",
       "        text-align: right;\n",
       "    }\n",
       "</style>\n",
       "<table border=\"1\" class=\"dataframe\">\n",
       "  <thead>\n",
       "    <tr style=\"text-align: right;\">\n",
       "      <th></th>\n",
       "      <th>customer_id</th>\n",
       "      <th>event</th>\n",
       "      <th>time</th>\n",
       "      <th>value_amount</th>\n",
       "      <th>offer_id</th>\n",
       "      <th>channels</th>\n",
       "      <th>difficulty</th>\n",
       "      <th>duration</th>\n",
       "      <th>offer_type</th>\n",
       "      <th>reward</th>\n",
       "      <th>gender</th>\n",
       "      <th>age</th>\n",
       "      <th>became_member_on</th>\n",
       "      <th>income</th>\n",
       "    </tr>\n",
       "  </thead>\n",
       "  <tbody>\n",
       "    <tr>\n",
       "      <th>0</th>\n",
       "      <td>78afa995795e4d85b5d9ceeca43f5fef</td>\n",
       "      <td>offer received</td>\n",
       "      <td>0</td>\n",
       "      <td>0.0</td>\n",
       "      <td>9b98b8c7a33c4b65b9aebfe6a799e6d9</td>\n",
       "      <td>[web, email, mobile]</td>\n",
       "      <td>5.0</td>\n",
       "      <td>7.0</td>\n",
       "      <td>bogo</td>\n",
       "      <td>5.0</td>\n",
       "      <td>F</td>\n",
       "      <td>75</td>\n",
       "      <td>2017-05-09</td>\n",
       "      <td>100000.0</td>\n",
       "    </tr>\n",
       "    <tr>\n",
       "      <th>2</th>\n",
       "      <td>e2127556f4f64592b11af22de27a7932</td>\n",
       "      <td>offer received</td>\n",
       "      <td>0</td>\n",
       "      <td>0.0</td>\n",
       "      <td>2906b810c7d4411798c6938adc9daaa5</td>\n",
       "      <td>[web, email, mobile]</td>\n",
       "      <td>10.0</td>\n",
       "      <td>7.0</td>\n",
       "      <td>discount</td>\n",
       "      <td>2.0</td>\n",
       "      <td>M</td>\n",
       "      <td>68</td>\n",
       "      <td>2018-04-26</td>\n",
       "      <td>70000.0</td>\n",
       "    </tr>\n",
       "    <tr>\n",
       "      <th>5</th>\n",
       "      <td>389bc3fa690240e798340f5a15918d5c</td>\n",
       "      <td>offer received</td>\n",
       "      <td>0</td>\n",
       "      <td>0.0</td>\n",
       "      <td>f19421c1d4aa40978ebb69ca19b0e20d</td>\n",
       "      <td>[web, email, mobile, social]</td>\n",
       "      <td>5.0</td>\n",
       "      <td>5.0</td>\n",
       "      <td>bogo</td>\n",
       "      <td>5.0</td>\n",
       "      <td>M</td>\n",
       "      <td>65</td>\n",
       "      <td>2018-02-09</td>\n",
       "      <td>53000.0</td>\n",
       "    </tr>\n",
       "    <tr>\n",
       "      <th>7</th>\n",
       "      <td>2eeac8d8feae4a8cad5a6af0499a211d</td>\n",
       "      <td>offer received</td>\n",
       "      <td>0</td>\n",
       "      <td>0.0</td>\n",
       "      <td>3f207df678b143eea3cee63160fa8bed</td>\n",
       "      <td>[web, email, mobile]</td>\n",
       "      <td>0.0</td>\n",
       "      <td>4.0</td>\n",
       "      <td>informational</td>\n",
       "      <td>0.0</td>\n",
       "      <td>M</td>\n",
       "      <td>58</td>\n",
       "      <td>2017-11-11</td>\n",
       "      <td>51000.0</td>\n",
       "    </tr>\n",
       "    <tr>\n",
       "      <th>8</th>\n",
       "      <td>aa4862eba776480b8bb9c68455b8c2e1</td>\n",
       "      <td>offer received</td>\n",
       "      <td>0</td>\n",
       "      <td>0.0</td>\n",
       "      <td>0b1e1539f2cc45b7b9fa7c272da2e1d7</td>\n",
       "      <td>[web, email]</td>\n",
       "      <td>20.0</td>\n",
       "      <td>10.0</td>\n",
       "      <td>discount</td>\n",
       "      <td>5.0</td>\n",
       "      <td>F</td>\n",
       "      <td>61</td>\n",
       "      <td>2017-09-11</td>\n",
       "      <td>57000.0</td>\n",
       "    </tr>\n",
       "  </tbody>\n",
       "</table>\n",
       "</div>"
      ],
      "text/plain": [
       "                        customer_id           event  time  value_amount  \\\n",
       "0  78afa995795e4d85b5d9ceeca43f5fef  offer received     0           0.0   \n",
       "2  e2127556f4f64592b11af22de27a7932  offer received     0           0.0   \n",
       "5  389bc3fa690240e798340f5a15918d5c  offer received     0           0.0   \n",
       "7  2eeac8d8feae4a8cad5a6af0499a211d  offer received     0           0.0   \n",
       "8  aa4862eba776480b8bb9c68455b8c2e1  offer received     0           0.0   \n",
       "\n",
       "                           offer_id                      channels  difficulty  \\\n",
       "0  9b98b8c7a33c4b65b9aebfe6a799e6d9          [web, email, mobile]         5.0   \n",
       "2  2906b810c7d4411798c6938adc9daaa5          [web, email, mobile]        10.0   \n",
       "5  f19421c1d4aa40978ebb69ca19b0e20d  [web, email, mobile, social]         5.0   \n",
       "7  3f207df678b143eea3cee63160fa8bed          [web, email, mobile]         0.0   \n",
       "8  0b1e1539f2cc45b7b9fa7c272da2e1d7                  [web, email]        20.0   \n",
       "\n",
       "   duration     offer_type  reward gender  age became_member_on    income  \n",
       "0       7.0           bogo     5.0      F   75       2017-05-09  100000.0  \n",
       "2       7.0       discount     2.0      M   68       2018-04-26   70000.0  \n",
       "5       5.0           bogo     5.0      M   65       2018-02-09   53000.0  \n",
       "7       4.0  informational     0.0      M   58       2017-11-11   51000.0  \n",
       "8      10.0       discount     5.0      F   61       2017-09-11   57000.0  "
      ]
     },
     "execution_count": 125,
     "metadata": {},
     "output_type": "execute_result"
    }
   ],
   "source": [
    "# Displaying the new data frame to check the changes\n",
    "df_prepro.head()\n"
   ]
  },
  {
   "cell_type": "markdown",
   "metadata": {},
   "source": [
    "**Function** to help to create the data frame including dummies as a preparation for the machine learning model."
   ]
  },
  {
   "cell_type": "code",
   "execution_count": 126,
   "metadata": {},
   "outputs": [],
   "source": [
    "# Function: Defining function to create a list of the column names of the categorical variables.\n",
    "# (Source of code parts: Udacity - Data Scientist Nanodegree Program)\n",
    "def f_create_dummy_df(df, cat_cols, dummy_na):\n",
    "    '''\n",
    "    INPUT:\n",
    "    df - Pandas data frame with categorical variables to create dummies.\n",
    "    cat_cols - List of names (strings) of the categorical columns.\n",
    "    dummy_na - Bool holding whether you want to dummy NA vals of categorical columns or not\n",
    "    \n",
    "    OUTPUT:\n",
    "    df - New dataframe of the following characteristics:\n",
    "            1. Contains all not categorical columns.\n",
    "            2. Removes the original columns in cat_cols (all).\n",
    "            3. Dummy each categorical columns in cat_cols.\n",
    "            4. dummy_na == TRUE - It does contain dummy columns for NaN values.\n",
    "            5. Prefix of the column name: Underscore (_) for separating. \n",
    "            \n",
    "    Description:\n",
    "    Splits values of an variable into categorical variables.\n",
    "    '''\n",
    "    for col in  cat_cols:\n",
    "        try:\n",
    "            #for each cat add dummy var, drop original column\n",
    "            df = pd.concat([df.drop(cat_cols, axis=1), \n",
    "                            pd.get_dummies(df[cat_cols].apply(pd.Series).stack(), prefix=cat_cols, \n",
    "                            prefix_sep='_', drop_first=False, dummy_na=dummy_na).groupby(level=0).sum().astype('int64')], \n",
    "                           axis=1)\n",
    "        except:   \n",
    "            continue\n",
    "    \n",
    "    \n",
    "    df.columns = df.columns.str.replace(' ','_')\n",
    "     \n",
    "    return df\n"
   ]
  },
  {
   "cell_type": "markdown",
   "metadata": {},
   "source": [
    "**Result:** A function is created to split values of an variable into categorical variables."
   ]
  },
  {
   "cell_type": "markdown",
   "metadata": {},
   "source": [
    "##### **Creating** a new data frame including the dummies for all categorial variables."
   ]
  },
  {
   "cell_type": "code",
   "execution_count": 127,
   "metadata": {},
   "outputs": [],
   "source": [
    "# Using the function: f_create_dummy_df\n",
    "df_prepro = f_create_dummy_df(df_prepro, 'channels', dummy_na=False)\n"
   ]
  },
  {
   "cell_type": "code",
   "execution_count": 128,
   "metadata": {},
   "outputs": [],
   "source": [
    "# Using the function: f_impute_values_col_zero\n",
    "df_prepro = f_impute_values_col_zero(df_prepro, ['channels_email',\n",
    "                                                 'channels_mobile',\n",
    "                                                 'channels_social',\n",
    "                                                 'channels_web'])\n"
   ]
  },
  {
   "cell_type": "markdown",
   "metadata": {},
   "source": [
    "#### Test"
   ]
  },
  {
   "cell_type": "code",
   "execution_count": 129,
   "metadata": {
    "scrolled": false
   },
   "outputs": [
    {
     "data": {
      "text/html": [
       "<div>\n",
       "<style scoped>\n",
       "    .dataframe tbody tr th:only-of-type {\n",
       "        vertical-align: middle;\n",
       "    }\n",
       "\n",
       "    .dataframe tbody tr th {\n",
       "        vertical-align: top;\n",
       "    }\n",
       "\n",
       "    .dataframe thead th {\n",
       "        text-align: right;\n",
       "    }\n",
       "</style>\n",
       "<table border=\"1\" class=\"dataframe\">\n",
       "  <thead>\n",
       "    <tr style=\"text-align: right;\">\n",
       "      <th></th>\n",
       "      <th>customer_id</th>\n",
       "      <th>event</th>\n",
       "      <th>time</th>\n",
       "      <th>value_amount</th>\n",
       "      <th>offer_id</th>\n",
       "      <th>difficulty</th>\n",
       "      <th>duration</th>\n",
       "      <th>offer_type</th>\n",
       "      <th>reward</th>\n",
       "      <th>gender</th>\n",
       "      <th>age</th>\n",
       "      <th>became_member_on</th>\n",
       "      <th>income</th>\n",
       "      <th>channels_email</th>\n",
       "      <th>channels_mobile</th>\n",
       "      <th>channels_social</th>\n",
       "      <th>channels_web</th>\n",
       "    </tr>\n",
       "  </thead>\n",
       "  <tbody>\n",
       "    <tr>\n",
       "      <th>0</th>\n",
       "      <td>78afa995795e4d85b5d9ceeca43f5fef</td>\n",
       "      <td>offer received</td>\n",
       "      <td>0</td>\n",
       "      <td>0.0</td>\n",
       "      <td>9b98b8c7a33c4b65b9aebfe6a799e6d9</td>\n",
       "      <td>5.0</td>\n",
       "      <td>7.0</td>\n",
       "      <td>bogo</td>\n",
       "      <td>5.0</td>\n",
       "      <td>F</td>\n",
       "      <td>75</td>\n",
       "      <td>2017-05-09</td>\n",
       "      <td>100000.0</td>\n",
       "      <td>1.0</td>\n",
       "      <td>1.0</td>\n",
       "      <td>0.0</td>\n",
       "      <td>1.0</td>\n",
       "    </tr>\n",
       "    <tr>\n",
       "      <th>2</th>\n",
       "      <td>e2127556f4f64592b11af22de27a7932</td>\n",
       "      <td>offer received</td>\n",
       "      <td>0</td>\n",
       "      <td>0.0</td>\n",
       "      <td>2906b810c7d4411798c6938adc9daaa5</td>\n",
       "      <td>10.0</td>\n",
       "      <td>7.0</td>\n",
       "      <td>discount</td>\n",
       "      <td>2.0</td>\n",
       "      <td>M</td>\n",
       "      <td>68</td>\n",
       "      <td>2018-04-26</td>\n",
       "      <td>70000.0</td>\n",
       "      <td>1.0</td>\n",
       "      <td>1.0</td>\n",
       "      <td>0.0</td>\n",
       "      <td>1.0</td>\n",
       "    </tr>\n",
       "    <tr>\n",
       "      <th>5</th>\n",
       "      <td>389bc3fa690240e798340f5a15918d5c</td>\n",
       "      <td>offer received</td>\n",
       "      <td>0</td>\n",
       "      <td>0.0</td>\n",
       "      <td>f19421c1d4aa40978ebb69ca19b0e20d</td>\n",
       "      <td>5.0</td>\n",
       "      <td>5.0</td>\n",
       "      <td>bogo</td>\n",
       "      <td>5.0</td>\n",
       "      <td>M</td>\n",
       "      <td>65</td>\n",
       "      <td>2018-02-09</td>\n",
       "      <td>53000.0</td>\n",
       "      <td>1.0</td>\n",
       "      <td>1.0</td>\n",
       "      <td>1.0</td>\n",
       "      <td>1.0</td>\n",
       "    </tr>\n",
       "    <tr>\n",
       "      <th>7</th>\n",
       "      <td>2eeac8d8feae4a8cad5a6af0499a211d</td>\n",
       "      <td>offer received</td>\n",
       "      <td>0</td>\n",
       "      <td>0.0</td>\n",
       "      <td>3f207df678b143eea3cee63160fa8bed</td>\n",
       "      <td>0.0</td>\n",
       "      <td>4.0</td>\n",
       "      <td>informational</td>\n",
       "      <td>0.0</td>\n",
       "      <td>M</td>\n",
       "      <td>58</td>\n",
       "      <td>2017-11-11</td>\n",
       "      <td>51000.0</td>\n",
       "      <td>1.0</td>\n",
       "      <td>1.0</td>\n",
       "      <td>0.0</td>\n",
       "      <td>1.0</td>\n",
       "    </tr>\n",
       "    <tr>\n",
       "      <th>8</th>\n",
       "      <td>aa4862eba776480b8bb9c68455b8c2e1</td>\n",
       "      <td>offer received</td>\n",
       "      <td>0</td>\n",
       "      <td>0.0</td>\n",
       "      <td>0b1e1539f2cc45b7b9fa7c272da2e1d7</td>\n",
       "      <td>20.0</td>\n",
       "      <td>10.0</td>\n",
       "      <td>discount</td>\n",
       "      <td>5.0</td>\n",
       "      <td>F</td>\n",
       "      <td>61</td>\n",
       "      <td>2017-09-11</td>\n",
       "      <td>57000.0</td>\n",
       "      <td>1.0</td>\n",
       "      <td>0.0</td>\n",
       "      <td>0.0</td>\n",
       "      <td>1.0</td>\n",
       "    </tr>\n",
       "  </tbody>\n",
       "</table>\n",
       "</div>"
      ],
      "text/plain": [
       "                        customer_id           event  time  value_amount  \\\n",
       "0  78afa995795e4d85b5d9ceeca43f5fef  offer received     0           0.0   \n",
       "2  e2127556f4f64592b11af22de27a7932  offer received     0           0.0   \n",
       "5  389bc3fa690240e798340f5a15918d5c  offer received     0           0.0   \n",
       "7  2eeac8d8feae4a8cad5a6af0499a211d  offer received     0           0.0   \n",
       "8  aa4862eba776480b8bb9c68455b8c2e1  offer received     0           0.0   \n",
       "\n",
       "                           offer_id  difficulty  duration     offer_type  \\\n",
       "0  9b98b8c7a33c4b65b9aebfe6a799e6d9         5.0       7.0           bogo   \n",
       "2  2906b810c7d4411798c6938adc9daaa5        10.0       7.0       discount   \n",
       "5  f19421c1d4aa40978ebb69ca19b0e20d         5.0       5.0           bogo   \n",
       "7  3f207df678b143eea3cee63160fa8bed         0.0       4.0  informational   \n",
       "8  0b1e1539f2cc45b7b9fa7c272da2e1d7        20.0      10.0       discount   \n",
       "\n",
       "   reward gender  age became_member_on    income  channels_email  \\\n",
       "0     5.0      F   75       2017-05-09  100000.0             1.0   \n",
       "2     2.0      M   68       2018-04-26   70000.0             1.0   \n",
       "5     5.0      M   65       2018-02-09   53000.0             1.0   \n",
       "7     0.0      M   58       2017-11-11   51000.0             1.0   \n",
       "8     5.0      F   61       2017-09-11   57000.0             1.0   \n",
       "\n",
       "   channels_mobile  channels_social  channels_web  \n",
       "0              1.0              0.0           1.0  \n",
       "2              1.0              0.0           1.0  \n",
       "5              1.0              1.0           1.0  \n",
       "7              1.0              0.0           1.0  \n",
       "8              0.0              0.0           1.0  "
      ]
     },
     "execution_count": 129,
     "metadata": {},
     "output_type": "execute_result"
    }
   ],
   "source": [
    "# Displaying the new data frame to check the changes\n",
    "df_prepro.head()\n"
   ]
  },
  {
   "cell_type": "code",
   "execution_count": 130,
   "metadata": {},
   "outputs": [
    {
     "data": {
      "text/plain": [
       "(272762, 17)"
      ]
     },
     "execution_count": 130,
     "metadata": {},
     "output_type": "execute_result"
    }
   ],
   "source": [
    "# Checking the shape of the data frame\n",
    "df_prepro.shape\n"
   ]
  },
  {
   "cell_type": "markdown",
   "metadata": {},
   "source": [
    "**Result:** The variable \"channels\" is split in categorical variables based on its values."
   ]
  },
  {
   "cell_type": "markdown",
   "metadata": {},
   "source": [
    "<a id='sec3_15'></a>\n",
    "## Splitting the variable \"event\" in categorical variables based on its values\n",
    "<div style=\"text-align: right\"><right><a href=\"#top\">Table of Content</a></div>"
   ]
  },
  {
   "cell_type": "code",
   "execution_count": 131,
   "metadata": {},
   "outputs": [],
   "source": [
    "# Using the function: f_create_dummy_df\n",
    "df_prepro = f_create_dummy_df(df_prepro, 'event', dummy_na=False)\n"
   ]
  },
  {
   "cell_type": "markdown",
   "metadata": {},
   "source": [
    "#### Test"
   ]
  },
  {
   "cell_type": "code",
   "execution_count": 132,
   "metadata": {
    "scrolled": true
   },
   "outputs": [
    {
     "data": {
      "text/html": [
       "<div>\n",
       "<style scoped>\n",
       "    .dataframe tbody tr th:only-of-type {\n",
       "        vertical-align: middle;\n",
       "    }\n",
       "\n",
       "    .dataframe tbody tr th {\n",
       "        vertical-align: top;\n",
       "    }\n",
       "\n",
       "    .dataframe thead th {\n",
       "        text-align: right;\n",
       "    }\n",
       "</style>\n",
       "<table border=\"1\" class=\"dataframe\">\n",
       "  <thead>\n",
       "    <tr style=\"text-align: right;\">\n",
       "      <th></th>\n",
       "      <th>customer_id</th>\n",
       "      <th>time</th>\n",
       "      <th>value_amount</th>\n",
       "      <th>offer_id</th>\n",
       "      <th>difficulty</th>\n",
       "      <th>duration</th>\n",
       "      <th>offer_type</th>\n",
       "      <th>reward</th>\n",
       "      <th>gender</th>\n",
       "      <th>age</th>\n",
       "      <th>became_member_on</th>\n",
       "      <th>income</th>\n",
       "      <th>channels_email</th>\n",
       "      <th>channels_mobile</th>\n",
       "      <th>channels_social</th>\n",
       "      <th>channels_web</th>\n",
       "      <th>event_offer_completed</th>\n",
       "      <th>event_offer_received</th>\n",
       "      <th>event_offer_viewed</th>\n",
       "      <th>event_transaction</th>\n",
       "    </tr>\n",
       "  </thead>\n",
       "  <tbody>\n",
       "    <tr>\n",
       "      <th>0</th>\n",
       "      <td>78afa995795e4d85b5d9ceeca43f5fef</td>\n",
       "      <td>0</td>\n",
       "      <td>0.0</td>\n",
       "      <td>9b98b8c7a33c4b65b9aebfe6a799e6d9</td>\n",
       "      <td>5.0</td>\n",
       "      <td>7.0</td>\n",
       "      <td>bogo</td>\n",
       "      <td>5.0</td>\n",
       "      <td>F</td>\n",
       "      <td>75</td>\n",
       "      <td>2017-05-09</td>\n",
       "      <td>100000.0</td>\n",
       "      <td>1.0</td>\n",
       "      <td>1.0</td>\n",
       "      <td>0.0</td>\n",
       "      <td>1.0</td>\n",
       "      <td>0</td>\n",
       "      <td>1</td>\n",
       "      <td>0</td>\n",
       "      <td>0</td>\n",
       "    </tr>\n",
       "    <tr>\n",
       "      <th>2</th>\n",
       "      <td>e2127556f4f64592b11af22de27a7932</td>\n",
       "      <td>0</td>\n",
       "      <td>0.0</td>\n",
       "      <td>2906b810c7d4411798c6938adc9daaa5</td>\n",
       "      <td>10.0</td>\n",
       "      <td>7.0</td>\n",
       "      <td>discount</td>\n",
       "      <td>2.0</td>\n",
       "      <td>M</td>\n",
       "      <td>68</td>\n",
       "      <td>2018-04-26</td>\n",
       "      <td>70000.0</td>\n",
       "      <td>1.0</td>\n",
       "      <td>1.0</td>\n",
       "      <td>0.0</td>\n",
       "      <td>1.0</td>\n",
       "      <td>0</td>\n",
       "      <td>1</td>\n",
       "      <td>0</td>\n",
       "      <td>0</td>\n",
       "    </tr>\n",
       "    <tr>\n",
       "      <th>5</th>\n",
       "      <td>389bc3fa690240e798340f5a15918d5c</td>\n",
       "      <td>0</td>\n",
       "      <td>0.0</td>\n",
       "      <td>f19421c1d4aa40978ebb69ca19b0e20d</td>\n",
       "      <td>5.0</td>\n",
       "      <td>5.0</td>\n",
       "      <td>bogo</td>\n",
       "      <td>5.0</td>\n",
       "      <td>M</td>\n",
       "      <td>65</td>\n",
       "      <td>2018-02-09</td>\n",
       "      <td>53000.0</td>\n",
       "      <td>1.0</td>\n",
       "      <td>1.0</td>\n",
       "      <td>1.0</td>\n",
       "      <td>1.0</td>\n",
       "      <td>0</td>\n",
       "      <td>1</td>\n",
       "      <td>0</td>\n",
       "      <td>0</td>\n",
       "    </tr>\n",
       "    <tr>\n",
       "      <th>7</th>\n",
       "      <td>2eeac8d8feae4a8cad5a6af0499a211d</td>\n",
       "      <td>0</td>\n",
       "      <td>0.0</td>\n",
       "      <td>3f207df678b143eea3cee63160fa8bed</td>\n",
       "      <td>0.0</td>\n",
       "      <td>4.0</td>\n",
       "      <td>informational</td>\n",
       "      <td>0.0</td>\n",
       "      <td>M</td>\n",
       "      <td>58</td>\n",
       "      <td>2017-11-11</td>\n",
       "      <td>51000.0</td>\n",
       "      <td>1.0</td>\n",
       "      <td>1.0</td>\n",
       "      <td>0.0</td>\n",
       "      <td>1.0</td>\n",
       "      <td>0</td>\n",
       "      <td>1</td>\n",
       "      <td>0</td>\n",
       "      <td>0</td>\n",
       "    </tr>\n",
       "    <tr>\n",
       "      <th>8</th>\n",
       "      <td>aa4862eba776480b8bb9c68455b8c2e1</td>\n",
       "      <td>0</td>\n",
       "      <td>0.0</td>\n",
       "      <td>0b1e1539f2cc45b7b9fa7c272da2e1d7</td>\n",
       "      <td>20.0</td>\n",
       "      <td>10.0</td>\n",
       "      <td>discount</td>\n",
       "      <td>5.0</td>\n",
       "      <td>F</td>\n",
       "      <td>61</td>\n",
       "      <td>2017-09-11</td>\n",
       "      <td>57000.0</td>\n",
       "      <td>1.0</td>\n",
       "      <td>0.0</td>\n",
       "      <td>0.0</td>\n",
       "      <td>1.0</td>\n",
       "      <td>0</td>\n",
       "      <td>1</td>\n",
       "      <td>0</td>\n",
       "      <td>0</td>\n",
       "    </tr>\n",
       "  </tbody>\n",
       "</table>\n",
       "</div>"
      ],
      "text/plain": [
       "                        customer_id  time  value_amount  \\\n",
       "0  78afa995795e4d85b5d9ceeca43f5fef     0           0.0   \n",
       "2  e2127556f4f64592b11af22de27a7932     0           0.0   \n",
       "5  389bc3fa690240e798340f5a15918d5c     0           0.0   \n",
       "7  2eeac8d8feae4a8cad5a6af0499a211d     0           0.0   \n",
       "8  aa4862eba776480b8bb9c68455b8c2e1     0           0.0   \n",
       "\n",
       "                           offer_id  difficulty  duration     offer_type  \\\n",
       "0  9b98b8c7a33c4b65b9aebfe6a799e6d9         5.0       7.0           bogo   \n",
       "2  2906b810c7d4411798c6938adc9daaa5        10.0       7.0       discount   \n",
       "5  f19421c1d4aa40978ebb69ca19b0e20d         5.0       5.0           bogo   \n",
       "7  3f207df678b143eea3cee63160fa8bed         0.0       4.0  informational   \n",
       "8  0b1e1539f2cc45b7b9fa7c272da2e1d7        20.0      10.0       discount   \n",
       "\n",
       "   reward gender  age became_member_on    income  channels_email  \\\n",
       "0     5.0      F   75       2017-05-09  100000.0             1.0   \n",
       "2     2.0      M   68       2018-04-26   70000.0             1.0   \n",
       "5     5.0      M   65       2018-02-09   53000.0             1.0   \n",
       "7     0.0      M   58       2017-11-11   51000.0             1.0   \n",
       "8     5.0      F   61       2017-09-11   57000.0             1.0   \n",
       "\n",
       "   channels_mobile  channels_social  channels_web  event_offer_completed  \\\n",
       "0              1.0              0.0           1.0                      0   \n",
       "2              1.0              0.0           1.0                      0   \n",
       "5              1.0              1.0           1.0                      0   \n",
       "7              1.0              0.0           1.0                      0   \n",
       "8              0.0              0.0           1.0                      0   \n",
       "\n",
       "   event_offer_received  event_offer_viewed  event_transaction  \n",
       "0                     1                   0                  0  \n",
       "2                     1                   0                  0  \n",
       "5                     1                   0                  0  \n",
       "7                     1                   0                  0  \n",
       "8                     1                   0                  0  "
      ]
     },
     "execution_count": 132,
     "metadata": {},
     "output_type": "execute_result"
    }
   ],
   "source": [
    "# Displaying the new data frame to check the changes\n",
    "df_prepro.head()\n"
   ]
  },
  {
   "cell_type": "code",
   "execution_count": 133,
   "metadata": {},
   "outputs": [
    {
     "data": {
      "text/plain": [
       "(272762, 20)"
      ]
     },
     "execution_count": 133,
     "metadata": {},
     "output_type": "execute_result"
    }
   ],
   "source": [
    "# Checking the shape of the data frame\n",
    "df_prepro.shape\n"
   ]
  },
  {
   "cell_type": "markdown",
   "metadata": {},
   "source": [
    "**Result:** The variable \"event\" is split in categorical variables based on its values."
   ]
  },
  {
   "cell_type": "markdown",
   "metadata": {},
   "source": [
    "<a id='sec3_16'></a>\n",
    "## Splitting the variable \"offer_type\" in categorical variables based on its values\n",
    "<div style=\"text-align: right\"><right><a href=\"#top\">Table of Content</a></div>"
   ]
  },
  {
   "cell_type": "code",
   "execution_count": 134,
   "metadata": {},
   "outputs": [],
   "source": [
    "# Using the function: f_create_dummy_df\n",
    "df_prepro = f_create_dummy_df(df_prepro, 'offer_type', dummy_na=False)\n"
   ]
  },
  {
   "cell_type": "markdown",
   "metadata": {},
   "source": [
    "#### Test"
   ]
  },
  {
   "cell_type": "code",
   "execution_count": 135,
   "metadata": {
    "scrolled": true
   },
   "outputs": [
    {
     "data": {
      "text/html": [
       "<div>\n",
       "<style scoped>\n",
       "    .dataframe tbody tr th:only-of-type {\n",
       "        vertical-align: middle;\n",
       "    }\n",
       "\n",
       "    .dataframe tbody tr th {\n",
       "        vertical-align: top;\n",
       "    }\n",
       "\n",
       "    .dataframe thead th {\n",
       "        text-align: right;\n",
       "    }\n",
       "</style>\n",
       "<table border=\"1\" class=\"dataframe\">\n",
       "  <thead>\n",
       "    <tr style=\"text-align: right;\">\n",
       "      <th></th>\n",
       "      <th>customer_id</th>\n",
       "      <th>time</th>\n",
       "      <th>value_amount</th>\n",
       "      <th>offer_id</th>\n",
       "      <th>difficulty</th>\n",
       "      <th>duration</th>\n",
       "      <th>reward</th>\n",
       "      <th>gender</th>\n",
       "      <th>age</th>\n",
       "      <th>became_member_on</th>\n",
       "      <th>...</th>\n",
       "      <th>channels_social</th>\n",
       "      <th>channels_web</th>\n",
       "      <th>event_offer_completed</th>\n",
       "      <th>event_offer_received</th>\n",
       "      <th>event_offer_viewed</th>\n",
       "      <th>event_transaction</th>\n",
       "      <th>offer_type_0</th>\n",
       "      <th>offer_type_bogo</th>\n",
       "      <th>offer_type_discount</th>\n",
       "      <th>offer_type_informational</th>\n",
       "    </tr>\n",
       "  </thead>\n",
       "  <tbody>\n",
       "    <tr>\n",
       "      <th>0</th>\n",
       "      <td>78afa995795e4d85b5d9ceeca43f5fef</td>\n",
       "      <td>0</td>\n",
       "      <td>0.0</td>\n",
       "      <td>9b98b8c7a33c4b65b9aebfe6a799e6d9</td>\n",
       "      <td>5.0</td>\n",
       "      <td>7.0</td>\n",
       "      <td>5.0</td>\n",
       "      <td>F</td>\n",
       "      <td>75</td>\n",
       "      <td>2017-05-09</td>\n",
       "      <td>...</td>\n",
       "      <td>0.0</td>\n",
       "      <td>1.0</td>\n",
       "      <td>0</td>\n",
       "      <td>1</td>\n",
       "      <td>0</td>\n",
       "      <td>0</td>\n",
       "      <td>0</td>\n",
       "      <td>1</td>\n",
       "      <td>0</td>\n",
       "      <td>0</td>\n",
       "    </tr>\n",
       "    <tr>\n",
       "      <th>2</th>\n",
       "      <td>e2127556f4f64592b11af22de27a7932</td>\n",
       "      <td>0</td>\n",
       "      <td>0.0</td>\n",
       "      <td>2906b810c7d4411798c6938adc9daaa5</td>\n",
       "      <td>10.0</td>\n",
       "      <td>7.0</td>\n",
       "      <td>2.0</td>\n",
       "      <td>M</td>\n",
       "      <td>68</td>\n",
       "      <td>2018-04-26</td>\n",
       "      <td>...</td>\n",
       "      <td>0.0</td>\n",
       "      <td>1.0</td>\n",
       "      <td>0</td>\n",
       "      <td>1</td>\n",
       "      <td>0</td>\n",
       "      <td>0</td>\n",
       "      <td>0</td>\n",
       "      <td>0</td>\n",
       "      <td>1</td>\n",
       "      <td>0</td>\n",
       "    </tr>\n",
       "    <tr>\n",
       "      <th>5</th>\n",
       "      <td>389bc3fa690240e798340f5a15918d5c</td>\n",
       "      <td>0</td>\n",
       "      <td>0.0</td>\n",
       "      <td>f19421c1d4aa40978ebb69ca19b0e20d</td>\n",
       "      <td>5.0</td>\n",
       "      <td>5.0</td>\n",
       "      <td>5.0</td>\n",
       "      <td>M</td>\n",
       "      <td>65</td>\n",
       "      <td>2018-02-09</td>\n",
       "      <td>...</td>\n",
       "      <td>1.0</td>\n",
       "      <td>1.0</td>\n",
       "      <td>0</td>\n",
       "      <td>1</td>\n",
       "      <td>0</td>\n",
       "      <td>0</td>\n",
       "      <td>0</td>\n",
       "      <td>1</td>\n",
       "      <td>0</td>\n",
       "      <td>0</td>\n",
       "    </tr>\n",
       "    <tr>\n",
       "      <th>7</th>\n",
       "      <td>2eeac8d8feae4a8cad5a6af0499a211d</td>\n",
       "      <td>0</td>\n",
       "      <td>0.0</td>\n",
       "      <td>3f207df678b143eea3cee63160fa8bed</td>\n",
       "      <td>0.0</td>\n",
       "      <td>4.0</td>\n",
       "      <td>0.0</td>\n",
       "      <td>M</td>\n",
       "      <td>58</td>\n",
       "      <td>2017-11-11</td>\n",
       "      <td>...</td>\n",
       "      <td>0.0</td>\n",
       "      <td>1.0</td>\n",
       "      <td>0</td>\n",
       "      <td>1</td>\n",
       "      <td>0</td>\n",
       "      <td>0</td>\n",
       "      <td>0</td>\n",
       "      <td>0</td>\n",
       "      <td>0</td>\n",
       "      <td>1</td>\n",
       "    </tr>\n",
       "    <tr>\n",
       "      <th>8</th>\n",
       "      <td>aa4862eba776480b8bb9c68455b8c2e1</td>\n",
       "      <td>0</td>\n",
       "      <td>0.0</td>\n",
       "      <td>0b1e1539f2cc45b7b9fa7c272da2e1d7</td>\n",
       "      <td>20.0</td>\n",
       "      <td>10.0</td>\n",
       "      <td>5.0</td>\n",
       "      <td>F</td>\n",
       "      <td>61</td>\n",
       "      <td>2017-09-11</td>\n",
       "      <td>...</td>\n",
       "      <td>0.0</td>\n",
       "      <td>1.0</td>\n",
       "      <td>0</td>\n",
       "      <td>1</td>\n",
       "      <td>0</td>\n",
       "      <td>0</td>\n",
       "      <td>0</td>\n",
       "      <td>0</td>\n",
       "      <td>1</td>\n",
       "      <td>0</td>\n",
       "    </tr>\n",
       "  </tbody>\n",
       "</table>\n",
       "<p>5 rows × 23 columns</p>\n",
       "</div>"
      ],
      "text/plain": [
       "                        customer_id  time  value_amount  \\\n",
       "0  78afa995795e4d85b5d9ceeca43f5fef     0           0.0   \n",
       "2  e2127556f4f64592b11af22de27a7932     0           0.0   \n",
       "5  389bc3fa690240e798340f5a15918d5c     0           0.0   \n",
       "7  2eeac8d8feae4a8cad5a6af0499a211d     0           0.0   \n",
       "8  aa4862eba776480b8bb9c68455b8c2e1     0           0.0   \n",
       "\n",
       "                           offer_id  difficulty  duration  reward gender  age  \\\n",
       "0  9b98b8c7a33c4b65b9aebfe6a799e6d9         5.0       7.0     5.0      F   75   \n",
       "2  2906b810c7d4411798c6938adc9daaa5        10.0       7.0     2.0      M   68   \n",
       "5  f19421c1d4aa40978ebb69ca19b0e20d         5.0       5.0     5.0      M   65   \n",
       "7  3f207df678b143eea3cee63160fa8bed         0.0       4.0     0.0      M   58   \n",
       "8  0b1e1539f2cc45b7b9fa7c272da2e1d7        20.0      10.0     5.0      F   61   \n",
       "\n",
       "  became_member_on  ...  channels_social  channels_web  event_offer_completed  \\\n",
       "0       2017-05-09  ...              0.0           1.0                      0   \n",
       "2       2018-04-26  ...              0.0           1.0                      0   \n",
       "5       2018-02-09  ...              1.0           1.0                      0   \n",
       "7       2017-11-11  ...              0.0           1.0                      0   \n",
       "8       2017-09-11  ...              0.0           1.0                      0   \n",
       "\n",
       "   event_offer_received  event_offer_viewed  event_transaction  offer_type_0  \\\n",
       "0                     1                   0                  0             0   \n",
       "2                     1                   0                  0             0   \n",
       "5                     1                   0                  0             0   \n",
       "7                     1                   0                  0             0   \n",
       "8                     1                   0                  0             0   \n",
       "\n",
       "   offer_type_bogo  offer_type_discount  offer_type_informational  \n",
       "0                1                    0                         0  \n",
       "2                0                    1                         0  \n",
       "5                1                    0                         0  \n",
       "7                0                    0                         1  \n",
       "8                0                    1                         0  \n",
       "\n",
       "[5 rows x 23 columns]"
      ]
     },
     "execution_count": 135,
     "metadata": {},
     "output_type": "execute_result"
    }
   ],
   "source": [
    "# Displaying the new data frame to check the changes\n",
    "df_prepro.head()\n"
   ]
  },
  {
   "cell_type": "code",
   "execution_count": 136,
   "metadata": {},
   "outputs": [
    {
     "data": {
      "text/plain": [
       "(272762, 23)"
      ]
     },
     "execution_count": 136,
     "metadata": {},
     "output_type": "execute_result"
    }
   ],
   "source": [
    "# Checking the shape of the data frame\n",
    "df_prepro.shape\n"
   ]
  },
  {
   "cell_type": "markdown",
   "metadata": {},
   "source": [
    "**Result:** The variable \"offer_type\" is split in categorical variables based on its values."
   ]
  },
  {
   "cell_type": "markdown",
   "metadata": {},
   "source": [
    "<a id='sec3_17'></a>\n",
    "## Splitting the variable \"gender\" in categorical variables based on its values\n",
    "<div style=\"text-align: right\"><right><a href=\"#top\">Table of Content</a></div>"
   ]
  },
  {
   "cell_type": "code",
   "execution_count": 137,
   "metadata": {},
   "outputs": [],
   "source": [
    "# Using the function: f_create_dummy_df\n",
    "df_prepro = f_create_dummy_df(df_prepro, 'gender', dummy_na=False)\n"
   ]
  },
  {
   "cell_type": "markdown",
   "metadata": {},
   "source": [
    "#### Test"
   ]
  },
  {
   "cell_type": "code",
   "execution_count": 138,
   "metadata": {
    "scrolled": true
   },
   "outputs": [
    {
     "data": {
      "text/html": [
       "<div>\n",
       "<style scoped>\n",
       "    .dataframe tbody tr th:only-of-type {\n",
       "        vertical-align: middle;\n",
       "    }\n",
       "\n",
       "    .dataframe tbody tr th {\n",
       "        vertical-align: top;\n",
       "    }\n",
       "\n",
       "    .dataframe thead th {\n",
       "        text-align: right;\n",
       "    }\n",
       "</style>\n",
       "<table border=\"1\" class=\"dataframe\">\n",
       "  <thead>\n",
       "    <tr style=\"text-align: right;\">\n",
       "      <th></th>\n",
       "      <th>customer_id</th>\n",
       "      <th>time</th>\n",
       "      <th>value_amount</th>\n",
       "      <th>offer_id</th>\n",
       "      <th>difficulty</th>\n",
       "      <th>duration</th>\n",
       "      <th>reward</th>\n",
       "      <th>age</th>\n",
       "      <th>became_member_on</th>\n",
       "      <th>income</th>\n",
       "      <th>...</th>\n",
       "      <th>event_offer_received</th>\n",
       "      <th>event_offer_viewed</th>\n",
       "      <th>event_transaction</th>\n",
       "      <th>offer_type_0</th>\n",
       "      <th>offer_type_bogo</th>\n",
       "      <th>offer_type_discount</th>\n",
       "      <th>offer_type_informational</th>\n",
       "      <th>gender_F</th>\n",
       "      <th>gender_M</th>\n",
       "      <th>gender_O</th>\n",
       "    </tr>\n",
       "  </thead>\n",
       "  <tbody>\n",
       "    <tr>\n",
       "      <th>0</th>\n",
       "      <td>78afa995795e4d85b5d9ceeca43f5fef</td>\n",
       "      <td>0</td>\n",
       "      <td>0.0</td>\n",
       "      <td>9b98b8c7a33c4b65b9aebfe6a799e6d9</td>\n",
       "      <td>5.0</td>\n",
       "      <td>7.0</td>\n",
       "      <td>5.0</td>\n",
       "      <td>75</td>\n",
       "      <td>2017-05-09</td>\n",
       "      <td>100000.0</td>\n",
       "      <td>...</td>\n",
       "      <td>1</td>\n",
       "      <td>0</td>\n",
       "      <td>0</td>\n",
       "      <td>0</td>\n",
       "      <td>1</td>\n",
       "      <td>0</td>\n",
       "      <td>0</td>\n",
       "      <td>1</td>\n",
       "      <td>0</td>\n",
       "      <td>0</td>\n",
       "    </tr>\n",
       "    <tr>\n",
       "      <th>2</th>\n",
       "      <td>e2127556f4f64592b11af22de27a7932</td>\n",
       "      <td>0</td>\n",
       "      <td>0.0</td>\n",
       "      <td>2906b810c7d4411798c6938adc9daaa5</td>\n",
       "      <td>10.0</td>\n",
       "      <td>7.0</td>\n",
       "      <td>2.0</td>\n",
       "      <td>68</td>\n",
       "      <td>2018-04-26</td>\n",
       "      <td>70000.0</td>\n",
       "      <td>...</td>\n",
       "      <td>1</td>\n",
       "      <td>0</td>\n",
       "      <td>0</td>\n",
       "      <td>0</td>\n",
       "      <td>0</td>\n",
       "      <td>1</td>\n",
       "      <td>0</td>\n",
       "      <td>0</td>\n",
       "      <td>1</td>\n",
       "      <td>0</td>\n",
       "    </tr>\n",
       "    <tr>\n",
       "      <th>5</th>\n",
       "      <td>389bc3fa690240e798340f5a15918d5c</td>\n",
       "      <td>0</td>\n",
       "      <td>0.0</td>\n",
       "      <td>f19421c1d4aa40978ebb69ca19b0e20d</td>\n",
       "      <td>5.0</td>\n",
       "      <td>5.0</td>\n",
       "      <td>5.0</td>\n",
       "      <td>65</td>\n",
       "      <td>2018-02-09</td>\n",
       "      <td>53000.0</td>\n",
       "      <td>...</td>\n",
       "      <td>1</td>\n",
       "      <td>0</td>\n",
       "      <td>0</td>\n",
       "      <td>0</td>\n",
       "      <td>1</td>\n",
       "      <td>0</td>\n",
       "      <td>0</td>\n",
       "      <td>0</td>\n",
       "      <td>1</td>\n",
       "      <td>0</td>\n",
       "    </tr>\n",
       "    <tr>\n",
       "      <th>7</th>\n",
       "      <td>2eeac8d8feae4a8cad5a6af0499a211d</td>\n",
       "      <td>0</td>\n",
       "      <td>0.0</td>\n",
       "      <td>3f207df678b143eea3cee63160fa8bed</td>\n",
       "      <td>0.0</td>\n",
       "      <td>4.0</td>\n",
       "      <td>0.0</td>\n",
       "      <td>58</td>\n",
       "      <td>2017-11-11</td>\n",
       "      <td>51000.0</td>\n",
       "      <td>...</td>\n",
       "      <td>1</td>\n",
       "      <td>0</td>\n",
       "      <td>0</td>\n",
       "      <td>0</td>\n",
       "      <td>0</td>\n",
       "      <td>0</td>\n",
       "      <td>1</td>\n",
       "      <td>0</td>\n",
       "      <td>1</td>\n",
       "      <td>0</td>\n",
       "    </tr>\n",
       "    <tr>\n",
       "      <th>8</th>\n",
       "      <td>aa4862eba776480b8bb9c68455b8c2e1</td>\n",
       "      <td>0</td>\n",
       "      <td>0.0</td>\n",
       "      <td>0b1e1539f2cc45b7b9fa7c272da2e1d7</td>\n",
       "      <td>20.0</td>\n",
       "      <td>10.0</td>\n",
       "      <td>5.0</td>\n",
       "      <td>61</td>\n",
       "      <td>2017-09-11</td>\n",
       "      <td>57000.0</td>\n",
       "      <td>...</td>\n",
       "      <td>1</td>\n",
       "      <td>0</td>\n",
       "      <td>0</td>\n",
       "      <td>0</td>\n",
       "      <td>0</td>\n",
       "      <td>1</td>\n",
       "      <td>0</td>\n",
       "      <td>1</td>\n",
       "      <td>0</td>\n",
       "      <td>0</td>\n",
       "    </tr>\n",
       "  </tbody>\n",
       "</table>\n",
       "<p>5 rows × 25 columns</p>\n",
       "</div>"
      ],
      "text/plain": [
       "                        customer_id  time  value_amount  \\\n",
       "0  78afa995795e4d85b5d9ceeca43f5fef     0           0.0   \n",
       "2  e2127556f4f64592b11af22de27a7932     0           0.0   \n",
       "5  389bc3fa690240e798340f5a15918d5c     0           0.0   \n",
       "7  2eeac8d8feae4a8cad5a6af0499a211d     0           0.0   \n",
       "8  aa4862eba776480b8bb9c68455b8c2e1     0           0.0   \n",
       "\n",
       "                           offer_id  difficulty  duration  reward  age  \\\n",
       "0  9b98b8c7a33c4b65b9aebfe6a799e6d9         5.0       7.0     5.0   75   \n",
       "2  2906b810c7d4411798c6938adc9daaa5        10.0       7.0     2.0   68   \n",
       "5  f19421c1d4aa40978ebb69ca19b0e20d         5.0       5.0     5.0   65   \n",
       "7  3f207df678b143eea3cee63160fa8bed         0.0       4.0     0.0   58   \n",
       "8  0b1e1539f2cc45b7b9fa7c272da2e1d7        20.0      10.0     5.0   61   \n",
       "\n",
       "  became_member_on    income  ...  event_offer_received  event_offer_viewed  \\\n",
       "0       2017-05-09  100000.0  ...                     1                   0   \n",
       "2       2018-04-26   70000.0  ...                     1                   0   \n",
       "5       2018-02-09   53000.0  ...                     1                   0   \n",
       "7       2017-11-11   51000.0  ...                     1                   0   \n",
       "8       2017-09-11   57000.0  ...                     1                   0   \n",
       "\n",
       "   event_transaction  offer_type_0  offer_type_bogo  offer_type_discount  \\\n",
       "0                  0             0                1                    0   \n",
       "2                  0             0                0                    1   \n",
       "5                  0             0                1                    0   \n",
       "7                  0             0                0                    0   \n",
       "8                  0             0                0                    1   \n",
       "\n",
       "   offer_type_informational  gender_F  gender_M  gender_O  \n",
       "0                         0         1         0         0  \n",
       "2                         0         0         1         0  \n",
       "5                         0         0         1         0  \n",
       "7                         1         0         1         0  \n",
       "8                         0         1         0         0  \n",
       "\n",
       "[5 rows x 25 columns]"
      ]
     },
     "execution_count": 138,
     "metadata": {},
     "output_type": "execute_result"
    }
   ],
   "source": [
    "# Displaying the new data frame to check the changes\n",
    "df_prepro.head()\n"
   ]
  },
  {
   "cell_type": "code",
   "execution_count": 139,
   "metadata": {},
   "outputs": [
    {
     "data": {
      "text/plain": [
       "(272762, 25)"
      ]
     },
     "execution_count": 139,
     "metadata": {},
     "output_type": "execute_result"
    }
   ],
   "source": [
    "# Checking the shape of the data frame\n",
    "df_prepro.shape\n"
   ]
  },
  {
   "cell_type": "markdown",
   "metadata": {},
   "source": [
    "**Result:** The variable \"gender\" is split in categorical variables based on its values."
   ]
  },
  {
   "cell_type": "markdown",
   "metadata": {},
   "source": [
    "<a id='sec3_18'></a>\n",
    "## Splitting the variable \"age\" in categorical variables based on its values\n",
    "<div style=\"text-align: right\"><right><a href=\"#top\">Table of Content</a></div>"
   ]
  },
  {
   "cell_type": "code",
   "execution_count": 140,
   "metadata": {},
   "outputs": [],
   "source": [
    "# Creating clusters for the age \n",
    "df_prepro['age_cluster'] = (pd.cut(df_prepro['age'], bins=[15, 24, 64, 120], labels=['Youth', 'Adults', 'Seniors'])).astype('object')\n"
   ]
  },
  {
   "cell_type": "code",
   "execution_count": 141,
   "metadata": {
    "scrolled": true
   },
   "outputs": [],
   "source": [
    "# Using the function: f_create_dummy_df\n",
    "df_prepro = f_create_dummy_df(df_prepro, 'age_cluster', dummy_na=False)\n"
   ]
  },
  {
   "cell_type": "markdown",
   "metadata": {},
   "source": [
    "#### Test"
   ]
  },
  {
   "cell_type": "code",
   "execution_count": 142,
   "metadata": {
    "scrolled": false
   },
   "outputs": [
    {
     "data": {
      "text/html": [
       "<div>\n",
       "<style scoped>\n",
       "    .dataframe tbody tr th:only-of-type {\n",
       "        vertical-align: middle;\n",
       "    }\n",
       "\n",
       "    .dataframe tbody tr th {\n",
       "        vertical-align: top;\n",
       "    }\n",
       "\n",
       "    .dataframe thead th {\n",
       "        text-align: right;\n",
       "    }\n",
       "</style>\n",
       "<table border=\"1\" class=\"dataframe\">\n",
       "  <thead>\n",
       "    <tr style=\"text-align: right;\">\n",
       "      <th></th>\n",
       "      <th>customer_id</th>\n",
       "      <th>time</th>\n",
       "      <th>value_amount</th>\n",
       "      <th>offer_id</th>\n",
       "      <th>difficulty</th>\n",
       "      <th>duration</th>\n",
       "      <th>reward</th>\n",
       "      <th>age</th>\n",
       "      <th>became_member_on</th>\n",
       "      <th>income</th>\n",
       "      <th>...</th>\n",
       "      <th>offer_type_0</th>\n",
       "      <th>offer_type_bogo</th>\n",
       "      <th>offer_type_discount</th>\n",
       "      <th>offer_type_informational</th>\n",
       "      <th>gender_F</th>\n",
       "      <th>gender_M</th>\n",
       "      <th>gender_O</th>\n",
       "      <th>age_cluster_Adults</th>\n",
       "      <th>age_cluster_Seniors</th>\n",
       "      <th>age_cluster_Youth</th>\n",
       "    </tr>\n",
       "  </thead>\n",
       "  <tbody>\n",
       "    <tr>\n",
       "      <th>0</th>\n",
       "      <td>78afa995795e4d85b5d9ceeca43f5fef</td>\n",
       "      <td>0</td>\n",
       "      <td>0.0</td>\n",
       "      <td>9b98b8c7a33c4b65b9aebfe6a799e6d9</td>\n",
       "      <td>5.0</td>\n",
       "      <td>7.0</td>\n",
       "      <td>5.0</td>\n",
       "      <td>75</td>\n",
       "      <td>2017-05-09</td>\n",
       "      <td>100000.0</td>\n",
       "      <td>...</td>\n",
       "      <td>0</td>\n",
       "      <td>1</td>\n",
       "      <td>0</td>\n",
       "      <td>0</td>\n",
       "      <td>1</td>\n",
       "      <td>0</td>\n",
       "      <td>0</td>\n",
       "      <td>0</td>\n",
       "      <td>1</td>\n",
       "      <td>0</td>\n",
       "    </tr>\n",
       "    <tr>\n",
       "      <th>2</th>\n",
       "      <td>e2127556f4f64592b11af22de27a7932</td>\n",
       "      <td>0</td>\n",
       "      <td>0.0</td>\n",
       "      <td>2906b810c7d4411798c6938adc9daaa5</td>\n",
       "      <td>10.0</td>\n",
       "      <td>7.0</td>\n",
       "      <td>2.0</td>\n",
       "      <td>68</td>\n",
       "      <td>2018-04-26</td>\n",
       "      <td>70000.0</td>\n",
       "      <td>...</td>\n",
       "      <td>0</td>\n",
       "      <td>0</td>\n",
       "      <td>1</td>\n",
       "      <td>0</td>\n",
       "      <td>0</td>\n",
       "      <td>1</td>\n",
       "      <td>0</td>\n",
       "      <td>0</td>\n",
       "      <td>1</td>\n",
       "      <td>0</td>\n",
       "    </tr>\n",
       "    <tr>\n",
       "      <th>5</th>\n",
       "      <td>389bc3fa690240e798340f5a15918d5c</td>\n",
       "      <td>0</td>\n",
       "      <td>0.0</td>\n",
       "      <td>f19421c1d4aa40978ebb69ca19b0e20d</td>\n",
       "      <td>5.0</td>\n",
       "      <td>5.0</td>\n",
       "      <td>5.0</td>\n",
       "      <td>65</td>\n",
       "      <td>2018-02-09</td>\n",
       "      <td>53000.0</td>\n",
       "      <td>...</td>\n",
       "      <td>0</td>\n",
       "      <td>1</td>\n",
       "      <td>0</td>\n",
       "      <td>0</td>\n",
       "      <td>0</td>\n",
       "      <td>1</td>\n",
       "      <td>0</td>\n",
       "      <td>0</td>\n",
       "      <td>1</td>\n",
       "      <td>0</td>\n",
       "    </tr>\n",
       "    <tr>\n",
       "      <th>7</th>\n",
       "      <td>2eeac8d8feae4a8cad5a6af0499a211d</td>\n",
       "      <td>0</td>\n",
       "      <td>0.0</td>\n",
       "      <td>3f207df678b143eea3cee63160fa8bed</td>\n",
       "      <td>0.0</td>\n",
       "      <td>4.0</td>\n",
       "      <td>0.0</td>\n",
       "      <td>58</td>\n",
       "      <td>2017-11-11</td>\n",
       "      <td>51000.0</td>\n",
       "      <td>...</td>\n",
       "      <td>0</td>\n",
       "      <td>0</td>\n",
       "      <td>0</td>\n",
       "      <td>1</td>\n",
       "      <td>0</td>\n",
       "      <td>1</td>\n",
       "      <td>0</td>\n",
       "      <td>1</td>\n",
       "      <td>0</td>\n",
       "      <td>0</td>\n",
       "    </tr>\n",
       "    <tr>\n",
       "      <th>8</th>\n",
       "      <td>aa4862eba776480b8bb9c68455b8c2e1</td>\n",
       "      <td>0</td>\n",
       "      <td>0.0</td>\n",
       "      <td>0b1e1539f2cc45b7b9fa7c272da2e1d7</td>\n",
       "      <td>20.0</td>\n",
       "      <td>10.0</td>\n",
       "      <td>5.0</td>\n",
       "      <td>61</td>\n",
       "      <td>2017-09-11</td>\n",
       "      <td>57000.0</td>\n",
       "      <td>...</td>\n",
       "      <td>0</td>\n",
       "      <td>0</td>\n",
       "      <td>1</td>\n",
       "      <td>0</td>\n",
       "      <td>1</td>\n",
       "      <td>0</td>\n",
       "      <td>0</td>\n",
       "      <td>1</td>\n",
       "      <td>0</td>\n",
       "      <td>0</td>\n",
       "    </tr>\n",
       "  </tbody>\n",
       "</table>\n",
       "<p>5 rows × 28 columns</p>\n",
       "</div>"
      ],
      "text/plain": [
       "                        customer_id  time  value_amount  \\\n",
       "0  78afa995795e4d85b5d9ceeca43f5fef     0           0.0   \n",
       "2  e2127556f4f64592b11af22de27a7932     0           0.0   \n",
       "5  389bc3fa690240e798340f5a15918d5c     0           0.0   \n",
       "7  2eeac8d8feae4a8cad5a6af0499a211d     0           0.0   \n",
       "8  aa4862eba776480b8bb9c68455b8c2e1     0           0.0   \n",
       "\n",
       "                           offer_id  difficulty  duration  reward  age  \\\n",
       "0  9b98b8c7a33c4b65b9aebfe6a799e6d9         5.0       7.0     5.0   75   \n",
       "2  2906b810c7d4411798c6938adc9daaa5        10.0       7.0     2.0   68   \n",
       "5  f19421c1d4aa40978ebb69ca19b0e20d         5.0       5.0     5.0   65   \n",
       "7  3f207df678b143eea3cee63160fa8bed         0.0       4.0     0.0   58   \n",
       "8  0b1e1539f2cc45b7b9fa7c272da2e1d7        20.0      10.0     5.0   61   \n",
       "\n",
       "  became_member_on    income  ...  offer_type_0  offer_type_bogo  \\\n",
       "0       2017-05-09  100000.0  ...             0                1   \n",
       "2       2018-04-26   70000.0  ...             0                0   \n",
       "5       2018-02-09   53000.0  ...             0                1   \n",
       "7       2017-11-11   51000.0  ...             0                0   \n",
       "8       2017-09-11   57000.0  ...             0                0   \n",
       "\n",
       "   offer_type_discount  offer_type_informational  gender_F  gender_M  \\\n",
       "0                    0                         0         1         0   \n",
       "2                    1                         0         0         1   \n",
       "5                    0                         0         0         1   \n",
       "7                    0                         1         0         1   \n",
       "8                    1                         0         1         0   \n",
       "\n",
       "   gender_O  age_cluster_Adults  age_cluster_Seniors  age_cluster_Youth  \n",
       "0         0                   0                    1                  0  \n",
       "2         0                   0                    1                  0  \n",
       "5         0                   0                    1                  0  \n",
       "7         0                   1                    0                  0  \n",
       "8         0                   1                    0                  0  \n",
       "\n",
       "[5 rows x 28 columns]"
      ]
     },
     "execution_count": 142,
     "metadata": {},
     "output_type": "execute_result"
    }
   ],
   "source": [
    "# Displaying the new data frame to check the changes\n",
    "df_prepro.head()\n"
   ]
  },
  {
   "cell_type": "code",
   "execution_count": 143,
   "metadata": {
    "scrolled": true
   },
   "outputs": [
    {
     "data": {
      "text/plain": [
       "(272762, 28)"
      ]
     },
     "execution_count": 143,
     "metadata": {},
     "output_type": "execute_result"
    }
   ],
   "source": [
    "# Checking the shape of the data frame\n",
    "df_prepro.shape\n"
   ]
  },
  {
   "cell_type": "markdown",
   "metadata": {},
   "source": [
    "**Result:** The variable \"age\" is split in categorical variables based on its values."
   ]
  },
  {
   "cell_type": "markdown",
   "metadata": {},
   "source": [
    "<a id='sec3_19'></a>\n",
    "## Creating new variable \"row_count\"\n",
    "<div style=\"text-align: right\"><right><a href=\"#top\">Table of Content</a></div>"
   ]
  },
  {
   "cell_type": "code",
   "execution_count": 144,
   "metadata": {
    "scrolled": true
   },
   "outputs": [],
   "source": [
    "# Creating a new column which includes the rows numeration\n",
    "df_prepro['row_count'] = np.arange(df_prepro.shape[0])\n"
   ]
  },
  {
   "cell_type": "markdown",
   "metadata": {},
   "source": [
    "#### Test"
   ]
  },
  {
   "cell_type": "code",
   "execution_count": 145,
   "metadata": {
    "scrolled": false
   },
   "outputs": [
    {
     "data": {
      "text/html": [
       "<div>\n",
       "<style scoped>\n",
       "    .dataframe tbody tr th:only-of-type {\n",
       "        vertical-align: middle;\n",
       "    }\n",
       "\n",
       "    .dataframe tbody tr th {\n",
       "        vertical-align: top;\n",
       "    }\n",
       "\n",
       "    .dataframe thead th {\n",
       "        text-align: right;\n",
       "    }\n",
       "</style>\n",
       "<table border=\"1\" class=\"dataframe\">\n",
       "  <thead>\n",
       "    <tr style=\"text-align: right;\">\n",
       "      <th></th>\n",
       "      <th>customer_id</th>\n",
       "      <th>time</th>\n",
       "      <th>value_amount</th>\n",
       "      <th>offer_id</th>\n",
       "      <th>difficulty</th>\n",
       "      <th>duration</th>\n",
       "      <th>reward</th>\n",
       "      <th>age</th>\n",
       "      <th>became_member_on</th>\n",
       "      <th>income</th>\n",
       "      <th>...</th>\n",
       "      <th>offer_type_bogo</th>\n",
       "      <th>offer_type_discount</th>\n",
       "      <th>offer_type_informational</th>\n",
       "      <th>gender_F</th>\n",
       "      <th>gender_M</th>\n",
       "      <th>gender_O</th>\n",
       "      <th>age_cluster_Adults</th>\n",
       "      <th>age_cluster_Seniors</th>\n",
       "      <th>age_cluster_Youth</th>\n",
       "      <th>row_count</th>\n",
       "    </tr>\n",
       "  </thead>\n",
       "  <tbody>\n",
       "    <tr>\n",
       "      <th>0</th>\n",
       "      <td>78afa995795e4d85b5d9ceeca43f5fef</td>\n",
       "      <td>0</td>\n",
       "      <td>0.0</td>\n",
       "      <td>9b98b8c7a33c4b65b9aebfe6a799e6d9</td>\n",
       "      <td>5.0</td>\n",
       "      <td>7.0</td>\n",
       "      <td>5.0</td>\n",
       "      <td>75</td>\n",
       "      <td>2017-05-09</td>\n",
       "      <td>100000.0</td>\n",
       "      <td>...</td>\n",
       "      <td>1</td>\n",
       "      <td>0</td>\n",
       "      <td>0</td>\n",
       "      <td>1</td>\n",
       "      <td>0</td>\n",
       "      <td>0</td>\n",
       "      <td>0</td>\n",
       "      <td>1</td>\n",
       "      <td>0</td>\n",
       "      <td>0</td>\n",
       "    </tr>\n",
       "    <tr>\n",
       "      <th>2</th>\n",
       "      <td>e2127556f4f64592b11af22de27a7932</td>\n",
       "      <td>0</td>\n",
       "      <td>0.0</td>\n",
       "      <td>2906b810c7d4411798c6938adc9daaa5</td>\n",
       "      <td>10.0</td>\n",
       "      <td>7.0</td>\n",
       "      <td>2.0</td>\n",
       "      <td>68</td>\n",
       "      <td>2018-04-26</td>\n",
       "      <td>70000.0</td>\n",
       "      <td>...</td>\n",
       "      <td>0</td>\n",
       "      <td>1</td>\n",
       "      <td>0</td>\n",
       "      <td>0</td>\n",
       "      <td>1</td>\n",
       "      <td>0</td>\n",
       "      <td>0</td>\n",
       "      <td>1</td>\n",
       "      <td>0</td>\n",
       "      <td>1</td>\n",
       "    </tr>\n",
       "    <tr>\n",
       "      <th>5</th>\n",
       "      <td>389bc3fa690240e798340f5a15918d5c</td>\n",
       "      <td>0</td>\n",
       "      <td>0.0</td>\n",
       "      <td>f19421c1d4aa40978ebb69ca19b0e20d</td>\n",
       "      <td>5.0</td>\n",
       "      <td>5.0</td>\n",
       "      <td>5.0</td>\n",
       "      <td>65</td>\n",
       "      <td>2018-02-09</td>\n",
       "      <td>53000.0</td>\n",
       "      <td>...</td>\n",
       "      <td>1</td>\n",
       "      <td>0</td>\n",
       "      <td>0</td>\n",
       "      <td>0</td>\n",
       "      <td>1</td>\n",
       "      <td>0</td>\n",
       "      <td>0</td>\n",
       "      <td>1</td>\n",
       "      <td>0</td>\n",
       "      <td>2</td>\n",
       "    </tr>\n",
       "    <tr>\n",
       "      <th>7</th>\n",
       "      <td>2eeac8d8feae4a8cad5a6af0499a211d</td>\n",
       "      <td>0</td>\n",
       "      <td>0.0</td>\n",
       "      <td>3f207df678b143eea3cee63160fa8bed</td>\n",
       "      <td>0.0</td>\n",
       "      <td>4.0</td>\n",
       "      <td>0.0</td>\n",
       "      <td>58</td>\n",
       "      <td>2017-11-11</td>\n",
       "      <td>51000.0</td>\n",
       "      <td>...</td>\n",
       "      <td>0</td>\n",
       "      <td>0</td>\n",
       "      <td>1</td>\n",
       "      <td>0</td>\n",
       "      <td>1</td>\n",
       "      <td>0</td>\n",
       "      <td>1</td>\n",
       "      <td>0</td>\n",
       "      <td>0</td>\n",
       "      <td>3</td>\n",
       "    </tr>\n",
       "    <tr>\n",
       "      <th>8</th>\n",
       "      <td>aa4862eba776480b8bb9c68455b8c2e1</td>\n",
       "      <td>0</td>\n",
       "      <td>0.0</td>\n",
       "      <td>0b1e1539f2cc45b7b9fa7c272da2e1d7</td>\n",
       "      <td>20.0</td>\n",
       "      <td>10.0</td>\n",
       "      <td>5.0</td>\n",
       "      <td>61</td>\n",
       "      <td>2017-09-11</td>\n",
       "      <td>57000.0</td>\n",
       "      <td>...</td>\n",
       "      <td>0</td>\n",
       "      <td>1</td>\n",
       "      <td>0</td>\n",
       "      <td>1</td>\n",
       "      <td>0</td>\n",
       "      <td>0</td>\n",
       "      <td>1</td>\n",
       "      <td>0</td>\n",
       "      <td>0</td>\n",
       "      <td>4</td>\n",
       "    </tr>\n",
       "  </tbody>\n",
       "</table>\n",
       "<p>5 rows × 29 columns</p>\n",
       "</div>"
      ],
      "text/plain": [
       "                        customer_id  time  value_amount  \\\n",
       "0  78afa995795e4d85b5d9ceeca43f5fef     0           0.0   \n",
       "2  e2127556f4f64592b11af22de27a7932     0           0.0   \n",
       "5  389bc3fa690240e798340f5a15918d5c     0           0.0   \n",
       "7  2eeac8d8feae4a8cad5a6af0499a211d     0           0.0   \n",
       "8  aa4862eba776480b8bb9c68455b8c2e1     0           0.0   \n",
       "\n",
       "                           offer_id  difficulty  duration  reward  age  \\\n",
       "0  9b98b8c7a33c4b65b9aebfe6a799e6d9         5.0       7.0     5.0   75   \n",
       "2  2906b810c7d4411798c6938adc9daaa5        10.0       7.0     2.0   68   \n",
       "5  f19421c1d4aa40978ebb69ca19b0e20d         5.0       5.0     5.0   65   \n",
       "7  3f207df678b143eea3cee63160fa8bed         0.0       4.0     0.0   58   \n",
       "8  0b1e1539f2cc45b7b9fa7c272da2e1d7        20.0      10.0     5.0   61   \n",
       "\n",
       "  became_member_on    income  ...  offer_type_bogo  offer_type_discount  \\\n",
       "0       2017-05-09  100000.0  ...                1                    0   \n",
       "2       2018-04-26   70000.0  ...                0                    1   \n",
       "5       2018-02-09   53000.0  ...                1                    0   \n",
       "7       2017-11-11   51000.0  ...                0                    0   \n",
       "8       2017-09-11   57000.0  ...                0                    1   \n",
       "\n",
       "   offer_type_informational  gender_F  gender_M  gender_O  age_cluster_Adults  \\\n",
       "0                         0         1         0         0                   0   \n",
       "2                         0         0         1         0                   0   \n",
       "5                         0         0         1         0                   0   \n",
       "7                         1         0         1         0                   1   \n",
       "8                         0         1         0         0                   1   \n",
       "\n",
       "   age_cluster_Seniors  age_cluster_Youth  row_count  \n",
       "0                    1                  0          0  \n",
       "2                    1                  0          1  \n",
       "5                    1                  0          2  \n",
       "7                    0                  0          3  \n",
       "8                    0                  0          4  \n",
       "\n",
       "[5 rows x 29 columns]"
      ]
     },
     "execution_count": 145,
     "metadata": {},
     "output_type": "execute_result"
    }
   ],
   "source": [
    "# Displaying the new data frame to check the changes\n",
    "df_prepro.head()\n"
   ]
  },
  {
   "cell_type": "code",
   "execution_count": 146,
   "metadata": {
    "scrolled": false
   },
   "outputs": [
    {
     "name": "stdout",
     "output_type": "stream",
     "text": [
      "<class 'pandas.core.frame.DataFrame'>\n",
      "Int64Index: 272762 entries, 0 to 306532\n",
      "Data columns (total 29 columns):\n",
      " #   Column                    Non-Null Count   Dtype         \n",
      "---  ------                    --------------   -----         \n",
      " 0   customer_id               272762 non-null  object        \n",
      " 1   time                      272762 non-null  int64         \n",
      " 2   value_amount              272762 non-null  float64       \n",
      " 3   offer_id                  272762 non-null  object        \n",
      " 4   difficulty                272762 non-null  float64       \n",
      " 5   duration                  272762 non-null  float64       \n",
      " 6   reward                    272762 non-null  float64       \n",
      " 7   age                       272762 non-null  int64         \n",
      " 8   became_member_on          272762 non-null  datetime64[ns]\n",
      " 9   income                    272762 non-null  float64       \n",
      " 10  channels_email            272762 non-null  float64       \n",
      " 11  channels_mobile           272762 non-null  float64       \n",
      " 12  channels_social           272762 non-null  float64       \n",
      " 13  channels_web              272762 non-null  float64       \n",
      " 14  event_offer_completed     272762 non-null  int64         \n",
      " 15  event_offer_received      272762 non-null  int64         \n",
      " 16  event_offer_viewed        272762 non-null  int64         \n",
      " 17  event_transaction         272762 non-null  int64         \n",
      " 18  offer_type_0              272762 non-null  int64         \n",
      " 19  offer_type_bogo           272762 non-null  int64         \n",
      " 20  offer_type_discount       272762 non-null  int64         \n",
      " 21  offer_type_informational  272762 non-null  int64         \n",
      " 22  gender_F                  272762 non-null  int64         \n",
      " 23  gender_M                  272762 non-null  int64         \n",
      " 24  gender_O                  272762 non-null  int64         \n",
      " 25  age_cluster_Adults        272762 non-null  int64         \n",
      " 26  age_cluster_Seniors       272762 non-null  int64         \n",
      " 27  age_cluster_Youth         272762 non-null  int64         \n",
      " 28  row_count                 272762 non-null  int64         \n",
      "dtypes: datetime64[ns](1), float64(9), int64(17), object(2)\n",
      "memory usage: 70.5+ MB\n"
     ]
    }
   ],
   "source": [
    "# Checking a concise summary of the dataframe\n",
    "df_prepro.info()\n"
   ]
  },
  {
   "cell_type": "code",
   "execution_count": 147,
   "metadata": {
    "scrolled": true
   },
   "outputs": [
    {
     "data": {
      "text/plain": [
       "(272762, 29)"
      ]
     },
     "execution_count": 147,
     "metadata": {},
     "output_type": "execute_result"
    }
   ],
   "source": [
    "# Checking the shape of the data frame\n",
    "df_prepro.shape\n"
   ]
  },
  {
   "cell_type": "markdown",
   "metadata": {},
   "source": [
    "**Result:** The new variable \"row_count\" is created."
   ]
  },
  {
   "cell_type": "code",
   "execution_count": 148,
   "metadata": {},
   "outputs": [],
   "source": [
    "# Copying the data frame\n",
    "df_clean = df_prepro.copy()\n"
   ]
  },
  {
   "cell_type": "markdown",
   "metadata": {},
   "source": [
    "**Result:** The data frame is copied."
   ]
  },
  {
   "cell_type": "code",
   "execution_count": 149,
   "metadata": {},
   "outputs": [],
   "source": [
    "# Saving data final data frame to .csv\n",
    "df_clean.to_csv('data/data_clean.csv', index=False)\n"
   ]
  },
  {
   "cell_type": "markdown",
   "metadata": {},
   "source": [
    "**Result:** The data frame is saved as .csv."
   ]
  },
  {
   "cell_type": "markdown",
   "metadata": {},
   "source": [
    "<a id='sec3_2'></a>\n",
    "## 4. B. Implementation\n",
    "<div style=\"text-align: right\"><right><a href=\"#top\">Table of Content</a></div>\n",
    "\n",
    "    \n",
    "#### Discussion about the process using the models, algorithms, and techniques applied to solve the problem. As well as mentioning of any complications during the implementation."
   ]
  },
  {
   "cell_type": "markdown",
   "metadata": {},
   "source": [
    "<a id='sec3_21'></a>\n",
    "## Creating a machine learning model\n",
    "<div style=\"text-align: right\"><right><a href=\"#top\">Table of Content</a></div>"
   ]
  },
  {
   "cell_type": "markdown",
   "metadata": {},
   "source": [
    "**Features:**\n",
    "* customer_id\n",
    "* time\n",
    "* value_amount\n",
    "* difficulty\n",
    "* duration\n",
    "* reward\n",
    "* income\n",
    "* offer_type_0\n",
    "* offer_type_bogo\n",
    "* offer_type_discount\n",
    "* offer_type_informational\n",
    "* gender_F\n",
    "* gender_M\n",
    "* age_cluster_Youth\n",
    "* age_cluster_Adults\n",
    "* age_cluster_Seniors\n",
    "\n",
    "**Prediction target:**\n",
    "* event_offer_completed\n"
   ]
  },
  {
   "cell_type": "code",
   "execution_count": 150,
   "metadata": {},
   "outputs": [],
   "source": [
    "# Loading the ML  data frame\n",
    "df_ml = df_clean.copy()\n",
    "#df_ml = np.array(df_ml, dtype='float32')"
   ]
  },
  {
   "cell_type": "code",
   "execution_count": 151,
   "metadata": {
    "scrolled": true
   },
   "outputs": [
    {
     "name": "stdout",
     "output_type": "stream",
     "text": [
      "<class 'pandas.core.frame.DataFrame'>\n",
      "Int64Index: 272762 entries, 0 to 306532\n",
      "Data columns (total 29 columns):\n",
      " #   Column                    Non-Null Count   Dtype         \n",
      "---  ------                    --------------   -----         \n",
      " 0   customer_id               272762 non-null  object        \n",
      " 1   time                      272762 non-null  int64         \n",
      " 2   value_amount              272762 non-null  float64       \n",
      " 3   offer_id                  272762 non-null  object        \n",
      " 4   difficulty                272762 non-null  float64       \n",
      " 5   duration                  272762 non-null  float64       \n",
      " 6   reward                    272762 non-null  float64       \n",
      " 7   age                       272762 non-null  int64         \n",
      " 8   became_member_on          272762 non-null  datetime64[ns]\n",
      " 9   income                    272762 non-null  float64       \n",
      " 10  channels_email            272762 non-null  float64       \n",
      " 11  channels_mobile           272762 non-null  float64       \n",
      " 12  channels_social           272762 non-null  float64       \n",
      " 13  channels_web              272762 non-null  float64       \n",
      " 14  event_offer_completed     272762 non-null  int64         \n",
      " 15  event_offer_received      272762 non-null  int64         \n",
      " 16  event_offer_viewed        272762 non-null  int64         \n",
      " 17  event_transaction         272762 non-null  int64         \n",
      " 18  offer_type_0              272762 non-null  int64         \n",
      " 19  offer_type_bogo           272762 non-null  int64         \n",
      " 20  offer_type_discount       272762 non-null  int64         \n",
      " 21  offer_type_informational  272762 non-null  int64         \n",
      " 22  gender_F                  272762 non-null  int64         \n",
      " 23  gender_M                  272762 non-null  int64         \n",
      " 24  gender_O                  272762 non-null  int64         \n",
      " 25  age_cluster_Adults        272762 non-null  int64         \n",
      " 26  age_cluster_Seniors       272762 non-null  int64         \n",
      " 27  age_cluster_Youth         272762 non-null  int64         \n",
      " 28  row_count                 272762 non-null  int64         \n",
      "dtypes: datetime64[ns](1), float64(9), int64(17), object(2)\n",
      "memory usage: 70.5+ MB\n"
     ]
    }
   ],
   "source": [
    "# Checking a concise summary of the dataframe\n",
    "df_ml.info()\n"
   ]
  },
  {
   "cell_type": "markdown",
   "metadata": {},
   "source": [
    "<a id='sec3_22'></a>\n",
    "## Creating a function for a confusion matrix\n",
    "<div style=\"text-align: right\"><right><a href=\"#top\">Table of Content</a></div>"
   ]
  },
  {
   "cell_type": "code",
   "execution_count": 152,
   "metadata": {},
   "outputs": [],
   "source": [
    "# Function: Defining function to create a confusion matrix to predict the most common category of variables.\n",
    "# (Source of code parts: packtpub.com)\n",
    "def f_CMatrix(CM, labels=['event_offer_completed', 'offer_type_bogo']):\n",
    "    '''\n",
    "    INPUT:\n",
    "    CM - Confusion matrix input values.\n",
    "    col_name_1 - List of values of the categorical columns (e.g. ['col_name_1', 'col_name_2']).\n",
    "    col_name_2 - List of values of the categorical columns (e.g. ['col_name_1', 'col_name_2']).\n",
    "    \n",
    "    OUTPUT:\n",
    "    df - Data frame based on confusion matrix.\n",
    " \n",
    "    Description:\n",
    "    Predicting the most common category of variables.\n",
    "    '''\n",
    "    df = pd.DataFrame(data=CM, index=labels, columns=labels)\n",
    "    df.index.name = 'TRUE'\n",
    "    df.columns.name = 'PREDICTION'\n",
    "    df.loc['total'] = df.sum()\n",
    "    df['total'] = df.sum(axis=1)\n",
    "    \n",
    "    return df\n",
    "    "
   ]
  },
  {
   "cell_type": "markdown",
   "metadata": {},
   "source": [
    "**Result:** A function is created to predict the most common category of variables."
   ]
  },
  {
   "cell_type": "markdown",
   "metadata": {},
   "source": [
    "<a id='sec3_23'></a>\n",
    "## Creating a data frame with metrics\n",
    "<div style=\"text-align: right\"><right><a href=\"#top\">Table of Content</a></div>"
   ]
  },
  {
   "cell_type": "markdown",
   "metadata": {},
   "source": [
    "Creating a data frame to save the metrics of the models."
   ]
  },
  {
   "cell_type": "code",
   "execution_count": 153,
   "metadata": {},
   "outputs": [],
   "source": [
    "# Data frame for evaluation metrics\n",
    "metrics = pd.DataFrame(index=['accuracy', 'precision', 'recall'],\n",
    "                      columns=['NULL', 'LogisticReg', 'ClassTree', 'NaiveBayes', 'KNeighbors'])\n"
   ]
  },
  {
   "cell_type": "markdown",
   "metadata": {},
   "source": [
    "* **Accuracy:** \n",
    "    The proportion of the total number of predictions that are correct<br>\n",
    "    (Application: Overall how often the model predicts correctly \"defaulters\" and \"Non-Defaulters\")<br><br>\n",
    "\n",
    "* **Precision:** \n",
    "    The proportion of positive predictions that are actually correct<br>\n",
    "    (Application: When the model predicts **default**: How often is correct?)<br><br>\n",
    "* **Recall:** \n",
    "    The proportion of positive observed values correctly predicted as such<br>\n",
    "    (Application: The propotion of actuall defaulters thet the modell will correctly predict as such)\n"
   ]
  },
  {
   "cell_type": "markdown",
   "metadata": {},
   "source": [
    "**Which metric should be used?**\n",
    "* **False Positive:** A customer who will complete is predicted as not completed.\n",
    "* **False Negative:** A customer who did not complete predicted as a completing person.<br>\n",
    "(**Hint:** If *False Negatives* are worse--> A better recall is suggested.)"
   ]
  },
  {
   "cell_type": "markdown",
   "metadata": {},
   "source": [
    "<a id='sec3_24'></a>\n",
    "## Machine learning model inital setup\n",
    "<div style=\"text-align: right\"><right><a href=\"#top\">Table of Content</a></div>"
   ]
  },
  {
   "cell_type": "code",
   "execution_count": 154,
   "metadata": {},
   "outputs": [],
   "source": [
    "# Splitting data into explanatory (feature) and response variables (target).\n",
    "X = df_ml.drop(['event_offer_completed', 'customer_id', 'offer_id', 'became_member_on'], axis=1) # features\n",
    "y = df_ml['event_offer_completed'] # target\n",
    "\n",
    "# Instantiating and fitting the Scaler to rescale all the features into the same scale \n",
    "robust_scaler = RobustScaler()\n",
    "X = robust_scaler.fit_transform(X)\n",
    "\n",
    "# Splitting data into train data and test data subsets.\n",
    "X_train, X_test, y_train, y_test = train_test_split(X, y, test_size=0.5, random_state=123, stratify=y) # test_size=0.5\n"
   ]
  },
  {
   "cell_type": "markdown",
   "metadata": {},
   "source": [
    "<a id='sec3_25'></a>\n",
    "## Model: NULL\n",
    "<div style=\"text-align: right\"><right><a href=\"#top\">Table of Content</a></div>"
   ]
  },
  {
   "cell_type": "markdown",
   "metadata": {},
   "source": [
    "This is a model as a benchmark comparison how good the final model has to perform. The NULL model is the simplest model.\n",
    "\n",
    "**Prediction:** The most common category."
   ]
  },
  {
   "cell_type": "code",
   "execution_count": 155,
   "metadata": {
    "scrolled": true
   },
   "outputs": [
    {
     "name": "stderr",
     "output_type": "stream",
     "text": [
      "/opt/anaconda3/envs/sklearn-env/lib/python3.9/site-packages/sklearn/metrics/_classification.py:1327: UndefinedMetricWarning: Precision is ill-defined and being set to 0.0 due to no predicted samples. Use `zero_division` parameter to control this behavior.\n",
      "  _warn_prf(average, modifier, msg_start, len(result))\n"
     ]
    },
    {
     "data": {
      "text/html": [
       "<div>\n",
       "<style scoped>\n",
       "    .dataframe tbody tr th:only-of-type {\n",
       "        vertical-align: middle;\n",
       "    }\n",
       "\n",
       "    .dataframe tbody tr th {\n",
       "        vertical-align: top;\n",
       "    }\n",
       "\n",
       "    .dataframe thead th {\n",
       "        text-align: right;\n",
       "    }\n",
       "</style>\n",
       "<table border=\"1\" class=\"dataframe\">\n",
       "  <thead>\n",
       "    <tr style=\"text-align: right;\">\n",
       "      <th>PREDICTION</th>\n",
       "      <th>event_offer_completed</th>\n",
       "      <th>offer_type_bogo</th>\n",
       "      <th>total</th>\n",
       "    </tr>\n",
       "    <tr>\n",
       "      <th>TRUE</th>\n",
       "      <th></th>\n",
       "      <th></th>\n",
       "      <th></th>\n",
       "    </tr>\n",
       "  </thead>\n",
       "  <tbody>\n",
       "    <tr>\n",
       "      <th>event_offer_completed</th>\n",
       "      <td>120159</td>\n",
       "      <td>0</td>\n",
       "      <td>120159</td>\n",
       "    </tr>\n",
       "    <tr>\n",
       "      <th>offer_type_bogo</th>\n",
       "      <td>16222</td>\n",
       "      <td>0</td>\n",
       "      <td>16222</td>\n",
       "    </tr>\n",
       "    <tr>\n",
       "      <th>total</th>\n",
       "      <td>136381</td>\n",
       "      <td>0</td>\n",
       "      <td>136381</td>\n",
       "    </tr>\n",
       "  </tbody>\n",
       "</table>\n",
       "</div>"
      ],
      "text/plain": [
       "PREDICTION             event_offer_completed  offer_type_bogo   total\n",
       "TRUE                                                                 \n",
       "event_offer_completed                 120159                0  120159\n",
       "offer_type_bogo                        16222                0   16222\n",
       "total                                 136381                0  136381"
      ]
     },
     "execution_count": 155,
     "metadata": {},
     "output_type": "execute_result"
    }
   ],
   "source": [
    "# Instantiating of the estimator\n",
    "y_pred_test = np.repeat(y_train.value_counts().idxmax(), y_test.size)\n",
    "#print(y_pred_test)\n",
    "\n",
    "# Defining metrics of the model\n",
    "metrics.loc['accuracy', 'NULL'] = accuracy_score(y_pred=y_pred_test, y_true=y_test)\n",
    "metrics.loc['precision', 'NULL'] = precision_score(y_pred=y_pred_test, y_true=y_test)\n",
    "metrics.loc['recall', 'NULL'] = recall_score(y_pred=y_pred_test, y_true=y_test)\n",
    "\n",
    "# Using the function: f_CMatrix\n",
    "CM = confusion_matrix(y_pred=y_pred_test, y_true=y_test)\n",
    "#print(CM)\n",
    "f_CMatrix(CM)\n"
   ]
  },
  {
   "cell_type": "markdown",
   "metadata": {},
   "source": [
    "**Result:** The most common predicted category is:\n",
    "   * *event_offer_completed*"
   ]
  },
  {
   "cell_type": "markdown",
   "metadata": {},
   "source": [
    "<a id='sec3_26'></a>\n",
    "## Model A: Logistic Regression\n",
    "<div style=\"text-align: right\"><right><a href=\"#top\">Table of Content</a></div>"
   ]
  },
  {
   "cell_type": "markdown",
   "metadata": {},
   "source": [
    "The model uses logistic regression for prediction.\n",
    "\n",
    "**Prediction:** The most common category."
   ]
  },
  {
   "cell_type": "code",
   "execution_count": 156,
   "metadata": {
    "scrolled": true
   },
   "outputs": [
    {
     "name": "stdout",
     "output_type": "stream",
     "text": [
      "Accuracy:  100.0\n",
      "Precision:  100.0\n",
      "Recall:  100.0\n"
     ]
    },
    {
     "data": {
      "text/html": [
       "<div>\n",
       "<style scoped>\n",
       "    .dataframe tbody tr th:only-of-type {\n",
       "        vertical-align: middle;\n",
       "    }\n",
       "\n",
       "    .dataframe tbody tr th {\n",
       "        vertical-align: top;\n",
       "    }\n",
       "\n",
       "    .dataframe thead th {\n",
       "        text-align: right;\n",
       "    }\n",
       "</style>\n",
       "<table border=\"1\" class=\"dataframe\">\n",
       "  <thead>\n",
       "    <tr style=\"text-align: right;\">\n",
       "      <th>PREDICTION</th>\n",
       "      <th>event_offer_completed</th>\n",
       "      <th>offer_type_bogo</th>\n",
       "      <th>total</th>\n",
       "    </tr>\n",
       "    <tr>\n",
       "      <th>TRUE</th>\n",
       "      <th></th>\n",
       "      <th></th>\n",
       "      <th></th>\n",
       "    </tr>\n",
       "  </thead>\n",
       "  <tbody>\n",
       "    <tr>\n",
       "      <th>event_offer_completed</th>\n",
       "      <td>120159</td>\n",
       "      <td>0</td>\n",
       "      <td>120159</td>\n",
       "    </tr>\n",
       "    <tr>\n",
       "      <th>offer_type_bogo</th>\n",
       "      <td>0</td>\n",
       "      <td>16222</td>\n",
       "      <td>16222</td>\n",
       "    </tr>\n",
       "    <tr>\n",
       "      <th>total</th>\n",
       "      <td>120159</td>\n",
       "      <td>16222</td>\n",
       "      <td>136381</td>\n",
       "    </tr>\n",
       "  </tbody>\n",
       "</table>\n",
       "</div>"
      ],
      "text/plain": [
       "PREDICTION             event_offer_completed  offer_type_bogo   total\n",
       "TRUE                                                                 \n",
       "event_offer_completed                 120159                0  120159\n",
       "offer_type_bogo                            0            16222   16222\n",
       "total                                 120159            16222  136381"
      ]
     },
     "execution_count": 156,
     "metadata": {},
     "output_type": "execute_result"
    }
   ],
   "source": [
    "# Instantiating the model.\n",
    "log_reg = LogisticRegression(n_jobs=-1, random_state=10)\n",
    "\n",
    "# Fitting the model.\n",
    "log_reg.fit(X_train, y_train)\n",
    "\n",
    "# Instantiating of the estimator for the predictions\n",
    "y_pred_test = log_reg.predict(X_test)\n",
    "\n",
    "# Defining metrics of the model for evaluation\n",
    "metrics.loc['accuracy', 'LogisticReg'] = accuracy_score(y_pred=y_pred_test, y_true=y_test)\n",
    "metrics.loc['precision', 'LogisticReg'] = precision_score(y_pred=y_pred_test, y_true=y_test)\n",
    "metrics.loc['recall', 'LogisticReg'] = recall_score(y_pred=y_pred_test, y_true=y_test)\n",
    "print('Accuracy: ', 100*metrics.loc['accuracy', 'LogisticReg'])\n",
    "print('Precision: ', 100*metrics.loc['precision', 'LogisticReg'])\n",
    "print('Recall: ', 100*metrics.loc['recall', 'LogisticReg'])\n",
    "\n",
    "# Using the function: f_CMatrix \n",
    "CM = confusion_matrix(y_pred=y_pred_test, y_true=y_test)\n",
    "f_CMatrix(CM)\n"
   ]
  },
  {
   "cell_type": "markdown",
   "metadata": {},
   "source": [
    "**Result:** The most common predicted category is:\n",
    "   * *event_offer_completed*"
   ]
  },
  {
   "cell_type": "markdown",
   "metadata": {},
   "source": [
    "<a id='sec3_27'></a>\n",
    "## Model B: Decision Trees\n",
    "<div style=\"text-align: right\"><right><a href=\"#top\">Table of Content</a></div>"
   ]
  },
  {
   "cell_type": "markdown",
   "metadata": {},
   "source": [
    "The model is decision tree based to make predictions.\n",
    "\n",
    "**Prediction:** The most common category."
   ]
  },
  {
   "cell_type": "code",
   "execution_count": 157,
   "metadata": {
    "scrolled": true
   },
   "outputs": [
    {
     "name": "stdout",
     "output_type": "stream",
     "text": [
      "Accuracy:  100.0\n",
      "Precision:  100.0\n",
      "Recall:  100.0\n"
     ]
    },
    {
     "data": {
      "text/html": [
       "<div>\n",
       "<style scoped>\n",
       "    .dataframe tbody tr th:only-of-type {\n",
       "        vertical-align: middle;\n",
       "    }\n",
       "\n",
       "    .dataframe tbody tr th {\n",
       "        vertical-align: top;\n",
       "    }\n",
       "\n",
       "    .dataframe thead th {\n",
       "        text-align: right;\n",
       "    }\n",
       "</style>\n",
       "<table border=\"1\" class=\"dataframe\">\n",
       "  <thead>\n",
       "    <tr style=\"text-align: right;\">\n",
       "      <th>PREDICTION</th>\n",
       "      <th>event_offer_completed</th>\n",
       "      <th>offer_type_bogo</th>\n",
       "      <th>total</th>\n",
       "    </tr>\n",
       "    <tr>\n",
       "      <th>TRUE</th>\n",
       "      <th></th>\n",
       "      <th></th>\n",
       "      <th></th>\n",
       "    </tr>\n",
       "  </thead>\n",
       "  <tbody>\n",
       "    <tr>\n",
       "      <th>event_offer_completed</th>\n",
       "      <td>120159</td>\n",
       "      <td>0</td>\n",
       "      <td>120159</td>\n",
       "    </tr>\n",
       "    <tr>\n",
       "      <th>offer_type_bogo</th>\n",
       "      <td>0</td>\n",
       "      <td>16222</td>\n",
       "      <td>16222</td>\n",
       "    </tr>\n",
       "    <tr>\n",
       "      <th>total</th>\n",
       "      <td>120159</td>\n",
       "      <td>16222</td>\n",
       "      <td>136381</td>\n",
       "    </tr>\n",
       "  </tbody>\n",
       "</table>\n",
       "</div>"
      ],
      "text/plain": [
       "PREDICTION             event_offer_completed  offer_type_bogo   total\n",
       "TRUE                                                                 \n",
       "event_offer_completed                 120159                0  120159\n",
       "offer_type_bogo                            0            16222   16222\n",
       "total                                 120159            16222  136381"
      ]
     },
     "execution_count": 157,
     "metadata": {},
     "output_type": "execute_result"
    }
   ],
   "source": [
    "# Instantiating the model.\n",
    "class_tree = DecisionTreeClassifier(min_samples_split=300, min_samples_leaf=150, random_state=10)\n",
    "# (Controlling \"overfitting\" with the parameters of \"min_samples_split\" and \"min_samples_leaf\".\n",
    "\n",
    "# Fitting the model.\n",
    "class_tree.fit(X_train, y_train)\n",
    "\n",
    "# Instantiating of the estimator for the predictions\n",
    "y_pred_test = class_tree.predict(X_test)\n",
    "\n",
    "# Defining metrics of the model for evaluation\n",
    "metrics.loc['accuracy', 'ClassTree'] = accuracy_score(y_pred=y_pred_test, y_true=y_test)\n",
    "metrics.loc['precision', 'ClassTree'] = precision_score(y_pred=y_pred_test, y_true=y_test)\n",
    "metrics.loc['recall', 'ClassTree'] = recall_score(y_pred=y_pred_test, y_true=y_test)\n",
    "print('Accuracy: ', 100*metrics.loc['accuracy', 'ClassTree'])\n",
    "print('Precision: ', 100*metrics.loc['precision', 'ClassTree'])\n",
    "print('Recall: ', 100*metrics.loc['recall', 'ClassTree'])\n",
    "\n",
    "# Using the function: f_CMatrix\n",
    "CM = confusion_matrix(y_pred=y_pred_test, y_true=y_test)\n",
    "f_CMatrix(CM)\n"
   ]
  },
  {
   "cell_type": "markdown",
   "metadata": {},
   "source": [
    "**Result:** The most common predicted category is:\n",
    "   * *event_offer_completed*"
   ]
  },
  {
   "cell_type": "markdown",
   "metadata": {},
   "source": [
    "<a id='sec3_28'></a>\n",
    "## Model C: Naive Bayes Classifier\n",
    "<div style=\"text-align: right\"><right><a href=\"#top\">Table of Content</a></div>"
   ]
  },
  {
   "cell_type": "markdown",
   "metadata": {},
   "source": [
    "The model is based on applying Bayes' theorem with \"naive\" assumptions between the features.\n",
    "\n",
    "**Prediction:** The most common category."
   ]
  },
  {
   "cell_type": "code",
   "execution_count": 158,
   "metadata": {},
   "outputs": [
    {
     "name": "stdout",
     "output_type": "stream",
     "text": [
      "Accuracy:  100.0\n",
      "Precision:  100.0\n",
      "Recall:  100.0\n"
     ]
    },
    {
     "data": {
      "text/html": [
       "<div>\n",
       "<style scoped>\n",
       "    .dataframe tbody tr th:only-of-type {\n",
       "        vertical-align: middle;\n",
       "    }\n",
       "\n",
       "    .dataframe tbody tr th {\n",
       "        vertical-align: top;\n",
       "    }\n",
       "\n",
       "    .dataframe thead th {\n",
       "        text-align: right;\n",
       "    }\n",
       "</style>\n",
       "<table border=\"1\" class=\"dataframe\">\n",
       "  <thead>\n",
       "    <tr style=\"text-align: right;\">\n",
       "      <th>PREDICTION</th>\n",
       "      <th>event_offer_completed</th>\n",
       "      <th>offer_type_bogo</th>\n",
       "      <th>total</th>\n",
       "    </tr>\n",
       "    <tr>\n",
       "      <th>TRUE</th>\n",
       "      <th></th>\n",
       "      <th></th>\n",
       "      <th></th>\n",
       "    </tr>\n",
       "  </thead>\n",
       "  <tbody>\n",
       "    <tr>\n",
       "      <th>event_offer_completed</th>\n",
       "      <td>120159</td>\n",
       "      <td>0</td>\n",
       "      <td>120159</td>\n",
       "    </tr>\n",
       "    <tr>\n",
       "      <th>offer_type_bogo</th>\n",
       "      <td>0</td>\n",
       "      <td>16222</td>\n",
       "      <td>16222</td>\n",
       "    </tr>\n",
       "    <tr>\n",
       "      <th>total</th>\n",
       "      <td>120159</td>\n",
       "      <td>16222</td>\n",
       "      <td>136381</td>\n",
       "    </tr>\n",
       "  </tbody>\n",
       "</table>\n",
       "</div>"
      ],
      "text/plain": [
       "PREDICTION             event_offer_completed  offer_type_bogo   total\n",
       "TRUE                                                                 \n",
       "event_offer_completed                 120159                0  120159\n",
       "offer_type_bogo                            0            16222   16222\n",
       "total                                 120159            16222  136381"
      ]
     },
     "execution_count": 158,
     "metadata": {},
     "output_type": "execute_result"
    }
   ],
   "source": [
    "# Instantiating the model.\n",
    "NBC = GaussianNB() # No parameters to setup\n",
    "\n",
    "# Fitting the model.\n",
    "NBC.fit(X_train, y_train)\n",
    "\n",
    "# Instantiating of the estimator for the predictions\n",
    "y_pred_test = NBC.predict(X_test)\n",
    "\n",
    "# Defining metrics of the model for evaluation\n",
    "metrics.loc['accuracy', 'NaiveBayes'] = accuracy_score(y_pred=y_pred_test, y_true=y_test)\n",
    "metrics.loc['precision', 'NaiveBayes'] = precision_score(y_pred=y_pred_test, y_true=y_test)\n",
    "metrics.loc['recall', 'NaiveBayes'] = recall_score(y_pred=y_pred_test, y_true=y_test)\n",
    "print('Accuracy: ', 100*metrics.loc['accuracy', 'NaiveBayes'])\n",
    "print('Precision: ', 100*metrics.loc['precision', 'NaiveBayes'])\n",
    "print('Recall: ', 100*metrics.loc['recall', 'NaiveBayes'])\n",
    "\n",
    "# Using the function: f_CMatrix \n",
    "CM = confusion_matrix(y_pred=y_pred_test, y_true=y_test)\n",
    "f_CMatrix(CM)\n"
   ]
  },
  {
   "cell_type": "markdown",
   "metadata": {},
   "source": [
    "**Result:** The most common predicted category is:\n",
    "   * *event_offer_completed*"
   ]
  },
  {
   "cell_type": "markdown",
   "metadata": {},
   "source": [
    "<a id='sec3_29'></a>\n",
    "## Model D: KNeighbors Classifier\n",
    "<div style=\"text-align: right\"><right><a href=\"#top\">Table of Content</a></div>"
   ]
  },
  {
   "cell_type": "markdown",
   "metadata": {},
   "source": [
    "The model is based on applying the k-nearest neighbors algorythm.\n",
    "\n",
    "**Prediction:** The most common category."
   ]
  },
  {
   "cell_type": "code",
   "execution_count": 159,
   "metadata": {
    "scrolled": true
   },
   "outputs": [
    {
     "name": "stdout",
     "output_type": "stream",
     "text": [
      "Accuracy:  99.97067040130223\n",
      "Precision:  99.93827922478707\n",
      "Recall:  99.81506595980767\n"
     ]
    },
    {
     "data": {
      "text/html": [
       "<div>\n",
       "<style scoped>\n",
       "    .dataframe tbody tr th:only-of-type {\n",
       "        vertical-align: middle;\n",
       "    }\n",
       "\n",
       "    .dataframe tbody tr th {\n",
       "        vertical-align: top;\n",
       "    }\n",
       "\n",
       "    .dataframe thead th {\n",
       "        text-align: right;\n",
       "    }\n",
       "</style>\n",
       "<table border=\"1\" class=\"dataframe\">\n",
       "  <thead>\n",
       "    <tr style=\"text-align: right;\">\n",
       "      <th>PREDICTION</th>\n",
       "      <th>event_offer_completed</th>\n",
       "      <th>offer_type_bogo</th>\n",
       "      <th>total</th>\n",
       "    </tr>\n",
       "    <tr>\n",
       "      <th>TRUE</th>\n",
       "      <th></th>\n",
       "      <th></th>\n",
       "      <th></th>\n",
       "    </tr>\n",
       "  </thead>\n",
       "  <tbody>\n",
       "    <tr>\n",
       "      <th>event_offer_completed</th>\n",
       "      <td>120149</td>\n",
       "      <td>10</td>\n",
       "      <td>120159</td>\n",
       "    </tr>\n",
       "    <tr>\n",
       "      <th>offer_type_bogo</th>\n",
       "      <td>30</td>\n",
       "      <td>16192</td>\n",
       "      <td>16222</td>\n",
       "    </tr>\n",
       "    <tr>\n",
       "      <th>total</th>\n",
       "      <td>120179</td>\n",
       "      <td>16202</td>\n",
       "      <td>136381</td>\n",
       "    </tr>\n",
       "  </tbody>\n",
       "</table>\n",
       "</div>"
      ],
      "text/plain": [
       "PREDICTION             event_offer_completed  offer_type_bogo   total\n",
       "TRUE                                                                 \n",
       "event_offer_completed                 120149               10  120159\n",
       "offer_type_bogo                           30            16192   16222\n",
       "total                                 120179            16202  136381"
      ]
     },
     "execution_count": 159,
     "metadata": {},
     "output_type": "execute_result"
    }
   ],
   "source": [
    "# Instantiating the model.\n",
    "KNN = KNeighborsClassifier() # No parameters to setup\n",
    "\n",
    "# Fitting the model.\n",
    "KNN.fit(X_train, y_train)\n",
    "\n",
    "# Instantiating of the estimator for the predictions\n",
    "y_pred_test = KNN.predict(X_test)\n",
    "\n",
    "# Defining metrics of the model for evaluation\n",
    "metrics.loc['accuracy', 'KNeighbors'] = accuracy_score(y_pred=y_pred_test, y_true=y_test)\n",
    "metrics.loc['precision', 'KNeighbors'] = precision_score(y_pred=y_pred_test, y_true=y_test)\n",
    "metrics.loc['recall', 'KNeighbors'] = recall_score(y_pred=y_pred_test, y_true=y_test)\n",
    "print('Accuracy: ', 100*metrics.loc['accuracy', 'KNeighbors'])\n",
    "print('Precision: ', 100*metrics.loc['precision', 'KNeighbors'])\n",
    "print('Recall: ', 100*metrics.loc['recall', 'KNeighbors'])\n",
    "\n",
    "# Using the function: f_CMatrix \n",
    "CM = confusion_matrix(y_pred=y_pred_test, y_true=y_test)\n",
    "f_CMatrix(CM)\n"
   ]
  },
  {
   "cell_type": "markdown",
   "metadata": {},
   "source": [
    "**Result:** The most common predicted category is:\n",
    "   * *event_offer_completed*"
   ]
  },
  {
   "cell_type": "markdown",
   "metadata": {},
   "source": [
    "<a id='sec3_3'></a>\n",
    "## 4. C. Refinement\n",
    "<div style=\"text-align: right\"><right><a href=\"#top\">Table of Content</a></div>\n",
    "\n",
    "#### Description of the process to refine the algorithms and techniques, such as using cross-validation or changing the parameter settings."
   ]
  },
  {
   "cell_type": "markdown",
   "metadata": {},
   "source": [
    "<a id='sec3_31'></a>\n",
    "## Metrics\n",
    "<div style=\"text-align: right\"><right><a href=\"#top\">Table of Content</a></div>"
   ]
  },
  {
   "cell_type": "code",
   "execution_count": 167,
   "metadata": {
    "scrolled": true
   },
   "outputs": [
    {
     "data": {
      "text/html": [
       "<div>\n",
       "<style scoped>\n",
       "    .dataframe tbody tr th:only-of-type {\n",
       "        vertical-align: middle;\n",
       "    }\n",
       "\n",
       "    .dataframe tbody tr th {\n",
       "        vertical-align: top;\n",
       "    }\n",
       "\n",
       "    .dataframe thead th {\n",
       "        text-align: right;\n",
       "    }\n",
       "</style>\n",
       "<table border=\"1\" class=\"dataframe\">\n",
       "  <thead>\n",
       "    <tr style=\"text-align: right;\">\n",
       "      <th></th>\n",
       "      <th>NULL</th>\n",
       "      <th>LogisticReg</th>\n",
       "      <th>ClassTree</th>\n",
       "      <th>NaiveBayes</th>\n",
       "      <th>KNeighbors</th>\n",
       "    </tr>\n",
       "  </thead>\n",
       "  <tbody>\n",
       "    <tr>\n",
       "      <th>accuracy</th>\n",
       "      <td>88.105381</td>\n",
       "      <td>100.0</td>\n",
       "      <td>100.0</td>\n",
       "      <td>100.0</td>\n",
       "      <td>99.97067</td>\n",
       "    </tr>\n",
       "    <tr>\n",
       "      <th>precision</th>\n",
       "      <td>0.0</td>\n",
       "      <td>100.0</td>\n",
       "      <td>100.0</td>\n",
       "      <td>100.0</td>\n",
       "      <td>99.938279</td>\n",
       "    </tr>\n",
       "    <tr>\n",
       "      <th>recall</th>\n",
       "      <td>0.0</td>\n",
       "      <td>100.0</td>\n",
       "      <td>100.0</td>\n",
       "      <td>100.0</td>\n",
       "      <td>99.815066</td>\n",
       "    </tr>\n",
       "  </tbody>\n",
       "</table>\n",
       "</div>"
      ],
      "text/plain": [
       "                NULL LogisticReg ClassTree NaiveBayes KNeighbors\n",
       "accuracy   88.105381       100.0     100.0      100.0   99.97067\n",
       "precision        0.0       100.0     100.0      100.0  99.938279\n",
       "recall           0.0       100.0     100.0      100.0  99.815066"
      ]
     },
     "execution_count": 167,
     "metadata": {},
     "output_type": "execute_result"
    }
   ],
   "source": [
    "# Displaying the data Frame of Metrics in percentage [%]\n",
    "metrics = 100*metrics\n",
    "metrics\n"
   ]
  },
  {
   "cell_type": "code",
   "execution_count": 168,
   "metadata": {
    "scrolled": false
   },
   "outputs": [
    {
     "data": {
      "image/png": "[encoded data removed]",
      "text/plain": [
       "<Figure size 1080x360 with 1 Axes>"
      ]
     },
     "metadata": {},
     "output_type": "display_data"
    }
   ],
   "source": [
    "# Plotting the metrics as a visualization\n",
    "fig, ax = plt.subplots(figsize=(15,5))\n",
    "metrics.plot(kind='barh', ax=ax);\n"
   ]
  },
  {
   "cell_type": "markdown",
   "metadata": {},
   "source": [
    "**Conclusion:** Looking at the \"recall\" shows that all models have approximately the same value. Only the NULL model shows a value of zero. The KNeighbors model has a percentage value of just under 100 percent.\n",
    "\n",
    "The models with the best values are:\n",
    "   * **Lostic Regression**\n",
    "   * **Decision Tree**\n",
    "   * **Nave-Bayes**\n"
   ]
  },
  {
   "cell_type": "markdown",
   "metadata": {},
   "source": [
    "<a id='sec3_32'></a>\n",
    "## Classification Threshold: Modifying the classification threshold \n",
    "<div style=\"text-align: right\"><right><a href=\"#top\">Table of Content</a></div>"
   ]
  },
  {
   "cell_type": "markdown",
   "metadata": {},
   "source": [
    "Adjusting the values of \"recall\" and \"precission\" by modifying the classification threshold to see te realationship between these metrics with the function \"precision_recall_curve\"\n",
    "   * Passing real values: y-true\n",
    "   * Passing the predicted values: probas_pred"
   ]
  },
  {
   "cell_type": "code",
   "execution_count": 169,
   "metadata": {},
   "outputs": [],
   "source": [
    "# Defining the threshold of \"recall\" and \"precission\" of \"NBC\" and \"KNN\"\n",
    "\n",
    "# NBC\n",
    "NBC_proba = NBC.predict_proba(X_test)[:,1]\n",
    "precision_nb, recall_nb, thresholds_nb = precision_recall_curve(y_true=y_test, probas_pred=NBC_proba)\n",
    "\n",
    "# KNN\n",
    "KNN_proba = KNN.predict_proba(X_test)[:,1]\n",
    "precision_kn, recall_kn, thresholds_kn = precision_recall_curve(y_true=y_test, probas_pred=KNN_proba)\n"
   ]
  },
  {
   "cell_type": "markdown",
   "metadata": {},
   "source": [
    "<a id='sec3_33'></a>\n",
    "## Classification Threshold: Visualization of the recall/precision correlation of \"NaiveBase\"  and \"KNeighbors\" models\n",
    "<div style=\"text-align: right\"><right><a href=\"#top\">Table of Content</a></div>"
   ]
  },
  {
   "cell_type": "code",
   "execution_count": 170,
   "metadata": {
    "scrolled": true
   },
   "outputs": [
    {
     "data": {
      "image/png": "[encoded data removed]",
      "text/plain": [
       "<Figure size 1080x360 with 1 Axes>"
      ]
     },
     "metadata": {},
     "output_type": "display_data"
    }
   ],
   "source": [
    "# Visualization of the racall/precision correlation of \"NBC\"  and \"KNN\" models\n",
    "fig, ax = plt.subplots(figsize=(15,5))\n",
    "ax.plot(precision_nb, recall_nb, label='NaiveBase')\n",
    "ax.plot(precision_kn, recall_kn, label='KNeighbors')\n",
    "ax.set_xlabel('Precision')\n",
    "ax.set_ylabel('Recall')\n",
    "ax.hlines(y=0.5, xmin=0, xmax=1, color='red')\n",
    "ax.set_title('Precision-Recall Curve')\n",
    "ax.legend();\n"
   ]
  },
  {
   "cell_type": "markdown",
   "metadata": {},
   "source": [
    "**Conclusion:** The visualization of the racall/precision correlation of \"NaiveBase\" and \"KNeighbors\" models depicts \n",
    "that both models have the best recall-score and precision score."
   ]
  },
  {
   "cell_type": "markdown",
   "metadata": {},
   "source": [
    "<a id='sec3_34'></a>\n",
    "## Classification Threshold: Visualization of the recall, precision/threshold correlation of the \"KNeighbors\" model\n",
    "<div style=\"text-align: right\"><right><a href=\"#top\">Table of Content</a></div>"
   ]
  },
  {
   "cell_type": "code",
   "execution_count": 171,
   "metadata": {
    "scrolled": true
   },
   "outputs": [
    {
     "data": {
      "image/png": "[encoded data removed]",
      "text/plain": [
       "<Figure size 1080x360 with 1 Axes>"
      ]
     },
     "metadata": {},
     "output_type": "display_data"
    }
   ],
   "source": [
    "# Visualization of the racall, precision/threshold correlation of the \"KNN\" model\n",
    "fig, ax = plt.subplots(figsize=(15,5))\n",
    "ax.plot(thresholds_kn, precision_kn[1:], label='Precision')\n",
    "ax.plot(thresholds_kn, recall_kn[1:], label='Recall')\n",
    "ax.set_xlabel('Classification Threshold')\n",
    "ax.set_ylabel('Precision, Recall')\n",
    "ax.hlines(y=0.5, xmin=0, xmax=1, color='red')\n",
    "ax.set_title('KNeighbors Classifier: Precision-Recall')\n",
    "ax.legend();\n"
   ]
  },
  {
   "cell_type": "markdown",
   "metadata": {},
   "source": [
    "**Conclusion:** The visualization of the recall, precision/threshold correlation of \"KNeighbors\" model depicts \n",
    "that the precision of the \"KNeighbors\" model decreass to *0* at a classification threshold of around *0.8*"
   ]
  },
  {
   "cell_type": "markdown",
   "metadata": {},
   "source": [
    "<a id='sec3_35'></a>\n",
    "## Classification Threshold: Adjusting \"KNeigbhors\" classifier with a threshold value of 0.95\n",
    "<div style=\"text-align: right\"><right><a href=\"#top\">Table of Content</a></div>"
   ]
  },
  {
   "cell_type": "markdown",
   "metadata": {},
   "source": [
    "This is an example which shows how to set the classification threshold to another value."
   ]
  },
  {
   "cell_type": "code",
   "execution_count": 179,
   "metadata": {
    "scrolled": false
   },
   "outputs": [
    {
     "name": "stdout",
     "output_type": "stream",
     "text": [
      "Precision:  100.0\n",
      "Recall:  99.26026383923067\n"
     ]
    },
    {
     "data": {
      "text/html": [
       "<div>\n",
       "<style scoped>\n",
       "    .dataframe tbody tr th:only-of-type {\n",
       "        vertical-align: middle;\n",
       "    }\n",
       "\n",
       "    .dataframe tbody tr th {\n",
       "        vertical-align: top;\n",
       "    }\n",
       "\n",
       "    .dataframe thead th {\n",
       "        text-align: right;\n",
       "    }\n",
       "</style>\n",
       "<table border=\"1\" class=\"dataframe\">\n",
       "  <thead>\n",
       "    <tr style=\"text-align: right;\">\n",
       "      <th>PREDICTION</th>\n",
       "      <th>event_offer_completed</th>\n",
       "      <th>offer_type_bogo</th>\n",
       "      <th>total</th>\n",
       "    </tr>\n",
       "    <tr>\n",
       "      <th>TRUE</th>\n",
       "      <th></th>\n",
       "      <th></th>\n",
       "      <th></th>\n",
       "    </tr>\n",
       "  </thead>\n",
       "  <tbody>\n",
       "    <tr>\n",
       "      <th>event_offer_completed</th>\n",
       "      <td>120159</td>\n",
       "      <td>0</td>\n",
       "      <td>120159</td>\n",
       "    </tr>\n",
       "    <tr>\n",
       "      <th>offer_type_bogo</th>\n",
       "      <td>120</td>\n",
       "      <td>16102</td>\n",
       "      <td>16222</td>\n",
       "    </tr>\n",
       "    <tr>\n",
       "      <th>total</th>\n",
       "      <td>120279</td>\n",
       "      <td>16102</td>\n",
       "      <td>136381</td>\n",
       "    </tr>\n",
       "  </tbody>\n",
       "</table>\n",
       "</div>"
      ],
      "text/plain": [
       "PREDICTION             event_offer_completed  offer_type_bogo   total\n",
       "TRUE                                                                 \n",
       "event_offer_completed                 120159                0  120159\n",
       "offer_type_bogo                          120            16102   16222\n",
       "total                                 120279            16102  136381"
      ]
     },
     "execution_count": 179,
     "metadata": {},
     "output_type": "execute_result"
    }
   ],
   "source": [
    "# Creating the proba predictions\n",
    "y_pred_proba = KNN.predict_proba(X_test)[:,1]\n",
    "\n",
    "# Setting the classification threshold to \"0.95\"\n",
    "y_pred_test = (y_pred_proba >= 0.95).astype('int')\n",
    "\n",
    "# Printing 'recall' ans 'precision' \n",
    "print('Precision: ', 100*precision_score(y_pred=y_pred_test, y_true=y_test))\n",
    "print('Recall: ', 100*recall_score(y_pred=y_pred_test, y_true=y_test))\n",
    "\n",
    "# Using the function: f_CMatrix \n",
    "CM = confusion_matrix(y_pred=y_pred_test, y_true=y_test)\n",
    "f_CMatrix(CM)\n"
   ]
  },
  {
   "cell_type": "markdown",
   "metadata": {},
   "source": [
    "**Conclusion:** \n",
    "* The confusion matrix depicts, that the adjustion of the classifier threshold to a value of *0.95* increases the precision-score.\n",
    "* The recall-score decreases while adjusting the classifier threshold to a value of *0.95*."
   ]
  },
  {
   "cell_type": "markdown",
   "metadata": {},
   "source": [
    "<a id='sec4'></a>\n",
    "# 5. Section 4: Results\n",
    "<div style=\"text-align: right\"><right><a href=\"#top\">Table of Content</a></div>"
   ]
  },
  {
   "cell_type": "markdown",
   "metadata": {},
   "source": [
    "<a id='sec4_1'></a>\n",
    "## 5. A. Model Evaluation and Validation\n",
    "<div style=\"text-align: right\"><right><a href=\"#top\">Table of Content</a></div>\n",
    "\n",
    "    \n",
    "#### Discussion about the models and parameters used in the methodology. \n",
    "    \n",
    "# If no model is used, students can discuss the methodology using data visualizations and other means."
   ]
  },
  {
   "cell_type": "markdown",
   "metadata": {},
   "source": [
    "<a id='sec4_2'></a>\n",
    "## 5. B. Justification\n",
    "<div style=\"text-align: right\"><right><a href=\"#top\">Table of Content</a></div>\n",
    "\n",
    "#### Discussion about the final results in detail and explaination why some models, parameters, or techniques perform better over others. \n",
    "    \n",
    "# Show and compare the results in tabular forms or charts."
   ]
  },
  {
   "cell_type": "markdown",
   "metadata": {},
   "source": [
    "<a id='sec5'></a>\n",
    "# 6. Section 5: Conclusion\n",
    "<div style=\"text-align: right\"><right><a href=\"#top\">Table of Content</a></div>"
   ]
  },
  {
   "cell_type": "markdown",
   "metadata": {},
   "source": [
    "<a id='sec5_1'></a>\n",
    "## 6. A. Reflection\n",
    "<div style=\"text-align: right\"><right><a href=\"#top\">Table of Content</a></div>\n",
    "\n",
    "#### Summary of the end-to-end problem solution and discussion of the particular aspects which are interesting or difficult to implement."
   ]
  },
  {
   "cell_type": "markdown",
   "metadata": {},
   "source": [
    "<a id='sec5_2'></a>\n",
    "## 6. B. Improvement\n",
    "<div style=\"text-align: right\"><right><a href=\"#top\">Table of Content</a></div>\n",
    "\n",
    "#### Suggestions for the next research to improve the experiment."
   ]
  },
  {
   "cell_type": "markdown",
   "metadata": {},
   "source": [
    "improving an overfitting model !!!"
   ]
  },
  {
   "cell_type": "code",
   "execution_count": null,
   "metadata": {},
   "outputs": [],
   "source": []
  },
  {
   "cell_type": "code",
   "execution_count": null,
   "metadata": {},
   "outputs": [],
   "source": []
  },
  {
   "cell_type": "markdown",
   "metadata": {},
   "source": [
    "<a id='sec6'></a>\n",
    "# 7. References\n",
    "<div style=\"text-align: right\"><right><a href=\"#top\">Table of Content</a></div>"
   ]
  },
  {
   "cell_type": "markdown",
   "metadata": {},
   "source": [
    "<li><a href=\"https://unsplash.com/photos/NlGjqcPACUw\">Data Source Picture 1</a> (Date Compiled: 11 August, 2022)</li>\n",
    "<li><a href=\"https://unsplash.com/photos/dThk3tBIp4Q\">Data Source Picture 2</a> (Date Compiled: 11 August, 2022)</li>\n",
    "<li><a href=\"https://www.statcan.gc.ca/en/concepts/definitions/age2\">Data Source Age Categories</a> (Date Compiled: 16 August, 2022)</li>\n",
    "<li><a href=\"https://www.youtube.com/watch?v=zUqa6KcwRhs&ab_channel=PacktVideo\">Data Source ML Model</a> (Date Compiled: 28 August, 2022)</li>\n",
    "\n",
    "\n"
   ]
  },
  {
   "cell_type": "code",
   "execution_count": null,
   "metadata": {},
   "outputs": [],
   "source": []
  },
  {
   "cell_type": "code",
   "execution_count": null,
   "metadata": {},
   "outputs": [],
   "source": []
  },
  {
   "cell_type": "code",
   "execution_count": null,
   "metadata": {},
   "outputs": [],
   "source": []
  },
  {
   "cell_type": "markdown",
   "metadata": {},
   "source": [
    "## Making individual Predictions"
   ]
  },
  {
   "cell_type": "code",
   "execution_count": 160,
   "metadata": {},
   "outputs": [],
   "source": [
    "#\n",
    "def make_ind_prediction(new_data):\n",
    "    data = new_data.values.reshape(1, -1)\n",
    "    #data = new_data.reshape(1, -1)\n",
    "    data = robust_scaler.transform(data)\n",
    "    prob = log_reg.predict_proba(data)[0][1]\n",
    "    print(data)\n",
    "    print(prob)\n",
    "    if prob >= 0.8:\n",
    "        return \"Will complete.\"\n",
    "    else:\n",
    "        return \"Will NOT complete.\"\n",
    "    \n",
    "    "
   ]
  },
  {
   "cell_type": "code",
   "execution_count": 161,
   "metadata": {
    "scrolled": false
   },
   "outputs": [
    {
     "data": {
      "text/html": [
       "<div>\n",
       "<style scoped>\n",
       "    .dataframe tbody tr th:only-of-type {\n",
       "        vertical-align: middle;\n",
       "    }\n",
       "\n",
       "    .dataframe tbody tr th {\n",
       "        vertical-align: top;\n",
       "    }\n",
       "\n",
       "    .dataframe thead th {\n",
       "        text-align: right;\n",
       "    }\n",
       "</style>\n",
       "<table border=\"1\" class=\"dataframe\">\n",
       "  <thead>\n",
       "    <tr style=\"text-align: right;\">\n",
       "      <th></th>\n",
       "      <th>customer_id</th>\n",
       "      <th>time</th>\n",
       "      <th>value_amount</th>\n",
       "      <th>offer_id</th>\n",
       "      <th>difficulty</th>\n",
       "      <th>duration</th>\n",
       "      <th>reward</th>\n",
       "      <th>age</th>\n",
       "      <th>became_member_on</th>\n",
       "      <th>income</th>\n",
       "      <th>...</th>\n",
       "      <th>offer_type_bogo</th>\n",
       "      <th>offer_type_discount</th>\n",
       "      <th>offer_type_informational</th>\n",
       "      <th>gender_F</th>\n",
       "      <th>gender_M</th>\n",
       "      <th>gender_O</th>\n",
       "      <th>age_cluster_Adults</th>\n",
       "      <th>age_cluster_Seniors</th>\n",
       "      <th>age_cluster_Youth</th>\n",
       "      <th>row_count</th>\n",
       "    </tr>\n",
       "  </thead>\n",
       "  <tbody>\n",
       "    <tr>\n",
       "      <th>0</th>\n",
       "      <td>78afa995795e4d85b5d9ceeca43f5fef</td>\n",
       "      <td>0</td>\n",
       "      <td>0.00</td>\n",
       "      <td>9b98b8c7a33c4b65b9aebfe6a799e6d9</td>\n",
       "      <td>5.0</td>\n",
       "      <td>7.0</td>\n",
       "      <td>5.0</td>\n",
       "      <td>75</td>\n",
       "      <td>2017-05-09</td>\n",
       "      <td>100000.0</td>\n",
       "      <td>...</td>\n",
       "      <td>1</td>\n",
       "      <td>0</td>\n",
       "      <td>0</td>\n",
       "      <td>1</td>\n",
       "      <td>0</td>\n",
       "      <td>0</td>\n",
       "      <td>0</td>\n",
       "      <td>1</td>\n",
       "      <td>0</td>\n",
       "      <td>0</td>\n",
       "    </tr>\n",
       "    <tr>\n",
       "      <th>15561</th>\n",
       "      <td>78afa995795e4d85b5d9ceeca43f5fef</td>\n",
       "      <td>6</td>\n",
       "      <td>0.00</td>\n",
       "      <td>9b98b8c7a33c4b65b9aebfe6a799e6d9</td>\n",
       "      <td>5.0</td>\n",
       "      <td>7.0</td>\n",
       "      <td>5.0</td>\n",
       "      <td>75</td>\n",
       "      <td>2017-05-09</td>\n",
       "      <td>100000.0</td>\n",
       "      <td>...</td>\n",
       "      <td>1</td>\n",
       "      <td>0</td>\n",
       "      <td>0</td>\n",
       "      <td>1</td>\n",
       "      <td>0</td>\n",
       "      <td>0</td>\n",
       "      <td>0</td>\n",
       "      <td>1</td>\n",
       "      <td>0</td>\n",
       "      <td>13545</td>\n",
       "    </tr>\n",
       "    <tr>\n",
       "      <th>47582</th>\n",
       "      <td>78afa995795e4d85b5d9ceeca43f5fef</td>\n",
       "      <td>132</td>\n",
       "      <td>19.89</td>\n",
       "      <td>0</td>\n",
       "      <td>0.0</td>\n",
       "      <td>0.0</td>\n",
       "      <td>0.0</td>\n",
       "      <td>75</td>\n",
       "      <td>2017-05-09</td>\n",
       "      <td>100000.0</td>\n",
       "      <td>...</td>\n",
       "      <td>0</td>\n",
       "      <td>0</td>\n",
       "      <td>0</td>\n",
       "      <td>1</td>\n",
       "      <td>0</td>\n",
       "      <td>0</td>\n",
       "      <td>0</td>\n",
       "      <td>1</td>\n",
       "      <td>0</td>\n",
       "      <td>42328</td>\n",
       "    </tr>\n",
       "    <tr>\n",
       "      <th>47583</th>\n",
       "      <td>78afa995795e4d85b5d9ceeca43f5fef</td>\n",
       "      <td>132</td>\n",
       "      <td>0.00</td>\n",
       "      <td>9b98b8c7a33c4b65b9aebfe6a799e6d9</td>\n",
       "      <td>5.0</td>\n",
       "      <td>7.0</td>\n",
       "      <td>5.0</td>\n",
       "      <td>75</td>\n",
       "      <td>2017-05-09</td>\n",
       "      <td>100000.0</td>\n",
       "      <td>...</td>\n",
       "      <td>1</td>\n",
       "      <td>0</td>\n",
       "      <td>0</td>\n",
       "      <td>1</td>\n",
       "      <td>0</td>\n",
       "      <td>0</td>\n",
       "      <td>0</td>\n",
       "      <td>1</td>\n",
       "      <td>0</td>\n",
       "      <td>42329</td>\n",
       "    </tr>\n",
       "    <tr>\n",
       "      <th>49502</th>\n",
       "      <td>78afa995795e4d85b5d9ceeca43f5fef</td>\n",
       "      <td>144</td>\n",
       "      <td>17.78</td>\n",
       "      <td>0</td>\n",
       "      <td>0.0</td>\n",
       "      <td>0.0</td>\n",
       "      <td>0.0</td>\n",
       "      <td>75</td>\n",
       "      <td>2017-05-09</td>\n",
       "      <td>100000.0</td>\n",
       "      <td>...</td>\n",
       "      <td>0</td>\n",
       "      <td>0</td>\n",
       "      <td>0</td>\n",
       "      <td>1</td>\n",
       "      <td>0</td>\n",
       "      <td>0</td>\n",
       "      <td>0</td>\n",
       "      <td>1</td>\n",
       "      <td>0</td>\n",
       "      <td>44065</td>\n",
       "    </tr>\n",
       "  </tbody>\n",
       "</table>\n",
       "<p>5 rows × 29 columns</p>\n",
       "</div>"
      ],
      "text/plain": [
       "                            customer_id  time  value_amount  \\\n",
       "0      78afa995795e4d85b5d9ceeca43f5fef     0          0.00   \n",
       "15561  78afa995795e4d85b5d9ceeca43f5fef     6          0.00   \n",
       "47582  78afa995795e4d85b5d9ceeca43f5fef   132         19.89   \n",
       "47583  78afa995795e4d85b5d9ceeca43f5fef   132          0.00   \n",
       "49502  78afa995795e4d85b5d9ceeca43f5fef   144         17.78   \n",
       "\n",
       "                               offer_id  difficulty  duration  reward  age  \\\n",
       "0      9b98b8c7a33c4b65b9aebfe6a799e6d9         5.0       7.0     5.0   75   \n",
       "15561  9b98b8c7a33c4b65b9aebfe6a799e6d9         5.0       7.0     5.0   75   \n",
       "47582                                 0         0.0       0.0     0.0   75   \n",
       "47583  9b98b8c7a33c4b65b9aebfe6a799e6d9         5.0       7.0     5.0   75   \n",
       "49502                                 0         0.0       0.0     0.0   75   \n",
       "\n",
       "      became_member_on    income  ...  offer_type_bogo  offer_type_discount  \\\n",
       "0           2017-05-09  100000.0  ...                1                    0   \n",
       "15561       2017-05-09  100000.0  ...                1                    0   \n",
       "47582       2017-05-09  100000.0  ...                0                    0   \n",
       "47583       2017-05-09  100000.0  ...                1                    0   \n",
       "49502       2017-05-09  100000.0  ...                0                    0   \n",
       "\n",
       "       offer_type_informational  gender_F  gender_M  gender_O  \\\n",
       "0                             0         1         0         0   \n",
       "15561                         0         1         0         0   \n",
       "47582                         0         1         0         0   \n",
       "47583                         0         1         0         0   \n",
       "49502                         0         1         0         0   \n",
       "\n",
       "       age_cluster_Adults  age_cluster_Seniors  age_cluster_Youth  row_count  \n",
       "0                       0                    1                  0          0  \n",
       "15561                   0                    1                  0      13545  \n",
       "47582                   0                    1                  0      42328  \n",
       "47583                   0                    1                  0      42329  \n",
       "49502                   0                    1                  0      44065  \n",
       "\n",
       "[5 rows x 29 columns]"
      ]
     },
     "execution_count": 161,
     "metadata": {},
     "output_type": "execute_result"
    }
   ],
   "source": [
    "#\n",
    "complete = df_ml[df_ml['customer_id'] == '78afa995795e4d85b5d9ceeca43f5fef']\n",
    "complete.head()\n"
   ]
  },
  {
   "cell_type": "code",
   "execution_count": 162,
   "metadata": {},
   "outputs": [
    {
     "name": "stdout",
     "output_type": "stream",
     "text": [
      "<class 'pandas.core.frame.DataFrame'>\n",
      "Int64Index: 272762 entries, 0 to 306532\n",
      "Data columns (total 14 columns):\n",
      " #   Column                 Non-Null Count   Dtype  \n",
      "---  ------                 --------------   -----  \n",
      " 0   customer_id            272762 non-null  object \n",
      " 1   time                   272762 non-null  int64  \n",
      " 2   value_amount           272762 non-null  float64\n",
      " 3   difficulty             272762 non-null  float64\n",
      " 4   reward                 272762 non-null  float64\n",
      " 5   income                 272762 non-null  float64\n",
      " 6   event_offer_completed  272762 non-null  int64  \n",
      " 7   offer_type_bogo        272762 non-null  int64  \n",
      " 8   offer_type_discount    272762 non-null  int64  \n",
      " 9   gender_F               272762 non-null  int64  \n",
      " 10  gender_M               272762 non-null  int64  \n",
      " 11  age_cluster_Adults     272762 non-null  int64  \n",
      " 12  age_cluster_Seniors    272762 non-null  int64  \n",
      " 13  age_cluster_Youth      272762 non-null  int64  \n",
      "dtypes: float64(4), int64(9), object(1)\n",
      "memory usage: 39.3+ MB\n"
     ]
    }
   ],
   "source": [
    "#\n",
    "#df_ml = df_ml.drop(['offer_id', 'became_member_on'], axis=1)\n",
    "df_ml = df_ml[['customer_id', 'time', 'value_amount', 'difficulty', 'reward', 'income',\n",
    "              'event_offer_completed', 'offer_type_bogo', 'offer_type_discount', 'gender_F',\n",
    "              'gender_M', 'age_cluster_Adults', 'age_cluster_Seniors', 'age_cluster_Youth']]\n",
    "df_ml.info()\n"
   ]
  },
  {
   "cell_type": "code",
   "execution_count": 163,
   "metadata": {
    "scrolled": false
   },
   "outputs": [
    {
     "name": "stdout",
     "output_type": "stream",
     "text": [
      "0         78afa995795e4d85b5d9ceeca43f5fef\n",
      "2         e2127556f4f64592b11af22de27a7932\n",
      "5         389bc3fa690240e798340f5a15918d5c\n",
      "7         2eeac8d8feae4a8cad5a6af0499a211d\n",
      "8         aa4862eba776480b8bb9c68455b8c2e1\n",
      "                        ...               \n",
      "306527    24f56b5e1849462093931b164eb803b5\n",
      "306529    b3a1272bc9904337b331bf348c3e8c17\n",
      "306530    68213b08d99a4ae1b0dcb72aebd9aa35\n",
      "306531    a00058cf10334a308c68e7631c529907\n",
      "306532    76ddbd6576844afe811f1a3c0fbb5bec\n",
      "Name: customer_id, Length: 272762, dtype: object\n",
      "0          6962\n",
      "2         13107\n",
      "5          3246\n",
      "7          2669\n",
      "8          9940\n",
      "          ...  \n",
      "306527     2074\n",
      "306529    10484\n",
      "306530     6032\n",
      "306531     9344\n",
      "306532     6863\n",
      "Name: customer_id, Length: 272762, dtype: int64\n"
     ]
    },
    {
     "data": {
      "text/html": [
       "<div>\n",
       "<style scoped>\n",
       "    .dataframe tbody tr th:only-of-type {\n",
       "        vertical-align: middle;\n",
       "    }\n",
       "\n",
       "    .dataframe tbody tr th {\n",
       "        vertical-align: top;\n",
       "    }\n",
       "\n",
       "    .dataframe thead th {\n",
       "        text-align: right;\n",
       "    }\n",
       "</style>\n",
       "<table border=\"1\" class=\"dataframe\">\n",
       "  <thead>\n",
       "    <tr style=\"text-align: right;\">\n",
       "      <th></th>\n",
       "      <th>customer_id</th>\n",
       "      <th>time</th>\n",
       "      <th>value_amount</th>\n",
       "      <th>difficulty</th>\n",
       "      <th>reward</th>\n",
       "      <th>income</th>\n",
       "      <th>event_offer_completed</th>\n",
       "      <th>offer_type_bogo</th>\n",
       "      <th>offer_type_discount</th>\n",
       "      <th>gender_F</th>\n",
       "      <th>gender_M</th>\n",
       "      <th>age_cluster_Adults</th>\n",
       "      <th>age_cluster_Seniors</th>\n",
       "      <th>age_cluster_Youth</th>\n",
       "    </tr>\n",
       "  </thead>\n",
       "  <tbody>\n",
       "    <tr>\n",
       "      <th>0</th>\n",
       "      <td>6962</td>\n",
       "      <td>0</td>\n",
       "      <td>0.0</td>\n",
       "      <td>5.0</td>\n",
       "      <td>5.0</td>\n",
       "      <td>100000.0</td>\n",
       "      <td>0</td>\n",
       "      <td>1</td>\n",
       "      <td>0</td>\n",
       "      <td>1</td>\n",
       "      <td>0</td>\n",
       "      <td>0</td>\n",
       "      <td>1</td>\n",
       "      <td>0</td>\n",
       "    </tr>\n",
       "    <tr>\n",
       "      <th>2</th>\n",
       "      <td>13107</td>\n",
       "      <td>0</td>\n",
       "      <td>0.0</td>\n",
       "      <td>10.0</td>\n",
       "      <td>2.0</td>\n",
       "      <td>70000.0</td>\n",
       "      <td>0</td>\n",
       "      <td>0</td>\n",
       "      <td>1</td>\n",
       "      <td>0</td>\n",
       "      <td>1</td>\n",
       "      <td>0</td>\n",
       "      <td>1</td>\n",
       "      <td>0</td>\n",
       "    </tr>\n",
       "    <tr>\n",
       "      <th>5</th>\n",
       "      <td>3246</td>\n",
       "      <td>0</td>\n",
       "      <td>0.0</td>\n",
       "      <td>5.0</td>\n",
       "      <td>5.0</td>\n",
       "      <td>53000.0</td>\n",
       "      <td>0</td>\n",
       "      <td>1</td>\n",
       "      <td>0</td>\n",
       "      <td>0</td>\n",
       "      <td>1</td>\n",
       "      <td>0</td>\n",
       "      <td>1</td>\n",
       "      <td>0</td>\n",
       "    </tr>\n",
       "    <tr>\n",
       "      <th>7</th>\n",
       "      <td>2669</td>\n",
       "      <td>0</td>\n",
       "      <td>0.0</td>\n",
       "      <td>0.0</td>\n",
       "      <td>0.0</td>\n",
       "      <td>51000.0</td>\n",
       "      <td>0</td>\n",
       "      <td>0</td>\n",
       "      <td>0</td>\n",
       "      <td>0</td>\n",
       "      <td>1</td>\n",
       "      <td>1</td>\n",
       "      <td>0</td>\n",
       "      <td>0</td>\n",
       "    </tr>\n",
       "    <tr>\n",
       "      <th>8</th>\n",
       "      <td>9940</td>\n",
       "      <td>0</td>\n",
       "      <td>0.0</td>\n",
       "      <td>20.0</td>\n",
       "      <td>5.0</td>\n",
       "      <td>57000.0</td>\n",
       "      <td>0</td>\n",
       "      <td>0</td>\n",
       "      <td>1</td>\n",
       "      <td>1</td>\n",
       "      <td>0</td>\n",
       "      <td>1</td>\n",
       "      <td>0</td>\n",
       "      <td>0</td>\n",
       "    </tr>\n",
       "  </tbody>\n",
       "</table>\n",
       "</div>"
      ],
      "text/plain": [
       "   customer_id  time  value_amount  difficulty  reward    income  \\\n",
       "0         6962     0           0.0         5.0     5.0  100000.0   \n",
       "2        13107     0           0.0        10.0     2.0   70000.0   \n",
       "5         3246     0           0.0         5.0     5.0   53000.0   \n",
       "7         2669     0           0.0         0.0     0.0   51000.0   \n",
       "8         9940     0           0.0        20.0     5.0   57000.0   \n",
       "\n",
       "   event_offer_completed  offer_type_bogo  offer_type_discount  gender_F  \\\n",
       "0                      0                1                    0         1   \n",
       "2                      0                0                    1         0   \n",
       "5                      0                1                    0         0   \n",
       "7                      0                0                    0         0   \n",
       "8                      0                0                    1         1   \n",
       "\n",
       "   gender_M  age_cluster_Adults  age_cluster_Seniors  age_cluster_Youth  \n",
       "0         0                   0                    1                  0  \n",
       "2         1                   0                    1                  0  \n",
       "5         1                   0                    1                  0  \n",
       "7         1                   1                    0                  0  \n",
       "8         0                   1                    0                  0  "
      ]
     },
     "execution_count": 163,
     "metadata": {},
     "output_type": "execute_result"
    }
   ],
   "source": [
    "#\n",
    "\n",
    "#myData = np.genfromtxt(filecsv, delimiter=\",\", dtype =\"|a20\" ,skip_header=1);\n",
    "\n",
    "print(df_ml['customer_id'])\n",
    "le = preprocessing.LabelEncoder()\n",
    "df_ml['customer_id'] = le.fit_transform(df_ml['customer_id'])\n",
    "\n",
    "print(df_ml['customer_id'])\n",
    "\n",
    "df_ml.head()\n"
   ]
  },
  {
   "cell_type": "code",
   "execution_count": 164,
   "metadata": {},
   "outputs": [
    {
     "data": {
      "text/html": [
       "<div>\n",
       "<style scoped>\n",
       "    .dataframe tbody tr th:only-of-type {\n",
       "        vertical-align: middle;\n",
       "    }\n",
       "\n",
       "    .dataframe tbody tr th {\n",
       "        vertical-align: top;\n",
       "    }\n",
       "\n",
       "    .dataframe thead th {\n",
       "        text-align: right;\n",
       "    }\n",
       "</style>\n",
       "<table border=\"1\" class=\"dataframe\">\n",
       "  <thead>\n",
       "    <tr style=\"text-align: right;\">\n",
       "      <th></th>\n",
       "      <th>customer_id</th>\n",
       "      <th>time</th>\n",
       "      <th>value_amount</th>\n",
       "      <th>difficulty</th>\n",
       "      <th>reward</th>\n",
       "      <th>income</th>\n",
       "      <th>event_offer_completed</th>\n",
       "      <th>offer_type_bogo</th>\n",
       "      <th>offer_type_discount</th>\n",
       "      <th>gender_F</th>\n",
       "      <th>gender_M</th>\n",
       "      <th>age_cluster_Adults</th>\n",
       "      <th>age_cluster_Seniors</th>\n",
       "      <th>age_cluster_Youth</th>\n",
       "    </tr>\n",
       "  </thead>\n",
       "  <tbody>\n",
       "    <tr>\n",
       "      <th>306527</th>\n",
       "      <td>2074</td>\n",
       "      <td>714</td>\n",
       "      <td>0.00</td>\n",
       "      <td>10.0</td>\n",
       "      <td>2.0</td>\n",
       "      <td>80000.0</td>\n",
       "      <td>1</td>\n",
       "      <td>0</td>\n",
       "      <td>1</td>\n",
       "      <td>1</td>\n",
       "      <td>0</td>\n",
       "      <td>1</td>\n",
       "      <td>0</td>\n",
       "      <td>0</td>\n",
       "    </tr>\n",
       "    <tr>\n",
       "      <th>306529</th>\n",
       "      <td>10484</td>\n",
       "      <td>714</td>\n",
       "      <td>1.59</td>\n",
       "      <td>0.0</td>\n",
       "      <td>0.0</td>\n",
       "      <td>47000.0</td>\n",
       "      <td>0</td>\n",
       "      <td>0</td>\n",
       "      <td>0</td>\n",
       "      <td>0</td>\n",
       "      <td>1</td>\n",
       "      <td>0</td>\n",
       "      <td>1</td>\n",
       "      <td>0</td>\n",
       "    </tr>\n",
       "    <tr>\n",
       "      <th>306530</th>\n",
       "      <td>6032</td>\n",
       "      <td>714</td>\n",
       "      <td>9.53</td>\n",
       "      <td>0.0</td>\n",
       "      <td>0.0</td>\n",
       "      <td>62000.0</td>\n",
       "      <td>0</td>\n",
       "      <td>0</td>\n",
       "      <td>0</td>\n",
       "      <td>0</td>\n",
       "      <td>1</td>\n",
       "      <td>1</td>\n",
       "      <td>0</td>\n",
       "      <td>0</td>\n",
       "    </tr>\n",
       "    <tr>\n",
       "      <th>306531</th>\n",
       "      <td>9344</td>\n",
       "      <td>714</td>\n",
       "      <td>3.61</td>\n",
       "      <td>0.0</td>\n",
       "      <td>0.0</td>\n",
       "      <td>52000.0</td>\n",
       "      <td>0</td>\n",
       "      <td>0</td>\n",
       "      <td>0</td>\n",
       "      <td>1</td>\n",
       "      <td>0</td>\n",
       "      <td>1</td>\n",
       "      <td>0</td>\n",
       "      <td>0</td>\n",
       "    </tr>\n",
       "    <tr>\n",
       "      <th>306532</th>\n",
       "      <td>6863</td>\n",
       "      <td>714</td>\n",
       "      <td>3.53</td>\n",
       "      <td>0.0</td>\n",
       "      <td>0.0</td>\n",
       "      <td>40000.0</td>\n",
       "      <td>0</td>\n",
       "      <td>0</td>\n",
       "      <td>0</td>\n",
       "      <td>0</td>\n",
       "      <td>1</td>\n",
       "      <td>1</td>\n",
       "      <td>0</td>\n",
       "      <td>0</td>\n",
       "    </tr>\n",
       "  </tbody>\n",
       "</table>\n",
       "</div>"
      ],
      "text/plain": [
       "        customer_id  time  value_amount  difficulty  reward   income  \\\n",
       "306527         2074   714          0.00        10.0     2.0  80000.0   \n",
       "306529        10484   714          1.59         0.0     0.0  47000.0   \n",
       "306530         6032   714          9.53         0.0     0.0  62000.0   \n",
       "306531         9344   714          3.61         0.0     0.0  52000.0   \n",
       "306532         6863   714          3.53         0.0     0.0  40000.0   \n",
       "\n",
       "        event_offer_completed  offer_type_bogo  offer_type_discount  gender_F  \\\n",
       "306527                      1                0                    1         1   \n",
       "306529                      0                0                    0         0   \n",
       "306530                      0                0                    0         0   \n",
       "306531                      0                0                    0         1   \n",
       "306532                      0                0                    0         0   \n",
       "\n",
       "        gender_M  age_cluster_Adults  age_cluster_Seniors  age_cluster_Youth  \n",
       "306527         0                   1                    0                  0  \n",
       "306529         1                   0                    1                  0  \n",
       "306530         1                   1                    0                  0  \n",
       "306531         0                   1                    0                  0  \n",
       "306532         1                   1                    0                  0  "
      ]
     },
     "execution_count": 164,
     "metadata": {},
     "output_type": "execute_result"
    }
   ],
   "source": [
    "#\n",
    "df_ml.tail()"
   ]
  },
  {
   "cell_type": "code",
   "execution_count": 165,
   "metadata": {
    "scrolled": false
   },
   "outputs": [
    {
     "name": "stdout",
     "output_type": "stream",
     "text": [
      "       customer_id  time  value_amount  difficulty  reward   income  \\\n",
      "22294         9344    18          0.91         0.0     0.0  52000.0   \n",
      "48532         9344   132          0.83         0.0     0.0  52000.0   \n",
      "53171         9344   162          6.95         0.0     0.0  52000.0   \n",
      "65830         9344   168          0.00        10.0     2.0  52000.0   \n",
      "69320         9344   168          1.17         0.0     0.0  52000.0   \n",
      "\n",
      "       event_offer_completed  offer_type_bogo  offer_type_discount  gender_F  \\\n",
      "22294                      0                0                    0         1   \n",
      "48532                      0                0                    0         1   \n",
      "53171                      0                0                    0         1   \n",
      "65830                      0                0                    1         1   \n",
      "69320                      0                0                    0         1   \n",
      "\n",
      "       gender_M  age_cluster_Adults  age_cluster_Seniors  age_cluster_Youth  \n",
      "22294         0                   1                    0                  0  \n",
      "48532         0                   1                    0                  0  \n",
      "53171         0                   1                    0                  0  \n",
      "65830         0                   1                    0                  0  \n",
      "69320         0                   1                    0                  0  \n",
      "       customer_id  time  value_amount  difficulty  reward   income  \\\n",
      "22294         9344    18          0.91         0.0     0.0  52000.0   \n",
      "48532         9344   132          0.83         0.0     0.0  52000.0   \n",
      "53171         9344   162          6.95         0.0     0.0  52000.0   \n",
      "65830         9344   168          0.00        10.0     2.0  52000.0   \n",
      "69320         9344   168          1.17         0.0     0.0  52000.0   \n",
      "\n",
      "       event_offer_completed  offer_type_bogo  offer_type_discount  gender_F  \\\n",
      "22294                      0                0                    0         1   \n",
      "48532                      0                0                    0         1   \n",
      "53171                      0                0                    0         1   \n",
      "65830                      0                0                    1         1   \n",
      "69320                      0                0                    0         1   \n",
      "\n",
      "       gender_M  age_cluster_Adults  age_cluster_Seniors  age_cluster_Youth  \n",
      "22294         0                   1                    0                  0  \n",
      "48532         0                   1                    0                  0  \n",
      "53171         0                   1                    0                  0  \n",
      "65830         0                   1                    0                  0  \n",
      "69320         0                   1                    0                  0  \n"
     ]
    },
    {
     "name": "stderr",
     "output_type": "stream",
     "text": [
      "/opt/anaconda3/envs/sklearn-env/lib/python3.9/site-packages/sklearn/base.py:450: UserWarning: X does not have valid feature names, but RobustScaler was fitted with feature names\n",
      "  warnings.warn(\n"
     ]
    },
    {
     "ename": "ValueError",
     "evalue": "X has 462 features, but RobustScaler is expecting 25 features as input.",
     "output_type": "error",
     "traceback": [
      "\u001b[0;31m---------------------------------------------------------------------------\u001b[0m",
      "\u001b[0;31mValueError\u001b[0m                                Traceback (most recent call last)",
      "\u001b[0;32m/var/folders/66/th8r46bn65xfk23cv85p94z80000gn/T/ipykernel_46081/1884533377.py\u001b[0m in \u001b[0;36m<module>\u001b[0;34m\u001b[0m\n\u001b[1;32m     16\u001b[0m \u001b[0mprint\u001b[0m\u001b[0;34m(\u001b[0m\u001b[0mdata\u001b[0m\u001b[0;34m.\u001b[0m\u001b[0mhead\u001b[0m\u001b[0;34m(\u001b[0m\u001b[0;34m)\u001b[0m\u001b[0;34m)\u001b[0m\u001b[0;34m\u001b[0m\u001b[0;34m\u001b[0m\u001b[0m\n\u001b[1;32m     17\u001b[0m \u001b[0;34m\u001b[0m\u001b[0m\n\u001b[0;32m---> 18\u001b[0;31m \u001b[0mmake_ind_prediction\u001b[0m\u001b[0;34m(\u001b[0m\u001b[0mdata\u001b[0m\u001b[0;34m)\u001b[0m\u001b[0;34m\u001b[0m\u001b[0;34m\u001b[0m\u001b[0m\n\u001b[0m",
      "\u001b[0;32m/var/folders/66/th8r46bn65xfk23cv85p94z80000gn/T/ipykernel_46081/2341790943.py\u001b[0m in \u001b[0;36mmake_ind_prediction\u001b[0;34m(new_data)\u001b[0m\n\u001b[1;32m      3\u001b[0m     \u001b[0mdata\u001b[0m \u001b[0;34m=\u001b[0m \u001b[0mnew_data\u001b[0m\u001b[0;34m.\u001b[0m\u001b[0mvalues\u001b[0m\u001b[0;34m.\u001b[0m\u001b[0mreshape\u001b[0m\u001b[0;34m(\u001b[0m\u001b[0;36m1\u001b[0m\u001b[0;34m,\u001b[0m \u001b[0;34m-\u001b[0m\u001b[0;36m1\u001b[0m\u001b[0;34m)\u001b[0m\u001b[0;34m\u001b[0m\u001b[0;34m\u001b[0m\u001b[0m\n\u001b[1;32m      4\u001b[0m     \u001b[0;31m#data = new_data.reshape(1, -1)\u001b[0m\u001b[0;34m\u001b[0m\u001b[0;34m\u001b[0m\u001b[0m\n\u001b[0;32m----> 5\u001b[0;31m     \u001b[0mdata\u001b[0m \u001b[0;34m=\u001b[0m \u001b[0mrobust_scaler\u001b[0m\u001b[0;34m.\u001b[0m\u001b[0mtransform\u001b[0m\u001b[0;34m(\u001b[0m\u001b[0mdata\u001b[0m\u001b[0;34m)\u001b[0m\u001b[0;34m\u001b[0m\u001b[0;34m\u001b[0m\u001b[0m\n\u001b[0m\u001b[1;32m      6\u001b[0m     \u001b[0mprob\u001b[0m \u001b[0;34m=\u001b[0m \u001b[0mlog_reg\u001b[0m\u001b[0;34m.\u001b[0m\u001b[0mpredict_proba\u001b[0m\u001b[0;34m(\u001b[0m\u001b[0mdata\u001b[0m\u001b[0;34m)\u001b[0m\u001b[0;34m[\u001b[0m\u001b[0;36m0\u001b[0m\u001b[0;34m]\u001b[0m\u001b[0;34m[\u001b[0m\u001b[0;36m1\u001b[0m\u001b[0;34m]\u001b[0m\u001b[0;34m\u001b[0m\u001b[0;34m\u001b[0m\u001b[0m\n\u001b[1;32m      7\u001b[0m     \u001b[0mprint\u001b[0m\u001b[0;34m(\u001b[0m\u001b[0mdata\u001b[0m\u001b[0;34m)\u001b[0m\u001b[0;34m\u001b[0m\u001b[0;34m\u001b[0m\u001b[0m\n",
      "\u001b[0;32m/opt/anaconda3/envs/sklearn-env/lib/python3.9/site-packages/sklearn/preprocessing/_data.py\u001b[0m in \u001b[0;36mtransform\u001b[0;34m(self, X)\u001b[0m\n\u001b[1;32m   1544\u001b[0m         \"\"\"\n\u001b[1;32m   1545\u001b[0m         \u001b[0mcheck_is_fitted\u001b[0m\u001b[0;34m(\u001b[0m\u001b[0mself\u001b[0m\u001b[0;34m)\u001b[0m\u001b[0;34m\u001b[0m\u001b[0;34m\u001b[0m\u001b[0m\n\u001b[0;32m-> 1546\u001b[0;31m         X = self._validate_data(\n\u001b[0m\u001b[1;32m   1547\u001b[0m             \u001b[0mX\u001b[0m\u001b[0;34m,\u001b[0m\u001b[0;34m\u001b[0m\u001b[0;34m\u001b[0m\u001b[0m\n\u001b[1;32m   1548\u001b[0m             \u001b[0maccept_sparse\u001b[0m\u001b[0;34m=\u001b[0m\u001b[0;34m(\u001b[0m\u001b[0;34m\"csr\"\u001b[0m\u001b[0;34m,\u001b[0m \u001b[0;34m\"csc\"\u001b[0m\u001b[0;34m)\u001b[0m\u001b[0;34m,\u001b[0m\u001b[0;34m\u001b[0m\u001b[0;34m\u001b[0m\u001b[0m\n",
      "\u001b[0;32m/opt/anaconda3/envs/sklearn-env/lib/python3.9/site-packages/sklearn/base.py\u001b[0m in \u001b[0;36m_validate_data\u001b[0;34m(self, X, y, reset, validate_separately, **check_params)\u001b[0m\n\u001b[1;32m    598\u001b[0m \u001b[0;34m\u001b[0m\u001b[0m\n\u001b[1;32m    599\u001b[0m         \u001b[0;32mif\u001b[0m \u001b[0;32mnot\u001b[0m \u001b[0mno_val_X\u001b[0m \u001b[0;32mand\u001b[0m \u001b[0mcheck_params\u001b[0m\u001b[0;34m.\u001b[0m\u001b[0mget\u001b[0m\u001b[0;34m(\u001b[0m\u001b[0;34m\"ensure_2d\"\u001b[0m\u001b[0;34m,\u001b[0m \u001b[0;32mTrue\u001b[0m\u001b[0;34m)\u001b[0m\u001b[0;34m:\u001b[0m\u001b[0;34m\u001b[0m\u001b[0;34m\u001b[0m\u001b[0m\n\u001b[0;32m--> 600\u001b[0;31m             \u001b[0mself\u001b[0m\u001b[0;34m.\u001b[0m\u001b[0m_check_n_features\u001b[0m\u001b[0;34m(\u001b[0m\u001b[0mX\u001b[0m\u001b[0;34m,\u001b[0m \u001b[0mreset\u001b[0m\u001b[0;34m=\u001b[0m\u001b[0mreset\u001b[0m\u001b[0;34m)\u001b[0m\u001b[0;34m\u001b[0m\u001b[0;34m\u001b[0m\u001b[0m\n\u001b[0m\u001b[1;32m    601\u001b[0m \u001b[0;34m\u001b[0m\u001b[0m\n\u001b[1;32m    602\u001b[0m         \u001b[0;32mreturn\u001b[0m \u001b[0mout\u001b[0m\u001b[0;34m\u001b[0m\u001b[0;34m\u001b[0m\u001b[0m\n",
      "\u001b[0;32m/opt/anaconda3/envs/sklearn-env/lib/python3.9/site-packages/sklearn/base.py\u001b[0m in \u001b[0;36m_check_n_features\u001b[0;34m(self, X, reset)\u001b[0m\n\u001b[1;32m    398\u001b[0m \u001b[0;34m\u001b[0m\u001b[0m\n\u001b[1;32m    399\u001b[0m         \u001b[0;32mif\u001b[0m \u001b[0mn_features\u001b[0m \u001b[0;34m!=\u001b[0m \u001b[0mself\u001b[0m\u001b[0;34m.\u001b[0m\u001b[0mn_features_in_\u001b[0m\u001b[0;34m:\u001b[0m\u001b[0;34m\u001b[0m\u001b[0;34m\u001b[0m\u001b[0m\n\u001b[0;32m--> 400\u001b[0;31m             raise ValueError(\n\u001b[0m\u001b[1;32m    401\u001b[0m                 \u001b[0;34mf\"X has {n_features} features, but {self.__class__.__name__} \"\u001b[0m\u001b[0;34m\u001b[0m\u001b[0;34m\u001b[0m\u001b[0m\n\u001b[1;32m    402\u001b[0m                 \u001b[0;34mf\"is expecting {self.n_features_in_} features as input.\"\u001b[0m\u001b[0;34m\u001b[0m\u001b[0;34m\u001b[0m\u001b[0m\n",
      "\u001b[0;31mValueError\u001b[0m: X has 462 features, but RobustScaler is expecting 25 features as input."
     ]
    }
   ],
   "source": [
    "#\n",
    "\n",
    "data = df_ml[df_ml['customer_id'] == 9344]\n",
    "\n",
    "print(data.head())\n",
    "\n",
    "#data = data.values.reshape(1, -1)\n",
    "#robust_scaler = RobustScaler()\n",
    "#data = robust_scaler.fit_transform(data)\n",
    "\n",
    "\n",
    "#data = pd.Series(data)\n",
    "\n",
    "print(data.head())\n",
    "\n",
    "make_ind_prediction(data)\n"
   ]
  },
  {
   "cell_type": "code",
   "execution_count": 166,
   "metadata": {},
   "outputs": [],
   "source": [
    "#\n",
    "#for x in negative.index[0:100]:\n",
    "#    print(make_ind_prediction.negative.log[x].drop('event_offer_completed'))\n"
   ]
  },
  {
   "cell_type": "code",
   "execution_count": null,
   "metadata": {},
   "outputs": [],
   "source": []
  },
  {
   "cell_type": "code",
   "execution_count": null,
   "metadata": {},
   "outputs": [],
   "source": []
  },
  {
   "cell_type": "code",
   "execution_count": null,
   "metadata": {},
   "outputs": [],
   "source": []
  },
  {
   "cell_type": "code",
   "execution_count": null,
   "metadata": {},
   "outputs": [],
   "source": []
  },
  {
   "cell_type": "code",
   "execution_count": null,
   "metadata": {},
   "outputs": [],
   "source": []
  },
  {
   "cell_type": "markdown",
   "metadata": {},
   "source": [
    "# "
   ]
  }
 ],
 "metadata": {
  "kernelspec": {
   "display_name": "Python [conda env:sklearn-env] *",
   "language": "python",
   "name": "conda-env-sklearn-env-py"
  },
  "language_info": {
   "codemirror_mode": {
    "name": "ipython",
    "version": 3
   },
   "file_extension": ".py",
   "mimetype": "text/x-python",
   "name": "python",
   "nbconvert_exporter": "python",
   "pygments_lexer": "ipython3",
   "version": "3.9.12"
  }
 },
 "nbformat": 4,
 "nbformat_minor": 2
}
