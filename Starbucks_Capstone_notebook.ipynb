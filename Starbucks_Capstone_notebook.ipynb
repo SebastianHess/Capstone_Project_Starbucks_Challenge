{
 "cells": [
  {
   "cell_type": "markdown",
   "metadata": {},
   "source": [
    "<div style=\"text-align: right\"><b>31th, October 2022</b></div>\n",
    "\n",
    "# Data Scientist Udacity Nanodegree - Capstone Project: Starbucks Capstone Challenge\n",
    "\n",
    "\n",
    "#### Author: Sebastian Heß\n"
   ]
  },
  {
   "cell_type": "markdown",
   "metadata": {},
   "source": [
    "<img src=\"pics/pic_sb.jpg\"/>"
   ]
  },
  {
   "cell_type": "markdown",
   "metadata": {},
   "source": [
    "<a id='top'></a>\n",
    "## Table of Contents\n",
    "<ol class=\"level_1\">\n",
    "    <li><a href=\"#int\">Introduction</a></li>\n",
    "        <ol class=\"level_2\">\n",
    "            <li><a href=\"#int_1\">Project Information by Udacity</a></li>\n",
    "        </ol>\n",
    "     <li><a href=\"#sec1\">Section 1: Project Definition</a></li>\n",
    "        <ol class=\"level_2\">\n",
    "            <li><a href=\"#sec1_1\">Project Overview</a></li>\n",
    "            <li><a href=\"#sec1_2\">Project Statement</a></li>\n",
    "            <li><a href=\"#sec1_3\">Metrics</a></li>\n",
    "        </ol>   \n",
    "    <li><a href=\"#sec2\">Section 2: Exploratory Data Analysis</a></li>\n",
    "        <ol class=\"level_2\">\n",
    "            <li><a href=\"#sec2_1\">Data Exploration</a></li>\n",
    "            <ol class=\"level_3\">\n",
    "                <li><a href=\"#sec2_11\">Data Wrangling</a></li> \n",
    "                <ol class=\"level_4\">\n",
    "                    <li><a href=\"#sec2_111\">Portfolio (offer)</a></li>\n",
    "                    <li><a href=\"#sec2_112\">Profile (demographic)</a></li>\n",
    "                    <li><a href=\"#sec2_113\">Transcript (transaction records)</a></li>\n",
    "                    <li><a href=\"#sec2_114\">Merge of the Data Frames</a></li>\n",
    "                </ol>\n",
    "            </ol>\n",
    "            <li><a href=\"#sec2_2\">Data Visualization</a></li>\n",
    "            <ol class=\"level_3\">\n",
    "                <li><a href=\"#sec2_21\">Question 1: How is the Distribution of the variable \"age\"?</a></li>\n",
    "                <li><a href=\"#sec2_22\">Question 2: How is the Distribution of the variable \"gender\"?</a></li> \n",
    "                <li><a href=\"#sec2_23\">Question 3:  How is the Distribution of the variable \"income\"?</a></li> \n",
    "                <li><a href=\"#sec2_24\">Question 4:  How is the Distribution of the variable \"gender\" correlated to the age clusters?</a></li>\n",
    "                <li><a href=\"#sec2_25\">Question 5:  How is the Distribution of the variable \"gender\" correlated to the income clusters?</a></li> \n",
    "                <li><a href=\"#sec2_26\">Question 6:  How is the Distribution of the variable \"age\" correlated to the offer types?</a></li> \n",
    "                <li><a href=\"#sec2_27\">Question 7:  How is the Distribution of the variable \"gender\" correlated to the offer types?</a></li>\n",
    "                <li><a href=\"#sec2_28\">Question 8:  How is the Distribution of the variable \"gender\" correlated to the offer types?</a></li>         \n",
    "            </ol>\n",
    "        </ol>\n",
    "    <li><a href=\"#sec3\">Section 3: Methodology</a></li>\n",
    "        <ol class=\"level_2\">\n",
    "            <li><a href=\"#sec3_1\">Data Preprocessing</a></li>\n",
    "            <ol class=\"level_3\">\n",
    "                <li><a href=\"#sec3_11\">Eliminating Outliers of variable \"age\"</a></li>\n",
    "                <li><a href=\"#sec3_12\">Imputing Missing Values</a></li> \n",
    "                <li><a href=\"#sec3_13\">Dropping Missing Values</a></li>\n",
    "                <li><a href=\"#sec3_14\">Splitting the variable \"channels\" in categorical variables based on its values</a></li>\n",
    "                <li><a href=\"#sec3_15\">Splitting the variable \"event\" in categorical variables based on its values</a></li>\n",
    "            </ol>\n",
    "            <li><a href=\"#sec3_2\">Implementation</a></li>\n",
    "            <li><a href=\"#sec3_2\">Refinement</a></li>\n",
    "        </ol>\n",
    "    <li><a href=\"#sec4\">Section 4: Results</a></li>\n",
    "        <ol class=\"level_2\">\n",
    "            <li><a href=\"#sec4_1\">Model Evaluation and Validation</a></li>\n",
    "            <li><a href=\"#sec4_2\">Justification</a></li>\n",
    "        </ol>\n",
    "    <li><a href=\"#sec5\">Section 5: Conclusion</a></li>\n",
    "        <ol class=\"level_2\">\n",
    "            <li><a href=\"#sec5_1\">Reflection</a></li>\n",
    "            <li><a href=\"#sec5_2\">Improvement</a></li>\n",
    "        </ol>\n",
    "    <li><a href=\"#sec6\">References</a></li>\n",
    "</ol>"
   ]
  },
  {
   "cell_type": "markdown",
   "metadata": {},
   "source": [
    "<a id='int'></a>\n",
    "# 1. Introduction\n",
    "<div style=\"text-align: right\"><right><a href=\"#top\">Table of Content</a></div>"
   ]
  },
  {
   "cell_type": "markdown",
   "metadata": {},
   "source": [
    "<a id='int_1'></a>\n",
    "## 1. A. Project Information provided by Udacity\n",
    "<div style=\"text-align: right\"><right><a href=\"#top\">Table of Content</a></div>"
   ]
  },
  {
   "cell_type": "markdown",
   "metadata": {},
   "source": [
    "### Introduction\n",
    "\n",
    "This data set contains simulated data that mimics customer behavior on the Starbucks rewards mobile app. Once every few days, Starbucks sends out an offer to users of the mobile app. An offer can be merely an advertisement for a drink or an actual offer such as a discount or BOGO (buy one get one free). Some users might not receive any offer during certain weeks. \n",
    "\n",
    "Not all users receive the same offer, and that is the challenge to solve with this data set.\n",
    "\n",
    "Your task is to combine transaction, demographic and offer data to determine which demographic groups respond best to which offer type. This data set is a simplified version of the real Starbucks app because the underlying simulator only has one product whereas Starbucks actually sells dozens of products.\n",
    "\n",
    "Every offer has a validity period before the offer expires. As an example, a BOGO offer might be valid for only 5 days. You'll see in the data set that informational offers have a validity period even though these ads are merely providing information about a product; for example, if an informational offer has 7 days of validity, you can assume the customer is feeling the influence of the offer for 7 days after receiving the advertisement.\n",
    "\n",
    "You'll be given transactional data showing user purchases made on the app including the timestamp of purchase and the amount of money spent on a purchase. This transactional data also has a record for each offer that a user receives as well as a record for when a user actually views the offer. There are also records for when a user completes an offer. \n",
    "\n",
    "Keep in mind as well that someone using the app might make a purchase through the app without having received an offer or seen an offer.\n",
    "\n",
    "### Example\n",
    "\n",
    "To give an example, a user could receive a discount offer buy 10 dollars get 2 off on Monday. The offer is valid for 10 days from receipt. If the customer accumulates at least 10 dollars in purchases during the validity period, the customer completes the offer.\n",
    "\n",
    "However, there are a few things to watch out for in this data set. Customers do not opt into the offers that they receive; in other words, a user can receive an offer, never actually view the offer, and still complete the offer. For example, a user might receive the \"buy 10 dollars get 2 dollars off offer\", but the user never opens the offer during the 10 day validity period. The customer spends 15 dollars during those ten days. There will be an offer completion record in the data set; however, the customer was not influenced by the offer because the customer never viewed the offer.\n",
    "\n",
    "### Cleaning\n",
    "\n",
    "This makes data cleaning especially important and tricky.\n",
    "\n",
    "You'll also want to take into account that some demographic groups will make purchases even if they don't receive an offer. From a business perspective, if a customer is going to make a 10 dollar purchase without an offer anyway, you wouldn't want to send a buy 10 dollars get 2 dollars off offer. You'll want to try to assess what a certain demographic group will buy when not receiving any offers.\n",
    "\n",
    "### Final Advice\n",
    "\n",
    "Because this is a capstone project, you are free to analyze the data any way you see fit. For example, you could build a machine learning model that predicts how much someone will spend based on demographics and offer type. Or you could build a model that predicts whether or not someone will respond to an offer. Or, you don't need to build a machine learning model at all. You could develop a set of heuristics that determine what offer you should send to each customer (i.e., 75 percent of women customers who were 35 years old responded to offer A vs 40 percent from the same demographic to offer B, so send offer A)."
   ]
  },
  {
   "cell_type": "markdown",
   "metadata": {},
   "source": [
    "## Data Sets\n",
    "\n",
    "The data is contained in three files:\n",
    "\n",
    "* **portfolio.json** - containing offer ids and meta data about each offer (duration, type, etc.)\n",
    "* **profile.json** - demographic data for each customer\n",
    "* **transcript.json** - records for transactions, offers received, offers viewed, and offers completed\n",
    "\n",
    "Here is the schema and explanation of each variable in the files:\n",
    "\n",
    "**portfolio.json**\n",
    "* id (string) - offer id\n",
    "* offer_type (string) - type of offer ie BOGO, discount, informational\n",
    "* difficulty (int) - minimum required spend to complete an offer\n",
    "* reward (int) - reward given for completing an offer\n",
    "* duration (int) - time for offer to be open, in days\n",
    "* channels (list of strings)\n",
    "\n",
    "**profile.json**\n",
    "* age (int) - age of the customer \n",
    "* became_member_on (int) - date when customer created an app account\n",
    "* gender (str) - gender of the customer (note some entries contain 'O' for other rather than M or F)\n",
    "* id (str) - customer id\n",
    "* income (float) - customer's income\n",
    "\n",
    "**transcript.json**\n",
    "* event (str) - record description (ie transaction, offer received, offer viewed, etc.)\n",
    "* person (str) - customer id\n",
    "* time (int) - time in hours since start of test. The data begins at time t=0\n",
    "* value - (dict of strings) - either an offer id or transaction amount depending on the record\n",
    "\n",
    "**Note:** If you are using the workspace, you will need to go to the terminal and run the command `conda update pandas` before reading in the files. This is because the version of pandas in the workspace cannot read in the transcript.json file correctly, but the newest version of pandas can. You can access the termnal from the orange icon in the top left of this notebook.  \n",
    "\n",
    "You can see how to access the terminal and how the install works using the two images below.  First you need to access the terminal:\n",
    "\n",
    "<img src=\"pics/pic1.png\"/>\n",
    "\n",
    "Then you will want to run the above command:\n",
    "\n",
    "<img src=\"pics/pic2.png\"/>\n",
    "\n",
    "Finally, when you enter back into the notebook (use the jupyter icon again), you should be able to run the below cell without any errors."
   ]
  },
  {
   "cell_type": "markdown",
   "metadata": {},
   "source": [
    "<a id='sec1'></a>\n",
    "# 2. Section 1: Project Definition\n",
    "<div style=\"text-align: right\"><right><a href=\"#top\">Table of Content</a></div>"
   ]
  },
  {
   "cell_type": "markdown",
   "metadata": {},
   "source": [
    "<a id='sec1_1'></a>\n",
    "## 2. A. Project Overview\n",
    "<div style=\"text-align: right\"><right><a href=\"#top\">Table of Content</a></div>\n",
    "\n",
    "<span style=\"color:red\">state the high-level overview of the project, including the background information such as problem domain, project origin, and related data sets or input data.</span>\n"
   ]
  },
  {
   "cell_type": "markdown",
   "metadata": {},
   "source": [
    "This is the final project of my Udacity Data Scientist Nanodegree. I chose the Starbuck's Capstone Challenge project because I'm interested in the experience of studying user demographic purchasing behavior across different offer types to determine which demographics respond best to which offer type.\n",
    "\n",
    "The data consists of simulated data that mimics customer behavior in the Starbucks Rewards mobile app. Starbuck regularly sends customers offers through the mobile app. The offers contain either advertising or various discount options.\n",
    "\n",
    "Identifying the top responding demographics by offer type requires combining transactional, demographic, and offer data."
   ]
  },
  {
   "cell_type": "markdown",
   "metadata": {},
   "source": [
    "<a id='sec1_2'></a>\n",
    "## 2. B. Problem Statement\n",
    "<div style=\"text-align: right\"><right><a href=\"#top\">Table of Content</a></div>\n",
    "\n",
    "<span style=\"color:red\">define the problem to be solved.</span>\n"
   ]
  },
  {
   "cell_type": "markdown",
   "metadata": {},
   "source": [
    "For this project Starbucks and Udacity are providing 3 data sets:\n",
    "\n",
    "1. **Protfolio (offer)** - Containing offer ids and meta data about each offer sent during a 30-day test period (duration, type, etc.)\n",
    "2. **Profile (demographic)** - Containing demographic data of the rewards program for each customer.\n",
    "3. **Transcript (transaction records)** - Containing event logs like records for transactions, offers received, offers viewed, and offers completed.\n",
    "\n",
    "\n",
    "##### **Facts:**\n",
    "* The users might not receive any offer in a specific time range.\n",
    "* The users are receiving different kinds of offers.\n",
    "\n",
    "\n",
    "##### **Tasks:**\n",
    "\n",
    "1. Exploring the data by wrangling.\n",
    "2. Data Analyse by Visualization of the data.\n",
    "3. Preprocessing the data.\n",
    "4. Implementation of the maschine learning model.\n",
    "5. Refinement of the maschine learning model.\n",
    "6. Evaluation of the maschine learning model and justification of the results.\n",
    "7. Reflection about the solution and protential improvements.\n",
    "\n",
    "##### **Challenges:**\n",
    "\n",
    "1. C1: My main objective is to implement a logic that makes it possible to predict the demographic of customers who will buy without being influenced by an offer.\n",
    "\n",
    "<span style=\"color:red\">2. C2: My main objective is to implement a logic that predicts the amount of money a customer spends based on demographics and offer type</span>\n",
    "\n",
    "<span style=\"color:red\">3. C3: My main objective is to implement a logic that predicts if a customer will respond to an offer.</span>\n",
    "\n",
    "<span style=\"color:red\">4. C4: My main objective is to implement set of heuristics to determine to offer which should be send to each customer (i.e., 75 percent of women customers who were 35 years old responded to offer A vs 40 percent from the same demographic to offer B, so send offer A).\n",
    "</span>"
   ]
  },
  {
   "cell_type": "markdown",
   "metadata": {},
   "source": [
    "<a id='sec1_3'></a>\n",
    "## 2. C. Metrics\n",
    "<div style=\"text-align: right\"><right><a href=\"#top\">Table of Content</a></div>\n",
    "\n",
    "<span style=\"color:red\">define the metrics to measure the results and justifications to use the metrics. For example, if you use time-series data sets, what metrics will be appropriate to measure the results.</span>\n"
   ]
  },
  {
   "cell_type": "markdown",
   "metadata": {},
   "source": [
    "<a id='sec2'></a>\n",
    "# 3. Section 2: Exploratory Data Analysis\n",
    "<div style=\"text-align: right\"><right><a href=\"#top\">Table of Content</a></div>"
   ]
  },
  {
   "cell_type": "markdown",
   "metadata": {},
   "source": [
    "<a id='sec2_1'></a>\n",
    "## 3. A. Data Exploration\n",
    "<div style=\"text-align: right\"><right><a href=\"#top\">Table of Content</a></div>\n",
    "\n",
    "#### Description of the data sets, including the features, data distributions, and descriptive statistics. Identification of any abnormalities or specific characteristics inherent in the data sets.<br>"
   ]
  },
  {
   "cell_type": "markdown",
   "metadata": {},
   "source": [
    "### Imported Libraries and Modules\n",
    "\n",
    "> **OS** a python module which priveds functions for interacting with the operating system OS.\n",
    "\n",
    "> **Numpy** a Python library for working with arrays.\n",
    "\n",
    "> **Pandas** a Python library for data manipulating and analysis.\n",
    "    \n",
    "> **import math** math module has a set of methods and constants.\n",
    "\n",
    "> **import json** to work with JSON data.\n",
    "\n",
    "> **Matplotlib** a Python library for data visualizations.\n",
    "\n",
    "> **%matplotlib inline** a magic function for inline plotting of graphs.\n",
    "\n",
    "> **Seaborn** a Python library for data visuallization based on matplotlib.\n",
    "\n",
    "> **sns.set_style** to define the seaborn figure aesthetic as \"darkgrid\".\n",
    "    \n"
   ]
  },
  {
   "cell_type": "code",
   "execution_count": 1,
   "metadata": {},
   "outputs": [],
   "source": [
    "# Importing Libraries\n",
    "import os as os\n",
    "import numpy as np\n",
    "import pandas as pd\n",
    "import math\n",
    "import json\n",
    "import matplotlib.pyplot as plt\n",
    "%matplotlib inline\n",
    "import seaborn as sns\n",
    "sns.set_style('darkgrid')\n",
    "\n",
    "import itertools\n"
   ]
  },
  {
   "cell_type": "markdown",
   "metadata": {},
   "source": [
    "<a id='sec2_11'></a>\n",
    "## 3. A. a. Data Wrangling\n",
    "<div style=\"text-align: right\"><right><a href=\"#top\">Table of Content</a></div>\n"
   ]
  },
  {
   "cell_type": "code",
   "execution_count": 2,
   "metadata": {},
   "outputs": [],
   "source": [
    "# Reading in the json files\n",
    "portfolio = pd.read_json('data/portfolio.json', orient='records', lines=True)\n",
    "profile = pd.read_json('data/profile.json', orient='records', lines=True)\n",
    "transcript = pd.read_json('data/transcript.json', orient='records', lines=True)\n"
   ]
  },
  {
   "cell_type": "markdown",
   "metadata": {},
   "source": [
    "<a id='sec2_111'></a>\n",
    "## Portfolio (offer) - General Properties of Fata Frame\n",
    "<div style=\"text-align: right\"><right><a href=\"#top\">Table of Content</a></div>"
   ]
  },
  {
   "cell_type": "markdown",
   "metadata": {},
   "source": [
    "#### Information: Offers sent during 30-day test period (10 offers x 6 fields)\n",
    "\n",
    ">* reward: (numeric) money awarded for the amount spent\n",
    ">* channels: (list) web, email, mobile, social\n",
    ">* difficulty: (numeric) money required to be spent to receive reward\n",
    ">* duration: (numeric) time for offer to be open, in days\n",
    ">* offer_type: (string) bogo, discount, informational\n",
    ">* id: (string/hash)<br>\n"
   ]
  },
  {
   "cell_type": "code",
   "execution_count": 3,
   "metadata": {},
   "outputs": [
    {
     "data": {
      "text/plain": [
       "(10, 6)"
      ]
     },
     "execution_count": 3,
     "metadata": {},
     "output_type": "execute_result"
    }
   ],
   "source": [
    "# Checking the shape of the data frame\n",
    "portfolio.shape\n"
   ]
  },
  {
   "cell_type": "markdown",
   "metadata": {},
   "source": [
    "**Conclusion:** The data frame consits of *6* columns and *10* rows."
   ]
  },
  {
   "cell_type": "code",
   "execution_count": 4,
   "metadata": {},
   "outputs": [
    {
     "data": {
      "text/html": [
       "<div>\n",
       "<style scoped>\n",
       "    .dataframe tbody tr th:only-of-type {\n",
       "        vertical-align: middle;\n",
       "    }\n",
       "\n",
       "    .dataframe tbody tr th {\n",
       "        vertical-align: top;\n",
       "    }\n",
       "\n",
       "    .dataframe thead th {\n",
       "        text-align: right;\n",
       "    }\n",
       "</style>\n",
       "<table border=\"1\" class=\"dataframe\">\n",
       "  <thead>\n",
       "    <tr style=\"text-align: right;\">\n",
       "      <th></th>\n",
       "      <th>channels</th>\n",
       "      <th>difficulty</th>\n",
       "      <th>duration</th>\n",
       "      <th>id</th>\n",
       "      <th>offer_type</th>\n",
       "      <th>reward</th>\n",
       "    </tr>\n",
       "  </thead>\n",
       "  <tbody>\n",
       "    <tr>\n",
       "      <th>0</th>\n",
       "      <td>[email, mobile, social]</td>\n",
       "      <td>10</td>\n",
       "      <td>7</td>\n",
       "      <td>ae264e3637204a6fb9bb56bc8210ddfd</td>\n",
       "      <td>bogo</td>\n",
       "      <td>10</td>\n",
       "    </tr>\n",
       "    <tr>\n",
       "      <th>1</th>\n",
       "      <td>[web, email, mobile, social]</td>\n",
       "      <td>10</td>\n",
       "      <td>5</td>\n",
       "      <td>4d5c57ea9a6940dd891ad53e9dbe8da0</td>\n",
       "      <td>bogo</td>\n",
       "      <td>10</td>\n",
       "    </tr>\n",
       "    <tr>\n",
       "      <th>2</th>\n",
       "      <td>[web, email, mobile]</td>\n",
       "      <td>0</td>\n",
       "      <td>4</td>\n",
       "      <td>3f207df678b143eea3cee63160fa8bed</td>\n",
       "      <td>informational</td>\n",
       "      <td>0</td>\n",
       "    </tr>\n",
       "    <tr>\n",
       "      <th>3</th>\n",
       "      <td>[web, email, mobile]</td>\n",
       "      <td>5</td>\n",
       "      <td>7</td>\n",
       "      <td>9b98b8c7a33c4b65b9aebfe6a799e6d9</td>\n",
       "      <td>bogo</td>\n",
       "      <td>5</td>\n",
       "    </tr>\n",
       "    <tr>\n",
       "      <th>4</th>\n",
       "      <td>[web, email]</td>\n",
       "      <td>20</td>\n",
       "      <td>10</td>\n",
       "      <td>0b1e1539f2cc45b7b9fa7c272da2e1d7</td>\n",
       "      <td>discount</td>\n",
       "      <td>5</td>\n",
       "    </tr>\n",
       "  </tbody>\n",
       "</table>\n",
       "</div>"
      ],
      "text/plain": [
       "                       channels  difficulty  duration  \\\n",
       "0       [email, mobile, social]          10         7   \n",
       "1  [web, email, mobile, social]          10         5   \n",
       "2          [web, email, mobile]           0         4   \n",
       "3          [web, email, mobile]           5         7   \n",
       "4                  [web, email]          20        10   \n",
       "\n",
       "                                 id     offer_type  reward  \n",
       "0  ae264e3637204a6fb9bb56bc8210ddfd           bogo      10  \n",
       "1  4d5c57ea9a6940dd891ad53e9dbe8da0           bogo      10  \n",
       "2  3f207df678b143eea3cee63160fa8bed  informational       0  \n",
       "3  9b98b8c7a33c4b65b9aebfe6a799e6d9           bogo       5  \n",
       "4  0b1e1539f2cc45b7b9fa7c272da2e1d7       discount       5  "
      ]
     },
     "execution_count": 4,
     "metadata": {},
     "output_type": "execute_result"
    }
   ],
   "source": [
    "# Displaying data frame to get an idea of the data\n",
    "portfolio.head()\n"
   ]
  },
  {
   "cell_type": "markdown",
   "metadata": {},
   "source": [
    "**Conclusion:** \n",
    "1. Since the variable \"offer_type\" is relevant for this analysis its values will be investigated more detailed. \n",
    "2. The variable \"id\" represents the **offer id**. \n",
    "3. The variable \"channels\" will be split in categorical variables based on its values."
   ]
  },
  {
   "cell_type": "code",
   "execution_count": 5,
   "metadata": {
    "scrolled": true
   },
   "outputs": [
    {
     "name": "stdout",
     "output_type": "stream",
     "text": [
      "<class 'pandas.core.frame.DataFrame'>\n",
      "Int64Index: 10 entries, 0 to 9\n",
      "Data columns (total 6 columns):\n",
      "channels      10 non-null object\n",
      "difficulty    10 non-null int64\n",
      "duration      10 non-null int64\n",
      "id            10 non-null object\n",
      "offer_type    10 non-null object\n",
      "reward        10 non-null int64\n",
      "dtypes: int64(3), object(3)\n",
      "memory usage: 560.0+ bytes\n"
     ]
    }
   ],
   "source": [
    "# Checking a concise summary of the dataframe\n",
    "portfolio.info()\n"
   ]
  },
  {
   "cell_type": "code",
   "execution_count": 6,
   "metadata": {},
   "outputs": [
    {
     "data": {
      "text/plain": [
       "channels      object\n",
       "difficulty     int64\n",
       "duration       int64\n",
       "id            object\n",
       "offer_type    object\n",
       "reward         int64\n",
       "dtype: object"
      ]
     },
     "execution_count": 6,
     "metadata": {},
     "output_type": "execute_result"
    }
   ],
   "source": [
    "# Checking the dtype of the dataframe\n",
    "portfolio.dtypes\n"
   ]
  },
  {
   "cell_type": "markdown",
   "metadata": {},
   "source": [
    "**Conclusion:** The data frame contains two different data types `object` and `int64`. "
   ]
  },
  {
   "cell_type": "code",
   "execution_count": 7,
   "metadata": {
    "scrolled": true
   },
   "outputs": [
    {
     "data": {
      "text/plain": [
       "channels      0\n",
       "difficulty    0\n",
       "duration      0\n",
       "id            0\n",
       "offer_type    0\n",
       "reward        0\n",
       "dtype: int64"
      ]
     },
     "execution_count": 7,
     "metadata": {},
     "output_type": "execute_result"
    }
   ],
   "source": [
    "# Checking the number of missing values\n",
    "portfolio.isnull().sum()\n"
   ]
  },
  {
   "cell_type": "markdown",
   "metadata": {},
   "source": [
    "**Conclusion:** The data frame does not contain any NaN values."
   ]
  },
  {
   "cell_type": "code",
   "execution_count": 8,
   "metadata": {},
   "outputs": [
    {
     "data": {
      "text/plain": [
       "0"
      ]
     },
     "execution_count": 8,
     "metadata": {},
     "output_type": "execute_result"
    }
   ],
   "source": [
    "# Checking for duplicate values\n",
    "portfolio.columns.duplicated().sum()\n"
   ]
  },
  {
   "cell_type": "markdown",
   "metadata": {},
   "source": [
    "**Conclusion:** The data frame does not contain any duplicated values."
   ]
  },
  {
   "cell_type": "code",
   "execution_count": 9,
   "metadata": {
    "scrolled": false
   },
   "outputs": [
    {
     "data": {
      "text/plain": [
       "channels      10\n",
       "difficulty    10\n",
       "duration      10\n",
       "id            10\n",
       "offer_type    10\n",
       "reward        10\n",
       "dtype: int64"
      ]
     },
     "execution_count": 9,
     "metadata": {},
     "output_type": "execute_result"
    }
   ],
   "source": [
    "# Checking the unique values of the data frame based in 'id'\n",
    "portfolio.groupby('id').nunique().count()\n"
   ]
  },
  {
   "cell_type": "markdown",
   "metadata": {},
   "source": [
    "**Conclusion:** The data frame, grouped by the variable 'id' contains only unique values."
   ]
  },
  {
   "cell_type": "code",
   "execution_count": 10,
   "metadata": {},
   "outputs": [
    {
     "data": {
      "text/plain": [
       "offer_type\n",
       "bogo             4\n",
       "discount         4\n",
       "informational    2\n",
       "Name: id, dtype: int64"
      ]
     },
     "execution_count": 10,
     "metadata": {},
     "output_type": "execute_result"
    }
   ],
   "source": [
    "# Checking and counting the \"offer_type\" values \n",
    "portfolio.groupby('offer_type')['id'].count()\n"
   ]
  },
  {
   "cell_type": "markdown",
   "metadata": {},
   "source": [
    "**Conclusion:** The variable \"offer_type\" contains 3 values: \n",
    "* `bogo` with a count of *4*,\n",
    "> Meaning: Buy one get one free.\n",
    "* `discount` also with a count of *4* and\n",
    "> Meaning: Regular discount for an order. \n",
    "* `informational` with a count of *2*.\n",
    "> Meaning: Special offers."
   ]
  },
  {
   "cell_type": "markdown",
   "metadata": {},
   "source": [
    "## Portfolio (offer) - Cleaning"
   ]
  },
  {
   "cell_type": "markdown",
   "metadata": {},
   "source": [
    "**Tasks:**\n",
    "1. Renaming the variable \"id\"in \"offer_id\".\n",
    "2. Splitting the variable \"channels\" in categorical variables based on its values.\n"
   ]
  },
  {
   "cell_type": "code",
   "execution_count": 11,
   "metadata": {},
   "outputs": [],
   "source": [
    "# Copying the data frame\n",
    "portfolio_clean = portfolio.copy()\n"
   ]
  },
  {
   "cell_type": "markdown",
   "metadata": {},
   "source": [
    "**Result:** The data frame is copied."
   ]
  },
  {
   "cell_type": "markdown",
   "metadata": {},
   "source": [
    "### Renaming the variable \"id\"in \"offer_id\"."
   ]
  },
  {
   "cell_type": "markdown",
   "metadata": {},
   "source": [
    "#### Code"
   ]
  },
  {
   "cell_type": "code",
   "execution_count": 12,
   "metadata": {},
   "outputs": [],
   "source": [
    "# Renaming the column \"id\"\n",
    "portfolio_clean.rename(columns={'id':'offer_id'},inplace=True)\n"
   ]
  },
  {
   "cell_type": "markdown",
   "metadata": {},
   "source": [
    "#### Test"
   ]
  },
  {
   "cell_type": "code",
   "execution_count": 13,
   "metadata": {
    "scrolled": true
   },
   "outputs": [
    {
     "data": {
      "text/html": [
       "<div>\n",
       "<style scoped>\n",
       "    .dataframe tbody tr th:only-of-type {\n",
       "        vertical-align: middle;\n",
       "    }\n",
       "\n",
       "    .dataframe tbody tr th {\n",
       "        vertical-align: top;\n",
       "    }\n",
       "\n",
       "    .dataframe thead th {\n",
       "        text-align: right;\n",
       "    }\n",
       "</style>\n",
       "<table border=\"1\" class=\"dataframe\">\n",
       "  <thead>\n",
       "    <tr style=\"text-align: right;\">\n",
       "      <th></th>\n",
       "      <th>channels</th>\n",
       "      <th>difficulty</th>\n",
       "      <th>duration</th>\n",
       "      <th>offer_id</th>\n",
       "      <th>offer_type</th>\n",
       "      <th>reward</th>\n",
       "    </tr>\n",
       "  </thead>\n",
       "  <tbody>\n",
       "    <tr>\n",
       "      <th>0</th>\n",
       "      <td>[email, mobile, social]</td>\n",
       "      <td>10</td>\n",
       "      <td>7</td>\n",
       "      <td>ae264e3637204a6fb9bb56bc8210ddfd</td>\n",
       "      <td>bogo</td>\n",
       "      <td>10</td>\n",
       "    </tr>\n",
       "    <tr>\n",
       "      <th>1</th>\n",
       "      <td>[web, email, mobile, social]</td>\n",
       "      <td>10</td>\n",
       "      <td>5</td>\n",
       "      <td>4d5c57ea9a6940dd891ad53e9dbe8da0</td>\n",
       "      <td>bogo</td>\n",
       "      <td>10</td>\n",
       "    </tr>\n",
       "    <tr>\n",
       "      <th>2</th>\n",
       "      <td>[web, email, mobile]</td>\n",
       "      <td>0</td>\n",
       "      <td>4</td>\n",
       "      <td>3f207df678b143eea3cee63160fa8bed</td>\n",
       "      <td>informational</td>\n",
       "      <td>0</td>\n",
       "    </tr>\n",
       "    <tr>\n",
       "      <th>3</th>\n",
       "      <td>[web, email, mobile]</td>\n",
       "      <td>5</td>\n",
       "      <td>7</td>\n",
       "      <td>9b98b8c7a33c4b65b9aebfe6a799e6d9</td>\n",
       "      <td>bogo</td>\n",
       "      <td>5</td>\n",
       "    </tr>\n",
       "    <tr>\n",
       "      <th>4</th>\n",
       "      <td>[web, email]</td>\n",
       "      <td>20</td>\n",
       "      <td>10</td>\n",
       "      <td>0b1e1539f2cc45b7b9fa7c272da2e1d7</td>\n",
       "      <td>discount</td>\n",
       "      <td>5</td>\n",
       "    </tr>\n",
       "  </tbody>\n",
       "</table>\n",
       "</div>"
      ],
      "text/plain": [
       "                       channels  difficulty  duration  \\\n",
       "0       [email, mobile, social]          10         7   \n",
       "1  [web, email, mobile, social]          10         5   \n",
       "2          [web, email, mobile]           0         4   \n",
       "3          [web, email, mobile]           5         7   \n",
       "4                  [web, email]          20        10   \n",
       "\n",
       "                           offer_id     offer_type  reward  \n",
       "0  ae264e3637204a6fb9bb56bc8210ddfd           bogo      10  \n",
       "1  4d5c57ea9a6940dd891ad53e9dbe8da0           bogo      10  \n",
       "2  3f207df678b143eea3cee63160fa8bed  informational       0  \n",
       "3  9b98b8c7a33c4b65b9aebfe6a799e6d9           bogo       5  \n",
       "4  0b1e1539f2cc45b7b9fa7c272da2e1d7       discount       5  "
      ]
     },
     "execution_count": 13,
     "metadata": {},
     "output_type": "execute_result"
    }
   ],
   "source": [
    "# # Displaying the new data frame to check the changes\n",
    "portfolio_clean.head()\n"
   ]
  },
  {
   "cell_type": "markdown",
   "metadata": {},
   "source": [
    "**Result:** The column \"id\" is renamed in \"offer_id\"."
   ]
  },
  {
   "cell_type": "markdown",
   "metadata": {},
   "source": [
    "<a id='sec2_112'></a>\n",
    "## Profile (demographic) - General Properties of Fata Frame\n",
    "<div style=\"text-align: right\"><right><a href=\"#top\">Table of Content</a></div>"
   ]
  },
  {
   "cell_type": "markdown",
   "metadata": {},
   "source": [
    "#### Information: Rewards program users (17000 users x 5 fields)\n",
    "\n",
    ">* gender: (categorical) M, F, O, or null\n",
    ">* age: (numeric) missing value encoded as 118\n",
    ">* id: (string/hash)\n",
    ">* became_member_on: (date) format YYYYMMDD\n",
    ">* income: (numeric)\n"
   ]
  },
  {
   "cell_type": "code",
   "execution_count": 14,
   "metadata": {},
   "outputs": [
    {
     "data": {
      "text/plain": [
       "(17000, 5)"
      ]
     },
     "execution_count": 14,
     "metadata": {},
     "output_type": "execute_result"
    }
   ],
   "source": [
    "# Checking the shape of the data frame\n",
    "profile.shape\n"
   ]
  },
  {
   "cell_type": "markdown",
   "metadata": {},
   "source": [
    "**Conclusion:** The data frame consits of *5* columns and *17,000* rows."
   ]
  },
  {
   "cell_type": "code",
   "execution_count": 15,
   "metadata": {
    "scrolled": false
   },
   "outputs": [
    {
     "data": {
      "text/html": [
       "<div>\n",
       "<style scoped>\n",
       "    .dataframe tbody tr th:only-of-type {\n",
       "        vertical-align: middle;\n",
       "    }\n",
       "\n",
       "    .dataframe tbody tr th {\n",
       "        vertical-align: top;\n",
       "    }\n",
       "\n",
       "    .dataframe thead th {\n",
       "        text-align: right;\n",
       "    }\n",
       "</style>\n",
       "<table border=\"1\" class=\"dataframe\">\n",
       "  <thead>\n",
       "    <tr style=\"text-align: right;\">\n",
       "      <th></th>\n",
       "      <th>age</th>\n",
       "      <th>became_member_on</th>\n",
       "      <th>gender</th>\n",
       "      <th>id</th>\n",
       "      <th>income</th>\n",
       "    </tr>\n",
       "  </thead>\n",
       "  <tbody>\n",
       "    <tr>\n",
       "      <th>0</th>\n",
       "      <td>118</td>\n",
       "      <td>20170212</td>\n",
       "      <td>None</td>\n",
       "      <td>68be06ca386d4c31939f3a4f0e3dd783</td>\n",
       "      <td>NaN</td>\n",
       "    </tr>\n",
       "    <tr>\n",
       "      <th>1</th>\n",
       "      <td>55</td>\n",
       "      <td>20170715</td>\n",
       "      <td>F</td>\n",
       "      <td>0610b486422d4921ae7d2bf64640c50b</td>\n",
       "      <td>112000.0</td>\n",
       "    </tr>\n",
       "    <tr>\n",
       "      <th>2</th>\n",
       "      <td>118</td>\n",
       "      <td>20180712</td>\n",
       "      <td>None</td>\n",
       "      <td>38fe809add3b4fcf9315a9694bb96ff5</td>\n",
       "      <td>NaN</td>\n",
       "    </tr>\n",
       "    <tr>\n",
       "      <th>3</th>\n",
       "      <td>75</td>\n",
       "      <td>20170509</td>\n",
       "      <td>F</td>\n",
       "      <td>78afa995795e4d85b5d9ceeca43f5fef</td>\n",
       "      <td>100000.0</td>\n",
       "    </tr>\n",
       "    <tr>\n",
       "      <th>4</th>\n",
       "      <td>118</td>\n",
       "      <td>20170804</td>\n",
       "      <td>None</td>\n",
       "      <td>a03223e636434f42ac4c3df47e8bac43</td>\n",
       "      <td>NaN</td>\n",
       "    </tr>\n",
       "  </tbody>\n",
       "</table>\n",
       "</div>"
      ],
      "text/plain": [
       "   age  became_member_on gender                                id    income\n",
       "0  118          20170212   None  68be06ca386d4c31939f3a4f0e3dd783       NaN\n",
       "1   55          20170715      F  0610b486422d4921ae7d2bf64640c50b  112000.0\n",
       "2  118          20180712   None  38fe809add3b4fcf9315a9694bb96ff5       NaN\n",
       "3   75          20170509      F  78afa995795e4d85b5d9ceeca43f5fef  100000.0\n",
       "4  118          20170804   None  a03223e636434f42ac4c3df47e8bac43       NaN"
      ]
     },
     "execution_count": 15,
     "metadata": {},
     "output_type": "execute_result"
    }
   ],
   "source": [
    "# Displaying data frame to get an idea of the data\n",
    "profile.head()\n"
   ]
  },
  {
   "cell_type": "markdown",
   "metadata": {},
   "source": [
    "**Conclusion:**\n",
    "1. The following variables values will be investigated more detailed since they are relevant for this analysis:\n",
    " * \"gender\"\n",
    "    * \"None\" values \n",
    " * \"income\"\n",
    "    * \"NaN\" values   \n",
    "2. The variable \"age\" contains values which are unrealistically high.\n",
    " *  `profile['age'][0]` &rarr; value = *118*\n",
    "3. There is also a correlation between the three variables:\n",
    "\n",
    "index  | gender | income | age\n",
    ":----: | :----: | :----: | :----:\n",
    "0      | None   | NaN    | 118\n",
    "2      | None   | NaN    | 118\n",
    "4      | None   | NaN    | 118\n",
    "...    | ...    | ...    | ... \n",
    "\n",
    "4. The variable \"id\" represents the **customer id**.\n"
   ]
  },
  {
   "cell_type": "code",
   "execution_count": 16,
   "metadata": {
    "scrolled": true
   },
   "outputs": [
    {
     "name": "stdout",
     "output_type": "stream",
     "text": [
      "<class 'pandas.core.frame.DataFrame'>\n",
      "Int64Index: 17000 entries, 0 to 16999\n",
      "Data columns (total 5 columns):\n",
      "age                 17000 non-null int64\n",
      "became_member_on    17000 non-null int64\n",
      "gender              14825 non-null object\n",
      "id                  17000 non-null object\n",
      "income              14825 non-null float64\n",
      "dtypes: float64(1), int64(2), object(2)\n",
      "memory usage: 796.9+ KB\n"
     ]
    }
   ],
   "source": [
    "# Checking a concise summary of the dataframe\n",
    "profile.info()\n"
   ]
  },
  {
   "cell_type": "code",
   "execution_count": 17,
   "metadata": {
    "scrolled": false
   },
   "outputs": [
    {
     "data": {
      "text/plain": [
       "age                   int64\n",
       "became_member_on      int64\n",
       "gender               object\n",
       "id                   object\n",
       "income              float64\n",
       "dtype: object"
      ]
     },
     "execution_count": 17,
     "metadata": {},
     "output_type": "execute_result"
    }
   ],
   "source": [
    "# Checking the dtype of the dataframe\n",
    "profile.dtypes\n"
   ]
  },
  {
   "cell_type": "markdown",
   "metadata": {},
   "source": [
    "**Conclusion:** \n",
    "1. The data frame contains three different data types:\n",
    " * `object`\n",
    " * `int64`\n",
    " * `float64`\n",
    "2. The variable \"became_member_on\" should be converted into a date format. <br>\n",
    "It is also possible that there is a correlation with the offers, which can be investigated."
   ]
  },
  {
   "cell_type": "code",
   "execution_count": 18,
   "metadata": {},
   "outputs": [
    {
     "data": {
      "text/plain": [
       "age                    0\n",
       "became_member_on       0\n",
       "gender              2175\n",
       "id                     0\n",
       "income              2175\n",
       "dtype: int64"
      ]
     },
     "execution_count": 18,
     "metadata": {},
     "output_type": "execute_result"
    }
   ],
   "source": [
    "# Checking the number of missing values\n",
    "profile.isnull().sum()\n"
   ]
  },
  {
   "cell_type": "markdown",
   "metadata": {},
   "source": [
    "**Conclusion:** \n",
    "1. The following variables of the data frame are containing NaN values:\n",
    " * \"gender\"\n",
    " * \"income\" \n",
    "2. The amount of NaN values of both variables is equal. The sum is *2175*."
   ]
  },
  {
   "cell_type": "code",
   "execution_count": 19,
   "metadata": {},
   "outputs": [],
   "source": [
    "# Function: Defining function to create a list of values existig in the variable (column).\n",
    "def f_create_var_list(df, col_name):\n",
    "    '''\n",
    "    INPUT:\n",
    "    df - Pandas data frame with dictionary to create new columns.\n",
    "    col_name - List of values (strings) of the variable (columns).\n",
    "    \n",
    "    OUTPUT:\n",
    "    var_list - New list of the following characteristics:\n",
    "            1. Contains all values of a variable in a list. \n",
    "    Description:\n",
    "    Creates a list of values existig in a variable (column).\n",
    "    '''\n",
    "    var_list = list(dict.fromkeys(df[col_name]))\n",
    "\n",
    "\n",
    "    return var_list\n"
   ]
  },
  {
   "cell_type": "markdown",
   "metadata": {},
   "source": [
    "**Result:** A function is created to create a list of values existig in a variable (column)."
   ]
  },
  {
   "cell_type": "code",
   "execution_count": 20,
   "metadata": {},
   "outputs": [
    {
     "data": {
      "text/plain": [
       "[None, 'F', 'M', 'O']"
      ]
     },
     "execution_count": 20,
     "metadata": {},
     "output_type": "execute_result"
    }
   ],
   "source": [
    "# Using the function: f_create_var_list\n",
    "f_create_var_list(profile, 'gender')\n"
   ]
  },
  {
   "cell_type": "markdown",
   "metadata": {},
   "source": [
    "**Conclusion:** The variable \"gender\" cointains the values:\n",
    " * F &rarr; 'Female'\n",
    " * M &rarr; 'Male'\n",
    " * O &rarr; 'Other'\n",
    " * NaN &rarr; 'None'"
   ]
  },
  {
   "cell_type": "code",
   "execution_count": 21,
   "metadata": {},
   "outputs": [
    {
     "data": {
      "text/plain": [
       "0"
      ]
     },
     "execution_count": 21,
     "metadata": {},
     "output_type": "execute_result"
    }
   ],
   "source": [
    "# Checking for duplicate values\n",
    "profile.columns.duplicated().sum()\n"
   ]
  },
  {
   "cell_type": "markdown",
   "metadata": {},
   "source": [
    "**Conclusion:** The data frame does not contain any duplicated values."
   ]
  },
  {
   "cell_type": "code",
   "execution_count": 22,
   "metadata": {},
   "outputs": [
    {
     "data": {
      "text/plain": [
       "age                 17000\n",
       "became_member_on    17000\n",
       "gender              17000\n",
       "id                  17000\n",
       "income              17000\n",
       "dtype: int64"
      ]
     },
     "execution_count": 22,
     "metadata": {},
     "output_type": "execute_result"
    }
   ],
   "source": [
    "# Showing the unique values of the data frame\n",
    "profile.groupby('id').nunique().count()\n"
   ]
  },
  {
   "cell_type": "markdown",
   "metadata": {},
   "source": [
    "**Conclusion:** The data frame, grouped by the variable 'id' contains only unique values."
   ]
  },
  {
   "cell_type": "code",
   "execution_count": 23,
   "metadata": {
    "scrolled": false
   },
   "outputs": [
    {
     "data": {
      "text/html": [
       "<div>\n",
       "<style scoped>\n",
       "    .dataframe tbody tr th:only-of-type {\n",
       "        vertical-align: middle;\n",
       "    }\n",
       "\n",
       "    .dataframe tbody tr th {\n",
       "        vertical-align: top;\n",
       "    }\n",
       "\n",
       "    .dataframe thead th {\n",
       "        text-align: right;\n",
       "    }\n",
       "</style>\n",
       "<table border=\"1\" class=\"dataframe\">\n",
       "  <thead>\n",
       "    <tr style=\"text-align: right;\">\n",
       "      <th></th>\n",
       "      <th>age</th>\n",
       "      <th>became_member_on</th>\n",
       "      <th>gender</th>\n",
       "      <th>id</th>\n",
       "      <th>income</th>\n",
       "    </tr>\n",
       "  </thead>\n",
       "  <tbody>\n",
       "    <tr>\n",
       "      <th>0</th>\n",
       "      <td>118</td>\n",
       "      <td>20170212</td>\n",
       "      <td>None</td>\n",
       "      <td>68be06ca386d4c31939f3a4f0e3dd783</td>\n",
       "      <td>NaN</td>\n",
       "    </tr>\n",
       "    <tr>\n",
       "      <th>2</th>\n",
       "      <td>118</td>\n",
       "      <td>20180712</td>\n",
       "      <td>None</td>\n",
       "      <td>38fe809add3b4fcf9315a9694bb96ff5</td>\n",
       "      <td>NaN</td>\n",
       "    </tr>\n",
       "    <tr>\n",
       "      <th>4</th>\n",
       "      <td>118</td>\n",
       "      <td>20170804</td>\n",
       "      <td>None</td>\n",
       "      <td>a03223e636434f42ac4c3df47e8bac43</td>\n",
       "      <td>NaN</td>\n",
       "    </tr>\n",
       "    <tr>\n",
       "      <th>6</th>\n",
       "      <td>118</td>\n",
       "      <td>20170925</td>\n",
       "      <td>None</td>\n",
       "      <td>8ec6ce2a7e7949b1bf142def7d0e0586</td>\n",
       "      <td>NaN</td>\n",
       "    </tr>\n",
       "    <tr>\n",
       "      <th>7</th>\n",
       "      <td>118</td>\n",
       "      <td>20171002</td>\n",
       "      <td>None</td>\n",
       "      <td>68617ca6246f4fbc85e91a2a49552598</td>\n",
       "      <td>NaN</td>\n",
       "    </tr>\n",
       "  </tbody>\n",
       "</table>\n",
       "</div>"
      ],
      "text/plain": [
       "   age  became_member_on gender                                id  income\n",
       "0  118          20170212   None  68be06ca386d4c31939f3a4f0e3dd783     NaN\n",
       "2  118          20180712   None  38fe809add3b4fcf9315a9694bb96ff5     NaN\n",
       "4  118          20170804   None  a03223e636434f42ac4c3df47e8bac43     NaN\n",
       "6  118          20170925   None  8ec6ce2a7e7949b1bf142def7d0e0586     NaN\n",
       "7  118          20171002   None  68617ca6246f4fbc85e91a2a49552598     NaN"
      ]
     },
     "execution_count": 23,
     "metadata": {},
     "output_type": "execute_result"
    }
   ],
   "source": [
    "# Checking and counting the \"age\" values \n",
    "pro_118 = profile[profile['age'] == 118]\n",
    "pro_118.head()\n"
   ]
  },
  {
   "cell_type": "code",
   "execution_count": 24,
   "metadata": {},
   "outputs": [
    {
     "name": "stdout",
     "output_type": "stream",
     "text": [
      "Count of value \"(F) Female\" = 0\n",
      "Count of value \"(M) Male\" = 0\n",
      "Count of value \"(O) Other\" = 0\n",
      "Count of value \"(None) NaN\" = 2175\n"
     ]
    }
   ],
   "source": [
    "# Checking if there are any \"F\", \"M\" or \"O\" values in the variable \"gender\" \n",
    "# while filtering varibale \"age\" equal to the value 118\n",
    "pro_118_F = pro_118[pro_118['gender'] == 'F']['gender'].count()\n",
    "pro_118_M = pro_118[pro_118['gender'] == 'M']['gender'].count()\n",
    "pro_118_O = pro_118[pro_118['gender'] == 'O']['gender'].count()\n",
    "pro_118_NaN = pd.isna(pro_118[\"gender\"]).count()\n",
    "\n",
    "print('Count of value \"(F) Female\" = {}'.format(pro_118_F))\n",
    "print('Count of value \"(M) Male\" = {}'.format(pro_118_M))\n",
    "print('Count of value \"(O) Other\" = {}'.format(pro_118_O))\n",
    "print('Count of value \"(None) NaN\" = {}'.format(pro_118_NaN))\n"
   ]
  },
  {
   "cell_type": "markdown",
   "metadata": {},
   "source": [
    "**Conclusion:** \n",
    "\n",
    "1. The variable \"age\" filtered by the value of *118* shows that the variable \"gender\" does not include other values except of the \"NaN\" values.\n",
    "2. The amount of \"NaN\" values *2175* is equal to the amount of \"NaN\" values of the variable \"gender\" and \"income\" within the \"profile\" data frame.\n"
   ]
  },
  {
   "cell_type": "code",
   "execution_count": 25,
   "metadata": {
    "scrolled": false
   },
   "outputs": [
    {
     "data": {
      "text/html": [
       "<div>\n",
       "<style scoped>\n",
       "    .dataframe tbody tr th:only-of-type {\n",
       "        vertical-align: middle;\n",
       "    }\n",
       "\n",
       "    .dataframe tbody tr th {\n",
       "        vertical-align: top;\n",
       "    }\n",
       "\n",
       "    .dataframe thead th {\n",
       "        text-align: right;\n",
       "    }\n",
       "</style>\n",
       "<table border=\"1\" class=\"dataframe\">\n",
       "  <thead>\n",
       "    <tr style=\"text-align: right;\">\n",
       "      <th></th>\n",
       "      <th>count</th>\n",
       "      <th>mean</th>\n",
       "      <th>std</th>\n",
       "      <th>min</th>\n",
       "      <th>25%</th>\n",
       "      <th>50%</th>\n",
       "      <th>75%</th>\n",
       "      <th>max</th>\n",
       "    </tr>\n",
       "    <tr>\n",
       "      <th>gender</th>\n",
       "      <th></th>\n",
       "      <th></th>\n",
       "      <th></th>\n",
       "      <th></th>\n",
       "      <th></th>\n",
       "      <th></th>\n",
       "      <th></th>\n",
       "      <th></th>\n",
       "    </tr>\n",
       "  </thead>\n",
       "  <tbody>\n",
       "    <tr>\n",
       "      <th>F</th>\n",
       "      <td>6129.0</td>\n",
       "      <td>57.544950</td>\n",
       "      <td>16.883315</td>\n",
       "      <td>18.0</td>\n",
       "      <td>48.0</td>\n",
       "      <td>58.0</td>\n",
       "      <td>69.0</td>\n",
       "      <td>101.0</td>\n",
       "    </tr>\n",
       "    <tr>\n",
       "      <th>M</th>\n",
       "      <td>8484.0</td>\n",
       "      <td>52.116690</td>\n",
       "      <td>17.413894</td>\n",
       "      <td>18.0</td>\n",
       "      <td>39.0</td>\n",
       "      <td>53.0</td>\n",
       "      <td>65.0</td>\n",
       "      <td>100.0</td>\n",
       "    </tr>\n",
       "    <tr>\n",
       "      <th>O</th>\n",
       "      <td>212.0</td>\n",
       "      <td>54.400943</td>\n",
       "      <td>16.244710</td>\n",
       "      <td>20.0</td>\n",
       "      <td>43.0</td>\n",
       "      <td>55.0</td>\n",
       "      <td>66.0</td>\n",
       "      <td>100.0</td>\n",
       "    </tr>\n",
       "  </tbody>\n",
       "</table>\n",
       "</div>"
      ],
      "text/plain": [
       "         count       mean        std   min   25%   50%   75%    max\n",
       "gender                                                             \n",
       "F       6129.0  57.544950  16.883315  18.0  48.0  58.0  69.0  101.0\n",
       "M       8484.0  52.116690  17.413894  18.0  39.0  53.0  65.0  100.0\n",
       "O        212.0  54.400943  16.244710  20.0  43.0  55.0  66.0  100.0"
      ]
     },
     "execution_count": 25,
     "metadata": {},
     "output_type": "execute_result"
    }
   ],
   "source": [
    "# Calculating the descriptive statistics of the \"age\" values grouped by the variable \"gender\"\n",
    "# (50 % is equal to the median)\n",
    "profile.groupby('gender')['age'].describe()\n"
   ]
  },
  {
   "cell_type": "code",
   "execution_count": 26,
   "metadata": {},
   "outputs": [
    {
     "data": {
      "text/plain": [
       "2175"
      ]
     },
     "execution_count": 26,
     "metadata": {},
     "output_type": "execute_result"
    }
   ],
   "source": [
    "# Checking and counting the missing values of varibale \"gender\" \n",
    "profile['gender'].isnull().sum()\n"
   ]
  },
  {
   "cell_type": "markdown",
   "metadata": {},
   "source": [
    "**Conclusion:** \n",
    "\n",
    "1. The variable \"gender\" contains the following values and counts of values:\n",
    " * \"F - Female\" &rarr; count = *6129*\n",
    " * \"M - Male\" &rarr; count = *8484*\n",
    " * \"O - Other\" &rarr; count = *212*\n",
    " * \"None - NaN\" &rarr; count = *2175*\n",
    "\n",
    "\n",
    "2. The max value of the descriptive statistics displays that the highest age value of the \"gender\" values \"F\", \"M\" and \"O\" is below *118*.\n",
    " * \"F - Female\" &rarr; value = *101.0*\n",
    " * \"M - Male\" &rarr; value = *100.0*\n",
    " * \"O - Other\" &rarr; value = *100.0*"
   ]
  },
  {
   "cell_type": "markdown",
   "metadata": {},
   "source": [
    "## Profile (demographic) - Cleaning"
   ]
  },
  {
   "cell_type": "markdown",
   "metadata": {},
   "source": [
    "**Tasks:**\n",
    "1. Renaming the variable \"id\"in \"customer_id\".\n",
    "2. Converting the variable \"became_member_on\" into a date format."
   ]
  },
  {
   "cell_type": "code",
   "execution_count": 27,
   "metadata": {},
   "outputs": [],
   "source": [
    "# Copying the data frame\n",
    "profile_clean = profile.copy()\n"
   ]
  },
  {
   "cell_type": "markdown",
   "metadata": {},
   "source": [
    "**Result:** The data frame is copied."
   ]
  },
  {
   "cell_type": "markdown",
   "metadata": {},
   "source": [
    "### Renaming the variable \"id\"in \"customer_id\"."
   ]
  },
  {
   "cell_type": "markdown",
   "metadata": {},
   "source": [
    "#### Code"
   ]
  },
  {
   "cell_type": "code",
   "execution_count": 28,
   "metadata": {},
   "outputs": [],
   "source": [
    "# Renaming the column \"id\"\n",
    "profile_clean.rename(columns={'id':'customer_id'},inplace=True)\n"
   ]
  },
  {
   "cell_type": "markdown",
   "metadata": {},
   "source": [
    "#### Test"
   ]
  },
  {
   "cell_type": "code",
   "execution_count": 29,
   "metadata": {
    "scrolled": true
   },
   "outputs": [
    {
     "data": {
      "text/html": [
       "<div>\n",
       "<style scoped>\n",
       "    .dataframe tbody tr th:only-of-type {\n",
       "        vertical-align: middle;\n",
       "    }\n",
       "\n",
       "    .dataframe tbody tr th {\n",
       "        vertical-align: top;\n",
       "    }\n",
       "\n",
       "    .dataframe thead th {\n",
       "        text-align: right;\n",
       "    }\n",
       "</style>\n",
       "<table border=\"1\" class=\"dataframe\">\n",
       "  <thead>\n",
       "    <tr style=\"text-align: right;\">\n",
       "      <th></th>\n",
       "      <th>age</th>\n",
       "      <th>became_member_on</th>\n",
       "      <th>gender</th>\n",
       "      <th>customer_id</th>\n",
       "      <th>income</th>\n",
       "    </tr>\n",
       "  </thead>\n",
       "  <tbody>\n",
       "    <tr>\n",
       "      <th>0</th>\n",
       "      <td>118</td>\n",
       "      <td>20170212</td>\n",
       "      <td>None</td>\n",
       "      <td>68be06ca386d4c31939f3a4f0e3dd783</td>\n",
       "      <td>NaN</td>\n",
       "    </tr>\n",
       "    <tr>\n",
       "      <th>1</th>\n",
       "      <td>55</td>\n",
       "      <td>20170715</td>\n",
       "      <td>F</td>\n",
       "      <td>0610b486422d4921ae7d2bf64640c50b</td>\n",
       "      <td>112000.0</td>\n",
       "    </tr>\n",
       "    <tr>\n",
       "      <th>2</th>\n",
       "      <td>118</td>\n",
       "      <td>20180712</td>\n",
       "      <td>None</td>\n",
       "      <td>38fe809add3b4fcf9315a9694bb96ff5</td>\n",
       "      <td>NaN</td>\n",
       "    </tr>\n",
       "    <tr>\n",
       "      <th>3</th>\n",
       "      <td>75</td>\n",
       "      <td>20170509</td>\n",
       "      <td>F</td>\n",
       "      <td>78afa995795e4d85b5d9ceeca43f5fef</td>\n",
       "      <td>100000.0</td>\n",
       "    </tr>\n",
       "    <tr>\n",
       "      <th>4</th>\n",
       "      <td>118</td>\n",
       "      <td>20170804</td>\n",
       "      <td>None</td>\n",
       "      <td>a03223e636434f42ac4c3df47e8bac43</td>\n",
       "      <td>NaN</td>\n",
       "    </tr>\n",
       "  </tbody>\n",
       "</table>\n",
       "</div>"
      ],
      "text/plain": [
       "   age  became_member_on gender                       customer_id    income\n",
       "0  118          20170212   None  68be06ca386d4c31939f3a4f0e3dd783       NaN\n",
       "1   55          20170715      F  0610b486422d4921ae7d2bf64640c50b  112000.0\n",
       "2  118          20180712   None  38fe809add3b4fcf9315a9694bb96ff5       NaN\n",
       "3   75          20170509      F  78afa995795e4d85b5d9ceeca43f5fef  100000.0\n",
       "4  118          20170804   None  a03223e636434f42ac4c3df47e8bac43       NaN"
      ]
     },
     "execution_count": 29,
     "metadata": {},
     "output_type": "execute_result"
    }
   ],
   "source": [
    "# Displaying the new data frame to check the changes\n",
    "profile_clean.head()\n"
   ]
  },
  {
   "cell_type": "markdown",
   "metadata": {},
   "source": [
    "**Result:** The column \"id\" is renamed in \"customer_id\"."
   ]
  },
  {
   "cell_type": "markdown",
   "metadata": {},
   "source": [
    "### Converting the variable \"became_member_on\" into a date format."
   ]
  },
  {
   "cell_type": "markdown",
   "metadata": {},
   "source": [
    "#### Code"
   ]
  },
  {
   "cell_type": "code",
   "execution_count": 30,
   "metadata": {},
   "outputs": [],
   "source": [
    "# Converting the dtype of the column.\n",
    "profile_clean['became_member_on'] = pd.to_datetime(profile_clean['became_member_on'], format='%Y%m%d')\n"
   ]
  },
  {
   "cell_type": "markdown",
   "metadata": {},
   "source": [
    "**Result:** The data frame is copied."
   ]
  },
  {
   "cell_type": "markdown",
   "metadata": {},
   "source": [
    "#### Test"
   ]
  },
  {
   "cell_type": "code",
   "execution_count": 31,
   "metadata": {
    "scrolled": true
   },
   "outputs": [
    {
     "data": {
      "text/html": [
       "<div>\n",
       "<style scoped>\n",
       "    .dataframe tbody tr th:only-of-type {\n",
       "        vertical-align: middle;\n",
       "    }\n",
       "\n",
       "    .dataframe tbody tr th {\n",
       "        vertical-align: top;\n",
       "    }\n",
       "\n",
       "    .dataframe thead th {\n",
       "        text-align: right;\n",
       "    }\n",
       "</style>\n",
       "<table border=\"1\" class=\"dataframe\">\n",
       "  <thead>\n",
       "    <tr style=\"text-align: right;\">\n",
       "      <th></th>\n",
       "      <th>age</th>\n",
       "      <th>became_member_on</th>\n",
       "      <th>gender</th>\n",
       "      <th>customer_id</th>\n",
       "      <th>income</th>\n",
       "    </tr>\n",
       "  </thead>\n",
       "  <tbody>\n",
       "    <tr>\n",
       "      <th>0</th>\n",
       "      <td>118</td>\n",
       "      <td>2017-02-12</td>\n",
       "      <td>None</td>\n",
       "      <td>68be06ca386d4c31939f3a4f0e3dd783</td>\n",
       "      <td>NaN</td>\n",
       "    </tr>\n",
       "    <tr>\n",
       "      <th>1</th>\n",
       "      <td>55</td>\n",
       "      <td>2017-07-15</td>\n",
       "      <td>F</td>\n",
       "      <td>0610b486422d4921ae7d2bf64640c50b</td>\n",
       "      <td>112000.0</td>\n",
       "    </tr>\n",
       "    <tr>\n",
       "      <th>2</th>\n",
       "      <td>118</td>\n",
       "      <td>2018-07-12</td>\n",
       "      <td>None</td>\n",
       "      <td>38fe809add3b4fcf9315a9694bb96ff5</td>\n",
       "      <td>NaN</td>\n",
       "    </tr>\n",
       "    <tr>\n",
       "      <th>3</th>\n",
       "      <td>75</td>\n",
       "      <td>2017-05-09</td>\n",
       "      <td>F</td>\n",
       "      <td>78afa995795e4d85b5d9ceeca43f5fef</td>\n",
       "      <td>100000.0</td>\n",
       "    </tr>\n",
       "    <tr>\n",
       "      <th>4</th>\n",
       "      <td>118</td>\n",
       "      <td>2017-08-04</td>\n",
       "      <td>None</td>\n",
       "      <td>a03223e636434f42ac4c3df47e8bac43</td>\n",
       "      <td>NaN</td>\n",
       "    </tr>\n",
       "  </tbody>\n",
       "</table>\n",
       "</div>"
      ],
      "text/plain": [
       "   age became_member_on gender                       customer_id    income\n",
       "0  118       2017-02-12   None  68be06ca386d4c31939f3a4f0e3dd783       NaN\n",
       "1   55       2017-07-15      F  0610b486422d4921ae7d2bf64640c50b  112000.0\n",
       "2  118       2018-07-12   None  38fe809add3b4fcf9315a9694bb96ff5       NaN\n",
       "3   75       2017-05-09      F  78afa995795e4d85b5d9ceeca43f5fef  100000.0\n",
       "4  118       2017-08-04   None  a03223e636434f42ac4c3df47e8bac43       NaN"
      ]
     },
     "execution_count": 31,
     "metadata": {},
     "output_type": "execute_result"
    }
   ],
   "source": [
    "# Displaying the new data frame to check the changes\n",
    "profile_clean.head()\n"
   ]
  },
  {
   "cell_type": "markdown",
   "metadata": {},
   "source": [
    "**Result:** The variable \"became_member_on\" is converted into a date format."
   ]
  },
  {
   "cell_type": "code",
   "execution_count": 32,
   "metadata": {},
   "outputs": [
    {
     "data": {
      "text/plain": [
       "(17000, 5)"
      ]
     },
     "execution_count": 32,
     "metadata": {},
     "output_type": "execute_result"
    }
   ],
   "source": [
    "# Checking the shape of the data frame\n",
    "profile_clean.shape\n"
   ]
  },
  {
   "cell_type": "markdown",
   "metadata": {},
   "source": [
    "**Result:** The data frame consits of *5* columns and *17,000* rows."
   ]
  },
  {
   "cell_type": "markdown",
   "metadata": {},
   "source": [
    "<a id='sec2_113'></a>\n",
    "## Transcript (transaction records) - General Properties of Fata Frame\n",
    "<div style=\"text-align: right\"><right><a href=\"#top\">Table of Content</a></div>"
   ]
  },
  {
   "cell_type": "markdown",
   "metadata": {},
   "source": [
    "#### Information: Event log (306648 events x 4 fields)\n",
    "\n",
    ">* person: (string/hash)\n",
    ">* event: (string) offer received, offer viewed, transaction, offer completed\n",
    ">* value: (dictionary) different values depending on event type\n",
    ">* offer id: (string/hash) not associated with any \"transaction\"\n",
    ">* amount: (numeric) money spent in \"transaction\"\n",
    ">* reward: (numeric) money gained from \"offer completed\"\n",
    ">* time: (numeric) hours after start of test\n"
   ]
  },
  {
   "cell_type": "code",
   "execution_count": 33,
   "metadata": {},
   "outputs": [
    {
     "data": {
      "text/plain": [
       "(306534, 4)"
      ]
     },
     "execution_count": 33,
     "metadata": {},
     "output_type": "execute_result"
    }
   ],
   "source": [
    "# Checking the shape of the data frame\n",
    "transcript.shape\n"
   ]
  },
  {
   "cell_type": "markdown",
   "metadata": {},
   "source": [
    "**Conclusion:** The data frame consits of *4* columns and *306,534* rows."
   ]
  },
  {
   "cell_type": "code",
   "execution_count": 34,
   "metadata": {
    "scrolled": false
   },
   "outputs": [
    {
     "data": {
      "text/html": [
       "<div>\n",
       "<style scoped>\n",
       "    .dataframe tbody tr th:only-of-type {\n",
       "        vertical-align: middle;\n",
       "    }\n",
       "\n",
       "    .dataframe tbody tr th {\n",
       "        vertical-align: top;\n",
       "    }\n",
       "\n",
       "    .dataframe thead th {\n",
       "        text-align: right;\n",
       "    }\n",
       "</style>\n",
       "<table border=\"1\" class=\"dataframe\">\n",
       "  <thead>\n",
       "    <tr style=\"text-align: right;\">\n",
       "      <th></th>\n",
       "      <th>event</th>\n",
       "      <th>person</th>\n",
       "      <th>time</th>\n",
       "      <th>value</th>\n",
       "    </tr>\n",
       "  </thead>\n",
       "  <tbody>\n",
       "    <tr>\n",
       "      <th>0</th>\n",
       "      <td>offer received</td>\n",
       "      <td>78afa995795e4d85b5d9ceeca43f5fef</td>\n",
       "      <td>0</td>\n",
       "      <td>{'offer id': '9b98b8c7a33c4b65b9aebfe6a799e6d9'}</td>\n",
       "    </tr>\n",
       "    <tr>\n",
       "      <th>1</th>\n",
       "      <td>offer received</td>\n",
       "      <td>a03223e636434f42ac4c3df47e8bac43</td>\n",
       "      <td>0</td>\n",
       "      <td>{'offer id': '0b1e1539f2cc45b7b9fa7c272da2e1d7'}</td>\n",
       "    </tr>\n",
       "    <tr>\n",
       "      <th>2</th>\n",
       "      <td>offer received</td>\n",
       "      <td>e2127556f4f64592b11af22de27a7932</td>\n",
       "      <td>0</td>\n",
       "      <td>{'offer id': '2906b810c7d4411798c6938adc9daaa5'}</td>\n",
       "    </tr>\n",
       "    <tr>\n",
       "      <th>3</th>\n",
       "      <td>offer received</td>\n",
       "      <td>8ec6ce2a7e7949b1bf142def7d0e0586</td>\n",
       "      <td>0</td>\n",
       "      <td>{'offer id': 'fafdcd668e3743c1bb461111dcafc2a4'}</td>\n",
       "    </tr>\n",
       "    <tr>\n",
       "      <th>4</th>\n",
       "      <td>offer received</td>\n",
       "      <td>68617ca6246f4fbc85e91a2a49552598</td>\n",
       "      <td>0</td>\n",
       "      <td>{'offer id': '4d5c57ea9a6940dd891ad53e9dbe8da0'}</td>\n",
       "    </tr>\n",
       "  </tbody>\n",
       "</table>\n",
       "</div>"
      ],
      "text/plain": [
       "            event                            person  time  \\\n",
       "0  offer received  78afa995795e4d85b5d9ceeca43f5fef     0   \n",
       "1  offer received  a03223e636434f42ac4c3df47e8bac43     0   \n",
       "2  offer received  e2127556f4f64592b11af22de27a7932     0   \n",
       "3  offer received  8ec6ce2a7e7949b1bf142def7d0e0586     0   \n",
       "4  offer received  68617ca6246f4fbc85e91a2a49552598     0   \n",
       "\n",
       "                                              value  \n",
       "0  {'offer id': '9b98b8c7a33c4b65b9aebfe6a799e6d9'}  \n",
       "1  {'offer id': '0b1e1539f2cc45b7b9fa7c272da2e1d7'}  \n",
       "2  {'offer id': '2906b810c7d4411798c6938adc9daaa5'}  \n",
       "3  {'offer id': 'fafdcd668e3743c1bb461111dcafc2a4'}  \n",
       "4  {'offer id': '4d5c57ea9a6940dd891ad53e9dbe8da0'}  "
      ]
     },
     "execution_count": 34,
     "metadata": {},
     "output_type": "execute_result"
    }
   ],
   "source": [
    "# Displaying data frame to get an idea of the data\n",
    "transcript.head()\n"
   ]
  },
  {
   "cell_type": "markdown",
   "metadata": {},
   "source": [
    "**Conclusion:**\n",
    "1. The following variables values will be investigated more detailed since they are relevant for this analysis:\n",
    " * \"time\"\n",
    "    * \"0\" values \n",
    " * \"event\"\n",
    "    * `string` values \n",
    "2. The variable \"person\" represents the **customer id**. \n",
    "3. The variable \"value\" includes a dictionary with the \n",
    " * key &rarr; **offer id**\n",
    " * value &rarr; **value of offer id**<br>\n",
    " \n",
    "Because it is possible that there are more keys existing, this variable will be checked in detail.\n",
    "\n",
    "4. Based on the included **offer id** and **value of offer id** this data frame can be used to merge the previous two data frames.\n",
    "5. The variable \"value\" should be converted into a column which only contains the **offer id**.\n"
   ]
  },
  {
   "cell_type": "code",
   "execution_count": 35,
   "metadata": {
    "scrolled": true
   },
   "outputs": [
    {
     "name": "stdout",
     "output_type": "stream",
     "text": [
      "<class 'pandas.core.frame.DataFrame'>\n",
      "Int64Index: 306534 entries, 0 to 306533\n",
      "Data columns (total 4 columns):\n",
      "event     306534 non-null object\n",
      "person    306534 non-null object\n",
      "time      306534 non-null int64\n",
      "value     306534 non-null object\n",
      "dtypes: int64(1), object(3)\n",
      "memory usage: 11.7+ MB\n"
     ]
    }
   ],
   "source": [
    "# Checking a concise summary of the dataframe\n",
    "transcript.info()\n"
   ]
  },
  {
   "cell_type": "code",
   "execution_count": 36,
   "metadata": {
    "scrolled": false
   },
   "outputs": [
    {
     "data": {
      "text/plain": [
       "event     object\n",
       "person    object\n",
       "time       int64\n",
       "value     object\n",
       "dtype: object"
      ]
     },
     "execution_count": 36,
     "metadata": {},
     "output_type": "execute_result"
    }
   ],
   "source": [
    "# Checking the dtype of the dataframe\n",
    "transcript.dtypes\n"
   ]
  },
  {
   "cell_type": "markdown",
   "metadata": {},
   "source": [
    "**Conclusion:** \n",
    "1. The data frame contains three different data types:\n",
    " * `object`\n",
    " * `int64`\n"
   ]
  },
  {
   "cell_type": "code",
   "execution_count": 37,
   "metadata": {},
   "outputs": [
    {
     "data": {
      "text/plain": [
       "event     0\n",
       "person    0\n",
       "time      0\n",
       "value     0\n",
       "dtype: int64"
      ]
     },
     "execution_count": 37,
     "metadata": {},
     "output_type": "execute_result"
    }
   ],
   "source": [
    "# Checking the number of missing values\n",
    "transcript.isnull().sum()\n"
   ]
  },
  {
   "cell_type": "markdown",
   "metadata": {},
   "source": [
    "**Conclusion:** \n",
    "The data frame does not contain any NaN values."
   ]
  },
  {
   "cell_type": "code",
   "execution_count": 38,
   "metadata": {},
   "outputs": [
    {
     "data": {
      "text/plain": [
       "0"
      ]
     },
     "execution_count": 38,
     "metadata": {},
     "output_type": "execute_result"
    }
   ],
   "source": [
    "# Checking for duplicate values\n",
    "transcript.columns.duplicated().sum()\n"
   ]
  },
  {
   "cell_type": "markdown",
   "metadata": {},
   "source": [
    "**Conclusion:** The data frame does not contain any duplicated values."
   ]
  },
  {
   "cell_type": "code",
   "execution_count": 39,
   "metadata": {},
   "outputs": [
    {
     "data": {
      "text/plain": [
       "17000"
      ]
     },
     "execution_count": 39,
     "metadata": {},
     "output_type": "execute_result"
    }
   ],
   "source": [
    "# Showing the unique values of the data frame\n",
    "transcript['person'].nunique()\n"
   ]
  },
  {
   "cell_type": "markdown",
   "metadata": {},
   "source": [
    "**Conclusion:** The data frame variable 'person' (customer id) contains only *17,000* unique values. That is few compared to the total quantity of *306,534*. But it is the same amount of customer id´s as in the data frame \"profile\"."
   ]
  },
  {
   "cell_type": "code",
   "execution_count": 40,
   "metadata": {},
   "outputs": [
    {
     "name": "stdout",
     "output_type": "stream",
     "text": [
      "Count of \"person\" values when \"time\" = 0: 15561\n"
     ]
    }
   ],
   "source": [
    "# Checking and counting the amount of \"person\" values when \"time\" = 0\n",
    "df_0_time  = transcript[transcript['time'] == 0]['person'].count()\n",
    "print('Count of \"person\" values when \"time\" = 0: {}'.format(df_0_time))\n"
   ]
  },
  {
   "cell_type": "markdown",
   "metadata": {},
   "source": [
    "**Conclusion:** The data frame, filtered by the variable 'time' = 0 contains 15,561 \"person\" values."
   ]
  },
  {
   "cell_type": "code",
   "execution_count": 41,
   "metadata": {},
   "outputs": [],
   "source": [
    "# Checking the unique values of the variable \"event\"\n",
    "list_event = transcript['event'].unique().tolist()\n"
   ]
  },
  {
   "cell_type": "markdown",
   "metadata": {},
   "source": [
    "**Conclusion:** The data frame variable \"event\" contains the following values:\n",
    " * *'offer received'*\n",
    " * *'offer viewed'*\n",
    " * *'transaction'*\n",
    " * *'offer completed'*\n",
    " "
   ]
  },
  {
   "cell_type": "code",
   "execution_count": 42,
   "metadata": {
    "scrolled": false
   },
   "outputs": [
    {
     "data": {
      "text/plain": [
       "196304    {'offer_id': '2906b810c7d4411798c6938adc9daaa5...\n",
       "22877      {'offer id': '2298d6c36e964ae4a3e7e9706d1fb8c2'}\n",
       "249109     {'offer id': '2298d6c36e964ae4a3e7e9706d1fb8c2'}\n",
       "203969     {'offer id': '9b98b8c7a33c4b65b9aebfe6a799e6d9'}\n",
       "261149                                    {'amount': 16.85}\n",
       "281660                                    {'amount': 30.02}\n",
       "291436     {'offer id': '2906b810c7d4411798c6938adc9daaa5'}\n",
       "228669     {'offer id': 'ae264e3637204a6fb9bb56bc8210ddfd'}\n",
       "114381     {'offer id': '9b98b8c7a33c4b65b9aebfe6a799e6d9'}\n",
       "Name: value, dtype: object"
      ]
     },
     "execution_count": 42,
     "metadata": {},
     "output_type": "execute_result"
    }
   ],
   "source": [
    "# Checking the keys and values of the variable \"value\" in a sample.\n",
    "list_value = transcript['value']\n",
    "list_value.sample(9)\n"
   ]
  },
  {
   "cell_type": "code",
   "execution_count": 43,
   "metadata": {},
   "outputs": [],
   "source": [
    "# Function: Defining function to create a list of keys existig in a dictionary in a variable (column).\n",
    "def f_create_dict_key_list(df, col_name):\n",
    "    '''\n",
    "    INPUT:\n",
    "    df - Pandas data frame with dictionary to create new columns.\n",
    "    col_name - Dictionary of keys (strings).\n",
    "    \n",
    "    OUTPUT:\n",
    "    dict_keys - New list of the following characteristics:\n",
    "            1. Contains all keys of an dictionary in a list. \n",
    "    Description:\n",
    "    Creates a list of keys existig in a dictionary in a variable (column).\n",
    "    '''\n",
    "    dict_keys = []\n",
    "    for index, row in df.iterrows():\n",
    "        for key in row[col_name]:\n",
    "            if key in dict_keys:\n",
    "                continue\n",
    "            else:\n",
    "                dict_keys.append(key)\n",
    "  \n",
    "    return dict_keys\n"
   ]
  },
  {
   "cell_type": "markdown",
   "metadata": {},
   "source": [
    "**Result:** A function is created to create a list of keys existig in a dictionary in a variable (column)."
   ]
  },
  {
   "cell_type": "code",
   "execution_count": 44,
   "metadata": {},
   "outputs": [
    {
     "data": {
      "text/plain": [
       "['offer id', 'amount', 'offer_id', 'reward']"
      ]
     },
     "execution_count": 44,
     "metadata": {},
     "output_type": "execute_result"
    }
   ],
   "source": [
    "# Using the function: f_create_dict_key_list\n",
    "f_create_dict_key_list(transcript, 'value')\n"
   ]
  },
  {
   "cell_type": "markdown",
   "metadata": {},
   "source": [
    "**Conclusion:** The variable \"value\" cointains more then one key and different values:\n",
    " * key &rarr; 'offer id'\n",
    " * key &rarr; 'offer_id'\n",
    " * key &rarr; 'amount'\n",
    " * key &rarr; 'reward'"
   ]
  },
  {
   "cell_type": "markdown",
   "metadata": {},
   "source": [
    "## Transcript (transaction records) - Cleaning"
   ]
  },
  {
   "cell_type": "markdown",
   "metadata": {},
   "source": [
    "**Tasks:**\n",
    "1. Renaming the variable \"person\"in \"customer_id\".\n",
    "2. Splitting the variable \"event\" in categorical variables based on its values.\n",
    "3. Converting the variable \"value\" into one column each key.\n",
    "4. Combining the 2 offer id variables including their values in 1 variable \"offer_id\"."
   ]
  },
  {
   "cell_type": "code",
   "execution_count": 45,
   "metadata": {},
   "outputs": [],
   "source": [
    "# Copying the data frame\n",
    "transcript_clean = transcript.copy()\n"
   ]
  },
  {
   "cell_type": "markdown",
   "metadata": {},
   "source": [
    "**Result:** The data frame is copied."
   ]
  },
  {
   "cell_type": "markdown",
   "metadata": {},
   "source": [
    "### Renaming the variable \"person\"in \"customer_id\"."
   ]
  },
  {
   "cell_type": "markdown",
   "metadata": {},
   "source": [
    "#### Code"
   ]
  },
  {
   "cell_type": "code",
   "execution_count": 46,
   "metadata": {},
   "outputs": [],
   "source": [
    "# Renaming the column \"id\"\n",
    "transcript_clean.rename(columns={'person':'customer_id'},inplace=True)\n"
   ]
  },
  {
   "cell_type": "markdown",
   "metadata": {},
   "source": [
    "#### Test"
   ]
  },
  {
   "cell_type": "code",
   "execution_count": 47,
   "metadata": {
    "scrolled": true
   },
   "outputs": [
    {
     "data": {
      "text/html": [
       "<div>\n",
       "<style scoped>\n",
       "    .dataframe tbody tr th:only-of-type {\n",
       "        vertical-align: middle;\n",
       "    }\n",
       "\n",
       "    .dataframe tbody tr th {\n",
       "        vertical-align: top;\n",
       "    }\n",
       "\n",
       "    .dataframe thead th {\n",
       "        text-align: right;\n",
       "    }\n",
       "</style>\n",
       "<table border=\"1\" class=\"dataframe\">\n",
       "  <thead>\n",
       "    <tr style=\"text-align: right;\">\n",
       "      <th></th>\n",
       "      <th>event</th>\n",
       "      <th>customer_id</th>\n",
       "      <th>time</th>\n",
       "      <th>value</th>\n",
       "    </tr>\n",
       "  </thead>\n",
       "  <tbody>\n",
       "    <tr>\n",
       "      <th>0</th>\n",
       "      <td>offer received</td>\n",
       "      <td>78afa995795e4d85b5d9ceeca43f5fef</td>\n",
       "      <td>0</td>\n",
       "      <td>{'offer id': '9b98b8c7a33c4b65b9aebfe6a799e6d9'}</td>\n",
       "    </tr>\n",
       "    <tr>\n",
       "      <th>1</th>\n",
       "      <td>offer received</td>\n",
       "      <td>a03223e636434f42ac4c3df47e8bac43</td>\n",
       "      <td>0</td>\n",
       "      <td>{'offer id': '0b1e1539f2cc45b7b9fa7c272da2e1d7'}</td>\n",
       "    </tr>\n",
       "    <tr>\n",
       "      <th>2</th>\n",
       "      <td>offer received</td>\n",
       "      <td>e2127556f4f64592b11af22de27a7932</td>\n",
       "      <td>0</td>\n",
       "      <td>{'offer id': '2906b810c7d4411798c6938adc9daaa5'}</td>\n",
       "    </tr>\n",
       "    <tr>\n",
       "      <th>3</th>\n",
       "      <td>offer received</td>\n",
       "      <td>8ec6ce2a7e7949b1bf142def7d0e0586</td>\n",
       "      <td>0</td>\n",
       "      <td>{'offer id': 'fafdcd668e3743c1bb461111dcafc2a4'}</td>\n",
       "    </tr>\n",
       "    <tr>\n",
       "      <th>4</th>\n",
       "      <td>offer received</td>\n",
       "      <td>68617ca6246f4fbc85e91a2a49552598</td>\n",
       "      <td>0</td>\n",
       "      <td>{'offer id': '4d5c57ea9a6940dd891ad53e9dbe8da0'}</td>\n",
       "    </tr>\n",
       "  </tbody>\n",
       "</table>\n",
       "</div>"
      ],
      "text/plain": [
       "            event                       customer_id  time  \\\n",
       "0  offer received  78afa995795e4d85b5d9ceeca43f5fef     0   \n",
       "1  offer received  a03223e636434f42ac4c3df47e8bac43     0   \n",
       "2  offer received  e2127556f4f64592b11af22de27a7932     0   \n",
       "3  offer received  8ec6ce2a7e7949b1bf142def7d0e0586     0   \n",
       "4  offer received  68617ca6246f4fbc85e91a2a49552598     0   \n",
       "\n",
       "                                              value  \n",
       "0  {'offer id': '9b98b8c7a33c4b65b9aebfe6a799e6d9'}  \n",
       "1  {'offer id': '0b1e1539f2cc45b7b9fa7c272da2e1d7'}  \n",
       "2  {'offer id': '2906b810c7d4411798c6938adc9daaa5'}  \n",
       "3  {'offer id': 'fafdcd668e3743c1bb461111dcafc2a4'}  \n",
       "4  {'offer id': '4d5c57ea9a6940dd891ad53e9dbe8da0'}  "
      ]
     },
     "execution_count": 47,
     "metadata": {},
     "output_type": "execute_result"
    }
   ],
   "source": [
    "# Displaying the new data frame to check the changes\n",
    "transcript_clean.head()\n"
   ]
  },
  {
   "cell_type": "markdown",
   "metadata": {},
   "source": [
    "**Result:** The column \"person\" is renamed in \"customer_id\"."
   ]
  },
  {
   "cell_type": "markdown",
   "metadata": {},
   "source": [
    "### Converting the variable \"value\" into one column each key."
   ]
  },
  {
   "cell_type": "markdown",
   "metadata": {},
   "source": [
    "#### Code"
   ]
  },
  {
   "cell_type": "code",
   "execution_count": 48,
   "metadata": {},
   "outputs": [],
   "source": [
    "# Function: Defining function to create the columns for each of the dictionary keys.\n",
    "def f_create_dict_df(df, col_name):\n",
    "    '''\n",
    "    INPUT:\n",
    "    df - Pandas data frame with dictionary to create new columns.\n",
    "    col_name - Dictionary of keys (strings).\n",
    "    \n",
    "    OUTPUT:\n",
    "    df - New dataframe of the following characteristics:\n",
    "            1. Contains all keys as columns.\n",
    "            2. Removes the original columns in cat_cols (all).\n",
    "            3. Create column for each key in cat_cols dictionary.\n",
    "            4. Prefix of the column name: Underscore (_) for separating. \n",
    "    Description:\n",
    "    Converts the dictionary keys of an variable into separate columns.\n",
    "    '''\n",
    "    df= pd.concat([df.drop(col_name, axis=1), \n",
    "                   df[col_name].apply(pd.Series).add_prefix('_').add_prefix(col_name)], axis=1)\n",
    "  \n",
    "    return df\n"
   ]
  },
  {
   "cell_type": "markdown",
   "metadata": {},
   "source": [
    "**Result:** A function is created to convert the dictionary keys of an variable into separate columns."
   ]
  },
  {
   "cell_type": "code",
   "execution_count": null,
   "metadata": {},
   "outputs": [],
   "source": [
    "# Using the function: f_create_dict_df\n",
    "transcript_clean = f_create_dict_df(transcript_clean, 'value')\n"
   ]
  },
  {
   "cell_type": "markdown",
   "metadata": {},
   "source": [
    "**Result:** The function is used on this data frame."
   ]
  },
  {
   "cell_type": "markdown",
   "metadata": {},
   "source": [
    "#### Test"
   ]
  },
  {
   "cell_type": "code",
   "execution_count": null,
   "metadata": {
    "scrolled": true
   },
   "outputs": [],
   "source": [
    "# Displaying the new data frame to check the changes\n",
    "transcript_clean.head()\n"
   ]
  },
  {
   "cell_type": "code",
   "execution_count": null,
   "metadata": {},
   "outputs": [],
   "source": [
    "# Checking a concise summary of the dataframe\n",
    "transcript_clean.info()\n"
   ]
  },
  {
   "cell_type": "markdown",
   "metadata": {},
   "source": [
    "**Result:** After processing the function there are 2 variables (dictionary keys of column \"value\") existing in the data frame which will be combined in the next step:\n",
    " * \"value_offer id\"\n",
    " * \"value_offer_id\"\n",
    " "
   ]
  },
  {
   "cell_type": "markdown",
   "metadata": {},
   "source": [
    "### Combining the 2 offer id variables including their values in 1 variable \"offer_id\"."
   ]
  },
  {
   "cell_type": "markdown",
   "metadata": {},
   "source": [
    "#### Code"
   ]
  },
  {
   "cell_type": "code",
   "execution_count": null,
   "metadata": {},
   "outputs": [],
   "source": [
    "# Function: Defining function to combine 2 variables in one column.\n",
    "def f_create_var_2to1_df(df, col_new, col_name1, col_name2):\n",
    "    '''\n",
    "    INPUT:\n",
    "    df - Pandas data frame including the necessary columns.\n",
    "    col_name1 - First variable name.\n",
    "    col_name2 - Second variable name.\n",
    "    col_new - New variable name (combined column)\n",
    "    \n",
    "    OUTPUT:\n",
    "    df - New dataframe of the following characteristics:\n",
    "            1. Checks if col_new (string) is already existing in col_name1 and col_name2\n",
    "            2. Combines 2 variables into 1 variable.\n",
    "            3. Removes the original columns in cat_name1 and cat_name2 (all).\n",
    "    Description:\n",
    "    Combines 2 variables in one column.\n",
    "    '''\n",
    "    # Checking if col_new (string) is already existing in col_name1 and col_name2\n",
    "    if col_new == col_name1:\n",
    "        df.rename(columns={col_name1:col_new + '_1'},inplace=True) # Renaming the identical variable name\n",
    "        col_name1 = col_new + '_1'\n",
    "        pass\n",
    "    elif col_new == col_name2:\n",
    "        df.rename(columns={col_name2:col_new + '_2'},inplace=True) # Renaming the identical variable name\n",
    "        col_name2 = col_new + '_2'\n",
    "        pass\n",
    "    else:\n",
    "        pass\n",
    "        \n",
    "    # Combining the 2 variables into 1 varible\n",
    "    df[col_new] = np.where(df[col_name1].isnull() & df[col_name2].notnull(), df[col_name2],df[col_name1])\n",
    "    \n",
    "    # Dropping not needed columns.\n",
    "    df = df.drop([col_name1, col_name2], axis=1)\n",
    "    \n",
    "    return df\n"
   ]
  },
  {
   "cell_type": "markdown",
   "metadata": {},
   "source": [
    "**Result:** A function is created to combine 2 variables in one column."
   ]
  },
  {
   "cell_type": "code",
   "execution_count": null,
   "metadata": {},
   "outputs": [],
   "source": [
    "# Using the function: f_create_var_2to1_df\n",
    "transcript_clean = f_create_var_2to1_df(transcript_clean, 'offer_id', 'value_offer id', 'value_offer_id')\n"
   ]
  },
  {
   "cell_type": "markdown",
   "metadata": {},
   "source": [
    "**Result:** The function is used on this data frame."
   ]
  },
  {
   "cell_type": "markdown",
   "metadata": {},
   "source": [
    "#### Test"
   ]
  },
  {
   "cell_type": "code",
   "execution_count": null,
   "metadata": {
    "scrolled": true
   },
   "outputs": [],
   "source": [
    "# Displaying the new data frame to check the changes\n",
    "transcript_clean.head()\n"
   ]
  },
  {
   "cell_type": "markdown",
   "metadata": {},
   "source": [
    "**Result:** \n",
    "* The keys of the variable \"value\" are converted into separate columns.\n",
    "* The 2 offer id variables including their values are combined into 1 variable \"offer_id\"."
   ]
  },
  {
   "cell_type": "code",
   "execution_count": null,
   "metadata": {
    "scrolled": true
   },
   "outputs": [],
   "source": [
    "# Checking a concise summary of the dataframe\n",
    "transcript_clean.info()\n"
   ]
  },
  {
   "cell_type": "markdown",
   "metadata": {},
   "source": [
    "**Result:** \n",
    "1. The new variable \"offer_id\" contains all values from the previous 2 offer id variables.\n",
    "2. The variables \"value_amount\" and \"value_reward\"are containing a lot of NaN values."
   ]
  },
  {
   "cell_type": "code",
   "execution_count": null,
   "metadata": {
    "scrolled": true
   },
   "outputs": [],
   "source": [
    "# Checking the shape of the data frame\n",
    "transcript_clean.shape\n"
   ]
  },
  {
   "cell_type": "markdown",
   "metadata": {},
   "source": [
    "**Result:** The data frame consits of *9* columns and *306,534* rows."
   ]
  },
  {
   "cell_type": "markdown",
   "metadata": {},
   "source": [
    "<a id='sec2_114'></a>\n",
    "## Merge of the Data Frames\n",
    "<div style=\"text-align: right\"><right><a href=\"#top\">Table of Content</a></div>"
   ]
  },
  {
   "cell_type": "markdown",
   "metadata": {},
   "source": [
    "### Merge of \"transcript_clean\" and \"portfolio_clean\""
   ]
  },
  {
   "cell_type": "code",
   "execution_count": null,
   "metadata": {
    "scrolled": true
   },
   "outputs": [],
   "source": [
    "# Checking the shape of the data frame\n",
    "transcript_clean.shape\n"
   ]
  },
  {
   "cell_type": "code",
   "execution_count": null,
   "metadata": {
    "scrolled": true
   },
   "outputs": [],
   "source": [
    "# Checking the shape of the data frame\n",
    "portfolio_clean.shape\n"
   ]
  },
  {
   "cell_type": "code",
   "execution_count": null,
   "metadata": {},
   "outputs": [],
   "source": [
    "# Merging the data frame \"transcript_clean\" with the data frame \"portfolio_clean\"\n",
    "df_merge_1 = transcript_clean.merge(portfolio_clean, on='offer_id', how='left')\n",
    "df_merge_1.head()\n"
   ]
  },
  {
   "cell_type": "code",
   "execution_count": null,
   "metadata": {
    "scrolled": true
   },
   "outputs": [],
   "source": [
    "# Checking the shape of the data frame\n",
    "df_merge_1.shape\n"
   ]
  },
  {
   "cell_type": "code",
   "execution_count": null,
   "metadata": {},
   "outputs": [],
   "source": [
    "# Checking a concise summary of the dataframe \n",
    "df_merge_1.info()\n"
   ]
  },
  {
   "cell_type": "code",
   "execution_count": null,
   "metadata": {
    "scrolled": true
   },
   "outputs": [],
   "source": [
    "# Checking the values of the variables \"value_reward\" and \"reward\".\n",
    "df_merge_1[['value_reward', 'reward']].sample(9)\n"
   ]
  },
  {
   "cell_type": "markdown",
   "metadata": {},
   "source": [
    "**Conclusion:** After the merge of the 2 data frames there are 2 variables (columns) which are probaply identical and should be combined into 1 variable:\n",
    "* \"value_reward\"\n",
    "* \"reward\""
   ]
  },
  {
   "cell_type": "markdown",
   "metadata": {},
   "source": [
    "## Merge of the Data Frames - Cleaning"
   ]
  },
  {
   "cell_type": "markdown",
   "metadata": {},
   "source": [
    "**Tasks:**\n",
    "1. Combining the 2 reward variables including their values in 1 variable \"reward\"."
   ]
  },
  {
   "cell_type": "code",
   "execution_count": null,
   "metadata": {},
   "outputs": [],
   "source": [
    "# Copying the data frame\n",
    "df_merge_1_clean = df_merge_1.copy()\n"
   ]
  },
  {
   "cell_type": "markdown",
   "metadata": {},
   "source": [
    "**Result:** The data frame is copied."
   ]
  },
  {
   "cell_type": "markdown",
   "metadata": {},
   "source": [
    "### Combining the 2 reward variables including their values in 1 variable \"reward\"."
   ]
  },
  {
   "cell_type": "markdown",
   "metadata": {},
   "source": [
    "#### Code"
   ]
  },
  {
   "cell_type": "code",
   "execution_count": null,
   "metadata": {
    "scrolled": false
   },
   "outputs": [],
   "source": [
    "# Checking a concise summary of the dataframe\n",
    "df_merge_1_clean.info()\n"
   ]
  },
  {
   "cell_type": "code",
   "execution_count": null,
   "metadata": {
    "scrolled": true
   },
   "outputs": [],
   "source": [
    "# Checking the values of the variables \"value_reward\" and \"reward\".\n",
    "df_merge_1_clean[['value_reward', 'reward']].sample(9)\n"
   ]
  },
  {
   "cell_type": "code",
   "execution_count": null,
   "metadata": {
    "scrolled": false
   },
   "outputs": [],
   "source": [
    "# Dropping NaN values from the variable \"value_reward\"\n",
    "df_reward = df_merge_1_clean.dropna(subset=['value_reward'])\n",
    "df_reward.head()\n"
   ]
  },
  {
   "cell_type": "code",
   "execution_count": null,
   "metadata": {
    "scrolled": true
   },
   "outputs": [],
   "source": [
    "# Checking a concise summary of the dataframe\n",
    "df_reward.info()\n"
   ]
  },
  {
   "cell_type": "code",
   "execution_count": null,
   "metadata": {},
   "outputs": [],
   "source": [
    "# Checking existance of NaN values in data frame\n",
    "df_reward['value_reward'].isnull().any()\n"
   ]
  },
  {
   "cell_type": "code",
   "execution_count": null,
   "metadata": {
    "scrolled": true
   },
   "outputs": [],
   "source": [
    "# Checking existance of NaN values in data frame\n",
    "df_reward['reward'].isnull().any()\n"
   ]
  },
  {
   "cell_type": "code",
   "execution_count": null,
   "metadata": {},
   "outputs": [],
   "source": [
    "# Comparing if the variables \"value_reward\" and \"reward\" are identical\n",
    "df_reward = pd.DataFrame(df_reward)\n",
    "\n",
    "df_reward_1 = df_reward['reward']\n",
    "df_reward_2 = df_reward['value_reward']\n",
    "\n",
    "print((df_reward_1 == df_reward_2).all())\n"
   ]
  },
  {
   "cell_type": "markdown",
   "metadata": {},
   "source": [
    "**Result:** Each value of the variable \"value_reward\" has an identical value in variable \"reward\". The variables can be combined into one variable without loosing any data."
   ]
  },
  {
   "cell_type": "code",
   "execution_count": null,
   "metadata": {},
   "outputs": [],
   "source": [
    "# Using the function: f_create_var_2to1_df\n",
    "df_merge_1_clean = f_create_var_2to1_df(df_merge_1_clean, 'reward', 'value_reward', 'reward')\n"
   ]
  },
  {
   "cell_type": "markdown",
   "metadata": {},
   "source": [
    "**Result:** The function is used on this data frame."
   ]
  },
  {
   "cell_type": "markdown",
   "metadata": {},
   "source": [
    "#### Test"
   ]
  },
  {
   "cell_type": "code",
   "execution_count": null,
   "metadata": {
    "scrolled": true
   },
   "outputs": [],
   "source": [
    "# Checking a concise summary of the dataframe\n",
    "df_merge_1_clean.info()\n"
   ]
  },
  {
   "cell_type": "code",
   "execution_count": null,
   "metadata": {
    "scrolled": true
   },
   "outputs": [],
   "source": [
    "# Displaying the new data frame to check the changes\n",
    "df_merge_1_clean.head()\n"
   ]
  },
  {
   "cell_type": "code",
   "execution_count": null,
   "metadata": {
    "scrolled": true
   },
   "outputs": [],
   "source": [
    "# Checking the shape of the data frame\n",
    "df_merge_1_clean.shape\n"
   ]
  },
  {
   "cell_type": "markdown",
   "metadata": {},
   "source": [
    "**Result:** The new variable \"reward\" contains all values from the previous 2 offer id variables."
   ]
  },
  {
   "cell_type": "markdown",
   "metadata": {},
   "source": [
    "### Merge of \"df_merge_clean\" and \"profile_clean\""
   ]
  },
  {
   "cell_type": "code",
   "execution_count": null,
   "metadata": {
    "scrolled": true
   },
   "outputs": [],
   "source": [
    "# Checking the shape of the data frame\n",
    "df_merge_1_clean.shape\n"
   ]
  },
  {
   "cell_type": "code",
   "execution_count": null,
   "metadata": {
    "scrolled": true
   },
   "outputs": [],
   "source": [
    "# Checking the shape of the data frame\n",
    "profile_clean.shape\n"
   ]
  },
  {
   "cell_type": "code",
   "execution_count": null,
   "metadata": {
    "scrolled": true
   },
   "outputs": [],
   "source": [
    "# Merging the data frame \"transcript_clean\" with the data frame \"portfolio_clean\"\n",
    "df_merge_final = df_merge_1_clean.merge(profile_clean, on='customer_id', how='left')\n",
    "df_merge_final.head()\n"
   ]
  },
  {
   "cell_type": "code",
   "execution_count": null,
   "metadata": {
    "scrolled": true
   },
   "outputs": [],
   "source": [
    "# Checking the shape of the data frame\n",
    "df_merge_final.shape\n"
   ]
  },
  {
   "cell_type": "code",
   "execution_count": null,
   "metadata": {
    "scrolled": true
   },
   "outputs": [],
   "source": [
    "# Checking a concise summary of the dataframe \n",
    "df_merge_final.info()\n"
   ]
  },
  {
   "cell_type": "markdown",
   "metadata": {},
   "source": [
    "**Conclusion:** \n",
    "1. The variable \"customer_id\" **does not contain** any NaN values.\n",
    "2. The variable \"offer_id\" **contains** more then 50% NaN values.\n"
   ]
  },
  {
   "cell_type": "code",
   "execution_count": null,
   "metadata": {},
   "outputs": [],
   "source": [
    "# Checking for duplicate values\n",
    "df_merge_final.columns.duplicated().sum()\n"
   ]
  },
  {
   "cell_type": "markdown",
   "metadata": {},
   "source": [
    "**Conclusion:** The data frame does not contain any duplicated values."
   ]
  },
  {
   "cell_type": "markdown",
   "metadata": {},
   "source": [
    "### Assessing Summary"
   ]
  },
  {
   "cell_type": "markdown",
   "metadata": {},
   "source": [
    "<span style=\"color:red\">\n",
    "> 1. The data frame consits of *20* columns and *306534* rows.\n",
    "> 2. The data frame contains NaN values.\n",
    "> 3. The data frame contains missing values.\n",
    "> 4. The data frame does NOT contain duplicate values.\n",
    "> 5. The data frame contains data types which need to be changed.\n",
    "\n",
    "##### > 7. The data frame contains columns/variables which need to be dropped.\n",
    "\n",
    "    > 8. Some values of the data frame have to be imputed.\n",
    "> 9. Imputing the values of column `name` does NOT makes sense since the values are strings.\n",
    "> 10. Imputing the values of column `host_since` does NOT makes sense since the values are firm dates.\n",
    "> 11. Imputing the values of column `host_total_listings_count` does NOT makes sense since the values are precise quantitative information.\n",
    "> 12. Imputing the values of column `bathrooms_text` does NOT makes sense since the values are precise information regarding furnishing.\n",
    "> 13. The values of column `price` have to be changed from USD to EUR.\n",
    "</span>"
   ]
  },
  {
   "cell_type": "code",
   "execution_count": null,
   "metadata": {},
   "outputs": [],
   "source": [
    "# Copying the data frame\n",
    "df_final = df_merge_final.copy()\n"
   ]
  },
  {
   "cell_type": "markdown",
   "metadata": {},
   "source": [
    "**Result:** The data frame is copied."
   ]
  },
  {
   "cell_type": "code",
   "execution_count": null,
   "metadata": {},
   "outputs": [],
   "source": [
    "# Saving data final data frame to .csv\n",
    "df_final.to_csv('data/data.csv', index=False)\n"
   ]
  },
  {
   "cell_type": "markdown",
   "metadata": {},
   "source": [
    "**Result:** The data frame is saved as .csv."
   ]
  },
  {
   "cell_type": "markdown",
   "metadata": {},
   "source": [
    "<a id='sec2_2'></a>\n",
    "## 3. B. Data Visualization\n",
    "<div style=\"text-align: right\"><right><a href=\"#top\">Table of Content</a></div>\n",
    "\n",
    "#### Data visualization based on the data exploration in the previous step.<br>"
   ]
  },
  {
   "cell_type": "code",
   "execution_count": null,
   "metadata": {},
   "outputs": [],
   "source": [
    "# Loading the final saved data frame\n",
    "df_datav = df_final.copy()\n",
    "#df_datav = pd.read_csv('data/data.csv', dtype=str, engine='python')\n"
   ]
  },
  {
   "cell_type": "code",
   "execution_count": null,
   "metadata": {},
   "outputs": [],
   "source": [
    "# Function: Python Function that defines the size, the dots per inches, the facecolor of the axes,\n",
    "# the figure patch edgecolor and the color of the color of the background of the plots and returns it.\n",
    "\n",
    "def f_fig_axes():\n",
    "    '''\n",
    "    INPUT:\n",
    "    None\n",
    "    \n",
    "    OUTPUT:\n",
    "    Layout for plots - plt (Matplotlib), sns (seaborn)\n",
    "    \n",
    "    Description:\n",
    "    Defines the size, the dots per inches, the facecolor of the axes, the figure patch edgecolor \n",
    "    and the color of the color of the background of the plots and returns it.\n",
    "    '''\n",
    "    plt.subplots(figsize=(15, 5), dpi=80, facecolor='w', edgecolor='k')\n",
    "    sns.set_style('darkgrid')\n",
    "    print()\n",
    "    "
   ]
  },
  {
   "cell_type": "markdown",
   "metadata": {},
   "source": [
    "**Result:** A function is created that defines the size, the dots per inches, the facecolor of the axes, the figure patch edgecolor and the color of the color of the background of the plots and returns it."
   ]
  },
  {
   "cell_type": "code",
   "execution_count": null,
   "metadata": {
    "scrolled": false
   },
   "outputs": [],
   "source": [
    "# Displaying the new data frame to check the changes\n",
    "df_datav.head()\n"
   ]
  },
  {
   "cell_type": "markdown",
   "metadata": {},
   "source": [
    "<a id='sec2_21'></a>\n",
    "## Question 1: How is the Distribution of the variable \"age\"?\n",
    "<div style=\"text-align: right\"><right><a href=\"#top\">Table of Content</a></div>"
   ]
  },
  {
   "cell_type": "code",
   "execution_count": null,
   "metadata": {
    "scrolled": true
   },
   "outputs": [],
   "source": [
    "# Calculating the descriptive statistics of the \"age\" values\n",
    "# (50 % is equal to the median)\n",
    "df_data_q1 = df_datav.copy() # Copying the orignal data frame\n",
    "df_data_q1 = df_data_q1['age']\n",
    "df_data_q1.describe()\n"
   ]
  },
  {
   "cell_type": "code",
   "execution_count": null,
   "metadata": {
    "scrolled": false
   },
   "outputs": [],
   "source": [
    "# Calling the function\"f_fig_axes()\"\n",
    "f_fig_axes()\n",
    "\n",
    "# Plotting the age distribution.\n",
    "sns.histplot(df_data_q1, bins=50)\n",
    "\n",
    "# Defining the title and the lables\n",
    "plt.title('Starbucks: Age Distribution of Customers', fontsize=23, y=1.05)\n",
    "plt.xlabel('Age', labelpad=12)\n",
    "plt.ylabel('Count of Customers', labelpad=12)\n",
    "\n",
    "# Saving the plot as a picture\n",
    "plt.savefig('pics/plot_q1_age_hist.png', dpi=300, bbox_inches = \"tight\");\n"
   ]
  },
  {
   "cell_type": "markdown",
   "metadata": {},
   "source": [
    "**Conclusion:** \n",
    "1. **Range of age:** The youngest customers are *18* and the oldest customers are *118*.\n",
    "2. **Median of age:** The median of the age distribution is *57*.\n",
    "3. **Mean of age:** The mean of the age distribution is approximately *61*.\n",
    "4. **Outliers:** The counts of customer ages of the value *118* are outliers and .\n"
   ]
  },
  {
   "cell_type": "markdown",
   "metadata": {},
   "source": [
    "<a id='sec2_22'></a>\n",
    "## Question 2: How is the Distribution of the variable \"gender\"?\n",
    "<div style=\"text-align: right\"><right><a href=\"#top\">Table of Content</a></div>"
   ]
  },
  {
   "cell_type": "code",
   "execution_count": null,
   "metadata": {
    "scrolled": true
   },
   "outputs": [],
   "source": [
    "# Counting the amount of values and defining new data frame.\n",
    "df_data_q2 = df_datav.copy() # Copying the orignal data frame\n",
    "df_data_q2 = df_data_q2.astype(str).groupby('gender').agg({'customer_id':'count'})\n",
    "df_data_q2\n"
   ]
  },
  {
   "cell_type": "code",
   "execution_count": null,
   "metadata": {},
   "outputs": [],
   "source": [
    "# Checking the number of missing values of the variable \"gender\"\n",
    "df_datav['gender'].isnull().sum()\n"
   ]
  },
  {
   "cell_type": "markdown",
   "metadata": {},
   "source": [
    "**Check:** \n",
    "1. The amount of NaN values of the variable \"gender\" is equal. The sum is *33772*."
   ]
  },
  {
   "cell_type": "code",
   "execution_count": null,
   "metadata": {},
   "outputs": [],
   "source": [
    "# Defining the variable for the plot.\n",
    "df_data_q2['gen_perc'] = (df_data_q2['customer_id']/df_data_q2['customer_id'].sum())*100\n",
    "df_data_q2 = df_data_q2['gen_perc']\n",
    "df_data_q2.head()\n"
   ]
  },
  {
   "cell_type": "code",
   "execution_count": null,
   "metadata": {
    "scrolled": false
   },
   "outputs": [],
   "source": [
    "# Plotting the immediate booking possibility of apartments.\n",
    "\n",
    "# Calling the function\"f_fig_axes()\"\n",
    "f_fig_axes() # Python Function\n",
    "\n",
    "# Defining the plot variables.\n",
    "plot_labels = ('Female', 'Male', 'Other', 'NaN')\n",
    "plot_base_color = ['skyblue', 'cornflowerblue', 'lightsteelblue', 'lightcoral']\n",
    "plot_explode = (0.05, 0.05, 0.2, 0.2)  # Exploding the 4 slices (gapping)\n",
    "\n",
    "# Defining the plot.\n",
    "plt.pie(df_data_q2, explode=plot_explode, labels=plot_labels, autopct='%1.1f%%', shadow=True,\n",
    "        startangle=90, colors=plot_base_color, textprops=dict(color=\"darkblue\"))\n",
    "plt.axis('equal')  # Ensuring that pie is drawn as a circle.\n",
    "\n",
    "# Defining the title\n",
    "plt.title('How is the Distribution of Genders compared to the total data quantity?', fontsize=18, y=1.03)\n",
    "\n",
    "# Saving as a picture\n",
    "plt.savefig('pics/plot_g2_gender_pie.png', dpi=300);\n"
   ]
  },
  {
   "cell_type": "markdown",
   "metadata": {},
   "source": [
    "**Conclusion:** \n",
    "1. **Male:** The biggest customers gender group is \"Male\" with a proportion of approximately *51%*.\n",
    "2. **Female:** The gender group \"Female\" exists with a proportion of approximately *37%*.\n",
    "3. **Other:** A thrid customers gender group is called \"Male\" appears with a proportion of *1,3%*.\n",
    "4. **NaN:** There are also NaN values existing within the variable \"gender\" with a proportion of *11%*.\n"
   ]
  },
  {
   "cell_type": "markdown",
   "metadata": {},
   "source": [
    "<a id='sec2_23'></a>\n",
    "## Question 3:  How is the Distribution of the variable \"income\"?\n",
    "<div style=\"text-align: right\"><right><a href=\"#top\">Table of Content</a></div>"
   ]
  },
  {
   "cell_type": "code",
   "execution_count": null,
   "metadata": {
    "scrolled": false
   },
   "outputs": [],
   "source": [
    "# Calculating the descriptive statistics of the \"income\" values\n",
    "# (50 % is equal to the median)\n",
    "df_data_q3 = df_datav.copy() # Copying the orignal data frame\n",
    "df_data_q3 = df_datav['income']\n",
    "df_data_q3.describe()\n"
   ]
  },
  {
   "cell_type": "code",
   "execution_count": null,
   "metadata": {
    "scrolled": false
   },
   "outputs": [],
   "source": [
    "# Calling the function\"f_fig_axes()\"\n",
    "f_fig_axes()\n",
    "\n",
    "# Plotting the age distribution.\n",
    "sns.histplot(df_data_q3, bins=90)\n",
    "\n",
    "# Defining the title, the lables and the ticks\n",
    "plt.title('Starbucks: Income Distribution of Customers', fontsize=23, y=1.05)\n",
    "plt.xlabel('Income', labelpad=12)\n",
    "plt.ylabel('Count of Customers', labelpad=12)\n",
    "plt.xticks([30000, 35000, 40000, 45000, 50000, 55000, 60000, 65000, 70000, 75000, 80000, 85000, 90000,\n",
    "            95000,100000, 105000, 110000, 115000, 120000])\n",
    "\n",
    "# Saving the plot as a picture\n",
    "plt.savefig('pics/plot_q3_income_hist.png', dpi=300, bbox_inches = \"tight\");\n"
   ]
  },
  {
   "cell_type": "markdown",
   "metadata": {},
   "source": [
    "**Conclusion:** \n",
    "1. **Distribution:** The distribution of the variable \"income\" is *right-skewed* (positive skewness).\n",
    "2. **Cluster:** There are *4* income clusters existing:<br>\n",
    "> **Cluster 1**: In a range between *30,000* and *50,000* USD.<br>\n",
    "> **Cluster 2**: In a range between *50,000* and *75,000* USD.<br>\n",
    "> **Cluster 3**: In a range between *75,000* and *100,000* USD.<br>\n",
    "> **Cluster 4**: In a range between *100,000* and *120,000* USD.\n"
   ]
  },
  {
   "cell_type": "markdown",
   "metadata": {},
   "source": [
    "<a id='sec2_24'></a>\n",
    "## Question 4:  How is the Distribution of the variable \"gender\" correlated to the age clusters?\n",
    "<div style=\"text-align: right\"><right><a href=\"#top\">Table of Content</a></div>"
   ]
  },
  {
   "cell_type": "code",
   "execution_count": null,
   "metadata": {
    "scrolled": false
   },
   "outputs": [],
   "source": [
    "# Creating clusters for the age \n",
    "df_data_q4 = df_datav.copy() # Copying the orignal data frame\n",
    "df_data_q4['age_cluster'] = pd.cut(df_datav['age'], bins=[15, 24, 64, 120], labels=['Youth', 'Adults', 'Seniors'])\n",
    "\n",
    "df_data_q4['age_cluster'].head()\n"
   ]
  },
  {
   "cell_type": "code",
   "execution_count": null,
   "metadata": {
    "scrolled": false
   },
   "outputs": [],
   "source": [
    "# Calling the function\"f_fig_axes()\"\n",
    "f_fig_axes()\n",
    "\n",
    "# Plotting income cluster of customer genders.\n",
    "plot_q4 = sns.countplot(data=df_data_q4, x='gender', hue='age_cluster', palette='copper_r')\n",
    "\n",
    "# Defining the title, the lables and the ticks\n",
    "plt.title('Starbucks: Distribution of the Age Clusters of Customer Genders', fontsize=23, y=1.05)\n",
    "plt.xlabel('Gender', labelpad=12)\n",
    "plt.xlabels = ['Female', 'Male', 'Other'] # Renaming the x axis values\n",
    "plot_q4.set_xticklabels(plt.xlabels)\n",
    "plt.ylabel('Count of Customers', labelpad=12)\n",
    "\n",
    "# Defining legend\n",
    "plt.legend(title='Age Cluster', loc='upper right')\n",
    "\n",
    "# Saving the plot as a picture\n",
    "plt.savefig('pics/plot_q4_age_cluster.png', dpi=300, bbox_inches = \"tight\");\n"
   ]
  },
  {
   "cell_type": "markdown",
   "metadata": {},
   "source": [
    "**Conclusion:** \n",
    "1. **Major Customer Group:** The distribution of the age clusters of customer genders depicts that adult males are the major customer group existing in the data.\n",
    "2. **Second Biggest Customer Group:** Adult females are the second biggest customer group existing in the data.\n",
    "3. **Third Biggest Customer Group:** The third biggest customer group existing in the data are senior males and females.    "
   ]
  },
  {
   "cell_type": "markdown",
   "metadata": {},
   "source": [
    "<a id='sec2_25'></a>\n",
    "## Question 5:  How is the Distribution of the variable \"gender\" correlated to the income clusters?\n",
    "<div style=\"text-align: right\"><right><a href=\"#top\">Table of Content</a></div>"
   ]
  },
  {
   "cell_type": "code",
   "execution_count": null,
   "metadata": {
    "scrolled": true
   },
   "outputs": [],
   "source": [
    "# Creating clusters for the income \n",
    "df_data_q5 = df_datav.copy() # Copying the orignal data frame\n",
    "df_data_q5['income_cluster'] = pd.cut(df_datav['income'], bins=[30000, 50000, 75000, 100000, 120000],\n",
    "                                       labels=['low', 'average', 'high', 'very_high'])\n",
    "\n",
    "df_data_q5['income_cluster'].head()\n"
   ]
  },
  {
   "cell_type": "code",
   "execution_count": null,
   "metadata": {
    "scrolled": false
   },
   "outputs": [],
   "source": [
    "# Calling the function\"f_fig_axes()\"\n",
    "f_fig_axes()\n",
    "\n",
    "# Plotting income cluster of customer genders.\n",
    "plot_q5 = sns.countplot(data=df_data_q5, x='gender', hue='income_cluster', palette='copper_r')\n",
    "\n",
    "# Defining the title, the lables and the ticks\n",
    "plt.title('Starbucks: Distribution of the Income Cluster of Customer Genders', fontsize=23, y=1.05)\n",
    "plt.xlabel('Gender', labelpad=12)\n",
    "plt.xlabels = ['Female', 'Male', 'Other'] # Renaming the x axis values\n",
    "plot_q5.set_xticklabels(plt.xlabels)\n",
    "plt.ylabel('Count of Customers', labelpad=12)\n",
    "\n",
    "# Defining legend\n",
    "plt.legend(title='Income Cluster', loc='upper right')\n",
    "\n",
    "# Saving the plot as a picture\n",
    "plt.savefig('pics/plot_q5_income_cluster.png', dpi=300, bbox_inches = \"tight\");\n"
   ]
  },
  {
   "cell_type": "markdown",
   "metadata": {},
   "source": [
    "**Conclusion:** \n",
    "1. **Major Customer Group:** The distribution of the income clusters of customer genders depicts that adult males are the major customer group earning an avarage income.\n",
    "2. **Second Biggest Customer Group:** Adult males are the second biggest customer group earning an low income.\n",
    "3. **Third Biggest Customer Group:** Adult females are the third biggest customer group earning an average income followed by females which have a high wage earning.\n",
    " "
   ]
  },
  {
   "cell_type": "markdown",
   "metadata": {},
   "source": [
    "<a id='sec2_26'></a>\n",
    "## Question 6:  How is the Distribution of the variable \"age\" correlated to the offer types?\n",
    "<div style=\"text-align: right\"><right><a href=\"#top\">Table of Content</a></div>"
   ]
  },
  {
   "cell_type": "code",
   "execution_count": null,
   "metadata": {
    "scrolled": true
   },
   "outputs": [],
   "source": [
    "# Creating clusters for the age \n",
    "df_data_q6 = df_datav.copy() # Copying the orignal data frame\n",
    "df_data_q6['age_cluster'] = df_data_q4['age_cluster'] \n"
   ]
  },
  {
   "cell_type": "code",
   "execution_count": null,
   "metadata": {},
   "outputs": [],
   "source": [
    "# Calling the function\"f_fig_axes()\"\n",
    "f_fig_axes()\n",
    "\n",
    "# Plotting income cluster of customer genders.\n",
    "plot_q6 = sns.countplot(data=df_data_q6, x='age_cluster', hue='offer_type', palette='copper_r')\n",
    "\n",
    "# Defining the title, the lables and the ticks\n",
    "plt.title('Starbucks: Distribution of the Offer Types of Customer Age', fontsize=23, y=1.05)\n",
    "plt.xlabel('Gender', labelpad=12)\n",
    "plt.ylabel('Count of Customers', labelpad=12)\n",
    "\n",
    "# Defining legend\n",
    "plt.legend(title='Offer Types', loc='upper right')\n",
    "\n",
    "# Saving the plot as a picture\n",
    "plt.savefig('pics/plot_q6_age_cluster.png', dpi=300, bbox_inches = \"tight\");\n"
   ]
  },
  {
   "cell_type": "markdown",
   "metadata": {},
   "source": [
    "**Conclusion:** \n",
    "1. **Major Customer Group:** The distribution of the offer types of customer age depicts that adults are the major customer group receiving the \"bogo\" and the \"discount\" offer type.\n",
    "2. **Second Biggest Customer Group:** Seniors are the second biggest customer group receiving the \"bogo\" and the \"discount\" offer type.\n",
    "3. **Third Biggest Customer Group:** Adults are the third biggest customer group receiving the \"informational\" offer type.\n",
    " "
   ]
  },
  {
   "cell_type": "markdown",
   "metadata": {},
   "source": [
    "<a id='sec2_27'></a>\n",
    "## Question 7:  How is the Distribution of the variable \"gender\" correlated to the offer types?\n",
    "<div style=\"text-align: right\"><right><a href=\"#top\">Table of Content</a></div>"
   ]
  },
  {
   "cell_type": "code",
   "execution_count": null,
   "metadata": {
    "scrolled": true
   },
   "outputs": [],
   "source": [
    "# Creating clusters for the income \n",
    "df_data_q7 = df_datav.copy() # Copying the orignal data frame\n"
   ]
  },
  {
   "cell_type": "code",
   "execution_count": null,
   "metadata": {
    "scrolled": false
   },
   "outputs": [],
   "source": [
    "# Calling the function\"f_fig_axes()\"\n",
    "f_fig_axes()\n",
    "\n",
    "# Plotting income cluster of customer genders.\n",
    "plot_q7 = sns.countplot(data=df_data_q7, x='gender', hue='offer_type', palette='copper_r')\n",
    "\n",
    "# Defining the title, the lables and the ticks\n",
    "plt.title('Starbucks: Distribution of the Offer Types of Customer Genders', fontsize=23, y=1.05)\n",
    "plt.xlabel('Gender', labelpad=12)\n",
    "plt.xlabels = ['Female', 'Male', 'Other'] # Renaming the x axis values\n",
    "plot_q7.set_xticklabels(plt.xlabels)\n",
    "plt.ylabel('Count of Customers', labelpad=12)\n",
    "\n",
    "# Defining legend\n",
    "plt.legend(title='Offer Types', loc='upper right')\n",
    "\n",
    "# Saving the plot as a picture\n",
    "plt.savefig('pics/plot_q7_age_cluster.png', dpi=300, bbox_inches = \"tight\");\n"
   ]
  },
  {
   "cell_type": "markdown",
   "metadata": {},
   "source": [
    "**Conclusion:** \n",
    "1. **Major Customer Group:** The distribution of the offer types of customer genders depicts that males are the major customer group receiving the \"bogo\" and the \"discount\" offer type.\n",
    "2. **Second Biggest Customer Group:** Females are the second biggest customer group receiving the \"bogo\" and the \"discount\" offer type.\n",
    "3. **Third Biggest Customer Group:** Males are the third biggest customer group receiving the \"informational\" offer type.\n"
   ]
  },
  {
   "cell_type": "markdown",
   "metadata": {},
   "source": [
    "<a id='sec2_28'></a>\n",
    "## Question 8:  How is the Distribution of the variable \"gender\" correlated to the offer types?\n",
    "<div style=\"text-align: right\"><right><a href=\"#top\">Table of Content</a></div>"
   ]
  },
  {
   "cell_type": "code",
   "execution_count": null,
   "metadata": {
    "scrolled": true
   },
   "outputs": [],
   "source": [
    "# Creating clusters for the income \n",
    "df_data_q8 = df_datav.copy() # Copying the orignal data frame\n"
   ]
  },
  {
   "cell_type": "code",
   "execution_count": null,
   "metadata": {
    "scrolled": true
   },
   "outputs": [],
   "source": [
    "#\n",
    "#plot_q8['event_col'] = master_df['event'].map({1: 'Completed', 2: 'Viewed'})"
   ]
  },
  {
   "cell_type": "code",
   "execution_count": null,
   "metadata": {},
   "outputs": [],
   "source": [
    "#master_df"
   ]
  },
  {
   "cell_type": "code",
   "execution_count": null,
   "metadata": {},
   "outputs": [],
   "source": []
  },
  {
   "cell_type": "code",
   "execution_count": null,
   "metadata": {},
   "outputs": [],
   "source": []
  },
  {
   "cell_type": "code",
   "execution_count": null,
   "metadata": {},
   "outputs": [],
   "source": []
  },
  {
   "cell_type": "code",
   "execution_count": null,
   "metadata": {},
   "outputs": [],
   "source": []
  },
  {
   "cell_type": "code",
   "execution_count": null,
   "metadata": {},
   "outputs": [],
   "source": []
  },
  {
   "cell_type": "code",
   "execution_count": null,
   "metadata": {},
   "outputs": [],
   "source": []
  },
  {
   "cell_type": "code",
   "execution_count": null,
   "metadata": {},
   "outputs": [],
   "source": []
  },
  {
   "cell_type": "code",
   "execution_count": null,
   "metadata": {},
   "outputs": [],
   "source": []
  },
  {
   "cell_type": "markdown",
   "metadata": {},
   "source": [
    "<a id='sec3'></a>\n",
    "# 4. Section 3: Methodology\n",
    "<div style=\"text-align: right\"><right><a href=\"#top\">Table of Content</a></div>"
   ]
  },
  {
   "cell_type": "markdown",
   "metadata": {},
   "source": [
    "Maschine Learning:\n",
    "    \n",
    "    * Tensor Flow\n",
    "    * Keras"
   ]
  },
  {
   "cell_type": "markdown",
   "metadata": {},
   "source": [
    "<a id='sec3_1'></a>\n",
    "## 4. A. Data Preprocessing\n",
    "<div style=\"text-align: right\"><right><a href=\"#top\">Table of Content</a></div>\n",
    "  \n",
    "#### Description of the steps taken to preprocess the data and address any abnormalities in the data sets. If data preprocessing is not needed, the reasons will be explained.<br>"
   ]
  },
  {
   "cell_type": "code",
   "execution_count": null,
   "metadata": {},
   "outputs": [],
   "source": [
    "# Loading the final saved data frame\n",
    "df_prepro = df_final.copy()\n",
    "#df_prepro = pd.read_csv('data/data.csv', engine='python')\n"
   ]
  },
  {
   "cell_type": "code",
   "execution_count": null,
   "metadata": {},
   "outputs": [],
   "source": [
    "# Calculationg the output percentage of values that are missing\n",
    "# (Source of code parts: Udacity - Data Scientist Nanodegree Program)\n",
    "100 * df_prepro.isnull().sum() / df_prepro.shape[0]\n"
   ]
  },
  {
   "cell_type": "markdown",
   "metadata": {},
   "source": [
    "<a id='sec3_11'></a>\n",
    "## Eliminating Outliers of variable \"age\"\n",
    "<div style=\"text-align: right\"><right><a href=\"#top\">Table of Content</a></div>"
   ]
  },
  {
   "cell_type": "markdown",
   "metadata": {},
   "source": [
    "**Function** to help to remove ouliers from the data frame as a preparation for the machine learning model."
   ]
  },
  {
   "cell_type": "code",
   "execution_count": null,
   "metadata": {},
   "outputs": [],
   "source": [
    "# Function: Function that uses the Tukey rule to detect outliers in a dataframe column \n",
    "# and removes that entire row from the data frame. \n",
    "# (Source of code parts: Udacity - Data Scientist Nanodegree Program)\n",
    "\n",
    "def f_remove_outliers_tukey_rule(df, col_name):\n",
    "    '''\n",
    "    INPUT:\n",
    "    df - Pandas data frame.\n",
    "    col_name - Name of the column of the data frame.\n",
    "    \n",
    "    OUTPUT:\n",
    "    df - The output is a data frame with the outliers eliminated.\n",
    "            \n",
    "    Description:\n",
    "    Function that uses the Tukey rule to detect outliers in a dataframe column\n",
    "    and removes that entire row from the data frame.\n",
    "    Call the function like:\n",
    "        for col in ['col_name']:\n",
    "            df = f_remove_outliers_tukey_rule(df, col)\n",
    "    '''\n",
    "    data = df[col_name]\n",
    "    Q1 = data.quantile(0.25)\n",
    "    Q3 = data.quantile(0.75)\n",
    "\n",
    "    IQR = Q3 - Q1\n",
    "\n",
    "    max_value = Q3 + 1.5 * IQR\n",
    "    min_value = Q1 - 1.5 * IQR\n",
    "\n",
    "    return df[(df[col_name] < max_value) & (df[col_name] > min_value)]\n"
   ]
  },
  {
   "cell_type": "code",
   "execution_count": null,
   "metadata": {},
   "outputs": [],
   "source": [
    "# Using the function: f_remove_outliers_tukey_rule\n",
    "for col in ['age']:\n",
    "    df_prepro = f_remove_outliers_tukey_rule(df_prepro, col)\n",
    "    "
   ]
  },
  {
   "cell_type": "markdown",
   "metadata": {},
   "source": [
    "#### Test"
   ]
  },
  {
   "cell_type": "code",
   "execution_count": null,
   "metadata": {
    "scrolled": true
   },
   "outputs": [],
   "source": [
    "# Calculating the descriptive statistics of the \"age\" values\n",
    "# (50 % is equal to the median)\n",
    "df_prepro['age'].describe()\n"
   ]
  },
  {
   "cell_type": "code",
   "execution_count": null,
   "metadata": {},
   "outputs": [],
   "source": [
    "# Checking the shape of the data frame\n",
    "df_prepro.shape\n"
   ]
  },
  {
   "cell_type": "markdown",
   "metadata": {},
   "source": [
    "**Result:** The outliers of variable \"age\" are completely removed."
   ]
  },
  {
   "cell_type": "markdown",
   "metadata": {},
   "source": [
    "<a id='sec3_12'></a>\n",
    "## Imputing Missing Values\n",
    "<div style=\"text-align: right\"><right><a href=\"#top\">Table of Content</a></div>"
   ]
  },
  {
   "cell_type": "code",
   "execution_count": null,
   "metadata": {
    "scrolled": true
   },
   "outputs": [],
   "source": [
    "# Checking the number of missing values\n",
    "df_prepro.isnull().sum()\n"
   ]
  },
  {
   "cell_type": "markdown",
   "metadata": {},
   "source": [
    "**Function** to help to impute missing values from the data frame as a preparation for the machine learning model."
   ]
  },
  {
   "cell_type": "code",
   "execution_count": null,
   "metadata": {},
   "outputs": [],
   "source": [
    "# Function: Function that imputes missing values in a dataframe column.\n",
    "def f_impute_values_col_zero(df, col_name):\n",
    "    '''\n",
    "    INPUT:\n",
    "    df - Pandas data frame.\n",
    "    col_name - Name of the column of the data frame.\n",
    "    \n",
    "    OUTPUT:\n",
    "    df - The output is a data frame with imputed missing values.\n",
    "            \n",
    "    Description:\n",
    "    Function that imputes NaN values of a column in a dataframe column with \"0\".\n",
    "    '''\n",
    "    # Imputing values for all CATEGORIAL  and NUMERICAL columns.\n",
    "    df[col_name] = df[col_name].fillna(value=0)\n",
    "\n",
    "    return df\n"
   ]
  },
  {
   "cell_type": "code",
   "execution_count": null,
   "metadata": {},
   "outputs": [],
   "source": [
    "# Using the function: f_impute_values_col_zero\n",
    "df_prepro = f_impute_values_col_zero(df_prepro, 'value_amount')\n"
   ]
  },
  {
   "cell_type": "markdown",
   "metadata": {},
   "source": [
    "#### Test"
   ]
  },
  {
   "cell_type": "code",
   "execution_count": null,
   "metadata": {},
   "outputs": [],
   "source": [
    "# Checking the number of missing values\n",
    "df_prepro['value_amount'].isnull().sum()\n"
   ]
  },
  {
   "cell_type": "code",
   "execution_count": null,
   "metadata": {
    "scrolled": false
   },
   "outputs": [],
   "source": [
    "# Checking the number of missing values\n",
    "df_prepro.isnull().sum()"
   ]
  },
  {
   "cell_type": "markdown",
   "metadata": {},
   "source": [
    "**Result:** The corresponding missing values are imputed."
   ]
  },
  {
   "cell_type": "markdown",
   "metadata": {},
   "source": [
    "<a id='sec3_13'></a>\n",
    "## Dropping Missing Values\n",
    "<div style=\"text-align: right\"><right><a href=\"#top\">Table of Content</a></div>"
   ]
  },
  {
   "cell_type": "code",
   "execution_count": null,
   "metadata": {
    "scrolled": true
   },
   "outputs": [],
   "source": [
    "# Checking a concise summary of the dataframe\n",
    "df_prepro.info()\n"
   ]
  },
  {
   "cell_type": "markdown",
   "metadata": {},
   "source": [
    "**Function** to help to drop rows with missing values from the data frame as a preparation for the machine learning model."
   ]
  },
  {
   "cell_type": "code",
   "execution_count": null,
   "metadata": {},
   "outputs": [],
   "source": [
    "# Function: Function that drops rows with missing values from the data frame.\n",
    "def f_drop_NaN_rows(df, col_list):\n",
    "    '''\n",
    "    INPUT:\n",
    "    df - Pandas data frame.\n",
    "    col_name - Name of the column of the data frame. ( e.g. ['col_1', 'col_2', 'col_3'])\n",
    "    \n",
    "    OUTPUT:\n",
    "    df - The output is a data frame with dropped missing value rows.\n",
    "            \n",
    "    Description:\n",
    "    Function that drops rows with missing values from the data frame.\n",
    "    '''\n",
    "    # Dropping rows with not needed NaN values in specific columns.\n",
    "    df = df.dropna(subset=col_list, how='any')\n",
    "\n",
    "    return df\n"
   ]
  },
  {
   "cell_type": "code",
   "execution_count": null,
   "metadata": {},
   "outputs": [],
   "source": [
    "# Using the function: f_drop_NaN_rows\n",
    "df_prepro = f_drop_NaN_rows(df_prepro, ['offer_id'])\n"
   ]
  },
  {
   "cell_type": "markdown",
   "metadata": {},
   "source": [
    "#### Test"
   ]
  },
  {
   "cell_type": "code",
   "execution_count": null,
   "metadata": {
    "scrolled": false
   },
   "outputs": [],
   "source": [
    "# Checking a concise summary of the dataframe\n",
    "df_prepro.info()\n"
   ]
  },
  {
   "cell_type": "markdown",
   "metadata": {},
   "source": [
    "**Result:** The rows with missing values are completely removed."
   ]
  },
  {
   "cell_type": "markdown",
   "metadata": {},
   "source": [
    "<a id='sec3_14'></a>\n",
    "## Splitting the variable \"channels\" in categorical variables based on its values\n",
    "<div style=\"text-align: right\"><right><a href=\"#top\">Table of Content</a></div>"
   ]
  },
  {
   "cell_type": "code",
   "execution_count": null,
   "metadata": {
    "scrolled": true
   },
   "outputs": [],
   "source": [
    "# Displaying the new data frame to check the changes\n",
    "df_prepro.head()\n"
   ]
  },
  {
   "cell_type": "markdown",
   "metadata": {},
   "source": [
    "**Function** to help to create the data frame including dummies as a preparation for the machine learning model."
   ]
  },
  {
   "cell_type": "code",
   "execution_count": null,
   "metadata": {},
   "outputs": [],
   "source": [
    "# Function: Defining function to create a list of the column names of the categorical variables.\n",
    "# (Source of code parts: Udacity - Data Scientist Nanodegree Program)\n",
    "def f_create_dummy_df(df, cat_cols, dummy_na):\n",
    "    '''\n",
    "    INPUT:\n",
    "    df - Pandas data frame with categorical variables to create dummies.\n",
    "    cat_cols - List of names (strings) of the categorical columns.\n",
    "    dummy_na - Bool holding whether you want to dummy NA vals of categorical columns or not\n",
    "    \n",
    "    OUTPUT:\n",
    "    df - New dataframe of the following characteristics:\n",
    "            1. Contains all not categorical columns.\n",
    "            2. Removes the original columns in cat_cols (all).\n",
    "            3. Dummy each categorical columns in cat_cols.\n",
    "            4. dummy_na == TRUE - It does contain dummy columns for NaN values.\n",
    "            5. Prefix of the column name: Underscore (_) for separating. \n",
    "            \n",
    "    Description:\n",
    "    Splits values of an variable into categorical variables.\n",
    "    '''\n",
    "    for col in  cat_cols:\n",
    "        try:\n",
    "            #for each cat add dummy var, drop original column\n",
    "            df = pd.concat([df.drop(cat_cols, axis=1), \n",
    "                            pd.get_dummies(df[cat_cols].apply(pd.Series).stack(), prefix=cat_cols, \n",
    "                            prefix_sep='_', drop_first=False, dummy_na=dummy_na).sum(level=0).astype('int64')], \n",
    "                           axis=1)\n",
    "        except:   \n",
    "            continue\n",
    "    \n",
    "    \n",
    "    df.columns = df.columns.str.replace(' ','_')\n",
    "     \n",
    "    return df\n"
   ]
  },
  {
   "cell_type": "markdown",
   "metadata": {},
   "source": [
    "**Result:** A function is created to split values of an variable into categorical variables."
   ]
  },
  {
   "cell_type": "markdown",
   "metadata": {},
   "source": [
    "##### **Creating** a new data frame including the dummies for all categorial variables."
   ]
  },
  {
   "cell_type": "code",
   "execution_count": null,
   "metadata": {},
   "outputs": [],
   "source": [
    "# Using the function: f_create_dummy_df\n",
    "df_prepro = f_create_dummy_df(df_prepro, 'channels', dummy_na=False)\n"
   ]
  },
  {
   "cell_type": "markdown",
   "metadata": {},
   "source": [
    "#### Test"
   ]
  },
  {
   "cell_type": "code",
   "execution_count": null,
   "metadata": {
    "scrolled": false
   },
   "outputs": [],
   "source": [
    "# Checking a concise summary of the dataframe\n",
    "df_prepro.info()\n"
   ]
  },
  {
   "cell_type": "code",
   "execution_count": null,
   "metadata": {
    "scrolled": false
   },
   "outputs": [],
   "source": [
    "# Displaying the new data frame to check the changes\n",
    "df_prepro.head()\n"
   ]
  },
  {
   "cell_type": "markdown",
   "metadata": {},
   "source": [
    "**Result:** The variable \"channels\" is split in categorical variables based on its values."
   ]
  },
  {
   "cell_type": "code",
   "execution_count": null,
   "metadata": {},
   "outputs": [],
   "source": [
    "# Checking the shape of the data frame\n",
    "df_prepro.shape\n"
   ]
  },
  {
   "cell_type": "markdown",
   "metadata": {},
   "source": [
    "**Result:** The data frame consits of *17* columns and *148,805* rows."
   ]
  },
  {
   "cell_type": "markdown",
   "metadata": {},
   "source": [
    "<a id='sec3_15'></a>\n",
    "## Splitting the variable \"event\" in categorical variables based on its values\n",
    "<div style=\"text-align: right\"><right><a href=\"#top\">Table of Content</a></div>"
   ]
  },
  {
   "cell_type": "code",
   "execution_count": null,
   "metadata": {},
   "outputs": [],
   "source": [
    "# Using the function: f_create_dummy_df\n",
    "df_prepro = f_create_dummy_df(df_prepro, 'event', dummy_na=False)\n"
   ]
  },
  {
   "cell_type": "code",
   "execution_count": null,
   "metadata": {},
   "outputs": [],
   "source": [
    "# Checking a concise summary of the dataframe\n",
    "df_prepro.info()\n"
   ]
  },
  {
   "cell_type": "markdown",
   "metadata": {},
   "source": [
    "#### Test"
   ]
  },
  {
   "cell_type": "code",
   "execution_count": null,
   "metadata": {
    "scrolled": true
   },
   "outputs": [],
   "source": [
    "# Displaying the new data frame to check the changes\n",
    "df_prepro.head()\n"
   ]
  },
  {
   "cell_type": "markdown",
   "metadata": {},
   "source": [
    "**Result:** The variable \"event\" is split in categorical variables based on its values."
   ]
  },
  {
   "cell_type": "code",
   "execution_count": null,
   "metadata": {},
   "outputs": [],
   "source": [
    "# Checking the shape of the data frame\n",
    "df_prepro.shape\n"
   ]
  },
  {
   "cell_type": "markdown",
   "metadata": {},
   "source": [
    "**Result:** The data frame consits of *19* columns and *148,805* rows."
   ]
  },
  {
   "cell_type": "code",
   "execution_count": null,
   "metadata": {},
   "outputs": [],
   "source": []
  },
  {
   "cell_type": "code",
   "execution_count": null,
   "metadata": {},
   "outputs": [],
   "source": [
    "# Checking and counting the \"age\" values \n",
    "df_prepro_0 = df_prepro[df_prepro['value_amount'] != 0.0]\n",
    "df_prepro_0.head()\n"
   ]
  },
  {
   "cell_type": "code",
   "execution_count": null,
   "metadata": {},
   "outputs": [],
   "source": []
  },
  {
   "cell_type": "code",
   "execution_count": null,
   "metadata": {},
   "outputs": [],
   "source": []
  },
  {
   "cell_type": "code",
   "execution_count": null,
   "metadata": {},
   "outputs": [],
   "source": []
  },
  {
   "cell_type": "code",
   "execution_count": null,
   "metadata": {},
   "outputs": [],
   "source": [
    "# Copying the data frame\n",
    "df_clean = df_prepro.copy()\n"
   ]
  },
  {
   "cell_type": "markdown",
   "metadata": {},
   "source": [
    "**Result:** The data frame is copied."
   ]
  },
  {
   "cell_type": "code",
   "execution_count": null,
   "metadata": {},
   "outputs": [],
   "source": [
    "# Saving data final data frame to .csv\n",
    "df_clean.to_csv('data/data_clean.csv', index=False)\n"
   ]
  },
  {
   "cell_type": "markdown",
   "metadata": {},
   "source": [
    "**Result:** The data frame is saved as .csv."
   ]
  },
  {
   "cell_type": "code",
   "execution_count": null,
   "metadata": {},
   "outputs": [],
   "source": []
  },
  {
   "cell_type": "code",
   "execution_count": null,
   "metadata": {},
   "outputs": [],
   "source": []
  },
  {
   "cell_type": "code",
   "execution_count": null,
   "metadata": {},
   "outputs": [],
   "source": []
  },
  {
   "cell_type": "markdown",
   "metadata": {},
   "source": [
    "<a id='sec3_2'></a>\n",
    "## 4. B. Implementation\n",
    "<div style=\"text-align: right\"><right><a href=\"#top\">Table of Content</a></div>\n",
    "\n",
    "    \n",
    "#### Discussion about the process using the models, algorithms, and techniques applied to solve the problem. As well as mentioning of any complications during the implementation."
   ]
  },
  {
   "cell_type": "markdown",
   "metadata": {},
   "source": [
    "<a id='sec3_3'></a>\n",
    "## 4. C. Refinement\n",
    "<div style=\"text-align: right\"><right><a href=\"#top\">Table of Content</a></div>\n",
    "\n",
    "#### Description of the process to refine the algorithms and techniques, such as using cross-validation or changing the parameter settings."
   ]
  },
  {
   "cell_type": "markdown",
   "metadata": {},
   "source": [
    "<a id='sec4'></a>\n",
    "# 5. Section 4: Results\n",
    "<div style=\"text-align: right\"><right><a href=\"#top\">Table of Content</a></div>"
   ]
  },
  {
   "cell_type": "markdown",
   "metadata": {},
   "source": [
    "<a id='sec4_1'></a>\n",
    "## 5. A. Model Evaluation and Validation\n",
    "<div style=\"text-align: right\"><right><a href=\"#top\">Table of Content</a></div>\n",
    "\n",
    "    \n",
    "#### Discussion about the models and parameters used in the methodology. \n",
    "    \n",
    "# If no model is used, students can discuss the methodology using data visualizations and other means."
   ]
  },
  {
   "cell_type": "markdown",
   "metadata": {},
   "source": [
    "<a id='sec4_2'></a>\n",
    "## 5. B. Justification\n",
    "<div style=\"text-align: right\"><right><a href=\"#top\">Table of Content</a></div>\n",
    "\n",
    "#### Discussion about the final results in detail and explaination why some models, parameters, or techniques perform better over others. \n",
    "    \n",
    "# Show and compare the results in tabular forms or charts."
   ]
  },
  {
   "cell_type": "markdown",
   "metadata": {},
   "source": [
    "<a id='sec5'></a>\n",
    "# 6. Section 5: Conclusion\n",
    "<div style=\"text-align: right\"><right><a href=\"#top\">Table of Content</a></div>"
   ]
  },
  {
   "cell_type": "markdown",
   "metadata": {},
   "source": [
    "<a id='sec5_1'></a>\n",
    "## 6. A. Reflection\n",
    "<div style=\"text-align: right\"><right><a href=\"#top\">Table of Content</a></div>\n",
    "\n",
    "#### Summary of the end-to-end problem solution and discussion of the particular aspects which are interesting or difficult to implement."
   ]
  },
  {
   "cell_type": "markdown",
   "metadata": {},
   "source": [
    "<a id='sec5_2'></a>\n",
    "## 6. B. Improvement\n",
    "<div style=\"text-align: right\"><right><a href=\"#top\">Table of Content</a></div>\n",
    "\n",
    "#### Suggestions for the next research to improve the experiment."
   ]
  },
  {
   "cell_type": "code",
   "execution_count": null,
   "metadata": {},
   "outputs": [],
   "source": []
  },
  {
   "cell_type": "code",
   "execution_count": null,
   "metadata": {},
   "outputs": [],
   "source": []
  },
  {
   "cell_type": "code",
   "execution_count": null,
   "metadata": {},
   "outputs": [],
   "source": []
  },
  {
   "cell_type": "markdown",
   "metadata": {},
   "source": [
    "<a id='sec6'></a>\n",
    "# 7. References\n",
    "<div style=\"text-align: right\"><right><a href=\"#top\">Table of Content</a></div>"
   ]
  },
  {
   "cell_type": "markdown",
   "metadata": {},
   "source": [
    "<li><a href=\"https://unsplash.com/photos/NlGjqcPACUw\">Data Source Picture 1</a> (Date Compiled: 11 August, 2022)</li>\n",
    "<li><a href=\"https://unsplash.com/photos/dThk3tBIp4Q\">Data Source Picture 2</a> (Date Compiled: 11 August, 2022)</li>\n",
    "<li><a href=\"https://www.statcan.gc.ca/en/concepts/definitions/age2\">Data Source Age Categories</a> (Date Compiled: 16 August, 2022)</li>\n"
   ]
  },
  {
   "cell_type": "code",
   "execution_count": null,
   "metadata": {},
   "outputs": [],
   "source": []
  },
  {
   "cell_type": "code",
   "execution_count": null,
   "metadata": {},
   "outputs": [],
   "source": []
  },
  {
   "cell_type": "code",
   "execution_count": null,
   "metadata": {},
   "outputs": [],
   "source": []
  },
  {
   "cell_type": "code",
   "execution_count": null,
   "metadata": {},
   "outputs": [],
   "source": []
  },
  {
   "cell_type": "code",
   "execution_count": null,
   "metadata": {},
   "outputs": [],
   "source": []
  },
  {
   "cell_type": "code",
   "execution_count": null,
   "metadata": {},
   "outputs": [],
   "source": []
  },
  {
   "cell_type": "code",
   "execution_count": null,
   "metadata": {},
   "outputs": [],
   "source": []
  },
  {
   "cell_type": "code",
   "execution_count": null,
   "metadata": {},
   "outputs": [],
   "source": []
  },
  {
   "cell_type": "code",
   "execution_count": null,
   "metadata": {},
   "outputs": [],
   "source": []
  }
 ],
 "metadata": {
  "kernelspec": {
   "display_name": "Python [conda env:py3_env]",
   "language": "python",
   "name": "conda-env-py3_env-py"
  },
  "language_info": {
   "codemirror_mode": {
    "name": "ipython",
    "version": 3
   },
   "file_extension": ".py",
   "mimetype": "text/x-python",
   "name": "python",
   "nbconvert_exporter": "python",
   "pygments_lexer": "ipython3",
   "version": "3.6.13"
  }
 },
 "nbformat": 4,
 "nbformat_minor": 2
}
